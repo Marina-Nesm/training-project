{
 "cells": [
  {
   "cell_type": "markdown",
   "metadata": {},
   "source": [
    "# Итоговый проект. Банки - Анализ оттока клиентов"
   ]
  },
  {
   "cell_type": "markdown",
   "metadata": {},
   "source": [
    "**Цель исследования**: составить портрет пользователя, определить какие показатели влияют на отток клиентов банка"
   ]
  },
  {
   "cell_type": "markdown",
   "metadata": {},
   "source": [
    "План работы:\n",
    "1. [Изучение общей информации](#start)\n",
    "    - загрузить датасет, просмотреть общую информацию, сделать заключение о корректности типов данных, наличии/отсутствии пропусков\n",
    "2. [Предобработка данных](#pre_processing)\n",
    "    - откорректировать названия столбцов, типы данных, проработать пропуски и дубликаты, сделать предположения почему они могли появиться\n",
    "3. [Исследовательский анализ данных](#research_analysis)\n",
    "    - выделить группы признаков бинарные, категориальные, количественные\n",
    "    - посмотреть данные на предмет выбросов\n",
    "    - сгруппировать данные по клиентам в зависимости от наличия факта оттока, и поcчитать среднее, моду, медиану по всем признакам в данных группах\n",
    "    - по количественным признакам изучить гистограммы\n",
    "    - по бинарным и категориальным построить столбчатые графики\n",
    "    - описать портреты пользователей ушедших в отток/оставшихся, описать их признаки\n",
    "    - выделить клиентов склонных к оттоку\n",
    "4. [Проверка гипотез](#hipotesys)\n",
    "    - Проверить гипотезу различия дохода между теми клиентами, которые ушли и теми, которые остались\n",
    "    - Проверить гипотезу различия возраста групп клиентов, которые ушли и теми, которые остались\n",
    "    - Проверить гипотезу о различии скорингового рейтинга по клиентам, которые ушли и теми, которые остались\n",
    "5. [Выводы по портрету клиентов и рекомендации по удержанию клиентов разных групп](#resume)"
   ]
  },
  {
   "cell_type": "code",
   "execution_count": 2,
   "metadata": {},
   "outputs": [
    {
     "data": {
      "text/html": [
       "        <script type=\"text/javascript\">\n",
       "        window.PlotlyConfig = {MathJaxConfig: 'local'};\n",
       "        if (window.MathJax) {MathJax.Hub.Config({SVG: {font: \"STIX-Web\"}});}\n",
       "        if (typeof require !== 'undefined') {\n",
       "        require.undef(\"plotly\");\n",
       "        requirejs.config({\n",
       "            paths: {\n",
       "                'plotly': ['https://cdn.plot.ly/plotly-latest.min']\n",
       "            }\n",
       "        });\n",
       "        require(['plotly'], function(Plotly) {\n",
       "            window._Plotly = Plotly;\n",
       "        });\n",
       "        }\n",
       "        </script>\n",
       "        "
      ]
     },
     "metadata": {},
     "output_type": "display_data"
    }
   ],
   "source": [
    "import pandas as pd # <импорт библиотеки pandas>\n",
    "\n",
    "import matplotlib.pylab as plt # <импорт библиотеки matplotlib>\n",
    "import numpy as np # <импорт библиотеки numpy>\n",
    "import seaborn as sns #<импорт библиотеки seaborn>\n",
    "import scipy.stats as st  # <импорт scipy.stats>\n",
    "from IPython.display import display# <импорт метода display из библиотеки IPython.display для просмотра таблиц>\n",
    "from plotly.offline import download_plotlyjs, init_notebook_mode, plot, iplot\n",
    "import plotly\n",
    "import plotly.graph_objs as go\n",
    "import pylab as pl\n",
    "init_notebook_mode(connected=True)\n",
    "import plotly.express as px\n",
    "import plotly.graph_objects as go\n",
    "import re\n",
    "from datetime import datetime, date, time\n",
    "import math as mth\n",
    "from pandas.plotting import register_matplotlib_converters\n"
   ]
  },
  {
   "cell_type": "markdown",
   "metadata": {},
   "source": [
    "Датасет содержит следующую информацию:\n",
    "\n",
    "- `userid` — идентификатор пользователя,\n",
    "- `score` — баллы кредитного скоринга,\n",
    "- `City` — город,\n",
    "- `Gender` — пол,\n",
    "- `Age` — возраст,\n",
    "- `Objects` — количество объектов в собственности,\n",
    "- `Balance` — баланс на счёте,\n",
    "- `Products` — количество продуктов, которыми пользуется клиент,\n",
    "- `CreditCard` — есть ли кредитная карта,\n",
    "- `Loyalty` — активный клиент,\n",
    "- `estimated_salary` — заработная плата клиента,\n",
    "- `Churn` — ушёл или нет.\n",
    "\n",
    "Данные содержатся в csv файле /datasets/bank_dataset.csv"
   ]
  },
  {
   "cell_type": "markdown",
   "metadata": {},
   "source": [
    "## 1. Изучение общей информации <a id=\"start\"> </a>"
   ]
  },
  {
   "cell_type": "markdown",
   "metadata": {},
   "source": [
    "Прочитаем файл bank_dataset.csv"
   ]
  },
  {
   "cell_type": "code",
   "execution_count": 3,
   "metadata": {},
   "outputs": [],
   "source": [
    "try:\n",
    "    path = 'E:/csv_diplom/'#<сохраним путь к файлу в переменной path>\n",
    "except:\n",
    "    path = '/datasets/'#<сохраним путь к файлу в переменной path>"
   ]
  },
  {
   "cell_type": "code",
   "execution_count": 4,
   "metadata": {},
   "outputs": [],
   "source": [
    "bank_dataset = pd.read_csv(path + 'bank_dataset.csv')"
   ]
  },
  {
   "cell_type": "markdown",
   "metadata": {},
   "source": [
    "Посмотрим таблицу bank_dataset, выведем ее на экран"
   ]
  },
  {
   "cell_type": "code",
   "execution_count": 5,
   "metadata": {},
   "outputs": [
    {
     "data": {
      "text/html": [
       "<div>\n",
       "<style scoped>\n",
       "    .dataframe tbody tr th:only-of-type {\n",
       "        vertical-align: middle;\n",
       "    }\n",
       "\n",
       "    .dataframe tbody tr th {\n",
       "        vertical-align: top;\n",
       "    }\n",
       "\n",
       "    .dataframe thead th {\n",
       "        text-align: right;\n",
       "    }\n",
       "</style>\n",
       "<table border=\"1\" class=\"dataframe\">\n",
       "  <thead>\n",
       "    <tr style=\"text-align: right;\">\n",
       "      <th></th>\n",
       "      <th>userid</th>\n",
       "      <th>score</th>\n",
       "      <th>City</th>\n",
       "      <th>Gender</th>\n",
       "      <th>Age</th>\n",
       "      <th>Objects</th>\n",
       "      <th>Balance</th>\n",
       "      <th>Products</th>\n",
       "      <th>CreditCard</th>\n",
       "      <th>Loyalty</th>\n",
       "      <th>estimated_salary</th>\n",
       "      <th>Churn</th>\n",
       "    </tr>\n",
       "  </thead>\n",
       "  <tbody>\n",
       "    <tr>\n",
       "      <th>0</th>\n",
       "      <td>15677338</td>\n",
       "      <td>619</td>\n",
       "      <td>Ярославль</td>\n",
       "      <td>Ж</td>\n",
       "      <td>42</td>\n",
       "      <td>2</td>\n",
       "      <td>NaN</td>\n",
       "      <td>1</td>\n",
       "      <td>1</td>\n",
       "      <td>1</td>\n",
       "      <td>101348.88</td>\n",
       "      <td>1</td>\n",
       "    </tr>\n",
       "    <tr>\n",
       "      <th>1</th>\n",
       "      <td>15690047</td>\n",
       "      <td>608</td>\n",
       "      <td>Рыбинск</td>\n",
       "      <td>Ж</td>\n",
       "      <td>41</td>\n",
       "      <td>1</td>\n",
       "      <td>83807.86</td>\n",
       "      <td>1</td>\n",
       "      <td>0</td>\n",
       "      <td>1</td>\n",
       "      <td>112542.58</td>\n",
       "      <td>0</td>\n",
       "    </tr>\n",
       "    <tr>\n",
       "      <th>2</th>\n",
       "      <td>15662040</td>\n",
       "      <td>502</td>\n",
       "      <td>Ярославль</td>\n",
       "      <td>Ж</td>\n",
       "      <td>42</td>\n",
       "      <td>8</td>\n",
       "      <td>159660.80</td>\n",
       "      <td>3</td>\n",
       "      <td>1</td>\n",
       "      <td>0</td>\n",
       "      <td>113931.57</td>\n",
       "      <td>1</td>\n",
       "    </tr>\n",
       "    <tr>\n",
       "      <th>3</th>\n",
       "      <td>15744090</td>\n",
       "      <td>699</td>\n",
       "      <td>Ярославль</td>\n",
       "      <td>Ж</td>\n",
       "      <td>39</td>\n",
       "      <td>1</td>\n",
       "      <td>NaN</td>\n",
       "      <td>2</td>\n",
       "      <td>0</td>\n",
       "      <td>0</td>\n",
       "      <td>93826.63</td>\n",
       "      <td>0</td>\n",
       "    </tr>\n",
       "    <tr>\n",
       "      <th>4</th>\n",
       "      <td>15780624</td>\n",
       "      <td>850</td>\n",
       "      <td>Рыбинск</td>\n",
       "      <td>Ж</td>\n",
       "      <td>43</td>\n",
       "      <td>2</td>\n",
       "      <td>125510.82</td>\n",
       "      <td>1</td>\n",
       "      <td>1</td>\n",
       "      <td>1</td>\n",
       "      <td>79084.10</td>\n",
       "      <td>0</td>\n",
       "    </tr>\n",
       "    <tr>\n",
       "      <th>...</th>\n",
       "      <td>...</td>\n",
       "      <td>...</td>\n",
       "      <td>...</td>\n",
       "      <td>...</td>\n",
       "      <td>...</td>\n",
       "      <td>...</td>\n",
       "      <td>...</td>\n",
       "      <td>...</td>\n",
       "      <td>...</td>\n",
       "      <td>...</td>\n",
       "      <td>...</td>\n",
       "      <td>...</td>\n",
       "    </tr>\n",
       "    <tr>\n",
       "      <th>9995</th>\n",
       "      <td>15648965</td>\n",
       "      <td>771</td>\n",
       "      <td>Ярославль</td>\n",
       "      <td>М</td>\n",
       "      <td>39</td>\n",
       "      <td>5</td>\n",
       "      <td>NaN</td>\n",
       "      <td>2</td>\n",
       "      <td>1</td>\n",
       "      <td>0</td>\n",
       "      <td>96270.64</td>\n",
       "      <td>0</td>\n",
       "    </tr>\n",
       "    <tr>\n",
       "      <th>9996</th>\n",
       "      <td>15612628</td>\n",
       "      <td>516</td>\n",
       "      <td>Ярославль</td>\n",
       "      <td>М</td>\n",
       "      <td>35</td>\n",
       "      <td>10</td>\n",
       "      <td>57369.61</td>\n",
       "      <td>1</td>\n",
       "      <td>1</td>\n",
       "      <td>1</td>\n",
       "      <td>101699.77</td>\n",
       "      <td>0</td>\n",
       "    </tr>\n",
       "    <tr>\n",
       "      <th>9997</th>\n",
       "      <td>15627268</td>\n",
       "      <td>709</td>\n",
       "      <td>Ярославль</td>\n",
       "      <td>Ж</td>\n",
       "      <td>36</td>\n",
       "      <td>7</td>\n",
       "      <td>NaN</td>\n",
       "      <td>1</td>\n",
       "      <td>0</td>\n",
       "      <td>1</td>\n",
       "      <td>42085.58</td>\n",
       "      <td>1</td>\n",
       "    </tr>\n",
       "    <tr>\n",
       "      <th>9998</th>\n",
       "      <td>15725091</td>\n",
       "      <td>772</td>\n",
       "      <td>Ростов Великий</td>\n",
       "      <td>М</td>\n",
       "      <td>42</td>\n",
       "      <td>3</td>\n",
       "      <td>75075.31</td>\n",
       "      <td>2</td>\n",
       "      <td>1</td>\n",
       "      <td>0</td>\n",
       "      <td>92888.52</td>\n",
       "      <td>1</td>\n",
       "    </tr>\n",
       "    <tr>\n",
       "      <th>9999</th>\n",
       "      <td>15671055</td>\n",
       "      <td>792</td>\n",
       "      <td>Ярославль</td>\n",
       "      <td>Ж</td>\n",
       "      <td>28</td>\n",
       "      <td>4</td>\n",
       "      <td>130142.79</td>\n",
       "      <td>1</td>\n",
       "      <td>1</td>\n",
       "      <td>0</td>\n",
       "      <td>38190.78</td>\n",
       "      <td>0</td>\n",
       "    </tr>\n",
       "  </tbody>\n",
       "</table>\n",
       "<p>10000 rows × 12 columns</p>\n",
       "</div>"
      ],
      "text/plain": [
       "        userid  score            City Gender  Age  Objects    Balance  \\\n",
       "0     15677338    619       Ярославль      Ж   42        2        NaN   \n",
       "1     15690047    608         Рыбинск      Ж   41        1   83807.86   \n",
       "2     15662040    502       Ярославль      Ж   42        8  159660.80   \n",
       "3     15744090    699       Ярославль      Ж   39        1        NaN   \n",
       "4     15780624    850         Рыбинск      Ж   43        2  125510.82   \n",
       "...        ...    ...             ...    ...  ...      ...        ...   \n",
       "9995  15648965    771       Ярославль      М   39        5        NaN   \n",
       "9996  15612628    516       Ярославль      М   35       10   57369.61   \n",
       "9997  15627268    709       Ярославль      Ж   36        7        NaN   \n",
       "9998  15725091    772  Ростов Великий      М   42        3   75075.31   \n",
       "9999  15671055    792       Ярославль      Ж   28        4  130142.79   \n",
       "\n",
       "      Products  CreditCard  Loyalty  estimated_salary  Churn  \n",
       "0            1           1        1         101348.88      1  \n",
       "1            1           0        1         112542.58      0  \n",
       "2            3           1        0         113931.57      1  \n",
       "3            2           0        0          93826.63      0  \n",
       "4            1           1        1          79084.10      0  \n",
       "...        ...         ...      ...               ...    ...  \n",
       "9995         2           1        0          96270.64      0  \n",
       "9996         1           1        1         101699.77      0  \n",
       "9997         1           0        1          42085.58      1  \n",
       "9998         2           1        0          92888.52      1  \n",
       "9999         1           1        0          38190.78      0  \n",
       "\n",
       "[10000 rows x 12 columns]"
      ]
     },
     "metadata": {},
     "output_type": "display_data"
    }
   ],
   "source": [
    "display(bank_dataset)"
   ]
  },
  {
   "cell_type": "markdown",
   "metadata": {},
   "source": [
    "Посмотрим общую информацию о таблице"
   ]
  },
  {
   "cell_type": "code",
   "execution_count": 6,
   "metadata": {},
   "outputs": [
    {
     "name": "stdout",
     "output_type": "stream",
     "text": [
      "<class 'pandas.core.frame.DataFrame'>\n",
      "RangeIndex: 10000 entries, 0 to 9999\n",
      "Data columns (total 12 columns):\n",
      " #   Column            Non-Null Count  Dtype  \n",
      "---  ------            --------------  -----  \n",
      " 0   userid            10000 non-null  int64  \n",
      " 1   score             10000 non-null  int64  \n",
      " 2   City              10000 non-null  object \n",
      " 3   Gender            10000 non-null  object \n",
      " 4   Age               10000 non-null  int64  \n",
      " 5   Objects           10000 non-null  int64  \n",
      " 6   Balance           6383 non-null   float64\n",
      " 7   Products          10000 non-null  int64  \n",
      " 8   CreditCard        10000 non-null  int64  \n",
      " 9   Loyalty           10000 non-null  int64  \n",
      " 10  estimated_salary  10000 non-null  float64\n",
      " 11  Churn             10000 non-null  int64  \n",
      "dtypes: float64(2), int64(8), object(2)\n",
      "memory usage: 937.6+ KB\n"
     ]
    }
   ],
   "source": [
    "bank_dataset.info()"
   ]
  },
  {
   "cell_type": "markdown",
   "metadata": {},
   "source": [
    "В таблице 12 столбцов  10000 строк, при этом много пропущенных значений в столбце Balance. Типы данных указаны верно, а названия столбцов нуждаются в корректировке, необходимо указать их строчными буквами для единообразия."
   ]
  },
  {
   "cell_type": "markdown",
   "metadata": {},
   "source": [
    "## Вывод"
   ]
  },
  {
   "cell_type": "markdown",
   "metadata": {},
   "source": [
    "Данные для анализа находятся в одной таблице bank_dataset. Таблица состоит из 12 столбцов  м 10000 строк. Столбец Balance, содержащий информацию о среднем за последние 30 дней остатке на счете, содержит много пропусков. Согласно полученной информации, пропуски возникли вследствие сбоя. Типы данных столбцов указаны верно, а названия, нуждаются в корректировке, необходимо привести их к единообразию."
   ]
  },
  {
   "cell_type": "markdown",
   "metadata": {},
   "source": [
    "## 2. Предобработка данных <a id=\"pre_processing\"> </a>"
   ]
  },
  {
   "cell_type": "markdown",
   "metadata": {},
   "source": [
    "Изменим названия столбцов, для этого передадим новый спискок имен"
   ]
  },
  {
   "cell_type": "code",
   "execution_count": 7,
   "metadata": {},
   "outputs": [],
   "source": [
    "bank_dataset.rename(columns={'userid': 'user_id', 'City': 'сity', 'Gender': 'gender', \n",
    "                             'Age': 'age', 'Objects':'objects', 'Balance':'balance', 'Products':'products', \n",
    "                            'CreditCard':'credit_card', 'Loyalty':'loyalty', 'Churn':'churn'}, inplace=True)"
   ]
  },
  {
   "cell_type": "code",
   "execution_count": 62,
   "metadata": {},
   "outputs": [
    {
     "data": {
      "text/html": [
       "<div>\n",
       "<style scoped>\n",
       "    .dataframe tbody tr th:only-of-type {\n",
       "        vertical-align: middle;\n",
       "    }\n",
       "\n",
       "    .dataframe tbody tr th {\n",
       "        vertical-align: top;\n",
       "    }\n",
       "\n",
       "    .dataframe thead th {\n",
       "        text-align: right;\n",
       "    }\n",
       "</style>\n",
       "<table border=\"1\" class=\"dataframe\">\n",
       "  <thead>\n",
       "    <tr style=\"text-align: right;\">\n",
       "      <th></th>\n",
       "      <th>user_id</th>\n",
       "      <th>score</th>\n",
       "      <th>сity</th>\n",
       "      <th>gender</th>\n",
       "      <th>age</th>\n",
       "      <th>objects</th>\n",
       "      <th>balance</th>\n",
       "      <th>products</th>\n",
       "      <th>credit_card</th>\n",
       "      <th>loyalty</th>\n",
       "      <th>estimated_salary</th>\n",
       "      <th>churn</th>\n",
       "    </tr>\n",
       "  </thead>\n",
       "  <tbody>\n",
       "    <tr>\n",
       "      <th>0</th>\n",
       "      <td>15677338</td>\n",
       "      <td>619</td>\n",
       "      <td>Ярославль</td>\n",
       "      <td>Ж</td>\n",
       "      <td>42</td>\n",
       "      <td>2</td>\n",
       "      <td>NaN</td>\n",
       "      <td>1</td>\n",
       "      <td>1</td>\n",
       "      <td>1</td>\n",
       "      <td>101348.88</td>\n",
       "      <td>1</td>\n",
       "    </tr>\n",
       "    <tr>\n",
       "      <th>1</th>\n",
       "      <td>15690047</td>\n",
       "      <td>608</td>\n",
       "      <td>Рыбинск</td>\n",
       "      <td>Ж</td>\n",
       "      <td>41</td>\n",
       "      <td>1</td>\n",
       "      <td>83807.86</td>\n",
       "      <td>1</td>\n",
       "      <td>0</td>\n",
       "      <td>1</td>\n",
       "      <td>112542.58</td>\n",
       "      <td>0</td>\n",
       "    </tr>\n",
       "    <tr>\n",
       "      <th>2</th>\n",
       "      <td>15662040</td>\n",
       "      <td>502</td>\n",
       "      <td>Ярославль</td>\n",
       "      <td>Ж</td>\n",
       "      <td>42</td>\n",
       "      <td>8</td>\n",
       "      <td>159660.80</td>\n",
       "      <td>3</td>\n",
       "      <td>1</td>\n",
       "      <td>0</td>\n",
       "      <td>113931.57</td>\n",
       "      <td>1</td>\n",
       "    </tr>\n",
       "    <tr>\n",
       "      <th>3</th>\n",
       "      <td>15744090</td>\n",
       "      <td>699</td>\n",
       "      <td>Ярославль</td>\n",
       "      <td>Ж</td>\n",
       "      <td>39</td>\n",
       "      <td>1</td>\n",
       "      <td>NaN</td>\n",
       "      <td>2</td>\n",
       "      <td>0</td>\n",
       "      <td>0</td>\n",
       "      <td>93826.63</td>\n",
       "      <td>0</td>\n",
       "    </tr>\n",
       "    <tr>\n",
       "      <th>4</th>\n",
       "      <td>15780624</td>\n",
       "      <td>850</td>\n",
       "      <td>Рыбинск</td>\n",
       "      <td>Ж</td>\n",
       "      <td>43</td>\n",
       "      <td>2</td>\n",
       "      <td>125510.82</td>\n",
       "      <td>1</td>\n",
       "      <td>1</td>\n",
       "      <td>1</td>\n",
       "      <td>79084.10</td>\n",
       "      <td>0</td>\n",
       "    </tr>\n",
       "  </tbody>\n",
       "</table>\n",
       "</div>"
      ],
      "text/plain": [
       "    user_id  score       сity gender  age  objects    balance  products  \\\n",
       "0  15677338    619  Ярославль      Ж   42        2        NaN         1   \n",
       "1  15690047    608    Рыбинск      Ж   41        1   83807.86         1   \n",
       "2  15662040    502  Ярославль      Ж   42        8  159660.80         3   \n",
       "3  15744090    699  Ярославль      Ж   39        1        NaN         2   \n",
       "4  15780624    850    Рыбинск      Ж   43        2  125510.82         1   \n",
       "\n",
       "   credit_card  loyalty  estimated_salary  churn  \n",
       "0            1        1         101348.88      1  \n",
       "1            0        1         112542.58      0  \n",
       "2            1        0         113931.57      1  \n",
       "3            0        0          93826.63      0  \n",
       "4            1        1          79084.10      0  "
      ]
     },
     "execution_count": 62,
     "metadata": {},
     "output_type": "execute_result"
    }
   ],
   "source": [
    "bank_dataset.head()"
   ]
  },
  {
   "cell_type": "code",
   "execution_count": 9,
   "metadata": {},
   "outputs": [
    {
     "data": {
      "text/plain": [
       "user_id                0\n",
       "score                  0\n",
       "сity                   0\n",
       "gender                 0\n",
       "age                    0\n",
       "objects                0\n",
       "balance             3617\n",
       "products               0\n",
       "credit_card            0\n",
       "loyalty                0\n",
       "estimated_salary       0\n",
       "churn                  0\n",
       "dtype: int64"
      ]
     },
     "execution_count": 9,
     "metadata": {},
     "output_type": "execute_result"
    }
   ],
   "source": [
    "bank_dataset.isnull().sum()"
   ]
  },
  {
   "cell_type": "markdown",
   "metadata": {},
   "source": [
    "Мы выявили, что столбцец balance содержит 3617 пропущенных значений, выведем первые 10 строк с пропусками"
   ]
  },
  {
   "cell_type": "code",
   "execution_count": 10,
   "metadata": {},
   "outputs": [
    {
     "data": {
      "text/html": [
       "<div>\n",
       "<style scoped>\n",
       "    .dataframe tbody tr th:only-of-type {\n",
       "        vertical-align: middle;\n",
       "    }\n",
       "\n",
       "    .dataframe tbody tr th {\n",
       "        vertical-align: top;\n",
       "    }\n",
       "\n",
       "    .dataframe thead th {\n",
       "        text-align: right;\n",
       "    }\n",
       "</style>\n",
       "<table border=\"1\" class=\"dataframe\">\n",
       "  <thead>\n",
       "    <tr style=\"text-align: right;\">\n",
       "      <th></th>\n",
       "      <th>user_id</th>\n",
       "      <th>score</th>\n",
       "      <th>сity</th>\n",
       "      <th>gender</th>\n",
       "      <th>age</th>\n",
       "      <th>objects</th>\n",
       "      <th>balance</th>\n",
       "      <th>products</th>\n",
       "      <th>credit_card</th>\n",
       "      <th>loyalty</th>\n",
       "      <th>estimated_salary</th>\n",
       "      <th>churn</th>\n",
       "    </tr>\n",
       "  </thead>\n",
       "  <tbody>\n",
       "    <tr>\n",
       "      <th>0</th>\n",
       "      <td>15677338</td>\n",
       "      <td>619</td>\n",
       "      <td>Ярославль</td>\n",
       "      <td>Ж</td>\n",
       "      <td>42</td>\n",
       "      <td>2</td>\n",
       "      <td>NaN</td>\n",
       "      <td>1</td>\n",
       "      <td>1</td>\n",
       "      <td>1</td>\n",
       "      <td>101348.88</td>\n",
       "      <td>1</td>\n",
       "    </tr>\n",
       "    <tr>\n",
       "      <th>3</th>\n",
       "      <td>15744090</td>\n",
       "      <td>699</td>\n",
       "      <td>Ярославль</td>\n",
       "      <td>Ж</td>\n",
       "      <td>39</td>\n",
       "      <td>1</td>\n",
       "      <td>NaN</td>\n",
       "      <td>2</td>\n",
       "      <td>0</td>\n",
       "      <td>0</td>\n",
       "      <td>93826.63</td>\n",
       "      <td>0</td>\n",
       "    </tr>\n",
       "    <tr>\n",
       "      <th>6</th>\n",
       "      <td>15635267</td>\n",
       "      <td>822</td>\n",
       "      <td>Ярославль</td>\n",
       "      <td>М</td>\n",
       "      <td>50</td>\n",
       "      <td>7</td>\n",
       "      <td>NaN</td>\n",
       "      <td>2</td>\n",
       "      <td>1</td>\n",
       "      <td>1</td>\n",
       "      <td>10062.80</td>\n",
       "      <td>0</td>\n",
       "    </tr>\n",
       "    <tr>\n",
       "      <th>11</th>\n",
       "      <td>15779909</td>\n",
       "      <td>497</td>\n",
       "      <td>Рыбинск</td>\n",
       "      <td>М</td>\n",
       "      <td>24</td>\n",
       "      <td>3</td>\n",
       "      <td>NaN</td>\n",
       "      <td>2</td>\n",
       "      <td>1</td>\n",
       "      <td>0</td>\n",
       "      <td>76390.01</td>\n",
       "      <td>0</td>\n",
       "    </tr>\n",
       "    <tr>\n",
       "      <th>12</th>\n",
       "      <td>15675000</td>\n",
       "      <td>476</td>\n",
       "      <td>Ярославль</td>\n",
       "      <td>Ж</td>\n",
       "      <td>34</td>\n",
       "      <td>10</td>\n",
       "      <td>NaN</td>\n",
       "      <td>2</td>\n",
       "      <td>1</td>\n",
       "      <td>0</td>\n",
       "      <td>26260.98</td>\n",
       "      <td>0</td>\n",
       "    </tr>\n",
       "    <tr>\n",
       "      <th>13</th>\n",
       "      <td>15734219</td>\n",
       "      <td>549</td>\n",
       "      <td>Ярославль</td>\n",
       "      <td>Ж</td>\n",
       "      <td>25</td>\n",
       "      <td>5</td>\n",
       "      <td>NaN</td>\n",
       "      <td>2</td>\n",
       "      <td>0</td>\n",
       "      <td>0</td>\n",
       "      <td>190857.79</td>\n",
       "      <td>0</td>\n",
       "    </tr>\n",
       "    <tr>\n",
       "      <th>14</th>\n",
       "      <td>15643618</td>\n",
       "      <td>635</td>\n",
       "      <td>Рыбинск</td>\n",
       "      <td>Ж</td>\n",
       "      <td>35</td>\n",
       "      <td>7</td>\n",
       "      <td>NaN</td>\n",
       "      <td>2</td>\n",
       "      <td>1</td>\n",
       "      <td>1</td>\n",
       "      <td>65951.65</td>\n",
       "      <td>0</td>\n",
       "    </tr>\n",
       "    <tr>\n",
       "      <th>17</th>\n",
       "      <td>15830954</td>\n",
       "      <td>549</td>\n",
       "      <td>Рыбинск</td>\n",
       "      <td>Ж</td>\n",
       "      <td>24</td>\n",
       "      <td>9</td>\n",
       "      <td>NaN</td>\n",
       "      <td>2</td>\n",
       "      <td>1</td>\n",
       "      <td>1</td>\n",
       "      <td>14406.41</td>\n",
       "      <td>0</td>\n",
       "    </tr>\n",
       "    <tr>\n",
       "      <th>18</th>\n",
       "      <td>15704243</td>\n",
       "      <td>587</td>\n",
       "      <td>Рыбинск</td>\n",
       "      <td>М</td>\n",
       "      <td>45</td>\n",
       "      <td>6</td>\n",
       "      <td>NaN</td>\n",
       "      <td>1</td>\n",
       "      <td>0</td>\n",
       "      <td>0</td>\n",
       "      <td>158684.81</td>\n",
       "      <td>0</td>\n",
       "    </tr>\n",
       "    <tr>\n",
       "      <th>19</th>\n",
       "      <td>15611718</td>\n",
       "      <td>726</td>\n",
       "      <td>Ярославль</td>\n",
       "      <td>Ж</td>\n",
       "      <td>24</td>\n",
       "      <td>6</td>\n",
       "      <td>NaN</td>\n",
       "      <td>2</td>\n",
       "      <td>1</td>\n",
       "      <td>1</td>\n",
       "      <td>54724.03</td>\n",
       "      <td>0</td>\n",
       "    </tr>\n",
       "  </tbody>\n",
       "</table>\n",
       "</div>"
      ],
      "text/plain": [
       "     user_id  score       сity gender  age  objects  balance  products  \\\n",
       "0   15677338    619  Ярославль      Ж   42        2      NaN         1   \n",
       "3   15744090    699  Ярославль      Ж   39        1      NaN         2   \n",
       "6   15635267    822  Ярославль      М   50        7      NaN         2   \n",
       "11  15779909    497    Рыбинск      М   24        3      NaN         2   \n",
       "12  15675000    476  Ярославль      Ж   34       10      NaN         2   \n",
       "13  15734219    549  Ярославль      Ж   25        5      NaN         2   \n",
       "14  15643618    635    Рыбинск      Ж   35        7      NaN         2   \n",
       "17  15830954    549    Рыбинск      Ж   24        9      NaN         2   \n",
       "18  15704243    587    Рыбинск      М   45        6      NaN         1   \n",
       "19  15611718    726  Ярославль      Ж   24        6      NaN         2   \n",
       "\n",
       "    credit_card  loyalty  estimated_salary  churn  \n",
       "0             1        1         101348.88      1  \n",
       "3             0        0          93826.63      0  \n",
       "6             1        1          10062.80      0  \n",
       "11            1        0          76390.01      0  \n",
       "12            1        0          26260.98      0  \n",
       "13            0        0         190857.79      0  \n",
       "14            1        1          65951.65      0  \n",
       "17            1        1          14406.41      0  \n",
       "18            0        0         158684.81      0  \n",
       "19            1        1          54724.03      0  "
      ]
     },
     "execution_count": 10,
     "metadata": {},
     "output_type": "execute_result"
    }
   ],
   "source": [
    "bank_dataset[bank_dataset['balance'].isnull()].head(10)"
   ]
  },
  {
   "cell_type": "markdown",
   "metadata": {},
   "source": [
    "На первый взгляд никакую закономерность выделить нет возможности, посмотрить на количество пропусков в разрезе городов"
   ]
  },
  {
   "cell_type": "code",
   "execution_count": 11,
   "metadata": {},
   "outputs": [
    {
     "data": {
      "text/plain": [
       "сity\n",
       "Ростов Великий       0\n",
       "Рыбинск           1199\n",
       "Ярославль         2418\n",
       "Name: balance, dtype: int64"
      ]
     },
     "execution_count": 11,
     "metadata": {},
     "output_type": "execute_result"
    }
   ],
   "source": [
    "bank_dataset.groupby('сity')['balance'].apply(lambda x: x.isna().sum())#<группировка по городу и подсчет количества пропусков по сгруппированным данным>"
   ]
  },
  {
   "cell_type": "markdown",
   "metadata": {},
   "source": [
    "Можем сказать, что сбой произошел только по Ярославлю и Рыбинску. Посмотрим на график распределения показателя balance по этим двум городам, для этого сделам соотвествующие срезы "
   ]
  },
  {
   "cell_type": "code",
   "execution_count": 12,
   "metadata": {},
   "outputs": [],
   "source": [
    "bank_dataset_rb = bank_dataset.query('сity == \"Рыбинск\"')#<срез по городу Рыбинск>\n",
    "bank_dataset_yr = bank_dataset.query('сity == \"Ярославль\"')#<срез по городу Ярославль>"
   ]
  },
  {
   "cell_type": "code",
   "execution_count": 13,
   "metadata": {},
   "outputs": [
    {
     "data": {
      "image/png": "[encoded data removed]",
      "text/plain": [
       "<Figure size 432x288 with 1 Axes>"
      ]
     },
     "metadata": {
      "needs_background": "light"
     },
     "output_type": "display_data"
    }
   ],
   "source": [
    "bank_dataset_rb['balance'].hist()\n",
    "plt.title('График распределения показателя balance по городу Рыбинск', color='blue')\n",
    "plt.xlabel('Остаток по счету', fontsize=10, color='blue')\n",
    "plt.ylabel('Частота', fontsize=10, color='blue')\n",
    "plt.show()"
   ]
  },
  {
   "cell_type": "code",
   "execution_count": 14,
   "metadata": {},
   "outputs": [
    {
     "name": "stdout",
     "output_type": "stream",
     "text": [
      "Среднее значение balance по городу Рыбинск 119814.99\n"
     ]
    }
   ],
   "source": [
    "print('Среднее значение balance по городу Рыбинск', round(bank_dataset_rb['balance'].mean(), 2))"
   ]
  },
  {
   "cell_type": "code",
   "execution_count": 15,
   "metadata": {},
   "outputs": [
    {
     "data": {
      "image/png": "[encoded data removed]",
      "text/plain": [
       "<Figure size 432x288 with 1 Axes>"
      ]
     },
     "metadata": {
      "needs_background": "light"
     },
     "output_type": "display_data"
    }
   ],
   "source": [
    "bank_dataset_yr['balance'].hist()\n",
    "plt.title('График распределения показателя balance по городу Ярославль', color='blue')\n",
    "plt.xlabel('Остаток по счету', fontsize=10, color='blue')\n",
    "plt.ylabel('Частота', fontsize=10, color='blue')\n",
    "plt.show()"
   ]
  },
  {
   "cell_type": "code",
   "execution_count": 16,
   "metadata": {},
   "outputs": [
    {
     "name": "stdout",
     "output_type": "stream",
     "text": [
      "Среднее значение balance по городу Рыбинск 119927.77\n"
     ]
    }
   ],
   "source": [
    "print('Среднее значение balance по городу Рыбинск', round(bank_dataset_yr['balance'].mean(), 2))"
   ]
  },
  {
   "cell_type": "markdown",
   "metadata": {},
   "source": [
    "По обоим городам распределение остатка по счету близко к нормальному, поэтому медиана и среднее примерно будут равны, также обе эти статистики довольно хорошо описывают распределение. "
   ]
  },
  {
   "cell_type": "markdown",
   "metadata": {},
   "source": [
    "Посмотрим также подробнее информацию по столбцу estimated_salary, содержащему данные о доходе клиента"
   ]
  },
  {
   "cell_type": "code",
   "execution_count": 17,
   "metadata": {},
   "outputs": [
    {
     "data": {
      "image/png": "[encoded data removed]",
      "text/plain": [
       "<Figure size 432x288 with 1 Axes>"
      ]
     },
     "metadata": {
      "needs_background": "light"
     },
     "output_type": "display_data"
    }
   ],
   "source": [
    "plt.boxplot(bank_dataset['estimated_salary']) \n",
    "plt.title('Диаграмма \"ящик с усами\" для дохода', fontsize=12, color='blue')\n",
    "plt.ylabel('Значение дохода', fontsize=10, color='blue')\n",
    "plt.grid()\n",
    "plt.show()"
   ]
  },
  {
   "cell_type": "code",
   "execution_count": 18,
   "metadata": {},
   "outputs": [
    {
     "data": {
      "text/plain": [
       "count     10000.000000\n",
       "mean     100090.239881\n",
       "std       57510.492818\n",
       "min          11.580000\n",
       "25%       51002.110000\n",
       "50%      100193.915000\n",
       "75%      149388.247500\n",
       "max      199992.480000\n",
       "Name: estimated_salary, dtype: float64"
      ]
     },
     "execution_count": 18,
     "metadata": {},
     "output_type": "execute_result"
    }
   ],
   "source": [
    "bank_dataset['estimated_salary'].describe()"
   ]
  },
  {
   "cell_type": "markdown",
   "metadata": {},
   "source": [
    "В таблице содержатся данные по вип-клиентам, поэтому доходы указаны довольно высокие 75% значений выше 150 000, но при этом есть довольно низкие значения, минимум составляет 11,58. Посмотрим сколько значений меньше 10000"
   ]
  },
  {
   "cell_type": "code",
   "execution_count": 19,
   "metadata": {},
   "outputs": [
    {
     "data": {
      "text/plain": [
       "59"
      ]
     },
     "execution_count": 19,
     "metadata": {},
     "output_type": "execute_result"
    }
   ],
   "source": [
    "len(bank_dataset.query('estimated_salary <= 1000'))#<срез по условию и подсчет количества записей>"
   ]
  },
  {
   "cell_type": "markdown",
   "metadata": {},
   "source": [
    "Верояно не все клиенты указывали свой доход, и поэтому данные были подтянуты из каки-то других систем, у 59 клиентов (0,59% нашей выборки), указан доход ниже 1000 рублей, удалим эти данные, чтобы они не искажали дальнешее исследование, также произведем замену пропусков в столбце balance на средние размеры остатков в разрезе города"
   ]
  },
  {
   "cell_type": "code",
   "execution_count": 20,
   "metadata": {},
   "outputs": [],
   "source": [
    "dataset_filt = bank_dataset.query('estimated_salary > 1000')"
   ]
  },
  {
   "cell_type": "code",
   "execution_count": 21,
   "metadata": {},
   "outputs": [
    {
     "name": "stderr",
     "output_type": "stream",
     "text": [
      "<ipython-input-21-55cebf074347>:1: SettingWithCopyWarning:\n",
      "\n",
      "\n",
      "A value is trying to be set on a copy of a slice from a DataFrame.\n",
      "Try using .loc[row_indexer,col_indexer] = value instead\n",
      "\n",
      "See the caveats in the documentation: https://pandas.pydata.org/pandas-docs/stable/user_guide/indexing.html#returning-a-view-versus-a-copy\n",
      "\n"
     ]
    },
    {
     "data": {
      "text/plain": [
       "user_id             0\n",
       "score               0\n",
       "сity                0\n",
       "gender              0\n",
       "age                 0\n",
       "objects             0\n",
       "balance             0\n",
       "products            0\n",
       "credit_card         0\n",
       "loyalty             0\n",
       "estimated_salary    0\n",
       "churn               0\n",
       "dtype: int64"
      ]
     },
     "execution_count": 21,
     "metadata": {},
     "output_type": "execute_result"
    }
   ],
   "source": [
    "dataset_filt['balance'] = dataset_filt['balance'].fillna(dataset_filt.groupby('сity')['balance'].transform('mean')) #замена пропусков в разрезе группы\n",
    "dataset_filt.isnull().sum() #проверяем, что пропущенных значений в столбце balance больше нет"
   ]
  },
  {
   "cell_type": "markdown",
   "metadata": {},
   "source": [
    "Данные по клиентам с доходом свыше 150 000 править не будем, по вип-клиентам вполне могут быть очень высокие доходы."
   ]
  },
  {
   "cell_type": "markdown",
   "metadata": {},
   "source": [
    "# Вывод"
   ]
  },
  {
   "cell_type": "markdown",
   "metadata": {},
   "source": [
    "В процессе преобработки были откорректированы названия столбцов и проанализированы пропуски в столбце balance. Пропущенные значения присутсвуют только по городам Рыбинск и Ярославль. Данные в столбце balance по этим городам распределены нормально, среднее значение хорошо описывает такие распределения, было принято решение заменить пропуски на средние значения в разрезе городов. Также, посмотрев минимальные и максимальные данные, и диаграмму \"ящик с усами\" по этой переменной, выявили по некотоым клиентам экстремально низкие значения дохода, для того чтобы они не искажали дальнеший анализ, значения менее 1000 рублей, в количестве 59 штук, исключили из таблицы, они имеют маленькую долю в общем количестве записей (0,59%)."
   ]
  },
  {
   "cell_type": "markdown",
   "metadata": {},
   "source": [
    "## 3. Исследовательский анализ данных<a id=\"research_analysis\"> </a>"
   ]
  },
  {
   "cell_type": "markdown",
   "metadata": {},
   "source": [
    "### 3.1 Анализ распределения признаков"
   ]
  },
  {
   "cell_type": "code",
   "execution_count": 22,
   "metadata": {},
   "outputs": [
    {
     "data": {
      "text/html": [
       "<div>\n",
       "<style scoped>\n",
       "    .dataframe tbody tr th:only-of-type {\n",
       "        vertical-align: middle;\n",
       "    }\n",
       "\n",
       "    .dataframe tbody tr th {\n",
       "        vertical-align: top;\n",
       "    }\n",
       "\n",
       "    .dataframe thead th {\n",
       "        text-align: right;\n",
       "    }\n",
       "</style>\n",
       "<table border=\"1\" class=\"dataframe\">\n",
       "  <thead>\n",
       "    <tr style=\"text-align: right;\">\n",
       "      <th></th>\n",
       "      <th>user_id</th>\n",
       "      <th>score</th>\n",
       "      <th>сity</th>\n",
       "      <th>gender</th>\n",
       "      <th>age</th>\n",
       "      <th>objects</th>\n",
       "      <th>balance</th>\n",
       "      <th>products</th>\n",
       "      <th>credit_card</th>\n",
       "      <th>loyalty</th>\n",
       "      <th>estimated_salary</th>\n",
       "      <th>churn</th>\n",
       "    </tr>\n",
       "  </thead>\n",
       "  <tbody>\n",
       "    <tr>\n",
       "      <th>0</th>\n",
       "      <td>15677338</td>\n",
       "      <td>619</td>\n",
       "      <td>Ярославль</td>\n",
       "      <td>Ж</td>\n",
       "      <td>42</td>\n",
       "      <td>2</td>\n",
       "      <td>119912.709299</td>\n",
       "      <td>1</td>\n",
       "      <td>1</td>\n",
       "      <td>1</td>\n",
       "      <td>101348.88</td>\n",
       "      <td>1</td>\n",
       "    </tr>\n",
       "    <tr>\n",
       "      <th>1</th>\n",
       "      <td>15690047</td>\n",
       "      <td>608</td>\n",
       "      <td>Рыбинск</td>\n",
       "      <td>Ж</td>\n",
       "      <td>41</td>\n",
       "      <td>1</td>\n",
       "      <td>83807.860000</td>\n",
       "      <td>1</td>\n",
       "      <td>0</td>\n",
       "      <td>1</td>\n",
       "      <td>112542.58</td>\n",
       "      <td>0</td>\n",
       "    </tr>\n",
       "    <tr>\n",
       "      <th>2</th>\n",
       "      <td>15662040</td>\n",
       "      <td>502</td>\n",
       "      <td>Ярославль</td>\n",
       "      <td>Ж</td>\n",
       "      <td>42</td>\n",
       "      <td>8</td>\n",
       "      <td>159660.800000</td>\n",
       "      <td>3</td>\n",
       "      <td>1</td>\n",
       "      <td>0</td>\n",
       "      <td>113931.57</td>\n",
       "      <td>1</td>\n",
       "    </tr>\n",
       "    <tr>\n",
       "      <th>3</th>\n",
       "      <td>15744090</td>\n",
       "      <td>699</td>\n",
       "      <td>Ярославль</td>\n",
       "      <td>Ж</td>\n",
       "      <td>39</td>\n",
       "      <td>1</td>\n",
       "      <td>119912.709299</td>\n",
       "      <td>2</td>\n",
       "      <td>0</td>\n",
       "      <td>0</td>\n",
       "      <td>93826.63</td>\n",
       "      <td>0</td>\n",
       "    </tr>\n",
       "    <tr>\n",
       "      <th>4</th>\n",
       "      <td>15780624</td>\n",
       "      <td>850</td>\n",
       "      <td>Рыбинск</td>\n",
       "      <td>Ж</td>\n",
       "      <td>43</td>\n",
       "      <td>2</td>\n",
       "      <td>125510.820000</td>\n",
       "      <td>1</td>\n",
       "      <td>1</td>\n",
       "      <td>1</td>\n",
       "      <td>79084.10</td>\n",
       "      <td>0</td>\n",
       "    </tr>\n",
       "  </tbody>\n",
       "</table>\n",
       "</div>"
      ],
      "text/plain": [
       "    user_id  score       сity gender  age  objects        balance  products  \\\n",
       "0  15677338    619  Ярославль      Ж   42        2  119912.709299         1   \n",
       "1  15690047    608    Рыбинск      Ж   41        1   83807.860000         1   \n",
       "2  15662040    502  Ярославль      Ж   42        8  159660.800000         3   \n",
       "3  15744090    699  Ярославль      Ж   39        1  119912.709299         2   \n",
       "4  15780624    850    Рыбинск      Ж   43        2  125510.820000         1   \n",
       "\n",
       "   credit_card  loyalty  estimated_salary  churn  \n",
       "0            1        1         101348.88      1  \n",
       "1            0        1         112542.58      0  \n",
       "2            1        0         113931.57      1  \n",
       "3            0        0          93826.63      0  \n",
       "4            1        1          79084.10      0  "
      ]
     },
     "execution_count": 22,
     "metadata": {},
     "output_type": "execute_result"
    }
   ],
   "source": [
    "dataset_filt.head()"
   ]
  },
  {
   "cell_type": "markdown",
   "metadata": {},
   "source": [
    "Выделим следующие группы признаков:\n",
    "    1. Бинарные (gender, credit_card, loyalty, churn)\n",
    "    2. Категориальные (сity)\n",
    "    3. Количественные (score, age, objects, balance, products, estimated_salary)"
   ]
  },
  {
   "cell_type": "markdown",
   "metadata": {},
   "source": [
    "Посмотрим на гистограмму распределения клиентов по возрасту "
   ]
  },
  {
   "cell_type": "code",
   "execution_count": 23,
   "metadata": {},
   "outputs": [
    {
     "data": {
      "image/png": "[encoded data removed]",
      "text/plain": [
       "<Figure size 432x288 with 1 Axes>"
      ]
     },
     "metadata": {
      "needs_background": "light"
     },
     "output_type": "display_data"
    }
   ],
   "source": [
    "dataset_filt['age'].hist()\n",
    "plt.title('График распределения клиентов по возрасту', color='blue')\n",
    "plt.xlabel('Возраст', fontsize=10, color='blue')\n",
    "plt.ylabel('Частота', fontsize=10, color='blue')\n",
    "plt.show()"
   ]
  },
  {
   "cell_type": "markdown",
   "metadata": {},
   "source": [
    "Разделим клиентов на несколько возрастных групп, и проставим пометки о возрасте, чтобы в дальнейшем учитывать это в формировании портрета клиента"
   ]
  },
  {
   "cell_type": "code",
   "execution_count": 24,
   "metadata": {},
   "outputs": [],
   "source": [
    "dataset_age = dataset_filt.pivot_table(index= 'age', values='user_id', aggfunc='count') \\\n",
    "                    .rename(columns={'user_id':'count_user'}) \\\n",
    "                    .sort_values(by='age') \\\n",
    "                    .reset_index()"
   ]
  },
  {
   "cell_type": "code",
   "execution_count": 25,
   "metadata": {},
   "outputs": [
    {
     "data": {
      "text/html": [
       "<div>\n",
       "<style scoped>\n",
       "    .dataframe tbody tr th:only-of-type {\n",
       "        vertical-align: middle;\n",
       "    }\n",
       "\n",
       "    .dataframe tbody tr th {\n",
       "        vertical-align: top;\n",
       "    }\n",
       "\n",
       "    .dataframe thead th {\n",
       "        text-align: right;\n",
       "    }\n",
       "</style>\n",
       "<table border=\"1\" class=\"dataframe\">\n",
       "  <thead>\n",
       "    <tr style=\"text-align: right;\">\n",
       "      <th></th>\n",
       "      <th>age</th>\n",
       "      <th>count_user</th>\n",
       "    </tr>\n",
       "  </thead>\n",
       "  <tbody>\n",
       "    <tr>\n",
       "      <th>0</th>\n",
       "      <td>18</td>\n",
       "      <td>22</td>\n",
       "    </tr>\n",
       "    <tr>\n",
       "      <th>1</th>\n",
       "      <td>19</td>\n",
       "      <td>27</td>\n",
       "    </tr>\n",
       "    <tr>\n",
       "      <th>2</th>\n",
       "      <td>20</td>\n",
       "      <td>40</td>\n",
       "    </tr>\n",
       "    <tr>\n",
       "      <th>3</th>\n",
       "      <td>21</td>\n",
       "      <td>53</td>\n",
       "    </tr>\n",
       "    <tr>\n",
       "      <th>4</th>\n",
       "      <td>22</td>\n",
       "      <td>83</td>\n",
       "    </tr>\n",
       "    <tr>\n",
       "      <th>5</th>\n",
       "      <td>23</td>\n",
       "      <td>99</td>\n",
       "    </tr>\n",
       "    <tr>\n",
       "      <th>6</th>\n",
       "      <td>24</td>\n",
       "      <td>132</td>\n",
       "    </tr>\n",
       "    <tr>\n",
       "      <th>7</th>\n",
       "      <td>25</td>\n",
       "      <td>154</td>\n",
       "    </tr>\n",
       "    <tr>\n",
       "      <th>8</th>\n",
       "      <td>26</td>\n",
       "      <td>198</td>\n",
       "    </tr>\n",
       "    <tr>\n",
       "      <th>9</th>\n",
       "      <td>27</td>\n",
       "      <td>209</td>\n",
       "    </tr>\n",
       "    <tr>\n",
       "      <th>10</th>\n",
       "      <td>28</td>\n",
       "      <td>272</td>\n",
       "    </tr>\n",
       "    <tr>\n",
       "      <th>11</th>\n",
       "      <td>29</td>\n",
       "      <td>347</td>\n",
       "    </tr>\n",
       "    <tr>\n",
       "      <th>12</th>\n",
       "      <td>30</td>\n",
       "      <td>324</td>\n",
       "    </tr>\n",
       "    <tr>\n",
       "      <th>13</th>\n",
       "      <td>31</td>\n",
       "      <td>403</td>\n",
       "    </tr>\n",
       "    <tr>\n",
       "      <th>14</th>\n",
       "      <td>32</td>\n",
       "      <td>416</td>\n",
       "    </tr>\n",
       "    <tr>\n",
       "      <th>15</th>\n",
       "      <td>33</td>\n",
       "      <td>440</td>\n",
       "    </tr>\n",
       "    <tr>\n",
       "      <th>16</th>\n",
       "      <td>34</td>\n",
       "      <td>444</td>\n",
       "    </tr>\n",
       "    <tr>\n",
       "      <th>17</th>\n",
       "      <td>35</td>\n",
       "      <td>469</td>\n",
       "    </tr>\n",
       "    <tr>\n",
       "      <th>18</th>\n",
       "      <td>36</td>\n",
       "      <td>454</td>\n",
       "    </tr>\n",
       "    <tr>\n",
       "      <th>19</th>\n",
       "      <td>37</td>\n",
       "      <td>472</td>\n",
       "    </tr>\n",
       "  </tbody>\n",
       "</table>\n",
       "</div>"
      ],
      "text/plain": [
       "    age  count_user\n",
       "0    18          22\n",
       "1    19          27\n",
       "2    20          40\n",
       "3    21          53\n",
       "4    22          83\n",
       "5    23          99\n",
       "6    24         132\n",
       "7    25         154\n",
       "8    26         198\n",
       "9    27         209\n",
       "10   28         272\n",
       "11   29         347\n",
       "12   30         324\n",
       "13   31         403\n",
       "14   32         416\n",
       "15   33         440\n",
       "16   34         444\n",
       "17   35         469\n",
       "18   36         454\n",
       "19   37         472"
      ]
     },
     "execution_count": 25,
     "metadata": {},
     "output_type": "execute_result"
    }
   ],
   "source": [
    "dataset_age.head(20)"
   ]
  },
  {
   "cell_type": "markdown",
   "metadata": {},
   "source": [
    "На основе гистограммы и сводной таблицы, выделим следующие категории клиентов по возрасту: \n",
    "    - 18-30 лет \"Молодые\"\n",
    "    - 31-46 лет \"Средний возраст\"\n",
    "    - 47-62 лет \"Предпенсионный\"\n",
    "    - 63-92 лет \"Пенсионный\"\n",
    "Проставим в датасете отметки по каждому клиенту к какой категории возраста он относится, для этого напишем функцию"
   ]
  },
  {
   "cell_type": "code",
   "execution_count": 26,
   "metadata": {},
   "outputs": [
    {
     "name": "stderr",
     "output_type": "stream",
     "text": [
      "<ipython-input-26-193cc8bf5a7b>:10: SettingWithCopyWarning:\n",
      "\n",
      "\n",
      "A value is trying to be set on a copy of a slice from a DataFrame.\n",
      "Try using .loc[row_indexer,col_indexer] = value instead\n",
      "\n",
      "See the caveats in the documentation: https://pandas.pydata.org/pandas-docs/stable/user_guide/indexing.html#returning-a-view-versus-a-copy\n",
      "\n"
     ]
    }
   ],
   "source": [
    "def age_category(dataset_filt):\n",
    "    if 18<= dataset_filt.age <= 30:\n",
    "        return 'молодые'\n",
    "    elif 31<= dataset_filt.age <= 46:\n",
    "        return 'средний возраст'\n",
    "    elif 47<= dataset_filt.age <= 62:\n",
    "        return 'предпенсионный'\n",
    "    else:\n",
    "        return 'пенсионный'\n",
    "dataset_filt['age_category'] = dataset_filt.apply(age_category, axis=1) "
   ]
  },
  {
   "cell_type": "markdown",
   "metadata": {},
   "source": [
    "Посмотрим сначала на общую долю оттока:"
   ]
  },
  {
   "cell_type": "code",
   "execution_count": 27,
   "metadata": {},
   "outputs": [],
   "source": [
    "dataset_coun_churn = dataset_filt['churn'].value_counts()\n",
    "count_hurn_0 = dataset_coun_churn[0]#количество оставшихся клиентов\n",
    "count_hurn_1 = dataset_coun_churn[1]#количество клиентов в оттоке"
   ]
  },
  {
   "cell_type": "code",
   "execution_count": 28,
   "metadata": {},
   "outputs": [
    {
     "data": {
      "text/plain": [
       "0    7917\n",
       "1    2024\n",
       "Name: churn, dtype: int64"
      ]
     },
     "execution_count": 28,
     "metadata": {},
     "output_type": "execute_result"
    }
   ],
   "source": [
    "dataset_coun_churn"
   ]
  },
  {
   "cell_type": "markdown",
   "metadata": {},
   "source": [
    "В отток ушло 2024 клиента, довольно много, учитывая, что это составляет 20% от общего количества клиентов"
   ]
  },
  {
   "cell_type": "code",
   "execution_count": 29,
   "metadata": {},
   "outputs": [
    {
     "data": {
      "image/png": "[encoded data removed]",
      "text/plain": [
       "<Figure size 432x288 with 1 Axes>"
      ]
     },
     "metadata": {
      "needs_background": "light"
     },
     "output_type": "display_data"
    }
   ],
   "source": [
    "g=dataset_filt['churn'].value_counts().plot(kind='bar', label='сhurn')\n",
    "plt.xticks(rotation = 0)\n",
    "plt.grid()\n",
    "plt.title('Распределение оттока клиентов');\n",
    "plt.show()"
   ]
  },
  {
   "cell_type": "markdown",
   "metadata": {},
   "source": [
    "Посмотрим как распределены доли возрастных групп в разрезе групп клинов (оставшихся и в оттоке):"
   ]
  },
  {
   "cell_type": "code",
   "execution_count": 30,
   "metadata": {},
   "outputs": [
    {
     "data": {
      "text/html": [
       "<div>\n",
       "<style scoped>\n",
       "    .dataframe tbody tr th:only-of-type {\n",
       "        vertical-align: middle;\n",
       "    }\n",
       "\n",
       "    .dataframe tbody tr th {\n",
       "        vertical-align: top;\n",
       "    }\n",
       "\n",
       "    .dataframe thead th {\n",
       "        text-align: right;\n",
       "    }\n",
       "</style>\n",
       "<table border=\"1\" class=\"dataframe\">\n",
       "  <thead>\n",
       "    <tr style=\"text-align: right;\">\n",
       "      <th>churn</th>\n",
       "      <th>age_category</th>\n",
       "      <th>churn_0</th>\n",
       "      <th>churn_1</th>\n",
       "      <th>ratio_churn_0</th>\n",
       "      <th>ratio_churn_1</th>\n",
       "    </tr>\n",
       "  </thead>\n",
       "  <tbody>\n",
       "    <tr>\n",
       "      <th>0</th>\n",
       "      <td>молодые</td>\n",
       "      <td>1812</td>\n",
       "      <td>148</td>\n",
       "      <td>22.89</td>\n",
       "      <td>7.31</td>\n",
       "    </tr>\n",
       "    <tr>\n",
       "      <th>1</th>\n",
       "      <td>пенсионный</td>\n",
       "      <td>283</td>\n",
       "      <td>73</td>\n",
       "      <td>3.57</td>\n",
       "      <td>3.61</td>\n",
       "    </tr>\n",
       "    <tr>\n",
       "      <th>2</th>\n",
       "      <td>предпенсионный</td>\n",
       "      <td>728</td>\n",
       "      <td>788</td>\n",
       "      <td>9.20</td>\n",
       "      <td>38.93</td>\n",
       "    </tr>\n",
       "    <tr>\n",
       "      <th>3</th>\n",
       "      <td>средний возраст</td>\n",
       "      <td>5094</td>\n",
       "      <td>1015</td>\n",
       "      <td>64.34</td>\n",
       "      <td>50.15</td>\n",
       "    </tr>\n",
       "  </tbody>\n",
       "</table>\n",
       "</div>"
      ],
      "text/plain": [
       "churn     age_category  churn_0  churn_1  ratio_churn_0  ratio_churn_1\n",
       "0              молодые     1812      148          22.89           7.31\n",
       "1           пенсионный      283       73           3.57           3.61\n",
       "2       предпенсионный      728      788           9.20          38.93\n",
       "3      средний возраст     5094     1015          64.34          50.15"
      ]
     },
     "execution_count": 30,
     "metadata": {},
     "output_type": "execute_result"
    }
   ],
   "source": [
    "dataset_age_category = dataset_filt.pivot_table(index = 'age_category', columns = 'churn', values = 'user_id', aggfunc='count') \\\n",
    "                    .rename(columns={'user_id':'count_user', 0:'churn_0', 1:'churn_1'}) \\\n",
    "                    .reset_index()#<сводная таблица>\n",
    "\n",
    "dataset_age_category['ratio_churn_0'] = round((dataset_age_category['churn_0'] / count_hurn_0 *100), 2)#<доли разных возрастных групп среди оставшихся клиентов >\n",
    "dataset_age_category['ratio_churn_1'] = round((dataset_age_category['churn_1'] / count_hurn_1 *100), 2)#<доли разных возрастных групп среди клиентов в оттоке>\n",
    "dataset_age_category"
   ]
  },
  {
   "cell_type": "markdown",
   "metadata": {},
   "source": [
    "Посмотрим на расределение доле на графике:"
   ]
  },
  {
   "cell_type": "code",
   "execution_count": 31,
   "metadata": {},
   "outputs": [
    {
     "data": {
      "application/vnd.plotly.v1+json": {
       "config": {
        "plotlyServerURL": "https://plot.ly"
       },
       "data": [
        {
         "marker": {
          "color": "#454e3c"
         },
         "name": "Оставшиеся клиенты",
         "type": "bar",
         "x": [
          "молодые",
          "пенсионный",
          "предпенсионный",
          "средний возраст"
         ],
         "y": [
          22.89,
          3.57,
          9.2,
          64.34
         ]
        },
        {
         "marker": {
          "color": "#8a9d79"
         },
         "name": "Отток",
         "type": "bar",
         "x": [
          "молодые",
          "пенсионный",
          "предпенсионный",
          "средний возраст"
         ],
         "y": [
          7.31,
          3.61,
          38.93,
          50.15
         ]
        }
       ],
       "layout": {
        "barmode": "group",
        "hovermode": "x",
        "template": {
         "data": {
          "bar": [
           {
            "error_x": {
             "color": "#2a3f5f"
            },
            "error_y": {
             "color": "#2a3f5f"
            },
            "marker": {
             "line": {
              "color": "#E5ECF6",
              "width": 0.5
             }
            },
            "type": "bar"
           }
          ],
          "barpolar": [
           {
            "marker": {
             "line": {
              "color": "#E5ECF6",
              "width": 0.5
             }
            },
            "type": "barpolar"
           }
          ],
          "carpet": [
           {
            "aaxis": {
             "endlinecolor": "#2a3f5f",
             "gridcolor": "white",
             "linecolor": "white",
             "minorgridcolor": "white",
             "startlinecolor": "#2a3f5f"
            },
            "baxis": {
             "endlinecolor": "#2a3f5f",
             "gridcolor": "white",
             "linecolor": "white",
             "minorgridcolor": "white",
             "startlinecolor": "#2a3f5f"
            },
            "type": "carpet"
           }
          ],
          "choropleth": [
           {
            "colorbar": {
             "outlinewidth": 0,
             "ticks": ""
            },
            "type": "choropleth"
           }
          ],
          "contour": [
           {
            "colorbar": {
             "outlinewidth": 0,
             "ticks": ""
            },
            "colorscale": [
             [
              0,
              "#0d0887"
             ],
             [
              0.1111111111111111,
              "#46039f"
             ],
             [
              0.2222222222222222,
              "#7201a8"
             ],
             [
              0.3333333333333333,
              "#9c179e"
             ],
             [
              0.4444444444444444,
              "#bd3786"
             ],
             [
              0.5555555555555556,
              "#d8576b"
             ],
             [
              0.6666666666666666,
              "#ed7953"
             ],
             [
              0.7777777777777778,
              "#fb9f3a"
             ],
             [
              0.8888888888888888,
              "#fdca26"
             ],
             [
              1,
              "#f0f921"
             ]
            ],
            "type": "contour"
           }
          ],
          "contourcarpet": [
           {
            "colorbar": {
             "outlinewidth": 0,
             "ticks": ""
            },
            "type": "contourcarpet"
           }
          ],
          "heatmap": [
           {
            "colorbar": {
             "outlinewidth": 0,
             "ticks": ""
            },
            "colorscale": [
             [
              0,
              "#0d0887"
             ],
             [
              0.1111111111111111,
              "#46039f"
             ],
             [
              0.2222222222222222,
              "#7201a8"
             ],
             [
              0.3333333333333333,
              "#9c179e"
             ],
             [
              0.4444444444444444,
              "#bd3786"
             ],
             [
              0.5555555555555556,
              "#d8576b"
             ],
             [
              0.6666666666666666,
              "#ed7953"
             ],
             [
              0.7777777777777778,
              "#fb9f3a"
             ],
             [
              0.8888888888888888,
              "#fdca26"
             ],
             [
              1,
              "#f0f921"
             ]
            ],
            "type": "heatmap"
           }
          ],
          "heatmapgl": [
           {
            "colorbar": {
             "outlinewidth": 0,
             "ticks": ""
            },
            "colorscale": [
             [
              0,
              "#0d0887"
             ],
             [
              0.1111111111111111,
              "#46039f"
             ],
             [
              0.2222222222222222,
              "#7201a8"
             ],
             [
              0.3333333333333333,
              "#9c179e"
             ],
             [
              0.4444444444444444,
              "#bd3786"
             ],
             [
              0.5555555555555556,
              "#d8576b"
             ],
             [
              0.6666666666666666,
              "#ed7953"
             ],
             [
              0.7777777777777778,
              "#fb9f3a"
             ],
             [
              0.8888888888888888,
              "#fdca26"
             ],
             [
              1,
              "#f0f921"
             ]
            ],
            "type": "heatmapgl"
           }
          ],
          "histogram": [
           {
            "marker": {
             "colorbar": {
              "outlinewidth": 0,
              "ticks": ""
             }
            },
            "type": "histogram"
           }
          ],
          "histogram2d": [
           {
            "colorbar": {
             "outlinewidth": 0,
             "ticks": ""
            },
            "colorscale": [
             [
              0,
              "#0d0887"
             ],
             [
              0.1111111111111111,
              "#46039f"
             ],
             [
              0.2222222222222222,
              "#7201a8"
             ],
             [
              0.3333333333333333,
              "#9c179e"
             ],
             [
              0.4444444444444444,
              "#bd3786"
             ],
             [
              0.5555555555555556,
              "#d8576b"
             ],
             [
              0.6666666666666666,
              "#ed7953"
             ],
             [
              0.7777777777777778,
              "#fb9f3a"
             ],
             [
              0.8888888888888888,
              "#fdca26"
             ],
             [
              1,
              "#f0f921"
             ]
            ],
            "type": "histogram2d"
           }
          ],
          "histogram2dcontour": [
           {
            "colorbar": {
             "outlinewidth": 0,
             "ticks": ""
            },
            "colorscale": [
             [
              0,
              "#0d0887"
             ],
             [
              0.1111111111111111,
              "#46039f"
             ],
             [
              0.2222222222222222,
              "#7201a8"
             ],
             [
              0.3333333333333333,
              "#9c179e"
             ],
             [
              0.4444444444444444,
              "#bd3786"
             ],
             [
              0.5555555555555556,
              "#d8576b"
             ],
             [
              0.6666666666666666,
              "#ed7953"
             ],
             [
              0.7777777777777778,
              "#fb9f3a"
             ],
             [
              0.8888888888888888,
              "#fdca26"
             ],
             [
              1,
              "#f0f921"
             ]
            ],
            "type": "histogram2dcontour"
           }
          ],
          "mesh3d": [
           {
            "colorbar": {
             "outlinewidth": 0,
             "ticks": ""
            },
            "type": "mesh3d"
           }
          ],
          "parcoords": [
           {
            "line": {
             "colorbar": {
              "outlinewidth": 0,
              "ticks": ""
             }
            },
            "type": "parcoords"
           }
          ],
          "pie": [
           {
            "automargin": true,
            "type": "pie"
           }
          ],
          "scatter": [
           {
            "marker": {
             "colorbar": {
              "outlinewidth": 0,
              "ticks": ""
             }
            },
            "type": "scatter"
           }
          ],
          "scatter3d": [
           {
            "line": {
             "colorbar": {
              "outlinewidth": 0,
              "ticks": ""
             }
            },
            "marker": {
             "colorbar": {
              "outlinewidth": 0,
              "ticks": ""
             }
            },
            "type": "scatter3d"
           }
          ],
          "scattercarpet": [
           {
            "marker": {
             "colorbar": {
              "outlinewidth": 0,
              "ticks": ""
             }
            },
            "type": "scattercarpet"
           }
          ],
          "scattergeo": [
           {
            "marker": {
             "colorbar": {
              "outlinewidth": 0,
              "ticks": ""
             }
            },
            "type": "scattergeo"
           }
          ],
          "scattergl": [
           {
            "marker": {
             "colorbar": {
              "outlinewidth": 0,
              "ticks": ""
             }
            },
            "type": "scattergl"
           }
          ],
          "scattermapbox": [
           {
            "marker": {
             "colorbar": {
              "outlinewidth": 0,
              "ticks": ""
             }
            },
            "type": "scattermapbox"
           }
          ],
          "scatterpolar": [
           {
            "marker": {
             "colorbar": {
              "outlinewidth": 0,
              "ticks": ""
             }
            },
            "type": "scatterpolar"
           }
          ],
          "scatterpolargl": [
           {
            "marker": {
             "colorbar": {
              "outlinewidth": 0,
              "ticks": ""
             }
            },
            "type": "scatterpolargl"
           }
          ],
          "scatterternary": [
           {
            "marker": {
             "colorbar": {
              "outlinewidth": 0,
              "ticks": ""
             }
            },
            "type": "scatterternary"
           }
          ],
          "surface": [
           {
            "colorbar": {
             "outlinewidth": 0,
             "ticks": ""
            },
            "colorscale": [
             [
              0,
              "#0d0887"
             ],
             [
              0.1111111111111111,
              "#46039f"
             ],
             [
              0.2222222222222222,
              "#7201a8"
             ],
             [
              0.3333333333333333,
              "#9c179e"
             ],
             [
              0.4444444444444444,
              "#bd3786"
             ],
             [
              0.5555555555555556,
              "#d8576b"
             ],
             [
              0.6666666666666666,
              "#ed7953"
             ],
             [
              0.7777777777777778,
              "#fb9f3a"
             ],
             [
              0.8888888888888888,
              "#fdca26"
             ],
             [
              1,
              "#f0f921"
             ]
            ],
            "type": "surface"
           }
          ],
          "table": [
           {
            "cells": {
             "fill": {
              "color": "#EBF0F8"
             },
             "line": {
              "color": "white"
             }
            },
            "header": {
             "fill": {
              "color": "#C8D4E3"
             },
             "line": {
              "color": "white"
             }
            },
            "type": "table"
           }
          ]
         },
         "layout": {
          "annotationdefaults": {
           "arrowcolor": "#2a3f5f",
           "arrowhead": 0,
           "arrowwidth": 1
          },
          "coloraxis": {
           "colorbar": {
            "outlinewidth": 0,
            "ticks": ""
           }
          },
          "colorscale": {
           "diverging": [
            [
             0,
             "#8e0152"
            ],
            [
             0.1,
             "#c51b7d"
            ],
            [
             0.2,
             "#de77ae"
            ],
            [
             0.3,
             "#f1b6da"
            ],
            [
             0.4,
             "#fde0ef"
            ],
            [
             0.5,
             "#f7f7f7"
            ],
            [
             0.6,
             "#e6f5d0"
            ],
            [
             0.7,
             "#b8e186"
            ],
            [
             0.8,
             "#7fbc41"
            ],
            [
             0.9,
             "#4d9221"
            ],
            [
             1,
             "#276419"
            ]
           ],
           "sequential": [
            [
             0,
             "#0d0887"
            ],
            [
             0.1111111111111111,
             "#46039f"
            ],
            [
             0.2222222222222222,
             "#7201a8"
            ],
            [
             0.3333333333333333,
             "#9c179e"
            ],
            [
             0.4444444444444444,
             "#bd3786"
            ],
            [
             0.5555555555555556,
             "#d8576b"
            ],
            [
             0.6666666666666666,
             "#ed7953"
            ],
            [
             0.7777777777777778,
             "#fb9f3a"
            ],
            [
             0.8888888888888888,
             "#fdca26"
            ],
            [
             1,
             "#f0f921"
            ]
           ],
           "sequentialminus": [
            [
             0,
             "#0d0887"
            ],
            [
             0.1111111111111111,
             "#46039f"
            ],
            [
             0.2222222222222222,
             "#7201a8"
            ],
            [
             0.3333333333333333,
             "#9c179e"
            ],
            [
             0.4444444444444444,
             "#bd3786"
            ],
            [
             0.5555555555555556,
             "#d8576b"
            ],
            [
             0.6666666666666666,
             "#ed7953"
            ],
            [
             0.7777777777777778,
             "#fb9f3a"
            ],
            [
             0.8888888888888888,
             "#fdca26"
            ],
            [
             1,
             "#f0f921"
            ]
           ]
          },
          "colorway": [
           "#636efa",
           "#EF553B",
           "#00cc96",
           "#ab63fa",
           "#FFA15A",
           "#19d3f3",
           "#FF6692",
           "#B6E880",
           "#FF97FF",
           "#FECB52"
          ],
          "font": {
           "color": "#2a3f5f"
          },
          "geo": {
           "bgcolor": "white",
           "lakecolor": "white",
           "landcolor": "#E5ECF6",
           "showlakes": true,
           "showland": true,
           "subunitcolor": "white"
          },
          "hoverlabel": {
           "align": "left"
          },
          "hovermode": "closest",
          "mapbox": {
           "style": "light"
          },
          "paper_bgcolor": "white",
          "plot_bgcolor": "#E5ECF6",
          "polar": {
           "angularaxis": {
            "gridcolor": "white",
            "linecolor": "white",
            "ticks": ""
           },
           "bgcolor": "#E5ECF6",
           "radialaxis": {
            "gridcolor": "white",
            "linecolor": "white",
            "ticks": ""
           }
          },
          "scene": {
           "xaxis": {
            "backgroundcolor": "#E5ECF6",
            "gridcolor": "white",
            "gridwidth": 2,
            "linecolor": "white",
            "showbackground": true,
            "ticks": "",
            "zerolinecolor": "white"
           },
           "yaxis": {
            "backgroundcolor": "#E5ECF6",
            "gridcolor": "white",
            "gridwidth": 2,
            "linecolor": "white",
            "showbackground": true,
            "ticks": "",
            "zerolinecolor": "white"
           },
           "zaxis": {
            "backgroundcolor": "#E5ECF6",
            "gridcolor": "white",
            "gridwidth": 2,
            "linecolor": "white",
            "showbackground": true,
            "ticks": "",
            "zerolinecolor": "white"
           }
          },
          "shapedefaults": {
           "line": {
            "color": "#2a3f5f"
           }
          },
          "ternary": {
           "aaxis": {
            "gridcolor": "white",
            "linecolor": "white",
            "ticks": ""
           },
           "baxis": {
            "gridcolor": "white",
            "linecolor": "white",
            "ticks": ""
           },
           "bgcolor": "#E5ECF6",
           "caxis": {
            "gridcolor": "white",
            "linecolor": "white",
            "ticks": ""
           }
          },
          "title": {
           "x": 0.05
          },
          "xaxis": {
           "automargin": true,
           "gridcolor": "white",
           "linecolor": "white",
           "ticks": "",
           "title": {
            "standoff": 15
           },
           "zerolinecolor": "white",
           "zerolinewidth": 2
          },
          "yaxis": {
           "automargin": true,
           "gridcolor": "white",
           "linecolor": "white",
           "ticks": "",
           "title": {
            "standoff": 15
           },
           "zerolinecolor": "white",
           "zerolinewidth": 2
          }
         }
        },
        "title": {
         "text": "Распределение долей клиентов по возрастным группам"
        },
        "xaxis": {
         "tickangle": -45,
         "title": {
          "text": "Возрастная группа"
         }
        },
        "yaxis": {
         "title": {
          "text": "Доля возрастной группы"
         }
        }
       }
      },
      "text/html": [
       "<div>                            <div id=\"3af257ec-0037-4ebf-9305-9bbb488727d9\" class=\"plotly-graph-div\" style=\"height:525px; width:100%;\"></div>            <script type=\"text/javascript\">                require([\"plotly\"], function(Plotly) {                    window.PLOTLYENV=window.PLOTLYENV || {};                                    if (document.getElementById(\"3af257ec-0037-4ebf-9305-9bbb488727d9\")) {                    Plotly.newPlot(                        \"3af257ec-0037-4ebf-9305-9bbb488727d9\",                        [{\"marker\": {\"color\": \"#454e3c\"}, \"name\": \"\\u041e\\u0441\\u0442\\u0430\\u0432\\u0448\\u0438\\u0435\\u0441\\u044f \\u043a\\u043b\\u0438\\u0435\\u043d\\u0442\\u044b\", \"type\": \"bar\", \"x\": [\"\\u043c\\u043e\\u043b\\u043e\\u0434\\u044b\\u0435\", \"\\u043f\\u0435\\u043d\\u0441\\u0438\\u043e\\u043d\\u043d\\u044b\\u0439\", \"\\u043f\\u0440\\u0435\\u0434\\u043f\\u0435\\u043d\\u0441\\u0438\\u043e\\u043d\\u043d\\u044b\\u0439\", \"\\u0441\\u0440\\u0435\\u0434\\u043d\\u0438\\u0439 \\u0432\\u043e\\u0437\\u0440\\u0430\\u0441\\u0442\"], \"y\": [22.89, 3.57, 9.2, 64.34]}, {\"marker\": {\"color\": \"#8a9d79\"}, \"name\": \"\\u041e\\u0442\\u0442\\u043e\\u043a\", \"type\": \"bar\", \"x\": [\"\\u043c\\u043e\\u043b\\u043e\\u0434\\u044b\\u0435\", \"\\u043f\\u0435\\u043d\\u0441\\u0438\\u043e\\u043d\\u043d\\u044b\\u0439\", \"\\u043f\\u0440\\u0435\\u0434\\u043f\\u0435\\u043d\\u0441\\u0438\\u043e\\u043d\\u043d\\u044b\\u0439\", \"\\u0441\\u0440\\u0435\\u0434\\u043d\\u0438\\u0439 \\u0432\\u043e\\u0437\\u0440\\u0430\\u0441\\u0442\"], \"y\": [7.31, 3.61, 38.93, 50.15]}],                        {\"barmode\": \"group\", \"hovermode\": \"x\", \"template\": {\"data\": {\"bar\": [{\"error_x\": {\"color\": \"#2a3f5f\"}, \"error_y\": {\"color\": \"#2a3f5f\"}, \"marker\": {\"line\": {\"color\": \"#E5ECF6\", \"width\": 0.5}}, \"type\": \"bar\"}], \"barpolar\": [{\"marker\": {\"line\": {\"color\": \"#E5ECF6\", \"width\": 0.5}}, \"type\": \"barpolar\"}], \"carpet\": [{\"aaxis\": {\"endlinecolor\": \"#2a3f5f\", \"gridcolor\": \"white\", \"linecolor\": \"white\", \"minorgridcolor\": \"white\", \"startlinecolor\": \"#2a3f5f\"}, \"baxis\": {\"endlinecolor\": \"#2a3f5f\", \"gridcolor\": \"white\", \"linecolor\": \"white\", \"minorgridcolor\": \"white\", \"startlinecolor\": \"#2a3f5f\"}, \"type\": \"carpet\"}], \"choropleth\": [{\"colorbar\": {\"outlinewidth\": 0, \"ticks\": \"\"}, \"type\": \"choropleth\"}], \"contour\": [{\"colorbar\": {\"outlinewidth\": 0, \"ticks\": \"\"}, \"colorscale\": [[0.0, \"#0d0887\"], [0.1111111111111111, \"#46039f\"], [0.2222222222222222, \"#7201a8\"], [0.3333333333333333, \"#9c179e\"], [0.4444444444444444, \"#bd3786\"], [0.5555555555555556, \"#d8576b\"], [0.6666666666666666, \"#ed7953\"], [0.7777777777777778, \"#fb9f3a\"], [0.8888888888888888, \"#fdca26\"], [1.0, \"#f0f921\"]], \"type\": \"contour\"}], \"contourcarpet\": [{\"colorbar\": {\"outlinewidth\": 0, \"ticks\": \"\"}, \"type\": \"contourcarpet\"}], \"heatmap\": [{\"colorbar\": {\"outlinewidth\": 0, \"ticks\": \"\"}, \"colorscale\": [[0.0, \"#0d0887\"], [0.1111111111111111, \"#46039f\"], [0.2222222222222222, \"#7201a8\"], [0.3333333333333333, \"#9c179e\"], [0.4444444444444444, \"#bd3786\"], [0.5555555555555556, \"#d8576b\"], [0.6666666666666666, \"#ed7953\"], [0.7777777777777778, \"#fb9f3a\"], [0.8888888888888888, \"#fdca26\"], [1.0, \"#f0f921\"]], \"type\": \"heatmap\"}], \"heatmapgl\": [{\"colorbar\": {\"outlinewidth\": 0, \"ticks\": \"\"}, \"colorscale\": [[0.0, \"#0d0887\"], [0.1111111111111111, \"#46039f\"], [0.2222222222222222, \"#7201a8\"], [0.3333333333333333, \"#9c179e\"], [0.4444444444444444, \"#bd3786\"], [0.5555555555555556, \"#d8576b\"], [0.6666666666666666, \"#ed7953\"], [0.7777777777777778, \"#fb9f3a\"], [0.8888888888888888, \"#fdca26\"], [1.0, \"#f0f921\"]], \"type\": \"heatmapgl\"}], \"histogram\": [{\"marker\": {\"colorbar\": {\"outlinewidth\": 0, \"ticks\": \"\"}}, \"type\": \"histogram\"}], \"histogram2d\": [{\"colorbar\": {\"outlinewidth\": 0, \"ticks\": \"\"}, \"colorscale\": [[0.0, \"#0d0887\"], [0.1111111111111111, \"#46039f\"], [0.2222222222222222, \"#7201a8\"], [0.3333333333333333, \"#9c179e\"], [0.4444444444444444, \"#bd3786\"], [0.5555555555555556, \"#d8576b\"], [0.6666666666666666, \"#ed7953\"], [0.7777777777777778, \"#fb9f3a\"], [0.8888888888888888, \"#fdca26\"], [1.0, \"#f0f921\"]], \"type\": \"histogram2d\"}], \"histogram2dcontour\": [{\"colorbar\": {\"outlinewidth\": 0, \"ticks\": \"\"}, \"colorscale\": [[0.0, \"#0d0887\"], [0.1111111111111111, \"#46039f\"], [0.2222222222222222, \"#7201a8\"], [0.3333333333333333, \"#9c179e\"], [0.4444444444444444, \"#bd3786\"], [0.5555555555555556, \"#d8576b\"], [0.6666666666666666, \"#ed7953\"], [0.7777777777777778, \"#fb9f3a\"], [0.8888888888888888, \"#fdca26\"], [1.0, \"#f0f921\"]], \"type\": \"histogram2dcontour\"}], \"mesh3d\": [{\"colorbar\": {\"outlinewidth\": 0, \"ticks\": \"\"}, \"type\": \"mesh3d\"}], \"parcoords\": [{\"line\": {\"colorbar\": {\"outlinewidth\": 0, \"ticks\": \"\"}}, \"type\": \"parcoords\"}], \"pie\": [{\"automargin\": true, \"type\": \"pie\"}], \"scatter\": [{\"marker\": {\"colorbar\": {\"outlinewidth\": 0, \"ticks\": \"\"}}, \"type\": \"scatter\"}], \"scatter3d\": [{\"line\": {\"colorbar\": {\"outlinewidth\": 0, \"ticks\": \"\"}}, \"marker\": {\"colorbar\": {\"outlinewidth\": 0, \"ticks\": \"\"}}, \"type\": \"scatter3d\"}], \"scattercarpet\": [{\"marker\": {\"colorbar\": {\"outlinewidth\": 0, \"ticks\": \"\"}}, \"type\": \"scattercarpet\"}], \"scattergeo\": [{\"marker\": {\"colorbar\": {\"outlinewidth\": 0, \"ticks\": \"\"}}, \"type\": \"scattergeo\"}], \"scattergl\": [{\"marker\": {\"colorbar\": {\"outlinewidth\": 0, \"ticks\": \"\"}}, \"type\": \"scattergl\"}], \"scattermapbox\": [{\"marker\": {\"colorbar\": {\"outlinewidth\": 0, \"ticks\": \"\"}}, \"type\": \"scattermapbox\"}], \"scatterpolar\": [{\"marker\": {\"colorbar\": {\"outlinewidth\": 0, \"ticks\": \"\"}}, \"type\": \"scatterpolar\"}], \"scatterpolargl\": [{\"marker\": {\"colorbar\": {\"outlinewidth\": 0, \"ticks\": \"\"}}, \"type\": \"scatterpolargl\"}], \"scatterternary\": [{\"marker\": {\"colorbar\": {\"outlinewidth\": 0, \"ticks\": \"\"}}, \"type\": \"scatterternary\"}], \"surface\": [{\"colorbar\": {\"outlinewidth\": 0, \"ticks\": \"\"}, \"colorscale\": [[0.0, \"#0d0887\"], [0.1111111111111111, \"#46039f\"], [0.2222222222222222, \"#7201a8\"], [0.3333333333333333, \"#9c179e\"], [0.4444444444444444, \"#bd3786\"], [0.5555555555555556, \"#d8576b\"], [0.6666666666666666, \"#ed7953\"], [0.7777777777777778, \"#fb9f3a\"], [0.8888888888888888, \"#fdca26\"], [1.0, \"#f0f921\"]], \"type\": \"surface\"}], \"table\": [{\"cells\": {\"fill\": {\"color\": \"#EBF0F8\"}, \"line\": {\"color\": \"white\"}}, \"header\": {\"fill\": {\"color\": \"#C8D4E3\"}, \"line\": {\"color\": \"white\"}}, \"type\": \"table\"}]}, \"layout\": {\"annotationdefaults\": {\"arrowcolor\": \"#2a3f5f\", \"arrowhead\": 0, \"arrowwidth\": 1}, \"coloraxis\": {\"colorbar\": {\"outlinewidth\": 0, \"ticks\": \"\"}}, \"colorscale\": {\"diverging\": [[0, \"#8e0152\"], [0.1, \"#c51b7d\"], [0.2, \"#de77ae\"], [0.3, \"#f1b6da\"], [0.4, \"#fde0ef\"], [0.5, \"#f7f7f7\"], [0.6, \"#e6f5d0\"], [0.7, \"#b8e186\"], [0.8, \"#7fbc41\"], [0.9, \"#4d9221\"], [1, \"#276419\"]], \"sequential\": [[0.0, \"#0d0887\"], [0.1111111111111111, \"#46039f\"], [0.2222222222222222, \"#7201a8\"], [0.3333333333333333, \"#9c179e\"], [0.4444444444444444, \"#bd3786\"], [0.5555555555555556, \"#d8576b\"], [0.6666666666666666, \"#ed7953\"], [0.7777777777777778, \"#fb9f3a\"], [0.8888888888888888, \"#fdca26\"], [1.0, \"#f0f921\"]], \"sequentialminus\": [[0.0, \"#0d0887\"], [0.1111111111111111, \"#46039f\"], [0.2222222222222222, \"#7201a8\"], [0.3333333333333333, \"#9c179e\"], [0.4444444444444444, \"#bd3786\"], [0.5555555555555556, \"#d8576b\"], [0.6666666666666666, \"#ed7953\"], [0.7777777777777778, \"#fb9f3a\"], [0.8888888888888888, \"#fdca26\"], [1.0, \"#f0f921\"]]}, \"colorway\": [\"#636efa\", \"#EF553B\", \"#00cc96\", \"#ab63fa\", \"#FFA15A\", \"#19d3f3\", \"#FF6692\", \"#B6E880\", \"#FF97FF\", \"#FECB52\"], \"font\": {\"color\": \"#2a3f5f\"}, \"geo\": {\"bgcolor\": \"white\", \"lakecolor\": \"white\", \"landcolor\": \"#E5ECF6\", \"showlakes\": true, \"showland\": true, \"subunitcolor\": \"white\"}, \"hoverlabel\": {\"align\": \"left\"}, \"hovermode\": \"closest\", \"mapbox\": {\"style\": \"light\"}, \"paper_bgcolor\": \"white\", \"plot_bgcolor\": \"#E5ECF6\", \"polar\": {\"angularaxis\": {\"gridcolor\": \"white\", \"linecolor\": \"white\", \"ticks\": \"\"}, \"bgcolor\": \"#E5ECF6\", \"radialaxis\": {\"gridcolor\": \"white\", \"linecolor\": \"white\", \"ticks\": \"\"}}, \"scene\": {\"xaxis\": {\"backgroundcolor\": \"#E5ECF6\", \"gridcolor\": \"white\", \"gridwidth\": 2, \"linecolor\": \"white\", \"showbackground\": true, \"ticks\": \"\", \"zerolinecolor\": \"white\"}, \"yaxis\": {\"backgroundcolor\": \"#E5ECF6\", \"gridcolor\": \"white\", \"gridwidth\": 2, \"linecolor\": \"white\", \"showbackground\": true, \"ticks\": \"\", \"zerolinecolor\": \"white\"}, \"zaxis\": {\"backgroundcolor\": \"#E5ECF6\", \"gridcolor\": \"white\", \"gridwidth\": 2, \"linecolor\": \"white\", \"showbackground\": true, \"ticks\": \"\", \"zerolinecolor\": \"white\"}}, \"shapedefaults\": {\"line\": {\"color\": \"#2a3f5f\"}}, \"ternary\": {\"aaxis\": {\"gridcolor\": \"white\", \"linecolor\": \"white\", \"ticks\": \"\"}, \"baxis\": {\"gridcolor\": \"white\", \"linecolor\": \"white\", \"ticks\": \"\"}, \"bgcolor\": \"#E5ECF6\", \"caxis\": {\"gridcolor\": \"white\", \"linecolor\": \"white\", \"ticks\": \"\"}}, \"title\": {\"x\": 0.05}, \"xaxis\": {\"automargin\": true, \"gridcolor\": \"white\", \"linecolor\": \"white\", \"ticks\": \"\", \"title\": {\"standoff\": 15}, \"zerolinecolor\": \"white\", \"zerolinewidth\": 2}, \"yaxis\": {\"automargin\": true, \"gridcolor\": \"white\", \"linecolor\": \"white\", \"ticks\": \"\", \"title\": {\"standoff\": 15}, \"zerolinecolor\": \"white\", \"zerolinewidth\": 2}}}, \"title\": {\"text\": \"\\u0420\\u0430\\u0441\\u043f\\u0440\\u0435\\u0434\\u0435\\u043b\\u0435\\u043d\\u0438\\u0435 \\u0434\\u043e\\u043b\\u0435\\u0439 \\u043a\\u043b\\u0438\\u0435\\u043d\\u0442\\u043e\\u0432 \\u043f\\u043e \\u0432\\u043e\\u0437\\u0440\\u0430\\u0441\\u0442\\u043d\\u044b\\u043c \\u0433\\u0440\\u0443\\u043f\\u043f\\u0430\\u043c\"}, \"xaxis\": {\"tickangle\": -45, \"title\": {\"text\": \"\\u0412\\u043e\\u0437\\u0440\\u0430\\u0441\\u0442\\u043d\\u0430\\u044f \\u0433\\u0440\\u0443\\u043f\\u043f\\u0430\"}}, \"yaxis\": {\"title\": {\"text\": \"\\u0414\\u043e\\u043b\\u044f \\u0432\\u043e\\u0437\\u0440\\u0430\\u0441\\u0442\\u043d\\u043e\\u0439 \\u0433\\u0440\\u0443\\u043f\\u043f\\u044b\"}}},                        {\"responsive\": true}                    ).then(function(){\n",
       "                            \n",
       "var gd = document.getElementById('3af257ec-0037-4ebf-9305-9bbb488727d9');\n",
       "var x = new MutationObserver(function (mutations, observer) {{\n",
       "        var display = window.getComputedStyle(gd).display;\n",
       "        if (!display || display === 'none') {{\n",
       "            console.log([gd, 'removed!']);\n",
       "            Plotly.purge(gd);\n",
       "            observer.disconnect();\n",
       "        }}\n",
       "}});\n",
       "\n",
       "// Listen for the removal of the full notebook cells\n",
       "var notebookContainer = gd.closest('#notebook-container');\n",
       "if (notebookContainer) {{\n",
       "    x.observe(notebookContainer, {childList: true});\n",
       "}}\n",
       "\n",
       "// Listen for the clearing of the current output cell\n",
       "var outputEl = gd.closest('.output');\n",
       "if (outputEl) {{\n",
       "    x.observe(outputEl, {childList: true});\n",
       "}}\n",
       "\n",
       "                        })                };                });            </script>        </div>"
      ]
     },
     "metadata": {},
     "output_type": "display_data"
    }
   ],
   "source": [
    "\n",
    "fig = go.Figure()\n",
    "fig.add_trace(go.Bar(\n",
    "    x=dataset_age_category.age_category,\n",
    "    y=dataset_age_category.ratio_churn_0,\n",
    "    name='Оставшиеся клиенты',\n",
    "    marker_color='#454e3c'    \n",
    "))\n",
    "fig.add_trace(go.Bar(\n",
    "    x=dataset_age_category.age_category,\n",
    "    y=dataset_age_category.ratio_churn_1,\n",
    "    name='Отток',\n",
    "    marker_color='#8a9d79'\n",
    "))\n",
    "\n",
    "\n",
    "fig.update_layout(barmode='group', xaxis_tickangle=-45, title='Распределение долей клиентов по возрастным группам', xaxis_title='Возрастная группа',\n",
    "                 yaxis_title='Доля возрастной группы', hovermode=\"x\")\n",
    "fig.show()"
   ]
  },
  {
   "cell_type": "markdown",
   "metadata": {},
   "source": [
    "Для людей младшей возрастной группы от 18 до 30 в общем количесве ушедших клиентов довольно мала 7,31, т.е. они мало склонны к оттоку, а вот люди в категории, которую мы назвали предпенсионной от 47 до 62 очень склонны к оттоку, в общем количестве их 38,92%, при этом это активно работающие люди, вероятно имеющие хороший доход. Стоит обратить внимание на данную категорию."
   ]
  },
  {
   "cell_type": "markdown",
   "metadata": {},
   "source": [
    "Посмотрим на среднее значение по всем показателям в разрезе наличия/отсуствия оттока"
   ]
  },
  {
   "cell_type": "code",
   "execution_count": 32,
   "metadata": {},
   "outputs": [
    {
     "data": {
      "text/html": [
       "<div>\n",
       "<style scoped>\n",
       "    .dataframe tbody tr th:only-of-type {\n",
       "        vertical-align: middle;\n",
       "    }\n",
       "\n",
       "    .dataframe tbody tr th {\n",
       "        vertical-align: top;\n",
       "    }\n",
       "\n",
       "    .dataframe thead th {\n",
       "        text-align: right;\n",
       "    }\n",
       "</style>\n",
       "<table border=\"1\" class=\"dataframe\">\n",
       "  <thead>\n",
       "    <tr style=\"text-align: right;\">\n",
       "      <th></th>\n",
       "      <th>churn</th>\n",
       "      <th>user_id</th>\n",
       "      <th>score</th>\n",
       "      <th>age</th>\n",
       "      <th>objects</th>\n",
       "      <th>balance</th>\n",
       "      <th>products</th>\n",
       "      <th>credit_card</th>\n",
       "      <th>loyalty</th>\n",
       "      <th>estimated_salary</th>\n",
       "    </tr>\n",
       "  </thead>\n",
       "  <tbody>\n",
       "    <tr>\n",
       "      <th>0</th>\n",
       "      <td>0</td>\n",
       "      <td>1.573391e+07</td>\n",
       "      <td>651.816597</td>\n",
       "      <td>37.396868</td>\n",
       "      <td>5.031957</td>\n",
       "      <td>119676.201745</td>\n",
       "      <td>1.544272</td>\n",
       "      <td>0.706960</td>\n",
       "      <td>0.553871</td>\n",
       "      <td>100314.505320</td>\n",
       "    </tr>\n",
       "    <tr>\n",
       "      <th>1</th>\n",
       "      <td>1</td>\n",
       "      <td>1.573287e+07</td>\n",
       "      <td>645.363636</td>\n",
       "      <td>44.840415</td>\n",
       "      <td>4.922925</td>\n",
       "      <td>120515.677507</td>\n",
       "      <td>1.476779</td>\n",
       "      <td>0.700099</td>\n",
       "      <td>0.360672</td>\n",
       "      <td>102114.193345</td>\n",
       "    </tr>\n",
       "  </tbody>\n",
       "</table>\n",
       "</div>"
      ],
      "text/plain": [
       "   churn       user_id       score        age   objects        balance  \\\n",
       "0      0  1.573391e+07  651.816597  37.396868  5.031957  119676.201745   \n",
       "1      1  1.573287e+07  645.363636  44.840415  4.922925  120515.677507   \n",
       "\n",
       "   products  credit_card   loyalty  estimated_salary  \n",
       "0  1.544272     0.706960  0.553871     100314.505320  \n",
       "1  1.476779     0.700099  0.360672     102114.193345  "
      ]
     },
     "execution_count": 32,
     "metadata": {},
     "output_type": "execute_result"
    }
   ],
   "source": [
    "сhurn_group = dataset_filt.groupby('churn').mean().reset_index()\n",
    "сhurn_group"
   ]
  },
  {
   "cell_type": "markdown",
   "metadata": {},
   "source": [
    "Видим что в данных группах по некоторым показателям среднее отличается, к примеру в группе клиентов, которые остались и не ушли в отток, больше скоринговый рейтинг, больше показатель лояльности и количесто используемых продуктов. \n",
    "\n",
    "Рассмотрим показатели подробнее на графиках распределения, для этих двух групп клиентов по количественным признакам. Сформируем два среза, для тех кто ушел в отток и тех кто остался клиентом."
   ]
  },
  {
   "cell_type": "code",
   "execution_count": 33,
   "metadata": {},
   "outputs": [],
   "source": [
    "churn_group_0 = dataset_filt.query('churn == 0')#срез, содержащий клиентов не ушедших в отток\n",
    "churn_group_1 = dataset_filt.query('churn == 1')#срез, содержащий клиентов ушедших в отток"
   ]
  },
  {
   "cell_type": "code",
   "execution_count": 34,
   "metadata": {},
   "outputs": [],
   "source": [
    "distplot_col = list(set(['score', 'age', 'objects', 'balance', 'products', 'estimated_salary'])) "
   ]
  },
  {
   "cell_type": "code",
   "execution_count": 35,
   "metadata": {},
   "outputs": [
    {
     "data": {
      "image/png": "[encoded data removed]",
      "text/plain": [
       "<Figure size 720x288 with 1 Axes>"
      ]
     },
     "metadata": {
      "needs_background": "light"
     },
     "output_type": "display_data"
    },
    {
     "data": {
      "image/png": "[encoded data removed]",
      "text/plain": [
       "<Figure size 720x288 with 1 Axes>"
      ]
     },
     "metadata": {
      "needs_background": "light"
     },
     "output_type": "display_data"
    },
    {
     "data": {
      "image/png": "[encoded data removed]",
      "text/plain": [
       "<Figure size 720x288 with 1 Axes>"
      ]
     },
     "metadata": {
      "needs_background": "light"
     },
     "output_type": "display_data"
    },
    {
     "data": {
      "image/png": "[encoded data removed]",
      "text/plain": [
       "<Figure size 720x288 with 1 Axes>"
      ]
     },
     "metadata": {
      "needs_background": "light"
     },
     "output_type": "display_data"
    },
    {
     "data": {
      "image/png": "[encoded data removed]",
      "text/plain": [
       "<Figure size 720x288 with 1 Axes>"
      ]
     },
     "metadata": {
      "needs_background": "light"
     },
     "output_type": "display_data"
    },
    {
     "data": {
      "image/png": "[encoded data removed]",
      "text/plain": [
       "<Figure size 720x288 with 1 Axes>"
      ]
     },
     "metadata": {
      "needs_background": "light"
     },
     "output_type": "display_data"
    }
   ],
   "source": [
    "for column in distplot_col: \n",
    "    plt.figure(figsize=(10,4)) \n",
    "    plt.title(column)\n",
    "    sns.distplot(churn_group_0[column])\n",
    "    sns.distplot(churn_group_1[column])\n",
    "    plt.legend(['Оставшиеся клиенты', 'Отток'])\n",
    "    plt.grid()\n",
    "    plt.show()"
   ]
  },
  {
   "cell_type": "markdown",
   "metadata": {},
   "source": [
    "### 3.2 Определение портрета клиента в оттоке"
   ]
  },
  {
   "cell_type": "markdown",
   "metadata": {},
   "source": [
    "График распределения скоринга по клиентам, которые не ушли в отток смещен вправо, можно сказать что они обладают более высоким скорингом, чем те, которые уходят\n",
    "\n",
    "Клиенты в оттоке обычно имеют 1 продукт в банке, а оставшиется клиенты обычно используют 2 продукта. Интересен факт, что клиенты у которых 4 продукта все до одного ушли в отток, их доля в общем количестве невелика, но это наводит на мысль, что могут быть какие-то проблемы управления большим количесвом продуктов в личном кабинете к примеру. \n",
    "\n",
    "Распределение количества объектов недвижимости у клиентов  обоих групп примерно одинаково.\n",
    "\n",
    "А по остатку на счете, клиенты с большими остатками также уходят в отток, клиенты в оттоке имеют остаток чаще всего около 120 000.\n",
    "\n",
    "По доходу, также в отток больше склонны уходить люди с доходом средним в данной группе около 100 000.\n",
    "\n",
    "А вот по возрасту хорошо видно смещение в сторону более возрастных людей уходящих в отток - это 40-50 лет, клиенты которые не уходят в отток имеют возраст как правило около 37"
   ]
  },
  {
   "cell_type": "markdown",
   "metadata": {},
   "source": [
    "Построим столбчатые графики по оставшимся признакам: gender, credit_card, loyalty, churn"
   ]
  },
  {
   "cell_type": "markdown",
   "metadata": {},
   "source": [
    "По данным признакам можем сказать:\n",
    " - доля женщин ушедших в отток больше доли мужчин\n",
    " - две трети людей ушедщих в отток имели кредитную карту, и даже это их не удержало\n",
    " - две трети людей ушедщих в отток не имели показатель лояльности\n",
    " - реже всего в отток уходили люди из Рыбинска и чаще из Ростова\n",
    " - чаще всего решение об уходе из банка принимают люди в возрасте от 30 до 45"
   ]
  },
  {
   "cell_type": "code",
   "execution_count": 36,
   "metadata": {},
   "outputs": [
    {
     "data": {
      "image/png": "[encoded data removed]",
      "text/plain": [
       "<Figure size 504x2160 with 5 Axes>"
      ]
     },
     "metadata": {
      "needs_background": "light"
     },
     "output_type": "display_data"
    }
   ],
   "source": [
    "_, axes = plt.subplots(5,1, sharey=True, figsize=(7,30))\n",
    "sns.countplot(x='gender', hue='churn', data=dataset_filt, ax=axes[0], palette='Greens_r');\n",
    "sns.countplot(x='credit_card', hue='churn', data=dataset_filt, ax=axes[1], palette='Greens_r');\n",
    "sns.countplot(x='loyalty', hue='churn', data=dataset_filt, ax=axes[2], palette='Greens_r');\n",
    "sns.countplot(x='сity', hue='churn', data=dataset_filt, ax=axes[3], palette='Greens_r');\n",
    "sns.countplot(x='age_category', hue='churn', data=dataset_filt, ax=axes[4], palette='Greens_r');\n",
    "\n",
    "   "
   ]
  },
  {
   "cell_type": "markdown",
   "metadata": {},
   "source": [
    "# Вывод"
   ]
  },
  {
   "cell_type": "markdown",
   "metadata": {},
   "source": [
    "Выделим портрет клиента который ушел в отток:\n",
    "    - клиент в возрасте от 40 до 60 лет, чаще женщина\n",
    "    - проживающий в Ростове либо Ярославле\n",
    "    - не лояльный к банку\n",
    "    - имеющий 1 продукт и чаще всего это кредитная карта\n",
    "    - клиент имеет высокий скоринговый рейтинг, больше 620\n",
    "    - баланс счета за последний месяц около 120000\n",
    "    - доход около 100000\n",
    "    \n",
    "Есть также категория клиентов, которые не ушли в отток, но склонны к этому, и стоит на них обратить внимание, это:\n",
    "    - клиенты со скоринговым рейтингом выше 600\n",
    "    - имеющие 1 продукта\n",
    "    - со средним за последний месяц балансом от 110000 до 130000\n",
    "    - в возрасте от 30 до 40 лет\n",
    "    - не лояльные к банку и проживающие в городах Ростов Великий и Ярославль\n",
    "    "
   ]
  },
  {
   "cell_type": "markdown",
   "metadata": {},
   "source": [
    "## 4. Проверка гипотез <a id=\"hipotesys\"> </a>"
   ]
  },
  {
   "cell_type": "markdown",
   "metadata": {},
   "source": [
    "### 4.1 Проверка гипотезы различия дохода между теми клиентами, которые ушли и теми, которые остались."
   ]
  },
  {
   "cell_type": "markdown",
   "metadata": {},
   "source": [
    "Посмотрим среднее, дисперсию, стандартное отклонение для значения дохода по двум выборкам - ушедших и оставшихся клиентов"
   ]
  },
  {
   "cell_type": "code",
   "execution_count": 37,
   "metadata": {},
   "outputs": [
    {
     "data": {
      "text/plain": [
       "count      7917.000000\n",
       "mean     100314.505320\n",
       "std       57070.898125\n",
       "min        1002.390000\n",
       "25%       51672.080000\n",
       "50%      100187.430000\n",
       "75%      148887.690000\n",
       "max      199992.480000\n",
       "Name: estimated_salary, dtype: float64"
      ]
     },
     "execution_count": 37,
     "metadata": {},
     "output_type": "execute_result"
    }
   ],
   "source": [
    "churn_group_0['estimated_salary'].describe()"
   ]
  },
  {
   "cell_type": "code",
   "execution_count": 38,
   "metadata": {},
   "outputs": [
    {
     "data": {
      "text/plain": [
       "count      2024.000000\n",
       "mean     102114.193345\n",
       "std       57527.964158\n",
       "min        1112.760000\n",
       "25%       52786.625000\n",
       "50%      102808.120000\n",
       "75%      152548.355000\n",
       "max      199808.100000\n",
       "Name: estimated_salary, dtype: float64"
      ]
     },
     "execution_count": 38,
     "metadata": {},
     "output_type": "execute_result"
    }
   ],
   "source": [
    "churn_group_1['estimated_salary'].describe()"
   ]
  },
  {
   "cell_type": "code",
   "execution_count": 39,
   "metadata": {},
   "outputs": [
    {
     "name": "stdout",
     "output_type": "stream",
     "text": [
      "дисперсия дохода оставшихся клиентов  3256676008.5327616\n"
     ]
    }
   ],
   "source": [
    "variance_salary_0 = np.var(churn_group_0['estimated_salary'])\n",
    "print('дисперсия дохода оставшихся клиентов ', variance_salary_0)"
   ]
  },
  {
   "cell_type": "code",
   "execution_count": 40,
   "metadata": {},
   "outputs": [
    {
     "name": "stdout",
     "output_type": "stream",
     "text": [
      "дисперсия дохода оставшихся клиентов  3307831548.1468954\n"
     ]
    }
   ],
   "source": [
    "variance_salary_1 = np.var(churn_group_1['estimated_salary'])\n",
    "print('дисперсия дохода оставшихся клиентов ', variance_salary_1)"
   ]
  },
  {
   "cell_type": "markdown",
   "metadata": {},
   "source": [
    "В группе, клиентов, которые остались, сренднее значение дохода 100 314, при этом каждое значение в среднем отклоняется на 57000, довольно большое стандартное отклонение, у клиентов ушедщих в отток значение среднего дохода почти такое же и составляет 102114 рублей, со стандартным отклоненем в 57527. У клиентов в оттоке совсем незначительно больше средний доход, является ли эта разница статистически значимой необходимо проверить."
   ]
  },
  {
   "cell_type": "markdown",
   "metadata": {},
   "source": [
    "Сформируем нулевую и альтернативную гипотезы:\n",
    "\n",
    "    H0 - средние доходы клиентов оставшихся и ушедших в отток равны \n",
    "    H1 - средние доходы клиентов оставшихся и ушедших в отток различаются"
   ]
  },
  {
   "cell_type": "code",
   "execution_count": 41,
   "metadata": {},
   "outputs": [],
   "source": [
    "churn_salary_0 = churn_group_0['estimated_salary']\n",
    "churn_salary_1 = churn_group_1['estimated_salary']"
   ]
  },
  {
   "cell_type": "code",
   "execution_count": 42,
   "metadata": {},
   "outputs": [
    {
     "name": "stdout",
     "output_type": "stream",
     "text": [
      "дисперсия для выборки по оставшимся клиентам 3256676008.5327616\n"
     ]
    }
   ],
   "source": [
    "variance_churn_salary_0 = np.var(churn_salary_0)\n",
    "print('дисперсия для выборки по оставшимся клиентам', variance_churn_salary_0)"
   ]
  },
  {
   "cell_type": "code",
   "execution_count": 43,
   "metadata": {},
   "outputs": [
    {
     "name": "stdout",
     "output_type": "stream",
     "text": [
      "дисперсия для выборки по клиентам в оттоке 3307831548.1468954\n"
     ]
    }
   ],
   "source": [
    "variance_churn_salary_1 = np.var(churn_salary_1)\n",
    "print('дисперсия для выборки по клиентам в оттоке', variance_churn_salary_1)"
   ]
  },
  {
   "cell_type": "markdown",
   "metadata": {},
   "source": [
    "Дисперсии не сильно отличаются, при сильном различии дисперии необходимо использовать параметр equal_var False, при использовании теста Стьюдента"
   ]
  },
  {
   "cell_type": "markdown",
   "metadata": {},
   "source": [
    "Напишем функцию, которая проверит выборки критерием Шапиро на нормальность распределения, и в зависимости от этого проведет проверку гипотезы тестом Стьюдента при нормальном распределении, либо тестом Манна-Уитни при ненормальмальном распределении:"
   ]
  },
  {
   "cell_type": "code",
   "execution_count": 44,
   "metadata": {},
   "outputs": [],
   "source": [
    "alpha = 0.05 # критический уровень статистической значимости"
   ]
  },
  {
   "cell_type": "code",
   "execution_count": 45,
   "metadata": {},
   "outputs": [],
   "source": [
    "alpha = 0.05\n",
    "def test(arr1, arr2):\n",
    "    if st.shapiro(arr1)[1] > 0.05 and st.shapiro(arr2)[1] > 0.05:\n",
    "        results = st.ttest_ind(arr1, arr2)\n",
    "    else:\n",
    "        results = st.mannwhitneyu(arr1, arr2)\n",
    "    print('p-значение:', results.pvalue)\n",
    "    if (results.pvalue < alpha):\n",
    "        return(\"Средние показатели клиентов обоих групп не равны, так как значение стат значимости меньше критического уровня стат  значимости, и мы смогли опровергнуть нулевую гипотезу.\")\n",
    "    else:\n",
    "        return(\"Средние показатели клиентов обоих групп равны, так как значение стат значимости больше критического уровня стат  значимости, и мы НЕ смогли опровергнуть нулевую гипотезу.\")"
   ]
  },
  {
   "cell_type": "code",
   "execution_count": 46,
   "metadata": {},
   "outputs": [
    {
     "name": "stdout",
     "output_type": "stream",
     "text": [
      "p-значение: 0.1034626302465117\n"
     ]
    },
    {
     "name": "stderr",
     "output_type": "stream",
     "text": [
      "C:\\Users\\Urka\\anaconda3\\lib\\site-packages\\scipy\\stats\\morestats.py:1681: UserWarning:\n",
      "\n",
      "p-value may not be accurate for N > 5000.\n",
      "\n"
     ]
    },
    {
     "data": {
      "text/plain": [
       "'Средние показатели клиентов обоих групп равны, так как значение стат значимости больше критического уровня стат  значимости, и мы НЕ смогли опровергнуть нулевую гипотезу.'"
      ]
     },
     "execution_count": 46,
     "metadata": {},
     "output_type": "execute_result"
    }
   ],
   "source": [
    "test(churn_salary_0, churn_salary_1)"
   ]
  },
  {
   "cell_type": "markdown",
   "metadata": {},
   "source": [
    "Проверка гипотезы показала отсутствие статистически значимой разницы между средними значениями дохода групп оставшихся клиентов и клиентов в оттоке."
   ]
  },
  {
   "cell_type": "markdown",
   "metadata": {},
   "source": [
    "### 4.2 Проверка гипотезы различия скорингового рейтинга между теми клиентами, которые ушли и теми, которые остались."
   ]
  },
  {
   "cell_type": "markdown",
   "metadata": {},
   "source": [
    "Посмотрим среднее, дисперсию, стандартное отклонение скорингового рейтинга - ушедших и оставшихся клиентов"
   ]
  },
  {
   "cell_type": "code",
   "execution_count": 47,
   "metadata": {},
   "outputs": [
    {
     "data": {
      "text/plain": [
       "count    7917.000000\n",
       "mean      651.816597\n",
       "std        95.618000\n",
       "min       405.000000\n",
       "25%       585.000000\n",
       "50%       653.000000\n",
       "75%       718.000000\n",
       "max       850.000000\n",
       "Name: score, dtype: float64"
      ]
     },
     "execution_count": 47,
     "metadata": {},
     "output_type": "execute_result"
    }
   ],
   "source": [
    "churn_group_0['score'].describe()"
   ]
  },
  {
   "cell_type": "code",
   "execution_count": 48,
   "metadata": {},
   "outputs": [
    {
     "data": {
      "text/plain": [
       "count    2024.000000\n",
       "mean      645.363636\n",
       "std       100.340819\n",
       "min       350.000000\n",
       "25%       578.000000\n",
       "50%       646.000000\n",
       "75%       716.250000\n",
       "max       850.000000\n",
       "Name: score, dtype: float64"
      ]
     },
     "execution_count": 48,
     "metadata": {},
     "output_type": "execute_result"
    }
   ],
   "source": [
    "churn_group_1['score'].describe()"
   ]
  },
  {
   "cell_type": "markdown",
   "metadata": {},
   "source": [
    "В группе, клиентов, которые остались, среднее значение скоринга 651,81 при этом каждое значение в среднем отклоняется на 95, у клиентов ушедщих в отток значение скоринга почти такое же и составляет 645, со стандартным отклоненем в 100. Является ли эта разница статистически значимой необходимо проверить. Дисперсии выборок отличаются незначительно, поэтому используем параметр equal_var со значением True"
   ]
  },
  {
   "cell_type": "markdown",
   "metadata": {},
   "source": [
    "Сформируем нулевую и альтернативную гипотезы:\n",
    "\n",
    "    H0 - средний скоринговый рейтинг клиентов оставшихся и ушедших в отток равны \n",
    "    H1 - средний скоринговый рейтинг клиентов оставшихся и ушедших в отток различаются"
   ]
  },
  {
   "cell_type": "code",
   "execution_count": 49,
   "metadata": {},
   "outputs": [],
   "source": [
    "churn_score_0 = churn_group_0['score']\n",
    "churn_score_1 = churn_group_1['score']"
   ]
  },
  {
   "cell_type": "markdown",
   "metadata": {},
   "source": [
    "Проверим сильно ли различаются дисперсии выборок"
   ]
  },
  {
   "cell_type": "code",
   "execution_count": 50,
   "metadata": {},
   "outputs": [
    {
     "name": "stdout",
     "output_type": "stream",
     "text": [
      "дисперсия скоринга для выборки по оставшимся клиентам 9141.647050540372\n"
     ]
    }
   ],
   "source": [
    "variance_churn_score_0 = np.var(churn_score_0)\n",
    "print('дисперсия скоринга для выборки по оставшимся клиентам', variance_churn_score_0)"
   ]
  },
  {
   "cell_type": "code",
   "execution_count": 51,
   "metadata": {},
   "outputs": [
    {
     "name": "stdout",
     "output_type": "stream",
     "text": [
      "дисперсия скоринга для выборки по ушедшим клиентам 10063.3055156306\n"
     ]
    }
   ],
   "source": [
    "variance_churn_score_1 = np.var(churn_score_1)\n",
    "print('дисперсия скоринга для выборки по ушедшим клиентам', variance_churn_score_1)"
   ]
  },
  {
   "cell_type": "markdown",
   "metadata": {},
   "source": [
    "Дисперсии выборок примерно равны, вызовем функцию для проверки нормальности распределения и проверки гипотезы различия скоринговых рейтингов "
   ]
  },
  {
   "cell_type": "code",
   "execution_count": 52,
   "metadata": {},
   "outputs": [
    {
     "name": "stdout",
     "output_type": "stream",
     "text": [
      "p-значение: 0.01065068606077328\n"
     ]
    },
    {
     "data": {
      "text/plain": [
       "'Средние показатели клиентов обоих групп не равны, так как значение стат значимости меньше критического уровня стат  значимости, и мы смогли опровергнуть нулевую гипотезу.'"
      ]
     },
     "execution_count": 52,
     "metadata": {},
     "output_type": "execute_result"
    }
   ],
   "source": [
    "test(churn_score_0, churn_score_1)"
   ]
  },
  {
   "cell_type": "markdown",
   "metadata": {},
   "source": [
    "Получаем, что отток клиентов зависит от скоринга, клиенты не в оттоке имеют больший средний скоринг и эта разница статистически значима"
   ]
  },
  {
   "cell_type": "markdown",
   "metadata": {},
   "source": [
    "### 4.3 Проверка гипотезы различия среднего возраста между теми клиентами, которые ушли и теми, которые остались."
   ]
  },
  {
   "cell_type": "markdown",
   "metadata": {},
   "source": [
    "Посмотрим среднее, дисперсию, стандартное отклонение возраста - ушедших и оставшихся клиентов"
   ]
  },
  {
   "cell_type": "code",
   "execution_count": 53,
   "metadata": {},
   "outputs": [
    {
     "data": {
      "text/plain": [
       "count    7917.000000\n",
       "mean       37.396868\n",
       "std        10.119218\n",
       "min        18.000000\n",
       "25%        31.000000\n",
       "50%        36.000000\n",
       "75%        41.000000\n",
       "max        92.000000\n",
       "Name: age, dtype: float64"
      ]
     },
     "execution_count": 53,
     "metadata": {},
     "output_type": "execute_result"
    }
   ],
   "source": [
    "churn_group_0['age'].describe()"
   ]
  },
  {
   "cell_type": "code",
   "execution_count": 54,
   "metadata": {},
   "outputs": [
    {
     "data": {
      "text/plain": [
       "count    2024.000000\n",
       "mean       44.840415\n",
       "std         9.773598\n",
       "min        18.000000\n",
       "25%        38.000000\n",
       "50%        45.000000\n",
       "75%        51.000000\n",
       "max        84.000000\n",
       "Name: age, dtype: float64"
      ]
     },
     "execution_count": 54,
     "metadata": {},
     "output_type": "execute_result"
    }
   ],
   "source": [
    "churn_group_1['age'].describe()"
   ]
  },
  {
   "cell_type": "code",
   "execution_count": 55,
   "metadata": {},
   "outputs": [
    {
     "data": {
      "text/plain": [
       "36.0"
      ]
     },
     "execution_count": 55,
     "metadata": {},
     "output_type": "execute_result"
    }
   ],
   "source": [
    "churn_group_0['age'].median()"
   ]
  },
  {
   "cell_type": "code",
   "execution_count": 56,
   "metadata": {},
   "outputs": [
    {
     "data": {
      "text/plain": [
       "45.0"
      ]
     },
     "execution_count": 56,
     "metadata": {},
     "output_type": "execute_result"
    }
   ],
   "source": [
    "churn_group_1['age'].median()"
   ]
  },
  {
   "cell_type": "markdown",
   "metadata": {},
   "source": [
    "В целом средний возраст клиентов в оттоке выше, составляет 44 года со стандартным отклонением 9, в то время как средний возраст людей оставшихся 37 со стандартным отклонением 10. Проверим является ли эта разница статистически значимой"
   ]
  },
  {
   "cell_type": "markdown",
   "metadata": {},
   "source": [
    "Сформируем нулевую и альтернативную гипотезы:\n",
    "\n",
    "    H0 - средний возраст клиентов оставшихся и ушедших в отток равны \n",
    "    H1 - средний возраст клиентов оставшихся и ушедших в отток различаются"
   ]
  },
  {
   "cell_type": "code",
   "execution_count": 57,
   "metadata": {},
   "outputs": [],
   "source": [
    "churn_age_0 = churn_group_0['age']\n",
    "churn_age_1 = churn_group_1['age']"
   ]
  },
  {
   "cell_type": "code",
   "execution_count": 58,
   "metadata": {},
   "outputs": [
    {
     "name": "stdout",
     "output_type": "stream",
     "text": [
      "дисперсия для выборки по оставшимся клиентам 102.38563121308648\n"
     ]
    }
   ],
   "source": [
    "variance_churn_age_0 = np.var(churn_age_0)\n",
    "print('дисперсия для выборки по оставшимся клиентам', variance_churn_age_0)"
   ]
  },
  {
   "cell_type": "code",
   "execution_count": 59,
   "metadata": {},
   "outputs": [
    {
     "name": "stdout",
     "output_type": "stream",
     "text": [
      "дисперсия для выборки по оставшимся клиентам 95.47601484752131\n"
     ]
    }
   ],
   "source": [
    "variance_churn_age_1 = np.var(churn_age_1)\n",
    "print('дисперсия для выборки по оставшимся клиентам', variance_churn_age_1)"
   ]
  },
  {
   "cell_type": "markdown",
   "metadata": {},
   "source": [
    "Дисперсии не сильно отличаются"
   ]
  },
  {
   "cell_type": "markdown",
   "metadata": {},
   "source": [
    "Проверим гипотезу различия возраста:"
   ]
  },
  {
   "cell_type": "code",
   "execution_count": 60,
   "metadata": {},
   "outputs": [
    {
     "name": "stdout",
     "output_type": "stream",
     "text": [
      "p-значение: 2.1568857374534785e-229\n"
     ]
    },
    {
     "data": {
      "text/plain": [
       "'Средние показатели клиентов обоих групп не равны, так как значение стат значимости меньше критического уровня стат  значимости, и мы смогли опровергнуть нулевую гипотезу.'"
      ]
     },
     "execution_count": 60,
     "metadata": {},
     "output_type": "execute_result"
    }
   ],
   "source": [
    "test(churn_age_0, churn_age_1)"
   ]
  },
  {
   "cell_type": "markdown",
   "metadata": {},
   "source": [
    "Получаем, что разница среднего возраста клиентов в оттоке и оставшихся клиентов статистически значима, клиенты в оттоке обладаются большим средним возрастом."
   ]
  },
  {
   "cell_type": "markdown",
   "metadata": {},
   "source": [
    "Проведем проверку данной гипотезы также критерием Стьюдента, т.к. распределение возраста все же визуально стремится к нормальному на графике. И еще момент, условием для применения U-критерия Манна-Уитни является отсутствие в сравниваемых группах совпадающих значений признака (все числа – разные) или очень малое число таких совпадений, в нашем случае мы анализируем возраст, поэтому имеем много совпадающих значений возраста."
   ]
  },
  {
   "cell_type": "code",
   "execution_count": 61,
   "metadata": {},
   "outputs": [
    {
     "name": "stdout",
     "output_type": "stream",
     "text": [
      "p-значение: 3.14244448846918e-186\n",
      "Средний возраста клиентов обоих групп не равны, так как значение стат значимости меньше критического уровня стат  значимости, и мы смогли опровергнуть нулевую гипотезу.\n"
     ]
    }
   ],
   "source": [
    "results = st.ttest_ind(\n",
    "    churn_age_0, \n",
    "    churn_age_1)\n",
    "print('p-значение:', results.pvalue)\n",
    "if (results.pvalue < alpha):\n",
    "    print(\"Средний возраста клиентов обоих групп не равны, так как значение стат значимости меньше критического уровня стат  значимости, и мы смогли опровергнуть нулевую гипотезу.\")\n",
    "else:\n",
    "    print(\"Средний возраст клиентов обоих групп одинаков, так как значение стат значимости больше критического уровня стат  значимости, и мы НЕ смогли опровергнуть нулевую гипотезу.\")"
   ]
  },
  {
   "cell_type": "markdown",
   "metadata": {},
   "source": [
    "Тест Стьюдента, также подтвердил наличие статистически значимой разницы между средними значениями возраста в наших выборках."
   ]
  },
  {
   "cell_type": "markdown",
   "metadata": {},
   "source": [
    "# Вывод"
   ]
  },
  {
   "cell_type": "markdown",
   "metadata": {},
   "source": [
    "Проверка гипотез показала отсутствие статистически значимой разницы между средними значениями дохода групп оставшихся клиентов и клиентов в оттоке. Т.е. мы не можем утверждать, что по показателям дохода клиенты в оттоке отличаются от оставшихся клиентов.\n",
    "\n",
    "По показателю возраста и скоринга обратная ситуация, по ним есть статистически значимая разница, а этом значит, что скоринг у клиентов в оттоке меньше, а возраст больше чем у оставшихся клиентов.\n",
    "\n"
   ]
  },
  {
   "cell_type": "markdown",
   "metadata": {},
   "source": [
    "# Выводы по портрету клиентов и рекомендации <a id=\"resume\"> </a>"
   ]
  },
  {
   "cell_type": "markdown",
   "metadata": {},
   "source": [
    "    Нам был предоставлен датасет, содержащий инфмормацию о клиентах банка, состоит из 12 столбцов м 10000 строк. В процессе преобработки откорректированы названия столбцов и проанализированы пропуски в столбце balance. Отметим, что пропущенные значения присутсвуют только по городам Рыбинск и Ярославль. Данные в столбце balance по этим городам распределены нормально, среднее значение хорошо описывает такие распределения, было принято решение заменить пропуски на средние значения в разрезе городов. Также, посмотрев минимальные и максимальные данные, и диаграмму \"ящик с усами\" по этой переменной, выявили по некотоым клиентам экстремально низкие значения дохода, для того чтобы они не искажали дальнеший анализ, значения менее 1000 рублей, в количестве 59 штук, исключили из таблицы, они имеют маленькую долю в общем количестве записей (0,59%).\n",
    "    Проверка гипотез показала отсутствие статистически значимой разницы между средними значениями дохода групп оставшихся клиентов и клиентов в оттоке. Т.е. мы не можем утверждать, что по показателям дохода клиенты в оттоке отличаются от оставшихся клиентов. По показателю возраста и скоринга обратная ситуация, по ним есть статистически значимая разница, а это значит, что скоринг у клиентов в оттоке меньше, а возраст больше чем у оставшихся клиентов.\n",
    " \n",
    "   \n",
    "    Анализ распределений и гипотез, позволил выделить типичный портрет клиента, которые ушел в отток: \n",
    "\n",
    "    - средний возраст клиента около 44 лет, чаще женщина\n",
    "    - проживающий в Ростове Великом и Ярославле\n",
    "    - нет активности в приложений и на сайте Банка\n",
    "    - имеющий 1 продукт и чаще всего это кредитная карта\n",
    "    - клиент имеет высокий скоринговый рейтинг, больше 620\n",
    "    - баланс счета за последний месяц около 120000\n",
    "\n",
    "    \n",
    "    Есть также категория клиентов, которые не ушли в отток, но склонны к этому, и стоит на них обратить внимание, это:\n",
    "    - клиенты со скоринговым рейтингом выше 600\n",
    "    - имеющие 1 продукт\n",
    "    - со средним за последний месяц балансом от 110000 до 130000\n",
    "    - в возрасте от 47 до 62 лет\n",
    "    - не лояльные к банку и проживающие в областных городах Ростове Великом и Ярославле\n",
    "    \n",
    "    Рекомендации по удержанию клиентов склонных к оттоку:\n",
    "    - стимуляция увеличения количества используемых клиентом продуктов, делать упор на привлечение новыми кредитными предложениями, к примеру возврат части процентов по кредиту при использовании кредитной карты Банка\n",
    "    - понятная и приемлемая реклама для людей возрастной категории 40+, проживающих в регионах, не ориентироваться только на молодежную группу\n",
    "    - повышать активность клиентов в мобильных приложениях, размещать в них интересные статистические факты о том на какие услуги были потраченых суммы, статьи о возможности инвестирования в акции различных компаний (в связи с нарастанием популярности инвестирования, открытия ИИС для физических лиц) искать возможности использования мобильного банковского приложения для покупки различных небанковских услуг (авиа, ж/д билетов, билетов на развлекательные мероприятия)\n",
    "    - поскольку у людей остающихся клиентами большее значение баланса счета, рассмотреть более гибкую политику начисления процентов на остаток при достижении определенных сумм баланса\n",
    "    - обратить внимание на обслуживание клиентов в представительствах Банка в городах Ростов Великий и Ярославль, возможно необходимо провести инструктаж или обучение сотрудников.\n",
    "    - оценить удобство управления продуктами через личный кабинет, когда их более 3-х\n",
    "    "
   ]
  },
  {
   "cell_type": "markdown",
   "metadata": {},
   "source": [
    "## Ссылка на презентацию"
   ]
  },
  {
   "cell_type": "markdown",
   "metadata": {},
   "source": [
    "https://yadi.sk/i/zIw0kKJYhyH9Rw"
   ]
  },
  {
   "cell_type": "markdown",
   "metadata": {},
   "source": [
    "## Ссылка на дашборд"
   ]
  },
  {
   "cell_type": "markdown",
   "metadata": {},
   "source": [
    "https://public.tableau.com/profile/marina3356#!/vizhome/Banki_project/Dashboard2?publish=yes"
   ]
  }
 ],
 "metadata": {
  "kernelspec": {
   "display_name": "Python 3",
   "language": "python",
   "name": "python3"
  },
  "language_info": {
   "codemirror_mode": {
    "name": "ipython",
    "version": 3
   },
   "file_extension": ".py",
   "mimetype": "text/x-python",
   "name": "python",
   "nbconvert_exporter": "python",
   "pygments_lexer": "ipython3",
   "version": "3.8.3"
  }
 },
 "nbformat": 4,
 "nbformat_minor": 4
}
