{
 "cells": [
  {
   "cell_type": "markdown",
   "metadata": {},
   "source": [
    "# Проект \"Аналитика  сайта Афиша\""
   ]
  },
  {
   "cell_type": "markdown",
   "metadata": {},
   "source": [
    "В проекте проводится анализ данных сайта Афиша, за определенны период. Целью исследования является оптимизация маркетинговых затрат. Планируется изучить как люди пользуются продуктом, когда они начинают покупать, сколько денег приносит каждый клиент и когда клиент окупается. Исследование планируется проводить на основе логов сервера с данными о посещениях сайта Афиши, данных о заказах за необходимы период и статистики рекламных расходов.\n",
    "    План работы:\n",
    "1. [Изучить общую инфомрацию о данных;](#start)\n",
    "2. [Выполнить предобработку данных:](#1)\n",
    "    - [проверить типы данных на корректность;](#1)\n",
    "    - [проверить данные на пропуски и дубликаты](#1)\n",
    "3. [Провести исследовательский анализ данных](#2)\n",
    "    - [оценка пользовательской активности (dau, mau, wau, sticky_mau, sticky_wau)](#2)\n",
    "    - [оценка пользовательских сессий](#3)\n",
    "    - [рассчет коэффициента удержания(retention rate)](#5)\n",
    "    - [анализ поведения пользователей](#5)\n",
    "    - [расчет среднего чека](#6)\n",
    "    - [расчет LTV](#7)\n",
    "    - [анализ маркетинговых расходов в разрезе инсточников](#8)\n",
    "    - [окупаемость расходов (ROMI)](#8)\n",
    "4. [Выводы и рекомендации о наиболее перспективных источниках/платформах](#9)\n",
    "       \n",
    "    Данные содержатся в трех таблицах \n",
    " - visits (лог сервера с информацией о посещениях сайта и указанием рекламного источника клиента)\n",
    " - Таблица orders (информация о заказах с выручкой):\n",
    " - Таблица costs (информация о затратах на маркетинг):\n",
    "   \n"
   ]
  },
  {
   "cell_type": "markdown",
   "metadata": {},
   "source": []
  },
  {
   "cell_type": "markdown",
   "metadata": {},
   "source": [
    "## 1. Изучение общей информации<a id=\"start\"> </a>"
   ]
  },
  {
   "cell_type": "code",
   "execution_count": 287,
   "metadata": {},
   "outputs": [
    {
     "data": {
      "text/html": [
       "        <script type=\"text/javascript\">\n",
       "        window.PlotlyConfig = {MathJaxConfig: 'local'};\n",
       "        if (window.MathJax) {MathJax.Hub.Config({SVG: {font: \"STIX-Web\"}});}\n",
       "        if (typeof require !== 'undefined') {\n",
       "        require.undef(\"plotly\");\n",
       "        requirejs.config({\n",
       "            paths: {\n",
       "                'plotly': ['https://cdn.plot.ly/plotly-latest.min']\n",
       "            }\n",
       "        });\n",
       "        require(['plotly'], function(Plotly) {\n",
       "            window._Plotly = Plotly;\n",
       "        });\n",
       "        }\n",
       "        </script>\n",
       "        "
      ]
     },
     "metadata": {},
     "output_type": "display_data"
    }
   ],
   "source": [
    "import pandas as pd # <импорт библиотеки pandas>\n",
    "from matplotlib import pyplot as plt  # <импорт библиотеки matplotlib>\n",
    "import numpy as np # <импорт библиотеки numpy>\n",
    "import seaborn as sns# <импорт библиотеки seaborn>\n",
    "import scipy.stats as st  # <импорт scipy.stats>\n",
    "from IPython.display import display# <импорт метода display из библиотеки IPython.display для просмотра таблиц>\n",
    "from plotly.offline import download_plotlyjs, init_notebook_mode, plot, iplot\n",
    "import plotly\n",
    "import plotly.graph_objs as go\n",
    "import pylab as pl\n",
    "init_notebook_mode(connected=True)"
   ]
  },
  {
   "cell_type": "markdown",
   "metadata": {},
   "source": [
    "Прочитаем файл visits_log"
   ]
  },
  {
   "cell_type": "code",
   "execution_count": 288,
   "metadata": {},
   "outputs": [],
   "source": [
    "path = 'E:/csv_yandex_afisha/'"
   ]
  },
  {
   "cell_type": "code",
   "execution_count": 289,
   "metadata": {},
   "outputs": [],
   "source": [
    "visits = pd.read_csv(path + 'visits_log.csv') # <чтение файла с данными с сохранением их в переменной visits>"
   ]
  },
  {
   "cell_type": "markdown",
   "metadata": {},
   "source": [
    "Посмотрим таблицу visits, выведем ее на экран"
   ]
  },
  {
   "cell_type": "code",
   "execution_count": 290,
   "metadata": {},
   "outputs": [
    {
     "data": {
      "text/html": [
       "<div>\n",
       "<style scoped>\n",
       "    .dataframe tbody tr th:only-of-type {\n",
       "        vertical-align: middle;\n",
       "    }\n",
       "\n",
       "    .dataframe tbody tr th {\n",
       "        vertical-align: top;\n",
       "    }\n",
       "\n",
       "    .dataframe thead th {\n",
       "        text-align: right;\n",
       "    }\n",
       "</style>\n",
       "<table border=\"1\" class=\"dataframe\">\n",
       "  <thead>\n",
       "    <tr style=\"text-align: right;\">\n",
       "      <th></th>\n",
       "      <th>Device</th>\n",
       "      <th>End Ts</th>\n",
       "      <th>Source Id</th>\n",
       "      <th>Start Ts</th>\n",
       "      <th>Uid</th>\n",
       "    </tr>\n",
       "  </thead>\n",
       "  <tbody>\n",
       "    <tr>\n",
       "      <th>0</th>\n",
       "      <td>touch</td>\n",
       "      <td>2017-12-20 17:38:00</td>\n",
       "      <td>4</td>\n",
       "      <td>2017-12-20 17:20:00</td>\n",
       "      <td>16879256277535980062</td>\n",
       "    </tr>\n",
       "    <tr>\n",
       "      <th>1</th>\n",
       "      <td>desktop</td>\n",
       "      <td>2018-02-19 17:21:00</td>\n",
       "      <td>2</td>\n",
       "      <td>2018-02-19 16:53:00</td>\n",
       "      <td>104060357244891740</td>\n",
       "    </tr>\n",
       "    <tr>\n",
       "      <th>2</th>\n",
       "      <td>touch</td>\n",
       "      <td>2017-07-01 01:54:00</td>\n",
       "      <td>5</td>\n",
       "      <td>2017-07-01 01:54:00</td>\n",
       "      <td>7459035603376831527</td>\n",
       "    </tr>\n",
       "    <tr>\n",
       "      <th>3</th>\n",
       "      <td>desktop</td>\n",
       "      <td>2018-05-20 11:23:00</td>\n",
       "      <td>9</td>\n",
       "      <td>2018-05-20 10:59:00</td>\n",
       "      <td>16174680259334210214</td>\n",
       "    </tr>\n",
       "    <tr>\n",
       "      <th>4</th>\n",
       "      <td>desktop</td>\n",
       "      <td>2017-12-27 14:06:00</td>\n",
       "      <td>3</td>\n",
       "      <td>2017-12-27 14:06:00</td>\n",
       "      <td>9969694820036681168</td>\n",
       "    </tr>\n",
       "  </tbody>\n",
       "</table>\n",
       "</div>"
      ],
      "text/plain": [
       "    Device               End Ts  Source Id             Start Ts  \\\n",
       "0    touch  2017-12-20 17:38:00          4  2017-12-20 17:20:00   \n",
       "1  desktop  2018-02-19 17:21:00          2  2018-02-19 16:53:00   \n",
       "2    touch  2017-07-01 01:54:00          5  2017-07-01 01:54:00   \n",
       "3  desktop  2018-05-20 11:23:00          9  2018-05-20 10:59:00   \n",
       "4  desktop  2017-12-27 14:06:00          3  2017-12-27 14:06:00   \n",
       "\n",
       "                    Uid  \n",
       "0  16879256277535980062  \n",
       "1    104060357244891740  \n",
       "2   7459035603376831527  \n",
       "3  16174680259334210214  \n",
       "4   9969694820036681168  "
      ]
     },
     "execution_count": 290,
     "metadata": {},
     "output_type": "execute_result"
    }
   ],
   "source": [
    "visits.head()#<вывод таблицы на экран>"
   ]
  },
  {
   "cell_type": "markdown",
   "metadata": {},
   "source": [
    "Посмотрим общую информацию о таблице visits"
   ]
  },
  {
   "cell_type": "code",
   "execution_count": 291,
   "metadata": {},
   "outputs": [
    {
     "name": "stdout",
     "output_type": "stream",
     "text": [
      "<class 'pandas.core.frame.DataFrame'>\n",
      "RangeIndex: 359400 entries, 0 to 359399\n",
      "Data columns (total 5 columns):\n",
      " #   Column     Non-Null Count   Dtype \n",
      "---  ------     --------------   ----- \n",
      " 0   Device     359400 non-null  object\n",
      " 1   End Ts     359400 non-null  object\n",
      " 2   Source Id  359400 non-null  int64 \n",
      " 3   Start Ts   359400 non-null  object\n",
      " 4   Uid        359400 non-null  uint64\n",
      "dtypes: int64(1), object(3), uint64(1)\n",
      "memory usage: 13.7+ MB\n"
     ]
    }
   ],
   "source": [
    "visits.info()# <просмотр общей информации о таблице>"
   ]
  },
  {
   "cell_type": "markdown",
   "metadata": {},
   "source": [
    "В таблице 359400 строк и 5 столбцов, пропущенные значения отсуствуют, это хорошо. Необходимо откорректировать названия столбцов, и типы данных по столбцам End Ts и Start Ts с object на datetime, поскольку столбцы содержат даты"
   ]
  },
  {
   "cell_type": "markdown",
   "metadata": {},
   "source": [
    "Посмотрим какие уникальные значения содержит столбец Device, чтоб убедиться, что данные корректны"
   ]
  },
  {
   "cell_type": "code",
   "execution_count": 292,
   "metadata": {},
   "outputs": [
    {
     "data": {
      "text/plain": [
       "array(['touch', 'desktop'], dtype=object)"
      ]
     },
     "execution_count": 292,
     "metadata": {},
     "output_type": "execute_result"
    }
   ],
   "source": [
    "visits['Device'].unique()"
   ]
  },
  {
   "cell_type": "markdown",
   "metadata": {},
   "source": [
    "Прочитаем файл orders_log"
   ]
  },
  {
   "cell_type": "code",
   "execution_count": 293,
   "metadata": {},
   "outputs": [],
   "source": [
    "path_1 = 'E:/csv_yandex_afisha/'"
   ]
  },
  {
   "cell_type": "code",
   "execution_count": 294,
   "metadata": {},
   "outputs": [],
   "source": [
    "orders = pd.read_csv(path_1  + 'orders_log.csv') # <чтение файла с данными с сохранением их в переменной orders>"
   ]
  },
  {
   "cell_type": "markdown",
   "metadata": {},
   "source": [
    "Посмотрим таблицу orders, выведем ее на экран"
   ]
  },
  {
   "cell_type": "code",
   "execution_count": 295,
   "metadata": {},
   "outputs": [
    {
     "data": {
      "text/html": [
       "<div>\n",
       "<style scoped>\n",
       "    .dataframe tbody tr th:only-of-type {\n",
       "        vertical-align: middle;\n",
       "    }\n",
       "\n",
       "    .dataframe tbody tr th {\n",
       "        vertical-align: top;\n",
       "    }\n",
       "\n",
       "    .dataframe thead th {\n",
       "        text-align: right;\n",
       "    }\n",
       "</style>\n",
       "<table border=\"1\" class=\"dataframe\">\n",
       "  <thead>\n",
       "    <tr style=\"text-align: right;\">\n",
       "      <th></th>\n",
       "      <th>Buy Ts</th>\n",
       "      <th>Revenue</th>\n",
       "      <th>Uid</th>\n",
       "    </tr>\n",
       "  </thead>\n",
       "  <tbody>\n",
       "    <tr>\n",
       "      <th>0</th>\n",
       "      <td>2017-06-01 00:10:00</td>\n",
       "      <td>17.00</td>\n",
       "      <td>10329302124590727494</td>\n",
       "    </tr>\n",
       "    <tr>\n",
       "      <th>1</th>\n",
       "      <td>2017-06-01 00:25:00</td>\n",
       "      <td>0.55</td>\n",
       "      <td>11627257723692907447</td>\n",
       "    </tr>\n",
       "    <tr>\n",
       "      <th>2</th>\n",
       "      <td>2017-06-01 00:27:00</td>\n",
       "      <td>0.37</td>\n",
       "      <td>17903680561304213844</td>\n",
       "    </tr>\n",
       "    <tr>\n",
       "      <th>3</th>\n",
       "      <td>2017-06-01 00:29:00</td>\n",
       "      <td>0.55</td>\n",
       "      <td>16109239769442553005</td>\n",
       "    </tr>\n",
       "    <tr>\n",
       "      <th>4</th>\n",
       "      <td>2017-06-01 07:58:00</td>\n",
       "      <td>0.37</td>\n",
       "      <td>14200605875248379450</td>\n",
       "    </tr>\n",
       "  </tbody>\n",
       "</table>\n",
       "</div>"
      ],
      "text/plain": [
       "                Buy Ts  Revenue                   Uid\n",
       "0  2017-06-01 00:10:00    17.00  10329302124590727494\n",
       "1  2017-06-01 00:25:00     0.55  11627257723692907447\n",
       "2  2017-06-01 00:27:00     0.37  17903680561304213844\n",
       "3  2017-06-01 00:29:00     0.55  16109239769442553005\n",
       "4  2017-06-01 07:58:00     0.37  14200605875248379450"
      ]
     },
     "execution_count": 295,
     "metadata": {},
     "output_type": "execute_result"
    }
   ],
   "source": [
    "orders.head()#<вывод таблицы на экран>"
   ]
  },
  {
   "cell_type": "markdown",
   "metadata": {},
   "source": [
    "Посмотрим общую информацию о таблице"
   ]
  },
  {
   "cell_type": "code",
   "execution_count": 296,
   "metadata": {},
   "outputs": [
    {
     "name": "stdout",
     "output_type": "stream",
     "text": [
      "<class 'pandas.core.frame.DataFrame'>\n",
      "RangeIndex: 50415 entries, 0 to 50414\n",
      "Data columns (total 3 columns):\n",
      " #   Column   Non-Null Count  Dtype  \n",
      "---  ------   --------------  -----  \n",
      " 0   Buy Ts   50415 non-null  object \n",
      " 1   Revenue  50415 non-null  float64\n",
      " 2   Uid      50415 non-null  uint64 \n",
      "dtypes: float64(1), object(1), uint64(1)\n",
      "memory usage: 1.2+ MB\n"
     ]
    }
   ],
   "source": [
    "orders.info()# <просмотр общей информации о таблице>"
   ]
  },
  {
   "cell_type": "markdown",
   "metadata": {},
   "source": [
    "В таблице 50415 строк и 3 столбцов, пропущенные значения отсуствуют. Необходимо откорректировать названия столбца, и тип данных Buy Ts с object на datetime, поскольку столбец содержит дату"
   ]
  },
  {
   "cell_type": "markdown",
   "metadata": {},
   "source": [
    "Прочитаем файл costs"
   ]
  },
  {
   "cell_type": "code",
   "execution_count": 297,
   "metadata": {},
   "outputs": [],
   "source": [
    "path_2 = 'E:/csv_yandex_afisha/'"
   ]
  },
  {
   "cell_type": "code",
   "execution_count": 298,
   "metadata": {},
   "outputs": [],
   "source": [
    "costs = pd.read_csv(path_2 + 'costs.csv') # <чтение файла с данными с сохранением их в переменной costs>"
   ]
  },
  {
   "cell_type": "markdown",
   "metadata": {},
   "source": [
    "Посмотрим таблицу orders, выведем ее на экран"
   ]
  },
  {
   "cell_type": "code",
   "execution_count": 299,
   "metadata": {},
   "outputs": [
    {
     "data": {
      "text/html": [
       "<div>\n",
       "<style scoped>\n",
       "    .dataframe tbody tr th:only-of-type {\n",
       "        vertical-align: middle;\n",
       "    }\n",
       "\n",
       "    .dataframe tbody tr th {\n",
       "        vertical-align: top;\n",
       "    }\n",
       "\n",
       "    .dataframe thead th {\n",
       "        text-align: right;\n",
       "    }\n",
       "</style>\n",
       "<table border=\"1\" class=\"dataframe\">\n",
       "  <thead>\n",
       "    <tr style=\"text-align: right;\">\n",
       "      <th></th>\n",
       "      <th>source_id</th>\n",
       "      <th>dt</th>\n",
       "      <th>costs</th>\n",
       "    </tr>\n",
       "  </thead>\n",
       "  <tbody>\n",
       "    <tr>\n",
       "      <th>0</th>\n",
       "      <td>1</td>\n",
       "      <td>2017-06-01</td>\n",
       "      <td>75.20</td>\n",
       "    </tr>\n",
       "    <tr>\n",
       "      <th>1</th>\n",
       "      <td>1</td>\n",
       "      <td>2017-06-02</td>\n",
       "      <td>62.25</td>\n",
       "    </tr>\n",
       "    <tr>\n",
       "      <th>2</th>\n",
       "      <td>1</td>\n",
       "      <td>2017-06-03</td>\n",
       "      <td>36.53</td>\n",
       "    </tr>\n",
       "    <tr>\n",
       "      <th>3</th>\n",
       "      <td>1</td>\n",
       "      <td>2017-06-04</td>\n",
       "      <td>55.00</td>\n",
       "    </tr>\n",
       "    <tr>\n",
       "      <th>4</th>\n",
       "      <td>1</td>\n",
       "      <td>2017-06-05</td>\n",
       "      <td>57.08</td>\n",
       "    </tr>\n",
       "  </tbody>\n",
       "</table>\n",
       "</div>"
      ],
      "text/plain": [
       "   source_id          dt  costs\n",
       "0          1  2017-06-01  75.20\n",
       "1          1  2017-06-02  62.25\n",
       "2          1  2017-06-03  36.53\n",
       "3          1  2017-06-04  55.00\n",
       "4          1  2017-06-05  57.08"
      ]
     },
     "execution_count": 299,
     "metadata": {},
     "output_type": "execute_result"
    }
   ],
   "source": [
    "costs.head()# <вывод таблицы на экран>"
   ]
  },
  {
   "cell_type": "markdown",
   "metadata": {},
   "source": [
    "Посмотрим общую информацию о таблице"
   ]
  },
  {
   "cell_type": "code",
   "execution_count": 300,
   "metadata": {},
   "outputs": [
    {
     "name": "stdout",
     "output_type": "stream",
     "text": [
      "<class 'pandas.core.frame.DataFrame'>\n",
      "RangeIndex: 2542 entries, 0 to 2541\n",
      "Data columns (total 3 columns):\n",
      " #   Column     Non-Null Count  Dtype  \n",
      "---  ------     --------------  -----  \n",
      " 0   source_id  2542 non-null   int64  \n",
      " 1   dt         2542 non-null   object \n",
      " 2   costs      2542 non-null   float64\n",
      "dtypes: float64(1), int64(1), object(1)\n",
      "memory usage: 59.7+ KB\n"
     ]
    }
   ],
   "source": [
    "costs.info()# <просмотр общей информации о таблице>"
   ]
  },
  {
   "cell_type": "markdown",
   "metadata": {},
   "source": [
    "Таблица содержит 2542 строк и 3 столбца, пропущенных значений нет. Необходимо перевести тип данных у столбца содержащего дату с object на datetime"
   ]
  },
  {
   "cell_type": "markdown",
   "metadata": {},
   "source": [
    "## Вывод"
   ]
  },
  {
   "cell_type": "markdown",
   "metadata": {},
   "source": [
    "Во всех трех таблицах отсутсвуют пропущенные значения, это очень хорошо, можем быть уверены что выгружены полные данные. Для проведения дальнейшего анализа, необходимо откорректировать названия столбцов, убрав пропуски и большие буквы в названиях, чтобы привести их к единообразию. Также неверно присвоены типы данных по столбцам содержащим информацию о датах, это тоже нужно исправить в предобработке данных."
   ]
  },
  {
   "cell_type": "markdown",
   "metadata": {},
   "source": [
    "## 2. Предобработка данных<a id=\"1\"> </a>"
   ]
  },
  {
   "cell_type": "markdown",
   "metadata": {},
   "source": [
    "Откорректирум названия столбцов в таблице visits"
   ]
  },
  {
   "cell_type": "code",
   "execution_count": 301,
   "metadata": {},
   "outputs": [],
   "source": [
    "visits.columns = ['device', 'session_end_ts', 'source_id', 'session_start_ts', 'uid']#<переименование столбцов путем передачи списка новых имен>"
   ]
  },
  {
   "cell_type": "markdown",
   "metadata": {},
   "source": [
    "Изменим тип данных столбцов end_ts и start_ts с object на datetime"
   ]
  },
  {
   "cell_type": "code",
   "execution_count": 302,
   "metadata": {},
   "outputs": [],
   "source": [
    "visits['session_end_ts'] = pd.to_datetime(visits['session_end_ts'])#<изменение типа данных на datetime>\n",
    "visits['session_start_ts'] = pd.to_datetime(visits['session_start_ts'])#<изменение типа данных на datetime>"
   ]
  },
  {
   "cell_type": "code",
   "execution_count": 303,
   "metadata": {},
   "outputs": [
    {
     "name": "stdout",
     "output_type": "stream",
     "text": [
      "<class 'pandas.core.frame.DataFrame'>\n",
      "RangeIndex: 359400 entries, 0 to 359399\n",
      "Data columns (total 5 columns):\n",
      " #   Column            Non-Null Count   Dtype         \n",
      "---  ------            --------------   -----         \n",
      " 0   device            359400 non-null  object        \n",
      " 1   session_end_ts    359400 non-null  datetime64[ns]\n",
      " 2   source_id         359400 non-null  int64         \n",
      " 3   session_start_ts  359400 non-null  datetime64[ns]\n",
      " 4   uid               359400 non-null  uint64        \n",
      "dtypes: datetime64[ns](2), int64(1), object(1), uint64(1)\n",
      "memory usage: 13.7+ MB\n"
     ]
    }
   ],
   "source": [
    "visits.info()#<проверим, что названия столбцов и типы данных изменились>"
   ]
  },
  {
   "cell_type": "markdown",
   "metadata": {},
   "source": [
    "Посчитаем разницу между end_ts и  start_ts, необходимо провести проверку на наличие отрицательных значений"
   ]
  },
  {
   "cell_type": "code",
   "execution_count": 304,
   "metadata": {},
   "outputs": [],
   "source": [
    "visits['delta_session'] = visits['session_end_ts'] - visits['session_start_ts'] #<разницу между end_ts и  start_ts запишем в delta_ts>"
   ]
  },
  {
   "cell_type": "code",
   "execution_count": 305,
   "metadata": {},
   "outputs": [
    {
     "data": {
      "text/html": [
       "<div>\n",
       "<style scoped>\n",
       "    .dataframe tbody tr th:only-of-type {\n",
       "        vertical-align: middle;\n",
       "    }\n",
       "\n",
       "    .dataframe tbody tr th {\n",
       "        vertical-align: top;\n",
       "    }\n",
       "\n",
       "    .dataframe thead th {\n",
       "        text-align: right;\n",
       "    }\n",
       "</style>\n",
       "<table border=\"1\" class=\"dataframe\">\n",
       "  <thead>\n",
       "    <tr style=\"text-align: right;\">\n",
       "      <th></th>\n",
       "      <th>device</th>\n",
       "      <th>session_end_ts</th>\n",
       "      <th>source_id</th>\n",
       "      <th>session_start_ts</th>\n",
       "      <th>uid</th>\n",
       "      <th>delta_session</th>\n",
       "    </tr>\n",
       "  </thead>\n",
       "  <tbody>\n",
       "    <tr>\n",
       "      <th>177972</th>\n",
       "      <td>desktop</td>\n",
       "      <td>2018-03-25 03:09:00</td>\n",
       "      <td>9</td>\n",
       "      <td>2018-03-25 03:55:00</td>\n",
       "      <td>4621202742905035453</td>\n",
       "      <td>-1 days +23:14:00</td>\n",
       "    </tr>\n",
       "    <tr>\n",
       "      <th>4181</th>\n",
       "      <td>desktop</td>\n",
       "      <td>2018-03-25 03:18:00</td>\n",
       "      <td>3</td>\n",
       "      <td>2018-03-25 03:50:00</td>\n",
       "      <td>13092152539246794986</td>\n",
       "      <td>-1 days +23:28:00</td>\n",
       "    </tr>\n",
       "    <tr>\n",
       "      <th>141593</th>\n",
       "      <td>desktop</td>\n",
       "      <td>2018-01-25 20:55:00</td>\n",
       "      <td>4</td>\n",
       "      <td>2018-01-25 20:55:00</td>\n",
       "      <td>6885023040148462867</td>\n",
       "      <td>00:00:00</td>\n",
       "    </tr>\n",
       "    <tr>\n",
       "      <th>251174</th>\n",
       "      <td>desktop</td>\n",
       "      <td>2018-02-08 15:35:00</td>\n",
       "      <td>3</td>\n",
       "      <td>2018-02-08 15:35:00</td>\n",
       "      <td>6843418812504165819</td>\n",
       "      <td>00:00:00</td>\n",
       "    </tr>\n",
       "    <tr>\n",
       "      <th>70748</th>\n",
       "      <td>desktop</td>\n",
       "      <td>2018-02-28 16:18:00</td>\n",
       "      <td>2</td>\n",
       "      <td>2018-02-28 16:18:00</td>\n",
       "      <td>4903558401822217411</td>\n",
       "      <td>00:00:00</td>\n",
       "    </tr>\n",
       "  </tbody>\n",
       "</table>\n",
       "</div>"
      ],
      "text/plain": [
       "         device      session_end_ts  source_id    session_start_ts  \\\n",
       "177972  desktop 2018-03-25 03:09:00          9 2018-03-25 03:55:00   \n",
       "4181    desktop 2018-03-25 03:18:00          3 2018-03-25 03:50:00   \n",
       "141593  desktop 2018-01-25 20:55:00          4 2018-01-25 20:55:00   \n",
       "251174  desktop 2018-02-08 15:35:00          3 2018-02-08 15:35:00   \n",
       "70748   desktop 2018-02-28 16:18:00          2 2018-02-28 16:18:00   \n",
       "\n",
       "                         uid     delta_session  \n",
       "177972   4621202742905035453 -1 days +23:14:00  \n",
       "4181    13092152539246794986 -1 days +23:28:00  \n",
       "141593   6885023040148462867          00:00:00  \n",
       "251174   6843418812504165819          00:00:00  \n",
       "70748    4903558401822217411          00:00:00  "
      ]
     },
     "execution_count": 305,
     "metadata": {},
     "output_type": "execute_result"
    }
   ],
   "source": [
    "visits.sort_values(by = 'delta_session').head(5) #<сортировка по столбцу delta_ts>"
   ]
  },
  {
   "cell_type": "markdown",
   "metadata": {},
   "source": [
    "По двум строкам  c индексами 177972 и 4181 таблицы visits содержится нелогичная информация, когда сессия началась позднее чем закончилась, сложно предопложить почему в таблице такая информация, возможно некоррекно выгружены данные или в этом момент был какой-то сбой. В любом случае удалим из таблицы эти две записи, чтобы они не повлияли на дальнейшие расчеты и анализ."
   ]
  },
  {
   "cell_type": "code",
   "execution_count": 306,
   "metadata": {},
   "outputs": [],
   "source": [
    "visits_new = visits.loc[~visits.index.isin([177972, 4181])]\\\n",
    "                  .reset_index()#<создадим копию таблицы без этих двух записей, назовем ее visits_new и выполним переиндексацию>"
   ]
  },
  {
   "cell_type": "markdown",
   "metadata": {},
   "source": [
    " Переименуем столбцы в таблице orders, для удобства дальнейшей работы"
   ]
  },
  {
   "cell_type": "code",
   "execution_count": 307,
   "metadata": {},
   "outputs": [],
   "source": [
    "orders.columns = ['buy_ts', 'revenue', 'uid']#<переименование столбцов путем передачи списка новых имен>"
   ]
  },
  {
   "cell_type": "markdown",
   "metadata": {},
   "source": [
    "Изменим тип данных столбца buy_ts с object на datetime"
   ]
  },
  {
   "cell_type": "code",
   "execution_count": 308,
   "metadata": {},
   "outputs": [],
   "source": [
    "orders['buy_ts'] = pd.to_datetime(orders['buy_ts'])#<изменение типа данных на datetime>"
   ]
  },
  {
   "cell_type": "code",
   "execution_count": 309,
   "metadata": {},
   "outputs": [
    {
     "name": "stdout",
     "output_type": "stream",
     "text": [
      "<class 'pandas.core.frame.DataFrame'>\n",
      "RangeIndex: 50415 entries, 0 to 50414\n",
      "Data columns (total 3 columns):\n",
      " #   Column   Non-Null Count  Dtype         \n",
      "---  ------   --------------  -----         \n",
      " 0   buy_ts   50415 non-null  datetime64[ns]\n",
      " 1   revenue  50415 non-null  float64       \n",
      " 2   uid      50415 non-null  uint64        \n",
      "dtypes: datetime64[ns](1), float64(1), uint64(1)\n",
      "memory usage: 1.2 MB\n"
     ]
    }
   ],
   "source": [
    "orders.info()#<убедимся, что столбцы и тип данных обновлены>"
   ]
  },
  {
   "cell_type": "markdown",
   "metadata": {},
   "source": [
    "Посмотрим на описание данных по столбцу revenue"
   ]
  },
  {
   "cell_type": "code",
   "execution_count": 310,
   "metadata": {},
   "outputs": [
    {
     "data": {
      "text/plain": [
       "count    50415.000000\n",
       "mean         4.999647\n",
       "std         21.818359\n",
       "min          0.000000\n",
       "25%          1.220000\n",
       "50%          2.500000\n",
       "75%          4.890000\n",
       "max       2633.280000\n",
       "Name: revenue, dtype: float64"
      ]
     },
     "execution_count": 310,
     "metadata": {},
     "output_type": "execute_result"
    }
   ],
   "source": [
    "orders['revenue'].describe()#<вывод статистических показателей методом describe>"
   ]
  },
  {
   "cell_type": "markdown",
   "metadata": {},
   "source": [
    "Построим диаграмму ящик с усами для значений выручки"
   ]
  },
  {
   "cell_type": "code",
   "execution_count": 311,
   "metadata": {},
   "outputs": [
    {
     "data": {
      "image/png": "[encoded data removed]",
      "text/plain": [
       "<Figure size 432x288 with 1 Axes>"
      ]
     },
     "metadata": {},
     "output_type": "display_data"
    }
   ],
   "source": [
    "plt.boxplot(orders['revenue']) \n",
    "plt.title('Диаграмма \"ящик с укасами\" для выручки', fontsize=12, color='blue')\n",
    "plt.ylabel('Значение выручки', fontsize=10, color='blue')\n",
    "plt.grid()\n",
    "plt.show()"
   ]
  },
  {
   "cell_type": "markdown",
   "metadata": {},
   "source": [
    "Видим, что 75 процентов значений выручки меньше  4.89, при этом максимальное значение очень большое и составляет 2633.28, очевидно, это выброс, посмотрим на эту запись"
   ]
  },
  {
   "cell_type": "code",
   "execution_count": 312,
   "metadata": {},
   "outputs": [
    {
     "data": {
      "text/html": [
       "<div>\n",
       "<style scoped>\n",
       "    .dataframe tbody tr th:only-of-type {\n",
       "        vertical-align: middle;\n",
       "    }\n",
       "\n",
       "    .dataframe tbody tr th {\n",
       "        vertical-align: top;\n",
       "    }\n",
       "\n",
       "    .dataframe thead th {\n",
       "        text-align: right;\n",
       "    }\n",
       "</style>\n",
       "<table border=\"1\" class=\"dataframe\">\n",
       "  <thead>\n",
       "    <tr style=\"text-align: right;\">\n",
       "      <th></th>\n",
       "      <th>buy_ts</th>\n",
       "      <th>revenue</th>\n",
       "      <th>uid</th>\n",
       "    </tr>\n",
       "  </thead>\n",
       "  <tbody>\n",
       "    <tr>\n",
       "      <th>23244</th>\n",
       "      <td>2017-12-10 20:17:00</td>\n",
       "      <td>2633.28</td>\n",
       "      <td>5539673724080479777</td>\n",
       "    </tr>\n",
       "  </tbody>\n",
       "</table>\n",
       "</div>"
      ],
      "text/plain": [
       "                   buy_ts  revenue                  uid\n",
       "23244 2017-12-10 20:17:00  2633.28  5539673724080479777"
      ]
     },
     "execution_count": 312,
     "metadata": {},
     "output_type": "execute_result"
    }
   ],
   "source": [
    "orders[orders['revenue'] > 1500] #<фильт по столцу revenue со значением больше 1500>"
   ]
  },
  {
   "cell_type": "markdown",
   "metadata": {},
   "source": [
    "Не будем пока удалять данную запись, оставим как есть, при необходимости вернемся к этому вопросу при анализе"
   ]
  },
  {
   "cell_type": "markdown",
   "metadata": {},
   "source": [
    "В таблице costs Изменим тип данных столбца dt с object на datetime"
   ]
  },
  {
   "cell_type": "code",
   "execution_count": 313,
   "metadata": {},
   "outputs": [],
   "source": [
    "costs['dt'] = pd.to_datetime(costs['dt'])#<изменение типа данных на datetime>"
   ]
  },
  {
   "cell_type": "code",
   "execution_count": 314,
   "metadata": {},
   "outputs": [
    {
     "name": "stdout",
     "output_type": "stream",
     "text": [
      "<class 'pandas.core.frame.DataFrame'>\n",
      "RangeIndex: 2542 entries, 0 to 2541\n",
      "Data columns (total 3 columns):\n",
      " #   Column     Non-Null Count  Dtype         \n",
      "---  ------     --------------  -----         \n",
      " 0   source_id  2542 non-null   int64         \n",
      " 1   dt         2542 non-null   datetime64[ns]\n",
      " 2   costs      2542 non-null   float64       \n",
      "dtypes: datetime64[ns](1), float64(1), int64(1)\n",
      "memory usage: 59.7 KB\n"
     ]
    }
   ],
   "source": [
    "costs.info()#<проверим, что тип данных изменился>"
   ]
  },
  {
   "cell_type": "code",
   "execution_count": 315,
   "metadata": {},
   "outputs": [
    {
     "data": {
      "text/plain": [
       "count    2542.000000\n",
       "mean      129.477427\n",
       "std       156.296628\n",
       "min         0.540000\n",
       "25%        21.945000\n",
       "50%        77.295000\n",
       "75%       170.065000\n",
       "max      1788.280000\n",
       "Name: costs, dtype: float64"
      ]
     },
     "execution_count": 315,
     "metadata": {},
     "output_type": "execute_result"
    }
   ],
   "source": [
    "costs['costs'].describe()#<вывод статистических показателей методом describe>"
   ]
  },
  {
   "cell_type": "code",
   "execution_count": 316,
   "metadata": {},
   "outputs": [
    {
     "data": {
      "image/png": "[encoded data removed]",
      "text/plain": [
       "<Figure size 432x288 with 1 Axes>"
      ]
     },
     "metadata": {},
     "output_type": "display_data"
    }
   ],
   "source": [
    "plt.boxplot(costs['costs']) \n",
    "plt.title('Диаграмма \"ящик с укасами\" для затрат на рекламный источник', fontsize=12, color='blue')\n",
    "plt.ylabel('Значение затрат', fontsize=10, color='blue')\n",
    "plt.grid()\n",
    "plt.show()"
   ]
  },
  {
   "cell_type": "code",
   "execution_count": 317,
   "metadata": {},
   "outputs": [
    {
     "data": {
      "text/html": [
       "<div>\n",
       "<style scoped>\n",
       "    .dataframe tbody tr th:only-of-type {\n",
       "        vertical-align: middle;\n",
       "    }\n",
       "\n",
       "    .dataframe tbody tr th {\n",
       "        vertical-align: top;\n",
       "    }\n",
       "\n",
       "    .dataframe thead th {\n",
       "        text-align: right;\n",
       "    }\n",
       "</style>\n",
       "<table border=\"1\" class=\"dataframe\">\n",
       "  <thead>\n",
       "    <tr style=\"text-align: right;\">\n",
       "      <th></th>\n",
       "      <th>source_id</th>\n",
       "      <th>dt</th>\n",
       "      <th>costs</th>\n",
       "    </tr>\n",
       "  </thead>\n",
       "  <tbody>\n",
       "    <tr>\n",
       "      <th>902</th>\n",
       "      <td>3</td>\n",
       "      <td>2017-11-24</td>\n",
       "      <td>1788.28</td>\n",
       "    </tr>\n",
       "    <tr>\n",
       "      <th>919</th>\n",
       "      <td>3</td>\n",
       "      <td>2017-12-11</td>\n",
       "      <td>1061.18</td>\n",
       "    </tr>\n",
       "  </tbody>\n",
       "</table>\n",
       "</div>"
      ],
      "text/plain": [
       "     source_id         dt    costs\n",
       "902          3 2017-11-24  1788.28\n",
       "919          3 2017-12-11  1061.18"
      ]
     },
     "execution_count": 317,
     "metadata": {},
     "output_type": "execute_result"
    }
   ],
   "source": [
    "costs[costs['costs'] > 1000]"
   ]
  },
  {
   "cell_type": "markdown",
   "metadata": {},
   "source": [
    "Аналогично данным по выручке,  у затрат 75 процентов значений выручки меньше  170 при этом максимальное значение подозриительно очень большое и составляет 1788.28"
   ]
  },
  {
   "cell_type": "markdown",
   "metadata": {},
   "source": [
    "Выполним проверку таблиц на дубликаты"
   ]
  },
  {
   "cell_type": "code",
   "execution_count": 318,
   "metadata": {},
   "outputs": [
    {
     "name": "stdout",
     "output_type": "stream",
     "text": [
      "количество дубликатов в таблице visits_new: 0\n",
      "количество дубликатов в таблице orders: 0\n",
      "количество дубликатов в таблице costs: 0\n"
     ]
    }
   ],
   "source": [
    "print('количество дубликатов в таблице visits_new:',visits_new.duplicated().sum())\n",
    "print('количество дубликатов в таблице orders:',orders.duplicated().sum())\n",
    "print('количество дубликатов в таблице costs:',costs.duplicated().sum())"
   ]
  },
  {
   "cell_type": "markdown",
   "metadata": {},
   "source": [
    "Дубликаты отсуствуют"
   ]
  },
  {
   "cell_type": "markdown",
   "metadata": {},
   "source": [
    "## Вывод"
   ]
  },
  {
   "cell_type": "markdown",
   "metadata": {},
   "source": [
    "Провели предобработку данных, откоррективали названия столбцов, привели их в рабочий вид - убрали лишние пробелы, болььшие буквы. Изменили типы данных столбцов содержащих даты с object на datetime. Таже в процессе предобработки в таблице visits были выявлены 2 записи с нелогичной информацией, когда сессия началась позднее чем закончилась, сложно предопложить почему так, возможно некоррекно выгружены данные или в этом момент был сбой. В любом случае эти две записи удалили, чтобы они не повлияли на дальнейшие расчеты и анализ. По столбцам revenue и costs таблиц orders и costs соответственно были выявлены подозрительно большие значения, удалять их не стали, учтем эти данные в дальнейшем анализе. "
   ]
  },
  {
   "cell_type": "markdown",
   "metadata": {},
   "source": [
    "## 3. Исследовательский анализ"
   ]
  },
  {
   "cell_type": "markdown",
   "metadata": {},
   "source": [
    "### 3.1 Оценка пользовательской активности<a id=\"2\"> </a>"
   ]
  },
  {
   "cell_type": "markdown",
   "metadata": {},
   "source": [
    "Необходимо выделить в отдельные столбцы год, месяц, неделю, дату, для дальнейших рассчетов dau, mau, wau\n"
   ]
  },
  {
   "cell_type": "code",
   "execution_count": 319,
   "metadata": {},
   "outputs": [
    {
     "data": {
      "text/html": [
       "<div>\n",
       "<style scoped>\n",
       "    .dataframe tbody tr th:only-of-type {\n",
       "        vertical-align: middle;\n",
       "    }\n",
       "\n",
       "    .dataframe tbody tr th {\n",
       "        vertical-align: top;\n",
       "    }\n",
       "\n",
       "    .dataframe thead th {\n",
       "        text-align: right;\n",
       "    }\n",
       "</style>\n",
       "<table border=\"1\" class=\"dataframe\">\n",
       "  <thead>\n",
       "    <tr style=\"text-align: right;\">\n",
       "      <th></th>\n",
       "      <th>index</th>\n",
       "      <th>device</th>\n",
       "      <th>session_end_ts</th>\n",
       "      <th>source_id</th>\n",
       "      <th>session_start_ts</th>\n",
       "      <th>uid</th>\n",
       "      <th>delta_session</th>\n",
       "      <th>session_year</th>\n",
       "      <th>session_month</th>\n",
       "      <th>session_week</th>\n",
       "      <th>session_date</th>\n",
       "    </tr>\n",
       "  </thead>\n",
       "  <tbody>\n",
       "    <tr>\n",
       "      <th>0</th>\n",
       "      <td>0</td>\n",
       "      <td>touch</td>\n",
       "      <td>2017-12-20 17:38:00</td>\n",
       "      <td>4</td>\n",
       "      <td>2017-12-20 17:20:00</td>\n",
       "      <td>16879256277535980062</td>\n",
       "      <td>00:18:00</td>\n",
       "      <td>2017</td>\n",
       "      <td>12</td>\n",
       "      <td>51</td>\n",
       "      <td>2017-12-20</td>\n",
       "    </tr>\n",
       "    <tr>\n",
       "      <th>1</th>\n",
       "      <td>1</td>\n",
       "      <td>desktop</td>\n",
       "      <td>2018-02-19 17:21:00</td>\n",
       "      <td>2</td>\n",
       "      <td>2018-02-19 16:53:00</td>\n",
       "      <td>104060357244891740</td>\n",
       "      <td>00:28:00</td>\n",
       "      <td>2018</td>\n",
       "      <td>2</td>\n",
       "      <td>8</td>\n",
       "      <td>2018-02-19</td>\n",
       "    </tr>\n",
       "    <tr>\n",
       "      <th>2</th>\n",
       "      <td>2</td>\n",
       "      <td>touch</td>\n",
       "      <td>2017-07-01 01:54:00</td>\n",
       "      <td>5</td>\n",
       "      <td>2017-07-01 01:54:00</td>\n",
       "      <td>7459035603376831527</td>\n",
       "      <td>00:00:00</td>\n",
       "      <td>2017</td>\n",
       "      <td>7</td>\n",
       "      <td>26</td>\n",
       "      <td>2017-07-01</td>\n",
       "    </tr>\n",
       "    <tr>\n",
       "      <th>3</th>\n",
       "      <td>3</td>\n",
       "      <td>desktop</td>\n",
       "      <td>2018-05-20 11:23:00</td>\n",
       "      <td>9</td>\n",
       "      <td>2018-05-20 10:59:00</td>\n",
       "      <td>16174680259334210214</td>\n",
       "      <td>00:24:00</td>\n",
       "      <td>2018</td>\n",
       "      <td>5</td>\n",
       "      <td>20</td>\n",
       "      <td>2018-05-20</td>\n",
       "    </tr>\n",
       "    <tr>\n",
       "      <th>4</th>\n",
       "      <td>4</td>\n",
       "      <td>desktop</td>\n",
       "      <td>2017-12-27 14:06:00</td>\n",
       "      <td>3</td>\n",
       "      <td>2017-12-27 14:06:00</td>\n",
       "      <td>9969694820036681168</td>\n",
       "      <td>00:00:00</td>\n",
       "      <td>2017</td>\n",
       "      <td>12</td>\n",
       "      <td>52</td>\n",
       "      <td>2017-12-27</td>\n",
       "    </tr>\n",
       "  </tbody>\n",
       "</table>\n",
       "</div>"
      ],
      "text/plain": [
       "   index   device      session_end_ts  source_id    session_start_ts  \\\n",
       "0      0    touch 2017-12-20 17:38:00          4 2017-12-20 17:20:00   \n",
       "1      1  desktop 2018-02-19 17:21:00          2 2018-02-19 16:53:00   \n",
       "2      2    touch 2017-07-01 01:54:00          5 2017-07-01 01:54:00   \n",
       "3      3  desktop 2018-05-20 11:23:00          9 2018-05-20 10:59:00   \n",
       "4      4  desktop 2017-12-27 14:06:00          3 2017-12-27 14:06:00   \n",
       "\n",
       "                    uid delta_session  session_year  session_month  \\\n",
       "0  16879256277535980062      00:18:00          2017             12   \n",
       "1    104060357244891740      00:28:00          2018              2   \n",
       "2   7459035603376831527      00:00:00          2017              7   \n",
       "3  16174680259334210214      00:24:00          2018              5   \n",
       "4   9969694820036681168      00:00:00          2017             12   \n",
       "\n",
       "   session_week session_date  \n",
       "0            51   2017-12-20  \n",
       "1             8   2018-02-19  \n",
       "2            26   2017-07-01  \n",
       "3            20   2018-05-20  \n",
       "4            52   2017-12-27  "
      ]
     },
     "metadata": {},
     "output_type": "display_data"
    }
   ],
   "source": [
    "visits_new['session_year']  = visits_new['session_start_ts'].dt.year\n",
    "visits_new['session_month'] = visits_new['session_start_ts'].dt.month\n",
    "visits_new['session_week']  = visits_new['session_start_ts'].dt.week\n",
    "visits_new['session_date'] = visits_new['session_start_ts'].dt.date\n",
    "display(visits_new.head()) "
   ]
  },
  {
   "cell_type": "markdown",
   "metadata": {},
   "source": [
    "рассчитаем среднее в разрезе сгруппированных уникальных пользователей:"
   ]
  },
  {
   "cell_type": "code",
   "execution_count": 320,
   "metadata": {},
   "outputs": [
    {
     "name": "stdout",
     "output_type": "stream",
     "text": [
      "число активных пользователей за день 907\n",
      "число активных пользователей за неделю 5716\n",
      "число активных пользователей за месяц 23228\n"
     ]
    }
   ],
   "source": [
    "dau_total = visits_new.groupby('session_date').agg({'uid': 'nunique'}).mean()#<группировка по уникальным пользователям и расчет среднего значения за день>\n",
    "wau_total = visits_new.groupby(['session_year', 'session_week']).agg({'uid': 'nunique'}).mean()#<группировка по уникальным пользователям и расчет среднего значения за неделю>\n",
    "mau_total = visits_new.groupby(['session_year', 'session_month']).agg({'uid': 'nunique'}).mean()#<группировка по уникальным пользователям и расчет среднего значения за месяц>\n",
    "print('число активных пользователей за день', int(dau_total))\n",
    "print('число активных пользователей за неделю', int(wau_total)) \n",
    "print('число активных пользователей за месяц', int(mau_total))"
   ]
  },
  {
   "cell_type": "markdown",
   "metadata": {},
   "source": [
    "График динамики ежемесячного числа активных уникальных пользователей "
   ]
  },
  {
   "cell_type": "code",
   "execution_count": 321,
   "metadata": {},
   "outputs": [
    {
     "data": {
      "image/png": "[encoded data removed]",
      "text/plain": [
       "<Figure size 432x288 with 1 Axes>"
      ]
     },
     "metadata": {},
     "output_type": "display_data"
    }
   ],
   "source": [
    "visits_new.groupby(['session_month'])['uid'].nunique().plot()\n",
    "plt.title('Динамика ежемесячного числа активных уникальных пользователей ', fontsize=12, color='blue')\n",
    "plt.xlabel('Месяц', fontsize=10, color='blue')\n",
    "plt.ylabel('Количество пользователей', fontsize=10, color='blue')\n",
    "plt.show()"
   ]
  },
  {
   "cell_type": "markdown",
   "metadata": {},
   "source": [
    "По графику можно сказать, что в летние месяцы меньше активных уникальных пользователей приложения, их число возрастает к концу года, можно выделить некую сезонность."
   ]
  },
  {
   "cell_type": "code",
   "execution_count": 322,
   "metadata": {},
   "outputs": [
    {
     "name": "stdout",
     "output_type": "stream",
     "text": [
      "uid    3.90897\n",
      "dtype: float64\n",
      "uid    15.884409\n",
      "dtype: float64\n"
     ]
    }
   ],
   "source": [
    "sticky_mau = dau_total/mau_total *100\n",
    "sticky_wau = dau_total/wau_total *100\n",
    "print(sticky_mau) #<метрика Sticky Factor>\n",
    "print(sticky_wau) #<метрика Sticky Factor>\n"
   ]
  },
  {
   "cell_type": "markdown",
   "metadata": {},
   "source": [
    "3,9% пользователей (из тех что пользовались им за месяц) заходили в приложение ежедневно, не очень высокий показатель, и 15,8% пользователей (из тех, что были активны за неделю) пользовались им ежедневно."
   ]
  },
  {
   "cell_type": "markdown",
   "metadata": {},
   "source": [
    "### 3.2 Оценка пользовательских сессий<a id=\"3\"> </a>"
   ]
  },
  {
   "cell_type": "markdown",
   "metadata": {},
   "source": [
    "Чтобы узнать лояльность пользователей, посмотрим сколько сессий приходится на каждого пользователя и разделим это число на количество пользователей"
   ]
  },
  {
   "cell_type": "code",
   "execution_count": 323,
   "metadata": {},
   "outputs": [
    {
     "data": {
      "text/html": [
       "<div>\n",
       "<style scoped>\n",
       "    .dataframe tbody tr th:only-of-type {\n",
       "        vertical-align: middle;\n",
       "    }\n",
       "\n",
       "    .dataframe tbody tr th {\n",
       "        vertical-align: top;\n",
       "    }\n",
       "\n",
       "    .dataframe thead th {\n",
       "        text-align: right;\n",
       "    }\n",
       "</style>\n",
       "<table border=\"1\" class=\"dataframe\">\n",
       "  <thead>\n",
       "    <tr style=\"text-align: right;\">\n",
       "      <th></th>\n",
       "      <th></th>\n",
       "      <th></th>\n",
       "      <th></th>\n",
       "      <th>n_sessions</th>\n",
       "      <th>n_users</th>\n",
       "      <th>sessions_per_user</th>\n",
       "    </tr>\n",
       "    <tr>\n",
       "      <th>session_year</th>\n",
       "      <th>session_month</th>\n",
       "      <th>session_date</th>\n",
       "      <th>device</th>\n",
       "      <th></th>\n",
       "      <th></th>\n",
       "      <th></th>\n",
       "    </tr>\n",
       "  </thead>\n",
       "  <tbody>\n",
       "    <tr>\n",
       "      <th rowspan=\"5\" valign=\"top\">2017</th>\n",
       "      <th rowspan=\"5\" valign=\"top\">6</th>\n",
       "      <th rowspan=\"2\" valign=\"top\">2017-06-01</th>\n",
       "      <th>desktop</th>\n",
       "      <td>501</td>\n",
       "      <td>455</td>\n",
       "      <td>1.101099</td>\n",
       "    </tr>\n",
       "    <tr>\n",
       "      <th>touch</th>\n",
       "      <td>163</td>\n",
       "      <td>153</td>\n",
       "      <td>1.065359</td>\n",
       "    </tr>\n",
       "    <tr>\n",
       "      <th rowspan=\"2\" valign=\"top\">2017-06-02</th>\n",
       "      <th>desktop</th>\n",
       "      <td>498</td>\n",
       "      <td>458</td>\n",
       "      <td>1.087336</td>\n",
       "    </tr>\n",
       "    <tr>\n",
       "      <th>touch</th>\n",
       "      <td>160</td>\n",
       "      <td>152</td>\n",
       "      <td>1.052632</td>\n",
       "    </tr>\n",
       "    <tr>\n",
       "      <th>2017-06-03</th>\n",
       "      <th>desktop</th>\n",
       "      <td>329</td>\n",
       "      <td>307</td>\n",
       "      <td>1.071661</td>\n",
       "    </tr>\n",
       "  </tbody>\n",
       "</table>\n",
       "</div>"
      ],
      "text/plain": [
       "                                                 n_sessions  n_users  \\\n",
       "session_year session_month session_date device                         \n",
       "2017         6             2017-06-01   desktop         501      455   \n",
       "                                        touch           163      153   \n",
       "                           2017-06-02   desktop         498      458   \n",
       "                                        touch           160      152   \n",
       "                           2017-06-03   desktop         329      307   \n",
       "\n",
       "                                                 sessions_per_user  \n",
       "session_year session_month session_date device                      \n",
       "2017         6             2017-06-01   desktop           1.101099  \n",
       "                                        touch             1.065359  \n",
       "                           2017-06-02   desktop           1.087336  \n",
       "                                        touch             1.052632  \n",
       "                           2017-06-03   desktop           1.071661  "
      ]
     },
     "execution_count": 323,
     "metadata": {},
     "output_type": "execute_result"
    }
   ],
   "source": [
    "sessions_per_user = visits_new.groupby(['session_year', 'session_month', 'session_date', 'device']).agg({'uid': ['count','nunique']})#<группировка по году, месяцу и дню сессии с подсчетом количества сессии по уникальным пользователям>\n",
    "sessions_per_user.columns = ['n_sessions', 'n_users'] #<переименуем столбцы>\n",
    "sessions_per_user['sessions_per_user'] = sessions_per_user['n_sessions'] / sessions_per_user['n_users'] #<подсчет количества сессии на пользователя в день>\n",
    "sessions_per_user.head() "
   ]
  },
  {
   "cell_type": "markdown",
   "metadata": {},
   "source": [
    "Ежедневно один пользователь проводит в среднем одну сессию, отлично! Рассчитаем среднюю продолжительность сессии или ASL, чтобы понять сколько длится сессия пользователя в среднем. Длина всех сессий у нас уже посчитана в столбце delta_session, найдем среднее в секундах"
   ]
  },
  {
   "cell_type": "code",
   "execution_count": 324,
   "metadata": {},
   "outputs": [
    {
     "name": "stdout",
     "output_type": "stream",
     "text": [
      "Средняя продолжительность сессии или ASL 643.0422873805642\n"
     ]
    }
   ],
   "source": [
    "visits_new['delta_session'] = visits_new['delta_session'].dt.seconds #<переведем значения в секунды>\n",
    "print('Средняя продолжительность сессии или ASL', visits_new['delta_session'].mean())#<рассчитаем среднее и выведем на экран> \n"
   ]
  },
  {
   "cell_type": "markdown",
   "metadata": {},
   "source": [
    "Среднее посчитали, но посмотрим распределение, можно ли среднее счать оптимальным в нашем случае"
   ]
  },
  {
   "cell_type": "code",
   "execution_count": 325,
   "metadata": {},
   "outputs": [
    {
     "data": {
      "image/png": "[encoded data removed]",
      "text/plain": [
       "<Figure size 432x288 with 1 Axes>"
      ]
     },
     "metadata": {},
     "output_type": "display_data"
    }
   ],
   "source": [
    "visits_new['delta_session'].hist(bins=100) \n",
    "plt.title('Распределение продолжительности сессий', fontsize=12, color='blue')\n",
    "plt.xlabel('Продолжительностьи сессии', fontsize=10, color='blue')\n",
    "plt.ylabel('Частота', fontsize=10, color='blue')\n",
    "plt.show()"
   ]
  },
  {
   "cell_type": "markdown",
   "metadata": {},
   "source": [
    "Распределение нельзя назвать нормальным, оно имеет очень высокий пик, и при этом не очень длинный хвост, поэтому необходимо рассчитать моду, она меньше будет искажать представление о данных и точнее опишет выборку"
   ]
  },
  {
   "cell_type": "code",
   "execution_count": 326,
   "metadata": {},
   "outputs": [
    {
     "name": "stdout",
     "output_type": "stream",
     "text": [
      "0    60\n",
      "dtype: int64\n"
     ]
    }
   ],
   "source": [
    "print(visits_new['delta_session'].mode()) "
   ]
  },
  {
   "cell_type": "markdown",
   "metadata": {},
   "source": [
    "Получилось 60 секунд, чаще всего одна сессия длится минуту, не очень много пользователи проводят времени в приложении, чтобы понять хорошо это или нет, нужно посмотреть успевают ли пользователи совершить покупки за это время."
   ]
  },
  {
   "cell_type": "markdown",
   "metadata": {},
   "source": [
    "Посмотрим различается ли средняя продолжительность сессии на разных устройствах, сделаем два среза"
   ]
  },
  {
   "cell_type": "code",
   "execution_count": 327,
   "metadata": {},
   "outputs": [],
   "source": [
    "visits_new_desktop = visits_new.query('device == \"desktop\"')#срез по условию что устройство desktop\n",
    "visits_new_touch = visits_new.query('device == \"touch\"')#срез по условию что устройство touch"
   ]
  },
  {
   "cell_type": "code",
   "execution_count": 328,
   "metadata": {},
   "outputs": [
    {
     "name": "stdout",
     "output_type": "stream",
     "text": [
      "ASL на устройствах desktop 703.3120408279855\n",
      "ASL на устройствах touch 479.6194066072517\n"
     ]
    }
   ],
   "source": [
    "print('ASL на устройствах desktop', visits_new_desktop['delta_session'].mean())\n",
    "print('ASL на устройствах touch', visits_new_touch['delta_session'].mean())"
   ]
  },
  {
   "cell_type": "markdown",
   "metadata": {},
   "source": [
    "Получается, что с устройст desktop пользователи проводят больше времени в приложении чем с touch, может быть интерфейс вэб приложение более дружелюбный. Также это может быть связано с возрастной категорией пользователей. Посмотрим гистограммы распреледения продолжительности сессий с этих устройств"
   ]
  },
  {
   "cell_type": "code",
   "execution_count": 329,
   "metadata": {},
   "outputs": [
    {
     "data": {
      "image/png": "[encoded data removed]",
      "text/plain": [
       "<Figure size 1080x504 with 1 Axes>"
      ]
     },
     "metadata": {},
     "output_type": "display_data"
    }
   ],
   "source": [
    "ax = visits_new_desktop.plot(kind='hist', y='delta_session', histtype='step', range=(0, 42700), bins=100, linewidth=5, alpha=0.7, label='desktop')\n",
    "visits_new_touch.plot(kind='hist', y='delta_session', histtype='step', range=(0, 31000), bins=90, linewidth=5, alpha=0.7, label='touch', ax=ax, grid=True, legend=True, figsize=(15,7))\n",
    "plt.title('Распределение продолжительности сессий', fontsize=10, color='blue')\n",
    "plt.xlabel('продолжительность сессии', fontsize=12, color='blue')\n",
    "plt.ylabel('частота', fontsize=12, color='blue')\n",
    "plt.show()"
   ]
  },
  {
   "cell_type": "markdown",
   "metadata": {},
   "source": [
    "По гистограммам видно, что максимальная продолжительность на desktop устройствах гораздо больше, и в принципе с них чаще пользователи заходят в приложение. Также, посчитаем моду, поскольку она точнее охарактеризует наши распределения"
   ]
  },
  {
   "cell_type": "code",
   "execution_count": 330,
   "metadata": {},
   "outputs": [
    {
     "name": "stdout",
     "output_type": "stream",
     "text": [
      "на устройствах desktop 0    60\n",
      "dtype: int64\n",
      "на устройствах touch 0    60\n",
      "dtype: int64\n"
     ]
    }
   ],
   "source": [
    "print('на устройствах desktop', visits_new_desktop['delta_session'].mode())\n",
    "print('на устройствах touch', visits_new_touch['delta_session'].mode()) \n"
   ]
  },
  {
   "cell_type": "markdown",
   "metadata": {},
   "source": [
    "Значение моды получилось одинаковым - 60 секунд"
   ]
  },
  {
   "cell_type": "code",
   "execution_count": 331,
   "metadata": {},
   "outputs": [
    {
     "data": {
      "text/plain": [
       "count    262565.000000\n",
       "mean        703.312041\n",
       "std        1067.030043\n",
       "min           0.000000\n",
       "25%         120.000000\n",
       "50%         360.000000\n",
       "75%         900.000000\n",
       "max       42660.000000\n",
       "Name: delta_session, dtype: float64"
      ]
     },
     "execution_count": 331,
     "metadata": {},
     "output_type": "execute_result"
    }
   ],
   "source": [
    "visits_new_desktop['delta_session'].describe()"
   ]
  },
  {
   "cell_type": "code",
   "execution_count": 332,
   "metadata": {},
   "outputs": [
    {
     "data": {
      "text/plain": [
       "count    96833.000000\n",
       "mean       479.619407\n",
       "std        752.531533\n",
       "min          0.000000\n",
       "25%         60.000000\n",
       "50%        180.000000\n",
       "75%        600.000000\n",
       "max      30840.000000\n",
       "Name: delta_session, dtype: float64"
      ]
     },
     "execution_count": 332,
     "metadata": {},
     "output_type": "execute_result"
    }
   ],
   "source": [
    "visits_new_touch['delta_session'].describe()"
   ]
  },
  {
   "cell_type": "markdown",
   "metadata": {},
   "source": [
    "Значение моды получилось одинаковым - 60 секунд, но при этом 75% выборки по устройству desktop проводят менее 1,5 минут на странице и 75% выборки по устройству touch проводят менее минуты, все таки вэб приложение вероятно больше нравится пользователям."
   ]
  },
  {
   "cell_type": "markdown",
   "metadata": {},
   "source": [
    "Посмотрим на продолжительность сессии в разрезе рекламных источников, для этого сделаем сводные таблицы в разере источников и времени с указанием средней продолжительности сессии, и отобразим это на графике"
   ]
  },
  {
   "cell_type": "code",
   "execution_count": 333,
   "metadata": {},
   "outputs": [],
   "source": [
    "visits_source = visits_new.pivot_table(index = ['session_date', 'session_month'], columns = 'source_id', values = 'delta_session', aggfunc = 'mean') \\\n",
    "                             .reset_index()\n",
    "visits_source = visits_source.groupby(['session_month']).agg({'session_date': 'first', 1 : 'mean', 2 : 'mean', 3: 'mean', 4: 'mean', 5: 'mean', 6: 'mean', 7: 'mean', 9: 'mean', 10: 'mean',}) \\\n",
    ".sort_values(by = 'session_date', ascending = True)\n"
   ]
  },
  {
   "cell_type": "code",
   "execution_count": 334,
   "metadata": {},
   "outputs": [
    {
     "data": {
      "text/html": [
       "<div>\n",
       "<style scoped>\n",
       "    .dataframe tbody tr th:only-of-type {\n",
       "        vertical-align: middle;\n",
       "    }\n",
       "\n",
       "    .dataframe tbody tr th {\n",
       "        vertical-align: top;\n",
       "    }\n",
       "\n",
       "    .dataframe thead th {\n",
       "        text-align: right;\n",
       "    }\n",
       "</style>\n",
       "<table border=\"1\" class=\"dataframe\">\n",
       "  <thead>\n",
       "    <tr style=\"text-align: right;\">\n",
       "      <th></th>\n",
       "      <th>session_date</th>\n",
       "      <th>1</th>\n",
       "      <th>2</th>\n",
       "      <th>3</th>\n",
       "      <th>4</th>\n",
       "      <th>5</th>\n",
       "      <th>6</th>\n",
       "      <th>7</th>\n",
       "      <th>9</th>\n",
       "      <th>10</th>\n",
       "    </tr>\n",
       "    <tr>\n",
       "      <th>session_month</th>\n",
       "      <th></th>\n",
       "      <th></th>\n",
       "      <th></th>\n",
       "      <th></th>\n",
       "      <th></th>\n",
       "      <th></th>\n",
       "      <th></th>\n",
       "      <th></th>\n",
       "      <th></th>\n",
       "      <th></th>\n",
       "    </tr>\n",
       "  </thead>\n",
       "  <tbody>\n",
       "    <tr>\n",
       "      <th>6</th>\n",
       "      <td>2017-06-01</td>\n",
       "      <td>958.993972</td>\n",
       "      <td>825.602575</td>\n",
       "      <td>500.131496</td>\n",
       "      <td>515.005112</td>\n",
       "      <td>486.892343</td>\n",
       "      <td>NaN</td>\n",
       "      <td>150.0</td>\n",
       "      <td>409.523192</td>\n",
       "      <td>625.451966</td>\n",
       "    </tr>\n",
       "    <tr>\n",
       "      <th>7</th>\n",
       "      <td>2017-07-01</td>\n",
       "      <td>1129.288826</td>\n",
       "      <td>835.179997</td>\n",
       "      <td>491.684146</td>\n",
       "      <td>501.147628</td>\n",
       "      <td>487.765851</td>\n",
       "      <td>360.0</td>\n",
       "      <td>420.0</td>\n",
       "      <td>511.988346</td>\n",
       "      <td>551.344761</td>\n",
       "    </tr>\n",
       "    <tr>\n",
       "      <th>8</th>\n",
       "      <td>2017-08-01</td>\n",
       "      <td>1084.120863</td>\n",
       "      <td>777.120371</td>\n",
       "      <td>500.097484</td>\n",
       "      <td>486.558644</td>\n",
       "      <td>483.358146</td>\n",
       "      <td>180.0</td>\n",
       "      <td>5280.0</td>\n",
       "      <td>542.091221</td>\n",
       "      <td>449.303065</td>\n",
       "    </tr>\n",
       "    <tr>\n",
       "      <th>9</th>\n",
       "      <td>2017-09-01</td>\n",
       "      <td>919.027799</td>\n",
       "      <td>783.683313</td>\n",
       "      <td>520.346712</td>\n",
       "      <td>534.957623</td>\n",
       "      <td>490.424714</td>\n",
       "      <td>0.0</td>\n",
       "      <td>885.0</td>\n",
       "      <td>678.312214</td>\n",
       "      <td>577.099976</td>\n",
       "    </tr>\n",
       "    <tr>\n",
       "      <th>10</th>\n",
       "      <td>2017-10-01</td>\n",
       "      <td>947.862761</td>\n",
       "      <td>762.600313</td>\n",
       "      <td>558.434778</td>\n",
       "      <td>568.266041</td>\n",
       "      <td>511.034883</td>\n",
       "      <td>NaN</td>\n",
       "      <td>264.0</td>\n",
       "      <td>638.669733</td>\n",
       "      <td>558.558003</td>\n",
       "    </tr>\n",
       "  </tbody>\n",
       "</table>\n",
       "</div>"
      ],
      "text/plain": [
       "              session_date            1           2           3           4  \\\n",
       "session_month                                                                 \n",
       "6               2017-06-01   958.993972  825.602575  500.131496  515.005112   \n",
       "7               2017-07-01  1129.288826  835.179997  491.684146  501.147628   \n",
       "8               2017-08-01  1084.120863  777.120371  500.097484  486.558644   \n",
       "9               2017-09-01   919.027799  783.683313  520.346712  534.957623   \n",
       "10              2017-10-01   947.862761  762.600313  558.434778  568.266041   \n",
       "\n",
       "                        5      6       7           9          10  \n",
       "session_month                                                     \n",
       "6              486.892343    NaN   150.0  409.523192  625.451966  \n",
       "7              487.765851  360.0   420.0  511.988346  551.344761  \n",
       "8              483.358146  180.0  5280.0  542.091221  449.303065  \n",
       "9              490.424714    0.0   885.0  678.312214  577.099976  \n",
       "10             511.034883    NaN   264.0  638.669733  558.558003  "
      ]
     },
     "execution_count": 334,
     "metadata": {},
     "output_type": "execute_result"
    }
   ],
   "source": [
    "visits_source.head()"
   ]
  },
  {
   "cell_type": "code",
   "execution_count": 335,
   "metadata": {},
   "outputs": [
    {
     "data": {
      "image/png": "[encoded data removed]",
      "text/plain": [
       "<Figure size 1080x720 with 1 Axes>"
      ]
     },
     "metadata": {},
     "output_type": "display_data"
    }
   ],
   "source": [
    "visits_source.plot(x='session_date', y=[1, 2, 3, 4, 5,6, 7, 9, 10], kind=\"bar\", figsize=(15,10))\n",
    "plt.title('Средняя продолжительность сессии в разрезе рекламных источников', fontsize=12, color='blue')\n",
    "plt.xlabel('Рекламные источники', fontsize=10, color='blue')\n",
    "plt.ylabel('Средняя продолжительность сессии', fontsize=10, color='blue')\n",
    "pl.xticks(rotation = 45)\n",
    "plt.show()"
   ]
  },
  {
   "cell_type": "markdown",
   "metadata": {},
   "source": [
    "Самые стабильные источники под номерами 1 и 2 (что бы это ни значило, отсутсвует расшифровка номеров), присутствуют всплески по источникам 7 в августе 2017 и по номеру 6 в январе 2018, возможно были какие-то массовые рекламные компании, что способствовало такому росту длины сессии, но пользователи вообще перестали приходить из источника 6 и по источнику 7 тоже показатели после всплеска были низкими."
   ]
  },
  {
   "cell_type": "code",
   "execution_count": 336,
   "metadata": {},
   "outputs": [
    {
     "data": {
      "image/png": "[encoded data removed]",
      "text/plain": [
       "<Figure size 1080x720 with 1 Axes>"
      ]
     },
     "metadata": {},
     "output_type": "display_data"
    }
   ],
   "source": [
    "visits_source.plot(x='session_date', y=[1, 2, 3, 4, 5,6, 7, 9, 10], figsize=(15,10), marker=\"o\", linestyle='--')\n",
    "plt.title('Средняя продолжительность сессии в разрезе рекламных источников', fontsize=12, color='blue')\n",
    "plt.xlabel('Рекламные источники', fontsize=10, color='blue')\n",
    "plt.ylabel('Средняя продолжительность сессии', fontsize=10, color='blue')\n",
    "pl.xticks(rotation = 45)\n",
    "plt.show()"
   ]
  },
  {
   "cell_type": "markdown",
   "metadata": {},
   "source": [
    "### 3.3 Рассчет коэффициента удержания<a id=\"4\"> </a>"
   ]
  },
  {
   "cell_type": "markdown",
   "metadata": {},
   "source": [
    "Возьмём дату, когда пользователь впервые проявил активность в приложении. Эти данные запишем в объект Series first_activity_date. Объединим его с исходным датафреймом visits_new:"
   ]
  },
  {
   "cell_type": "code",
   "execution_count": 337,
   "metadata": {},
   "outputs": [],
   "source": [
    "visits_new['session_start_ts'] = pd.to_datetime(visits_new['session_start_ts'])\n",
    "first_activity_date = visits_new.groupby(['uid'])['session_start_ts'].min()#<находим дату первой активности в разрезе пользователей>\n",
    "first_activity_date.name = 'first_activity_date'\n",
    "visits_new = visits_new.join(first_activity_date,on='uid')#<присоединяем дату первой активности в исходную таблицу по столбцу uid> "
   ]
  },
  {
   "cell_type": "markdown",
   "metadata": {},
   "source": [
    "Необходимо добавить столбцы с информацией о месяце первого визита и о месяце первой сессии, сделать это можно методом astype('datetime64[M]') "
   ]
  },
  {
   "cell_type": "code",
   "execution_count": 338,
   "metadata": {},
   "outputs": [
    {
     "data": {
      "text/html": [
       "<div>\n",
       "<style scoped>\n",
       "    .dataframe tbody tr th:only-of-type {\n",
       "        vertical-align: middle;\n",
       "    }\n",
       "\n",
       "    .dataframe tbody tr th {\n",
       "        vertical-align: top;\n",
       "    }\n",
       "\n",
       "    .dataframe thead th {\n",
       "        text-align: right;\n",
       "    }\n",
       "</style>\n",
       "<table border=\"1\" class=\"dataframe\">\n",
       "  <thead>\n",
       "    <tr style=\"text-align: right;\">\n",
       "      <th></th>\n",
       "      <th>index</th>\n",
       "      <th>device</th>\n",
       "      <th>session_end_ts</th>\n",
       "      <th>source_id</th>\n",
       "      <th>session_start_ts</th>\n",
       "      <th>uid</th>\n",
       "      <th>delta_session</th>\n",
       "      <th>session_year</th>\n",
       "      <th>session_month</th>\n",
       "      <th>session_week</th>\n",
       "      <th>session_date</th>\n",
       "      <th>first_activity_date</th>\n",
       "      <th>first_activity_month</th>\n",
       "      <th>session_month_new</th>\n",
       "    </tr>\n",
       "  </thead>\n",
       "  <tbody>\n",
       "    <tr>\n",
       "      <th>0</th>\n",
       "      <td>0</td>\n",
       "      <td>touch</td>\n",
       "      <td>2017-12-20 17:38:00</td>\n",
       "      <td>4</td>\n",
       "      <td>2017-12-20 17:20:00</td>\n",
       "      <td>16879256277535980062</td>\n",
       "      <td>1080</td>\n",
       "      <td>2017</td>\n",
       "      <td>12</td>\n",
       "      <td>51</td>\n",
       "      <td>2017-12-20</td>\n",
       "      <td>2017-12-20 17:20:00</td>\n",
       "      <td>2017-12-01</td>\n",
       "      <td>2017-12-01</td>\n",
       "    </tr>\n",
       "    <tr>\n",
       "      <th>1</th>\n",
       "      <td>1</td>\n",
       "      <td>desktop</td>\n",
       "      <td>2018-02-19 17:21:00</td>\n",
       "      <td>2</td>\n",
       "      <td>2018-02-19 16:53:00</td>\n",
       "      <td>104060357244891740</td>\n",
       "      <td>1680</td>\n",
       "      <td>2018</td>\n",
       "      <td>2</td>\n",
       "      <td>8</td>\n",
       "      <td>2018-02-19</td>\n",
       "      <td>2018-02-19 16:53:00</td>\n",
       "      <td>2018-02-01</td>\n",
       "      <td>2018-02-01</td>\n",
       "    </tr>\n",
       "    <tr>\n",
       "      <th>2</th>\n",
       "      <td>2</td>\n",
       "      <td>touch</td>\n",
       "      <td>2017-07-01 01:54:00</td>\n",
       "      <td>5</td>\n",
       "      <td>2017-07-01 01:54:00</td>\n",
       "      <td>7459035603376831527</td>\n",
       "      <td>0</td>\n",
       "      <td>2017</td>\n",
       "      <td>7</td>\n",
       "      <td>26</td>\n",
       "      <td>2017-07-01</td>\n",
       "      <td>2017-07-01 01:54:00</td>\n",
       "      <td>2017-07-01</td>\n",
       "      <td>2017-07-01</td>\n",
       "    </tr>\n",
       "    <tr>\n",
       "      <th>3</th>\n",
       "      <td>3</td>\n",
       "      <td>desktop</td>\n",
       "      <td>2018-05-20 11:23:00</td>\n",
       "      <td>9</td>\n",
       "      <td>2018-05-20 10:59:00</td>\n",
       "      <td>16174680259334210214</td>\n",
       "      <td>1440</td>\n",
       "      <td>2018</td>\n",
       "      <td>5</td>\n",
       "      <td>20</td>\n",
       "      <td>2018-05-20</td>\n",
       "      <td>2018-03-09 20:05:00</td>\n",
       "      <td>2018-03-01</td>\n",
       "      <td>2018-05-01</td>\n",
       "    </tr>\n",
       "    <tr>\n",
       "      <th>4</th>\n",
       "      <td>4</td>\n",
       "      <td>desktop</td>\n",
       "      <td>2017-12-27 14:06:00</td>\n",
       "      <td>3</td>\n",
       "      <td>2017-12-27 14:06:00</td>\n",
       "      <td>9969694820036681168</td>\n",
       "      <td>0</td>\n",
       "      <td>2017</td>\n",
       "      <td>12</td>\n",
       "      <td>52</td>\n",
       "      <td>2017-12-27</td>\n",
       "      <td>2017-12-27 14:06:00</td>\n",
       "      <td>2017-12-01</td>\n",
       "      <td>2017-12-01</td>\n",
       "    </tr>\n",
       "  </tbody>\n",
       "</table>\n",
       "</div>"
      ],
      "text/plain": [
       "   index   device      session_end_ts  source_id    session_start_ts  \\\n",
       "0      0    touch 2017-12-20 17:38:00          4 2017-12-20 17:20:00   \n",
       "1      1  desktop 2018-02-19 17:21:00          2 2018-02-19 16:53:00   \n",
       "2      2    touch 2017-07-01 01:54:00          5 2017-07-01 01:54:00   \n",
       "3      3  desktop 2018-05-20 11:23:00          9 2018-05-20 10:59:00   \n",
       "4      4  desktop 2017-12-27 14:06:00          3 2017-12-27 14:06:00   \n",
       "\n",
       "                    uid  delta_session  session_year  session_month  \\\n",
       "0  16879256277535980062           1080          2017             12   \n",
       "1    104060357244891740           1680          2018              2   \n",
       "2   7459035603376831527              0          2017              7   \n",
       "3  16174680259334210214           1440          2018              5   \n",
       "4   9969694820036681168              0          2017             12   \n",
       "\n",
       "   session_week session_date first_activity_date first_activity_month  \\\n",
       "0            51   2017-12-20 2017-12-20 17:20:00           2017-12-01   \n",
       "1             8   2018-02-19 2018-02-19 16:53:00           2018-02-01   \n",
       "2            26   2017-07-01 2017-07-01 01:54:00           2017-07-01   \n",
       "3            20   2018-05-20 2018-03-09 20:05:00           2018-03-01   \n",
       "4            52   2017-12-27 2017-12-27 14:06:00           2017-12-01   \n",
       "\n",
       "  session_month_new  \n",
       "0        2017-12-01  \n",
       "1        2018-02-01  \n",
       "2        2017-07-01  \n",
       "3        2018-05-01  \n",
       "4        2017-12-01  "
      ]
     },
     "metadata": {},
     "output_type": "display_data"
    }
   ],
   "source": [
    "visits_new['first_activity_month'] = visits_new['first_activity_date'].astype('datetime64[M]')\n",
    "visits_new['session_month_new'] = visits_new['session_start_ts'].astype('datetime64[M]')\n",
    "display(visits_new.head(5)) "
   ]
  },
  {
   "cell_type": "markdown",
   "metadata": {},
   "source": [
    "группировка по столбцу first_activity_month"
   ]
  },
  {
   "cell_type": "code",
   "execution_count": 339,
   "metadata": {},
   "outputs": [
    {
     "data": {
      "text/html": [
       "<div>\n",
       "<style scoped>\n",
       "    .dataframe tbody tr th:only-of-type {\n",
       "        vertical-align: middle;\n",
       "    }\n",
       "\n",
       "    .dataframe tbody tr th {\n",
       "        vertical-align: top;\n",
       "    }\n",
       "\n",
       "    .dataframe thead th {\n",
       "        text-align: right;\n",
       "    }\n",
       "</style>\n",
       "<table border=\"1\" class=\"dataframe\">\n",
       "  <thead>\n",
       "    <tr style=\"text-align: right;\">\n",
       "      <th></th>\n",
       "      <th>uid</th>\n",
       "    </tr>\n",
       "    <tr>\n",
       "      <th>first_activity_month</th>\n",
       "      <th></th>\n",
       "    </tr>\n",
       "  </thead>\n",
       "  <tbody>\n",
       "    <tr>\n",
       "      <th>2017-06-01</th>\n",
       "      <td>13259</td>\n",
       "    </tr>\n",
       "    <tr>\n",
       "      <th>2017-07-01</th>\n",
       "      <td>13140</td>\n",
       "    </tr>\n",
       "    <tr>\n",
       "      <th>2017-08-01</th>\n",
       "      <td>10181</td>\n",
       "    </tr>\n",
       "    <tr>\n",
       "      <th>2017-09-01</th>\n",
       "      <td>16704</td>\n",
       "    </tr>\n",
       "    <tr>\n",
       "      <th>2017-10-01</th>\n",
       "      <td>25977</td>\n",
       "    </tr>\n",
       "  </tbody>\n",
       "</table>\n",
       "</div>"
      ],
      "text/plain": [
       "                        uid\n",
       "first_activity_month       \n",
       "2017-06-01            13259\n",
       "2017-07-01            13140\n",
       "2017-08-01            10181\n",
       "2017-09-01            16704\n",
       "2017-10-01            25977"
      ]
     },
     "metadata": {},
     "output_type": "display_data"
    }
   ],
   "source": [
    "cohort_grouped = visits_new.groupby('first_activity_month').agg({'uid':'nunique'})\n",
    "display(cohort_grouped.head()) "
   ]
  },
  {
   "cell_type": "markdown",
   "metadata": {},
   "source": [
    "Сначала число активных пользователей нарастает доходит своего пика в ноябре 2017, а затем начинает снижаться. Посмотрим как меняетсяч количество активных пользователей с течением времени в каждой когорте"
   ]
  },
  {
   "cell_type": "code",
   "execution_count": 340,
   "metadata": {},
   "outputs": [
    {
     "data": {
      "text/html": [
       "<div>\n",
       "<style scoped>\n",
       "    .dataframe tbody tr th:only-of-type {\n",
       "        vertical-align: middle;\n",
       "    }\n",
       "\n",
       "    .dataframe tbody tr th {\n",
       "        vertical-align: top;\n",
       "    }\n",
       "\n",
       "    .dataframe thead th {\n",
       "        text-align: right;\n",
       "    }\n",
       "</style>\n",
       "<table border=\"1\" class=\"dataframe\">\n",
       "  <thead>\n",
       "    <tr style=\"text-align: right;\">\n",
       "      <th>session_month_new</th>\n",
       "      <th>2017-06-01</th>\n",
       "      <th>2017-07-01</th>\n",
       "      <th>2017-08-01</th>\n",
       "      <th>2017-09-01</th>\n",
       "      <th>2017-10-01</th>\n",
       "      <th>2017-11-01</th>\n",
       "      <th>2017-12-01</th>\n",
       "      <th>2018-01-01</th>\n",
       "      <th>2018-02-01</th>\n",
       "      <th>2018-03-01</th>\n",
       "      <th>2018-04-01</th>\n",
       "      <th>2018-05-01</th>\n",
       "    </tr>\n",
       "    <tr>\n",
       "      <th>first_activity_month</th>\n",
       "      <th></th>\n",
       "      <th></th>\n",
       "      <th></th>\n",
       "      <th></th>\n",
       "      <th></th>\n",
       "      <th></th>\n",
       "      <th></th>\n",
       "      <th></th>\n",
       "      <th></th>\n",
       "      <th></th>\n",
       "      <th></th>\n",
       "      <th></th>\n",
       "    </tr>\n",
       "  </thead>\n",
       "  <tbody>\n",
       "    <tr>\n",
       "      <th>2017-06-01</th>\n",
       "      <td>13259.0</td>\n",
       "      <td>1043.0</td>\n",
       "      <td>713.0</td>\n",
       "      <td>814.0</td>\n",
       "      <td>909.0</td>\n",
       "      <td>947.0</td>\n",
       "      <td>809.0</td>\n",
       "      <td>766.0</td>\n",
       "      <td>694.0</td>\n",
       "      <td>674.0</td>\n",
       "      <td>539.0</td>\n",
       "      <td>596.0</td>\n",
       "    </tr>\n",
       "    <tr>\n",
       "      <th>2017-07-01</th>\n",
       "      <td>NaN</td>\n",
       "      <td>13140.0</td>\n",
       "      <td>737.0</td>\n",
       "      <td>674.0</td>\n",
       "      <td>738.0</td>\n",
       "      <td>765.0</td>\n",
       "      <td>633.0</td>\n",
       "      <td>596.0</td>\n",
       "      <td>601.0</td>\n",
       "      <td>510.0</td>\n",
       "      <td>376.0</td>\n",
       "      <td>361.0</td>\n",
       "    </tr>\n",
       "    <tr>\n",
       "      <th>2017-08-01</th>\n",
       "      <td>NaN</td>\n",
       "      <td>NaN</td>\n",
       "      <td>10181.0</td>\n",
       "      <td>783.0</td>\n",
       "      <td>640.0</td>\n",
       "      <td>639.0</td>\n",
       "      <td>510.0</td>\n",
       "      <td>448.0</td>\n",
       "      <td>370.0</td>\n",
       "      <td>402.0</td>\n",
       "      <td>284.0</td>\n",
       "      <td>265.0</td>\n",
       "    </tr>\n",
       "    <tr>\n",
       "      <th>2017-09-01</th>\n",
       "      <td>NaN</td>\n",
       "      <td>NaN</td>\n",
       "      <td>NaN</td>\n",
       "      <td>16704.0</td>\n",
       "      <td>1428.0</td>\n",
       "      <td>1156.0</td>\n",
       "      <td>847.0</td>\n",
       "      <td>658.0</td>\n",
       "      <td>632.0</td>\n",
       "      <td>599.0</td>\n",
       "      <td>404.0</td>\n",
       "      <td>381.0</td>\n",
       "    </tr>\n",
       "    <tr>\n",
       "      <th>2017-10-01</th>\n",
       "      <td>NaN</td>\n",
       "      <td>NaN</td>\n",
       "      <td>NaN</td>\n",
       "      <td>NaN</td>\n",
       "      <td>25977.0</td>\n",
       "      <td>2042.0</td>\n",
       "      <td>1357.0</td>\n",
       "      <td>1012.0</td>\n",
       "      <td>890.0</td>\n",
       "      <td>837.0</td>\n",
       "      <td>555.0</td>\n",
       "      <td>529.0</td>\n",
       "    </tr>\n",
       "    <tr>\n",
       "      <th>2017-11-01</th>\n",
       "      <td>NaN</td>\n",
       "      <td>NaN</td>\n",
       "      <td>NaN</td>\n",
       "      <td>NaN</td>\n",
       "      <td>NaN</td>\n",
       "      <td>27248.0</td>\n",
       "      <td>2133.0</td>\n",
       "      <td>1202.0</td>\n",
       "      <td>1054.0</td>\n",
       "      <td>919.0</td>\n",
       "      <td>638.0</td>\n",
       "      <td>594.0</td>\n",
       "    </tr>\n",
       "    <tr>\n",
       "      <th>2017-12-01</th>\n",
       "      <td>NaN</td>\n",
       "      <td>NaN</td>\n",
       "      <td>NaN</td>\n",
       "      <td>NaN</td>\n",
       "      <td>NaN</td>\n",
       "      <td>NaN</td>\n",
       "      <td>25268.0</td>\n",
       "      <td>1410.0</td>\n",
       "      <td>960.0</td>\n",
       "      <td>786.0</td>\n",
       "      <td>512.0</td>\n",
       "      <td>481.0</td>\n",
       "    </tr>\n",
       "    <tr>\n",
       "      <th>2018-01-01</th>\n",
       "      <td>NaN</td>\n",
       "      <td>NaN</td>\n",
       "      <td>NaN</td>\n",
       "      <td>NaN</td>\n",
       "      <td>NaN</td>\n",
       "      <td>NaN</td>\n",
       "      <td>NaN</td>\n",
       "      <td>22624.0</td>\n",
       "      <td>1351.0</td>\n",
       "      <td>890.0</td>\n",
       "      <td>565.0</td>\n",
       "      <td>458.0</td>\n",
       "    </tr>\n",
       "    <tr>\n",
       "      <th>2018-02-01</th>\n",
       "      <td>NaN</td>\n",
       "      <td>NaN</td>\n",
       "      <td>NaN</td>\n",
       "      <td>NaN</td>\n",
       "      <td>NaN</td>\n",
       "      <td>NaN</td>\n",
       "      <td>NaN</td>\n",
       "      <td>NaN</td>\n",
       "      <td>22197.0</td>\n",
       "      <td>1267.0</td>\n",
       "      <td>565.0</td>\n",
       "      <td>446.0</td>\n",
       "    </tr>\n",
       "    <tr>\n",
       "      <th>2018-03-01</th>\n",
       "      <td>NaN</td>\n",
       "      <td>NaN</td>\n",
       "      <td>NaN</td>\n",
       "      <td>NaN</td>\n",
       "      <td>NaN</td>\n",
       "      <td>NaN</td>\n",
       "      <td>NaN</td>\n",
       "      <td>NaN</td>\n",
       "      <td>NaN</td>\n",
       "      <td>20589.0</td>\n",
       "      <td>861.0</td>\n",
       "      <td>557.0</td>\n",
       "    </tr>\n",
       "    <tr>\n",
       "      <th>2018-04-01</th>\n",
       "      <td>NaN</td>\n",
       "      <td>NaN</td>\n",
       "      <td>NaN</td>\n",
       "      <td>NaN</td>\n",
       "      <td>NaN</td>\n",
       "      <td>NaN</td>\n",
       "      <td>NaN</td>\n",
       "      <td>NaN</td>\n",
       "      <td>NaN</td>\n",
       "      <td>NaN</td>\n",
       "      <td>15709.0</td>\n",
       "      <td>760.0</td>\n",
       "    </tr>\n",
       "    <tr>\n",
       "      <th>2018-05-01</th>\n",
       "      <td>NaN</td>\n",
       "      <td>NaN</td>\n",
       "      <td>NaN</td>\n",
       "      <td>NaN</td>\n",
       "      <td>NaN</td>\n",
       "      <td>NaN</td>\n",
       "      <td>NaN</td>\n",
       "      <td>NaN</td>\n",
       "      <td>NaN</td>\n",
       "      <td>NaN</td>\n",
       "      <td>NaN</td>\n",
       "      <td>15273.0</td>\n",
       "    </tr>\n",
       "  </tbody>\n",
       "</table>\n",
       "</div>"
      ],
      "text/plain": [
       "session_month_new     2017-06-01  2017-07-01  2017-08-01  2017-09-01  \\\n",
       "first_activity_month                                                   \n",
       "2017-06-01               13259.0      1043.0       713.0       814.0   \n",
       "2017-07-01                   NaN     13140.0       737.0       674.0   \n",
       "2017-08-01                   NaN         NaN     10181.0       783.0   \n",
       "2017-09-01                   NaN         NaN         NaN     16704.0   \n",
       "2017-10-01                   NaN         NaN         NaN         NaN   \n",
       "2017-11-01                   NaN         NaN         NaN         NaN   \n",
       "2017-12-01                   NaN         NaN         NaN         NaN   \n",
       "2018-01-01                   NaN         NaN         NaN         NaN   \n",
       "2018-02-01                   NaN         NaN         NaN         NaN   \n",
       "2018-03-01                   NaN         NaN         NaN         NaN   \n",
       "2018-04-01                   NaN         NaN         NaN         NaN   \n",
       "2018-05-01                   NaN         NaN         NaN         NaN   \n",
       "\n",
       "session_month_new     2017-10-01  2017-11-01  2017-12-01  2018-01-01  \\\n",
       "first_activity_month                                                   \n",
       "2017-06-01                 909.0       947.0       809.0       766.0   \n",
       "2017-07-01                 738.0       765.0       633.0       596.0   \n",
       "2017-08-01                 640.0       639.0       510.0       448.0   \n",
       "2017-09-01                1428.0      1156.0       847.0       658.0   \n",
       "2017-10-01               25977.0      2042.0      1357.0      1012.0   \n",
       "2017-11-01                   NaN     27248.0      2133.0      1202.0   \n",
       "2017-12-01                   NaN         NaN     25268.0      1410.0   \n",
       "2018-01-01                   NaN         NaN         NaN     22624.0   \n",
       "2018-02-01                   NaN         NaN         NaN         NaN   \n",
       "2018-03-01                   NaN         NaN         NaN         NaN   \n",
       "2018-04-01                   NaN         NaN         NaN         NaN   \n",
       "2018-05-01                   NaN         NaN         NaN         NaN   \n",
       "\n",
       "session_month_new     2018-02-01  2018-03-01  2018-04-01  2018-05-01  \n",
       "first_activity_month                                                  \n",
       "2017-06-01                 694.0       674.0       539.0       596.0  \n",
       "2017-07-01                 601.0       510.0       376.0       361.0  \n",
       "2017-08-01                 370.0       402.0       284.0       265.0  \n",
       "2017-09-01                 632.0       599.0       404.0       381.0  \n",
       "2017-10-01                 890.0       837.0       555.0       529.0  \n",
       "2017-11-01                1054.0       919.0       638.0       594.0  \n",
       "2017-12-01                 960.0       786.0       512.0       481.0  \n",
       "2018-01-01                1351.0       890.0       565.0       458.0  \n",
       "2018-02-01               22197.0      1267.0       565.0       446.0  \n",
       "2018-03-01                   NaN     20589.0       861.0       557.0  \n",
       "2018-04-01                   NaN         NaN     15709.0       760.0  \n",
       "2018-05-01                   NaN         NaN         NaN     15273.0  "
      ]
     },
     "execution_count": 340,
     "metadata": {},
     "output_type": "execute_result"
    }
   ],
   "source": [
    "visits_new.pivot_table(index='first_activity_month', columns='session_month_new', values='uid', aggfunc='nunique') "
   ]
  },
  {
   "cell_type": "markdown",
   "metadata": {},
   "source": [
    "После первого месяца количество покупателей в когорте снижается. В некоторых когортах число покупателей периодически начинает расти. Например в когортах 2017-06-01\tи 2017-07-01. Начиная с декабря 2017 во всех когортах количество активных пользователей уменьшается."
   ]
  },
  {
   "cell_type": "markdown",
   "metadata": {},
   "source": [
    "посчитаем lifetime пользователя в разрезе когорт."
   ]
  },
  {
   "cell_type": "code",
   "execution_count": 341,
   "metadata": {},
   "outputs": [],
   "source": [
    "visits_new['cohort_lifetime'] = visits_new['session_month_new'] - visits_new['first_activity_month']\n",
    "visits_new['cohort_lifetime'] = visits_new['cohort_lifetime'] / np.timedelta64(1,'M')\n",
    "#visits_new['cohort_lifetime'] = visits_new['cohort_lifetime'].astype('int')\n",
    "visits_new['cohort_lifetime'] = visits_new['cohort_lifetime'].round()"
   ]
  },
  {
   "cell_type": "markdown",
   "metadata": {},
   "source": [
    "Сгруппируем данные по когорте и lifetime, укажем  количество активных пользователей на определённый «месяц жизни»:"
   ]
  },
  {
   "cell_type": "code",
   "execution_count": 342,
   "metadata": {},
   "outputs": [
    {
     "data": {
      "text/html": [
       "<div>\n",
       "<style scoped>\n",
       "    .dataframe tbody tr th:only-of-type {\n",
       "        vertical-align: middle;\n",
       "    }\n",
       "\n",
       "    .dataframe tbody tr th {\n",
       "        vertical-align: top;\n",
       "    }\n",
       "\n",
       "    .dataframe thead th {\n",
       "        text-align: right;\n",
       "    }\n",
       "</style>\n",
       "<table border=\"1\" class=\"dataframe\">\n",
       "  <thead>\n",
       "    <tr style=\"text-align: right;\">\n",
       "      <th></th>\n",
       "      <th>first_activity_month</th>\n",
       "      <th>cohort_lifetime</th>\n",
       "      <th>uid</th>\n",
       "    </tr>\n",
       "  </thead>\n",
       "  <tbody>\n",
       "    <tr>\n",
       "      <th>0</th>\n",
       "      <td>2017-06-01</td>\n",
       "      <td>0.0</td>\n",
       "      <td>13259</td>\n",
       "    </tr>\n",
       "    <tr>\n",
       "      <th>1</th>\n",
       "      <td>2017-06-01</td>\n",
       "      <td>1.0</td>\n",
       "      <td>1043</td>\n",
       "    </tr>\n",
       "    <tr>\n",
       "      <th>2</th>\n",
       "      <td>2017-06-01</td>\n",
       "      <td>2.0</td>\n",
       "      <td>713</td>\n",
       "    </tr>\n",
       "    <tr>\n",
       "      <th>3</th>\n",
       "      <td>2017-06-01</td>\n",
       "      <td>3.0</td>\n",
       "      <td>814</td>\n",
       "    </tr>\n",
       "    <tr>\n",
       "      <th>4</th>\n",
       "      <td>2017-06-01</td>\n",
       "      <td>4.0</td>\n",
       "      <td>909</td>\n",
       "    </tr>\n",
       "  </tbody>\n",
       "</table>\n",
       "</div>"
      ],
      "text/plain": [
       "  first_activity_month  cohort_lifetime    uid\n",
       "0           2017-06-01              0.0  13259\n",
       "1           2017-06-01              1.0   1043\n",
       "2           2017-06-01              2.0    713\n",
       "3           2017-06-01              3.0    814\n",
       "4           2017-06-01              4.0    909"
      ]
     },
     "metadata": {},
     "output_type": "display_data"
    }
   ],
   "source": [
    "cohorts = visits_new.groupby(['first_activity_month','cohort_lifetime']).agg({'uid':'nunique'}).reset_index() \n",
    "display(cohorts.head())"
   ]
  },
  {
   "cell_type": "markdown",
   "metadata": {},
   "source": [
    "Для рассчета Retention Rate, мы должны за каждый месяц разделить число пользователей на число пользователей изначально бывших в когорте. Посчитаем количество пользователей на нулевой месяц."
   ]
  },
  {
   "cell_type": "code",
   "execution_count": 343,
   "metadata": {},
   "outputs": [],
   "source": [
    "initial_visits_count = cohorts[cohorts['cohort_lifetime'] == 0][['first_activity_month','uid']]\n"
   ]
  },
  {
   "cell_type": "code",
   "execution_count": 344,
   "metadata": {},
   "outputs": [],
   "source": [
    "initial_visits_count = initial_visits_count.rename(columns={'uid':'cohort_users'}) #<переименование столбца uid на cohort_users>"
   ]
  },
  {
   "cell_type": "code",
   "execution_count": 345,
   "metadata": {},
   "outputs": [
    {
     "data": {
      "text/html": [
       "<div>\n",
       "<style scoped>\n",
       "    .dataframe tbody tr th:only-of-type {\n",
       "        vertical-align: middle;\n",
       "    }\n",
       "\n",
       "    .dataframe tbody tr th {\n",
       "        vertical-align: top;\n",
       "    }\n",
       "\n",
       "    .dataframe thead th {\n",
       "        text-align: right;\n",
       "    }\n",
       "</style>\n",
       "<table border=\"1\" class=\"dataframe\">\n",
       "  <thead>\n",
       "    <tr style=\"text-align: right;\">\n",
       "      <th></th>\n",
       "      <th>first_activity_month</th>\n",
       "      <th>cohort_lifetime</th>\n",
       "      <th>uid</th>\n",
       "      <th>cohort_users</th>\n",
       "    </tr>\n",
       "  </thead>\n",
       "  <tbody>\n",
       "    <tr>\n",
       "      <th>0</th>\n",
       "      <td>2017-06-01</td>\n",
       "      <td>0.0</td>\n",
       "      <td>13259</td>\n",
       "      <td>13259</td>\n",
       "    </tr>\n",
       "    <tr>\n",
       "      <th>1</th>\n",
       "      <td>2017-06-01</td>\n",
       "      <td>1.0</td>\n",
       "      <td>1043</td>\n",
       "      <td>13259</td>\n",
       "    </tr>\n",
       "    <tr>\n",
       "      <th>2</th>\n",
       "      <td>2017-06-01</td>\n",
       "      <td>2.0</td>\n",
       "      <td>713</td>\n",
       "      <td>13259</td>\n",
       "    </tr>\n",
       "    <tr>\n",
       "      <th>3</th>\n",
       "      <td>2017-06-01</td>\n",
       "      <td>3.0</td>\n",
       "      <td>814</td>\n",
       "      <td>13259</td>\n",
       "    </tr>\n",
       "    <tr>\n",
       "      <th>4</th>\n",
       "      <td>2017-06-01</td>\n",
       "      <td>4.0</td>\n",
       "      <td>909</td>\n",
       "      <td>13259</td>\n",
       "    </tr>\n",
       "  </tbody>\n",
       "</table>\n",
       "</div>"
      ],
      "text/plain": [
       "  first_activity_month  cohort_lifetime    uid  cohort_users\n",
       "0           2017-06-01              0.0  13259         13259\n",
       "1           2017-06-01              1.0   1043         13259\n",
       "2           2017-06-01              2.0    713         13259\n",
       "3           2017-06-01              3.0    814         13259\n",
       "4           2017-06-01              4.0    909         13259"
      ]
     },
     "execution_count": 345,
     "metadata": {},
     "output_type": "execute_result"
    }
   ],
   "source": [
    "cohorts = cohorts.merge(initial_visits_count,on='first_activity_month') #<объедигение когортных даннных с исколдным количеством>\n",
    "cohorts.head()"
   ]
  },
  {
   "cell_type": "code",
   "execution_count": 346,
   "metadata": {},
   "outputs": [
    {
     "data": {
      "text/html": [
       "<div>\n",
       "<style scoped>\n",
       "    .dataframe tbody tr th:only-of-type {\n",
       "        vertical-align: middle;\n",
       "    }\n",
       "\n",
       "    .dataframe tbody tr th {\n",
       "        vertical-align: top;\n",
       "    }\n",
       "\n",
       "    .dataframe thead th {\n",
       "        text-align: right;\n",
       "    }\n",
       "</style>\n",
       "<table border=\"1\" class=\"dataframe\">\n",
       "  <thead>\n",
       "    <tr style=\"text-align: right;\">\n",
       "      <th></th>\n",
       "      <th>first_activity_month</th>\n",
       "      <th>cohort_lifetime</th>\n",
       "      <th>uid</th>\n",
       "      <th>cohort_users</th>\n",
       "      <th>retention</th>\n",
       "    </tr>\n",
       "  </thead>\n",
       "  <tbody>\n",
       "    <tr>\n",
       "      <th>0</th>\n",
       "      <td>2017-06-01</td>\n",
       "      <td>0.0</td>\n",
       "      <td>13259</td>\n",
       "      <td>13259</td>\n",
       "      <td>1.000000</td>\n",
       "    </tr>\n",
       "    <tr>\n",
       "      <th>1</th>\n",
       "      <td>2017-06-01</td>\n",
       "      <td>1.0</td>\n",
       "      <td>1043</td>\n",
       "      <td>13259</td>\n",
       "      <td>0.078664</td>\n",
       "    </tr>\n",
       "    <tr>\n",
       "      <th>2</th>\n",
       "      <td>2017-06-01</td>\n",
       "      <td>2.0</td>\n",
       "      <td>713</td>\n",
       "      <td>13259</td>\n",
       "      <td>0.053775</td>\n",
       "    </tr>\n",
       "    <tr>\n",
       "      <th>3</th>\n",
       "      <td>2017-06-01</td>\n",
       "      <td>3.0</td>\n",
       "      <td>814</td>\n",
       "      <td>13259</td>\n",
       "      <td>0.061392</td>\n",
       "    </tr>\n",
       "    <tr>\n",
       "      <th>4</th>\n",
       "      <td>2017-06-01</td>\n",
       "      <td>4.0</td>\n",
       "      <td>909</td>\n",
       "      <td>13259</td>\n",
       "      <td>0.068557</td>\n",
       "    </tr>\n",
       "  </tbody>\n",
       "</table>\n",
       "</div>"
      ],
      "text/plain": [
       "  first_activity_month  cohort_lifetime    uid  cohort_users  retention\n",
       "0           2017-06-01              0.0  13259         13259   1.000000\n",
       "1           2017-06-01              1.0   1043         13259   0.078664\n",
       "2           2017-06-01              2.0    713         13259   0.053775\n",
       "3           2017-06-01              3.0    814         13259   0.061392\n",
       "4           2017-06-01              4.0    909         13259   0.068557"
      ]
     },
     "execution_count": 346,
     "metadata": {},
     "output_type": "execute_result"
    }
   ],
   "source": [
    "cohorts['retention'] = cohorts['uid']/cohorts['cohort_users'] #<рассчет Retention Rate.>\n",
    "cohorts.head()"
   ]
  },
  {
   "cell_type": "markdown",
   "metadata": {},
   "source": [
    "Построим сводную таблицу и создадим тепловую карту:"
   ]
  },
  {
   "cell_type": "code",
   "execution_count": 347,
   "metadata": {},
   "outputs": [
    {
     "data": {
      "text/html": [
       "<div>\n",
       "<style scoped>\n",
       "    .dataframe tbody tr th:only-of-type {\n",
       "        vertical-align: middle;\n",
       "    }\n",
       "\n",
       "    .dataframe tbody tr th {\n",
       "        vertical-align: top;\n",
       "    }\n",
       "\n",
       "    .dataframe thead th {\n",
       "        text-align: right;\n",
       "    }\n",
       "</style>\n",
       "<table border=\"1\" class=\"dataframe\">\n",
       "  <thead>\n",
       "    <tr style=\"text-align: right;\">\n",
       "      <th>cohort_lifetime</th>\n",
       "      <th>1.0</th>\n",
       "      <th>2.0</th>\n",
       "      <th>3.0</th>\n",
       "      <th>4.0</th>\n",
       "      <th>5.0</th>\n",
       "      <th>6.0</th>\n",
       "      <th>7.0</th>\n",
       "      <th>8.0</th>\n",
       "      <th>9.0</th>\n",
       "      <th>10.0</th>\n",
       "      <th>11.0</th>\n",
       "    </tr>\n",
       "    <tr>\n",
       "      <th>first_activity_month</th>\n",
       "      <th></th>\n",
       "      <th></th>\n",
       "      <th></th>\n",
       "      <th></th>\n",
       "      <th></th>\n",
       "      <th></th>\n",
       "      <th></th>\n",
       "      <th></th>\n",
       "      <th></th>\n",
       "      <th></th>\n",
       "      <th></th>\n",
       "    </tr>\n",
       "  </thead>\n",
       "  <tbody>\n",
       "    <tr>\n",
       "      <th>2017-06-01</th>\n",
       "      <td>0.078664</td>\n",
       "      <td>0.053775</td>\n",
       "      <td>0.061392</td>\n",
       "      <td>0.068557</td>\n",
       "      <td>0.071423</td>\n",
       "      <td>0.061015</td>\n",
       "      <td>0.057772</td>\n",
       "      <td>0.052342</td>\n",
       "      <td>0.050833</td>\n",
       "      <td>0.040652</td>\n",
       "      <td>0.044951</td>\n",
       "    </tr>\n",
       "    <tr>\n",
       "      <th>2017-07-01</th>\n",
       "      <td>0.056088</td>\n",
       "      <td>0.051294</td>\n",
       "      <td>0.056164</td>\n",
       "      <td>0.058219</td>\n",
       "      <td>0.048174</td>\n",
       "      <td>0.045358</td>\n",
       "      <td>0.045738</td>\n",
       "      <td>0.038813</td>\n",
       "      <td>0.028615</td>\n",
       "      <td>0.027473</td>\n",
       "      <td>NaN</td>\n",
       "    </tr>\n",
       "    <tr>\n",
       "      <th>2017-08-01</th>\n",
       "      <td>0.076908</td>\n",
       "      <td>0.062862</td>\n",
       "      <td>0.062764</td>\n",
       "      <td>0.050093</td>\n",
       "      <td>0.044004</td>\n",
       "      <td>0.036342</td>\n",
       "      <td>0.039485</td>\n",
       "      <td>0.027895</td>\n",
       "      <td>0.026029</td>\n",
       "      <td>NaN</td>\n",
       "      <td>NaN</td>\n",
       "    </tr>\n",
       "    <tr>\n",
       "      <th>2017-09-01</th>\n",
       "      <td>0.085489</td>\n",
       "      <td>0.069205</td>\n",
       "      <td>0.050706</td>\n",
       "      <td>0.039392</td>\n",
       "      <td>0.037835</td>\n",
       "      <td>0.035860</td>\n",
       "      <td>0.024186</td>\n",
       "      <td>0.022809</td>\n",
       "      <td>NaN</td>\n",
       "      <td>NaN</td>\n",
       "      <td>NaN</td>\n",
       "    </tr>\n",
       "    <tr>\n",
       "      <th>2017-10-01</th>\n",
       "      <td>0.078608</td>\n",
       "      <td>0.052239</td>\n",
       "      <td>0.038958</td>\n",
       "      <td>0.034261</td>\n",
       "      <td>0.032221</td>\n",
       "      <td>0.021365</td>\n",
       "      <td>0.020364</td>\n",
       "      <td>NaN</td>\n",
       "      <td>NaN</td>\n",
       "      <td>NaN</td>\n",
       "      <td>NaN</td>\n",
       "    </tr>\n",
       "    <tr>\n",
       "      <th>2017-11-01</th>\n",
       "      <td>0.078281</td>\n",
       "      <td>0.044113</td>\n",
       "      <td>0.038682</td>\n",
       "      <td>0.033727</td>\n",
       "      <td>0.023415</td>\n",
       "      <td>0.021800</td>\n",
       "      <td>NaN</td>\n",
       "      <td>NaN</td>\n",
       "      <td>NaN</td>\n",
       "      <td>NaN</td>\n",
       "      <td>NaN</td>\n",
       "    </tr>\n",
       "    <tr>\n",
       "      <th>2017-12-01</th>\n",
       "      <td>0.055802</td>\n",
       "      <td>0.037993</td>\n",
       "      <td>0.031107</td>\n",
       "      <td>0.020263</td>\n",
       "      <td>0.019036</td>\n",
       "      <td>NaN</td>\n",
       "      <td>NaN</td>\n",
       "      <td>NaN</td>\n",
       "      <td>NaN</td>\n",
       "      <td>NaN</td>\n",
       "      <td>NaN</td>\n",
       "    </tr>\n",
       "    <tr>\n",
       "      <th>2018-01-01</th>\n",
       "      <td>0.059715</td>\n",
       "      <td>0.039339</td>\n",
       "      <td>0.024973</td>\n",
       "      <td>0.020244</td>\n",
       "      <td>NaN</td>\n",
       "      <td>NaN</td>\n",
       "      <td>NaN</td>\n",
       "      <td>NaN</td>\n",
       "      <td>NaN</td>\n",
       "      <td>NaN</td>\n",
       "      <td>NaN</td>\n",
       "    </tr>\n",
       "    <tr>\n",
       "      <th>2018-02-01</th>\n",
       "      <td>0.057080</td>\n",
       "      <td>0.025454</td>\n",
       "      <td>0.020093</td>\n",
       "      <td>NaN</td>\n",
       "      <td>NaN</td>\n",
       "      <td>NaN</td>\n",
       "      <td>NaN</td>\n",
       "      <td>NaN</td>\n",
       "      <td>NaN</td>\n",
       "      <td>NaN</td>\n",
       "      <td>NaN</td>\n",
       "    </tr>\n",
       "    <tr>\n",
       "      <th>2018-03-01</th>\n",
       "      <td>0.041818</td>\n",
       "      <td>0.027053</td>\n",
       "      <td>NaN</td>\n",
       "      <td>NaN</td>\n",
       "      <td>NaN</td>\n",
       "      <td>NaN</td>\n",
       "      <td>NaN</td>\n",
       "      <td>NaN</td>\n",
       "      <td>NaN</td>\n",
       "      <td>NaN</td>\n",
       "      <td>NaN</td>\n",
       "    </tr>\n",
       "    <tr>\n",
       "      <th>2018-04-01</th>\n",
       "      <td>0.048380</td>\n",
       "      <td>NaN</td>\n",
       "      <td>NaN</td>\n",
       "      <td>NaN</td>\n",
       "      <td>NaN</td>\n",
       "      <td>NaN</td>\n",
       "      <td>NaN</td>\n",
       "      <td>NaN</td>\n",
       "      <td>NaN</td>\n",
       "      <td>NaN</td>\n",
       "      <td>NaN</td>\n",
       "    </tr>\n",
       "    <tr>\n",
       "      <th>2018-05-01</th>\n",
       "      <td>NaN</td>\n",
       "      <td>NaN</td>\n",
       "      <td>NaN</td>\n",
       "      <td>NaN</td>\n",
       "      <td>NaN</td>\n",
       "      <td>NaN</td>\n",
       "      <td>NaN</td>\n",
       "      <td>NaN</td>\n",
       "      <td>NaN</td>\n",
       "      <td>NaN</td>\n",
       "      <td>NaN</td>\n",
       "    </tr>\n",
       "  </tbody>\n",
       "</table>\n",
       "</div>"
      ],
      "text/plain": [
       "cohort_lifetime           1.0       2.0       3.0       4.0       5.0   \\\n",
       "first_activity_month                                                     \n",
       "2017-06-01            0.078664  0.053775  0.061392  0.068557  0.071423   \n",
       "2017-07-01            0.056088  0.051294  0.056164  0.058219  0.048174   \n",
       "2017-08-01            0.076908  0.062862  0.062764  0.050093  0.044004   \n",
       "2017-09-01            0.085489  0.069205  0.050706  0.039392  0.037835   \n",
       "2017-10-01            0.078608  0.052239  0.038958  0.034261  0.032221   \n",
       "2017-11-01            0.078281  0.044113  0.038682  0.033727  0.023415   \n",
       "2017-12-01            0.055802  0.037993  0.031107  0.020263  0.019036   \n",
       "2018-01-01            0.059715  0.039339  0.024973  0.020244       NaN   \n",
       "2018-02-01            0.057080  0.025454  0.020093       NaN       NaN   \n",
       "2018-03-01            0.041818  0.027053       NaN       NaN       NaN   \n",
       "2018-04-01            0.048380       NaN       NaN       NaN       NaN   \n",
       "2018-05-01                 NaN       NaN       NaN       NaN       NaN   \n",
       "\n",
       "cohort_lifetime           6.0       7.0       8.0       9.0       10.0  \\\n",
       "first_activity_month                                                     \n",
       "2017-06-01            0.061015  0.057772  0.052342  0.050833  0.040652   \n",
       "2017-07-01            0.045358  0.045738  0.038813  0.028615  0.027473   \n",
       "2017-08-01            0.036342  0.039485  0.027895  0.026029       NaN   \n",
       "2017-09-01            0.035860  0.024186  0.022809       NaN       NaN   \n",
       "2017-10-01            0.021365  0.020364       NaN       NaN       NaN   \n",
       "2017-11-01            0.021800       NaN       NaN       NaN       NaN   \n",
       "2017-12-01                 NaN       NaN       NaN       NaN       NaN   \n",
       "2018-01-01                 NaN       NaN       NaN       NaN       NaN   \n",
       "2018-02-01                 NaN       NaN       NaN       NaN       NaN   \n",
       "2018-03-01                 NaN       NaN       NaN       NaN       NaN   \n",
       "2018-04-01                 NaN       NaN       NaN       NaN       NaN   \n",
       "2018-05-01                 NaN       NaN       NaN       NaN       NaN   \n",
       "\n",
       "cohort_lifetime           11.0  \n",
       "first_activity_month            \n",
       "2017-06-01            0.044951  \n",
       "2017-07-01                 NaN  \n",
       "2017-08-01                 NaN  \n",
       "2017-09-01                 NaN  \n",
       "2017-10-01                 NaN  \n",
       "2017-11-01                 NaN  \n",
       "2017-12-01                 NaN  \n",
       "2018-01-01                 NaN  \n",
       "2018-02-01                 NaN  \n",
       "2018-03-01                 NaN  \n",
       "2018-04-01                 NaN  \n",
       "2018-05-01                 NaN  "
      ]
     },
     "metadata": {},
     "output_type": "display_data"
    }
   ],
   "source": [
    "retention_pivot = cohorts.pivot_table(index='first_activity_month',columns='cohort_lifetime',values='retention',aggfunc='sum')\n",
    "retention_pivot.drop([0], axis='columns', inplace=True)\n",
    "display(retention_pivot)"
   ]
  },
  {
   "cell_type": "code",
   "execution_count": 348,
   "metadata": {},
   "outputs": [
    {
     "data": {
      "image/png": "[encoded data removed]",
      "text/plain": [
       "<Figure size 936x648 with 2 Axes>"
      ]
     },
     "metadata": {},
     "output_type": "display_data"
    }
   ],
   "source": [
    "sns.set(style='white')\n",
    "plt.figure(figsize=(13, 9))\n",
    "plt.title('Cohorts: User Retention')\n",
    "sns.heatmap(retention_pivot, annot=True, fmt='.1%', linewidths=1, linecolor='gray'); "
   ]
  },
  {
   "cell_type": "markdown",
   "metadata": {},
   "source": [
    "В первый месяц высокий коэффциент удержания держится вплоть у всех когород до ноябрьской, а у сентябрьской когорты, составляет рекордные 8,5%, у всех последующих когорт коэффциент удержания в первый месяц начинает все больше и больше снижать, т.е. в 2018 году поведение пользователей меняется, это свидительствуюет о изменение маркетинговой политики в не очень удачную сторону. То же самое происходит с данным коэффициентом во все последующие месяцы - с течением времени он снижается для всех когорт\n",
    "\n"
   ]
  },
  {
   "cell_type": "markdown",
   "metadata": {},
   "source": [
    "### 3.4 Анализ поведения пользователей<a id=\"5\"> </a>"
   ]
  },
  {
   "cell_type": "markdown",
   "metadata": {},
   "source": [
    "Попробуем оценить Retention Rate пользователей которые в первый месяц совершили хотя бы одну покупку и тех пользователей, котрые в первый месяц совершили более одной покупки\n"
   ]
  },
  {
   "cell_type": "markdown",
   "metadata": {},
   "source": [
    "По каждому пользователю выделим дату совершения первой покупки и добавим её к датафрейму orders:"
   ]
  },
  {
   "cell_type": "code",
   "execution_count": 349,
   "metadata": {},
   "outputs": [],
   "source": [
    "min_event_buy_ts = orders.groupby(['uid'])['buy_ts'].min()\n",
    "min_event_buy_ts.name = 'min_event_buy_ts'\n",
    "orders =  orders.join(min_event_buy_ts,on='uid') "
   ]
  },
  {
   "cell_type": "markdown",
   "metadata": {},
   "source": [
    "Создадим новый столбец time_to_buy, содержащий время между покупкой и первой покупкой пользователя:"
   ]
  },
  {
   "cell_type": "code",
   "execution_count": 350,
   "metadata": {},
   "outputs": [],
   "source": [
    "orders['time_to_buy'] = orders['buy_ts'] - orders['min_event_buy_ts'] "
   ]
  },
  {
   "cell_type": "markdown",
   "metadata": {},
   "source": [
    "Создадим срез filtered_buy, в котором оставим отметки о времени, зафиксированные менее, чем через 30 дней после первой покупки."
   ]
  },
  {
   "cell_type": "code",
   "execution_count": 351,
   "metadata": {},
   "outputs": [
    {
     "data": {
      "text/html": [
       "<div>\n",
       "<style scoped>\n",
       "    .dataframe tbody tr th:only-of-type {\n",
       "        vertical-align: middle;\n",
       "    }\n",
       "\n",
       "    .dataframe tbody tr th {\n",
       "        vertical-align: top;\n",
       "    }\n",
       "\n",
       "    .dataframe thead th {\n",
       "        text-align: right;\n",
       "    }\n",
       "</style>\n",
       "<table border=\"1\" class=\"dataframe\">\n",
       "  <thead>\n",
       "    <tr style=\"text-align: right;\">\n",
       "      <th></th>\n",
       "      <th>buy_ts</th>\n",
       "      <th>revenue</th>\n",
       "      <th>uid</th>\n",
       "      <th>min_event_buy_ts</th>\n",
       "      <th>time_to_buy</th>\n",
       "    </tr>\n",
       "  </thead>\n",
       "  <tbody>\n",
       "    <tr>\n",
       "      <th>0</th>\n",
       "      <td>2017-06-01 00:10:00</td>\n",
       "      <td>17.00</td>\n",
       "      <td>10329302124590727494</td>\n",
       "      <td>2017-06-01 00:10:00</td>\n",
       "      <td>0 days</td>\n",
       "    </tr>\n",
       "    <tr>\n",
       "      <th>1</th>\n",
       "      <td>2017-06-01 00:25:00</td>\n",
       "      <td>0.55</td>\n",
       "      <td>11627257723692907447</td>\n",
       "      <td>2017-06-01 00:25:00</td>\n",
       "      <td>0 days</td>\n",
       "    </tr>\n",
       "    <tr>\n",
       "      <th>2</th>\n",
       "      <td>2017-06-01 00:27:00</td>\n",
       "      <td>0.37</td>\n",
       "      <td>17903680561304213844</td>\n",
       "      <td>2017-06-01 00:27:00</td>\n",
       "      <td>0 days</td>\n",
       "    </tr>\n",
       "    <tr>\n",
       "      <th>3</th>\n",
       "      <td>2017-06-01 00:29:00</td>\n",
       "      <td>0.55</td>\n",
       "      <td>16109239769442553005</td>\n",
       "      <td>2017-06-01 00:29:00</td>\n",
       "      <td>0 days</td>\n",
       "    </tr>\n",
       "    <tr>\n",
       "      <th>4</th>\n",
       "      <td>2017-06-01 07:58:00</td>\n",
       "      <td>0.37</td>\n",
       "      <td>14200605875248379450</td>\n",
       "      <td>2017-06-01 07:58:00</td>\n",
       "      <td>0 days</td>\n",
       "    </tr>\n",
       "  </tbody>\n",
       "</table>\n",
       "</div>"
      ],
      "text/plain": [
       "               buy_ts  revenue                   uid    min_event_buy_ts  \\\n",
       "0 2017-06-01 00:10:00    17.00  10329302124590727494 2017-06-01 00:10:00   \n",
       "1 2017-06-01 00:25:00     0.55  11627257723692907447 2017-06-01 00:25:00   \n",
       "2 2017-06-01 00:27:00     0.37  17903680561304213844 2017-06-01 00:27:00   \n",
       "3 2017-06-01 00:29:00     0.55  16109239769442553005 2017-06-01 00:29:00   \n",
       "4 2017-06-01 07:58:00     0.37  14200605875248379450 2017-06-01 07:58:00   \n",
       "\n",
       "  time_to_buy  \n",
       "0      0 days  \n",
       "1      0 days  \n",
       "2      0 days  \n",
       "3      0 days  \n",
       "4      0 days  "
      ]
     },
     "metadata": {},
     "output_type": "display_data"
    }
   ],
   "source": [
    "filtered_buy = orders[(orders['time_to_buy'] < '30 days')]\n",
    "display(filtered_buy.head())"
   ]
  },
  {
   "cell_type": "markdown",
   "metadata": {},
   "source": [
    "Создадим датафрейм count_buy_by_users, где для каждого клиента из среза filtered_buy посчитаем количество отметок."
   ]
  },
  {
   "cell_type": "code",
   "execution_count": 352,
   "metadata": {},
   "outputs": [],
   "source": [
    "count_buy_by_users = filtered_buy.groupby(['uid']).agg({'buy_ts':'count'}).reset_index() "
   ]
  },
  {
   "cell_type": "markdown",
   "metadata": {},
   "source": [
    "Предположим что целевое поведение пользователя более 1 раза за месяц совершить покупку в нашем приложении"
   ]
  },
  {
   "cell_type": "code",
   "execution_count": 353,
   "metadata": {},
   "outputs": [],
   "source": [
    "count_buy_by_users['is_target_behavior'] = count_buy_by_users['buy_ts'] > 1"
   ]
  },
  {
   "cell_type": "code",
   "execution_count": 354,
   "metadata": {},
   "outputs": [
    {
     "data": {
      "text/html": [
       "<div>\n",
       "<style scoped>\n",
       "    .dataframe tbody tr th:only-of-type {\n",
       "        vertical-align: middle;\n",
       "    }\n",
       "\n",
       "    .dataframe tbody tr th {\n",
       "        vertical-align: top;\n",
       "    }\n",
       "\n",
       "    .dataframe thead th {\n",
       "        text-align: right;\n",
       "    }\n",
       "</style>\n",
       "<table border=\"1\" class=\"dataframe\">\n",
       "  <thead>\n",
       "    <tr style=\"text-align: right;\">\n",
       "      <th></th>\n",
       "      <th>uid</th>\n",
       "      <th>buy_ts</th>\n",
       "      <th>is_target_behavior</th>\n",
       "    </tr>\n",
       "  </thead>\n",
       "  <tbody>\n",
       "    <tr>\n",
       "      <th>0</th>\n",
       "      <td>313578113262317</td>\n",
       "      <td>1</td>\n",
       "      <td>False</td>\n",
       "    </tr>\n",
       "    <tr>\n",
       "      <th>1</th>\n",
       "      <td>1575281904278712</td>\n",
       "      <td>2</td>\n",
       "      <td>True</td>\n",
       "    </tr>\n",
       "    <tr>\n",
       "      <th>2</th>\n",
       "      <td>2429014661409475</td>\n",
       "      <td>1</td>\n",
       "      <td>False</td>\n",
       "    </tr>\n",
       "    <tr>\n",
       "      <th>3</th>\n",
       "      <td>2464366381792757</td>\n",
       "      <td>1</td>\n",
       "      <td>False</td>\n",
       "    </tr>\n",
       "    <tr>\n",
       "      <th>4</th>\n",
       "      <td>2551852515556206</td>\n",
       "      <td>2</td>\n",
       "      <td>True</td>\n",
       "    </tr>\n",
       "  </tbody>\n",
       "</table>\n",
       "</div>"
      ],
      "text/plain": [
       "                uid  buy_ts  is_target_behavior\n",
       "0   313578113262317       1               False\n",
       "1  1575281904278712       2                True\n",
       "2  2429014661409475       1               False\n",
       "3  2464366381792757       1               False\n",
       "4  2551852515556206       2                True"
      ]
     },
     "metadata": {},
     "output_type": "display_data"
    }
   ],
   "source": [
    "display(count_buy_by_users.head())"
   ]
  },
  {
   "cell_type": "markdown",
   "metadata": {},
   "source": [
    "Сформируем списки пользователей с целевым поведением (с количеством покупок более 1 в месяц) и с нецелевым поведением"
   ]
  },
  {
   "cell_type": "code",
   "execution_count": 355,
   "metadata": {},
   "outputs": [],
   "source": [
    "user_ids_with_target_behavior = count_buy_by_users[count_buy_by_users['is_target_behavior']]['uid'].unique()\n",
    "user_ids_without_target_behavior = count_buy_by_users[~count_buy_by_users['is_target_behavior']]['uid'].unique()"
   ]
  },
  {
   "cell_type": "markdown",
   "metadata": {},
   "source": [
    "В основном датафрейме разделим пользователей на 2 группы:\n",
    "Пользователи, которые совершили покупку более 1 раза — их примем за целевых пользователей поведенческой когорты;\n",
    "Пользователи, которые совершили покупку 1 раз;\n"
   ]
  },
  {
   "cell_type": "code",
   "execution_count": 356,
   "metadata": {},
   "outputs": [
    {
     "data": {
      "text/html": [
       "<div>\n",
       "<style scoped>\n",
       "    .dataframe tbody tr th:only-of-type {\n",
       "        vertical-align: middle;\n",
       "    }\n",
       "\n",
       "    .dataframe tbody tr th {\n",
       "        vertical-align: top;\n",
       "    }\n",
       "\n",
       "    .dataframe thead th {\n",
       "        text-align: right;\n",
       "    }\n",
       "</style>\n",
       "<table border=\"1\" class=\"dataframe\">\n",
       "  <thead>\n",
       "    <tr style=\"text-align: right;\">\n",
       "      <th></th>\n",
       "      <th>buy_ts</th>\n",
       "      <th>revenue</th>\n",
       "      <th>uid</th>\n",
       "      <th>min_event_buy_ts</th>\n",
       "      <th>time_to_buy</th>\n",
       "      <th>is_in_behavioral_cohort</th>\n",
       "    </tr>\n",
       "  </thead>\n",
       "  <tbody>\n",
       "    <tr>\n",
       "      <th>0</th>\n",
       "      <td>2017-06-01 00:10:00</td>\n",
       "      <td>17.00</td>\n",
       "      <td>10329302124590727494</td>\n",
       "      <td>2017-06-01 00:10:00</td>\n",
       "      <td>0 days</td>\n",
       "      <td>no</td>\n",
       "    </tr>\n",
       "    <tr>\n",
       "      <th>1</th>\n",
       "      <td>2017-06-01 00:25:00</td>\n",
       "      <td>0.55</td>\n",
       "      <td>11627257723692907447</td>\n",
       "      <td>2017-06-01 00:25:00</td>\n",
       "      <td>0 days</td>\n",
       "      <td>no</td>\n",
       "    </tr>\n",
       "    <tr>\n",
       "      <th>2</th>\n",
       "      <td>2017-06-01 00:27:00</td>\n",
       "      <td>0.37</td>\n",
       "      <td>17903680561304213844</td>\n",
       "      <td>2017-06-01 00:27:00</td>\n",
       "      <td>0 days</td>\n",
       "      <td>no</td>\n",
       "    </tr>\n",
       "    <tr>\n",
       "      <th>3</th>\n",
       "      <td>2017-06-01 00:29:00</td>\n",
       "      <td>0.55</td>\n",
       "      <td>16109239769442553005</td>\n",
       "      <td>2017-06-01 00:29:00</td>\n",
       "      <td>0 days</td>\n",
       "      <td>no</td>\n",
       "    </tr>\n",
       "    <tr>\n",
       "      <th>4</th>\n",
       "      <td>2017-06-01 07:58:00</td>\n",
       "      <td>0.37</td>\n",
       "      <td>14200605875248379450</td>\n",
       "      <td>2017-06-01 07:58:00</td>\n",
       "      <td>0 days</td>\n",
       "      <td>no</td>\n",
       "    </tr>\n",
       "  </tbody>\n",
       "</table>\n",
       "</div>"
      ],
      "text/plain": [
       "               buy_ts  revenue                   uid    min_event_buy_ts  \\\n",
       "0 2017-06-01 00:10:00    17.00  10329302124590727494 2017-06-01 00:10:00   \n",
       "1 2017-06-01 00:25:00     0.55  11627257723692907447 2017-06-01 00:25:00   \n",
       "2 2017-06-01 00:27:00     0.37  17903680561304213844 2017-06-01 00:27:00   \n",
       "3 2017-06-01 00:29:00     0.55  16109239769442553005 2017-06-01 00:29:00   \n",
       "4 2017-06-01 07:58:00     0.37  14200605875248379450 2017-06-01 07:58:00   \n",
       "\n",
       "  time_to_buy is_in_behavioral_cohort  \n",
       "0      0 days                      no  \n",
       "1      0 days                      no  \n",
       "2      0 days                      no  \n",
       "3      0 days                      no  \n",
       "4      0 days                      no  "
      ]
     },
     "metadata": {},
     "output_type": "display_data"
    }
   ],
   "source": [
    "orders.loc[orders['uid'].isin(user_ids_with_target_behavior), 'is_in_behavioral_cohort'] = 'yes'\n",
    "orders.loc[orders['uid'].isin(user_ids_without_target_behavior), 'is_in_behavioral_cohort'] = 'no'\n",
    "display(orders.head(5))"
   ]
  },
  {
   "cell_type": "code",
   "execution_count": 357,
   "metadata": {},
   "outputs": [
    {
     "name": "stdout",
     "output_type": "stream",
     "text": [
      "is_in_behavioral_cohort\n",
      "no     32235\n",
      "yes     4288\n",
      "Name: uid, dtype: int64\n"
     ]
    }
   ],
   "source": [
    "print(orders.groupby('is_in_behavioral_cohort')['uid'].nunique())"
   ]
  },
  {
   "cell_type": "markdown",
   "metadata": {},
   "source": [
    "Проанализируем, как для каждой поведенческой когорты изменяется Retention Rate с течением времени. Выделим месячные когорты и подсчитаем относительную неделю lifetime пользователя в приложении:"
   ]
  },
  {
   "cell_type": "code",
   "execution_count": 358,
   "metadata": {},
   "outputs": [],
   "source": [
    "\n",
    "orders['first_buy_month'] =orders['min_event_buy_ts'].astype('datetime64[M]')\n",
    "orders['buy_month'] = orders['buy_ts'].astype('datetime64[M]')\n",
    "orders['cohort_lifetime'] = orders['buy_month'] - orders['first_buy_month']\n",
    "orders['cohort_lifetime'] = orders['cohort_lifetime'] / np.timedelta64(1,'M')\n",
    "orders['cohort_lifetime'] = orders['cohort_lifetime'].round()"
   ]
  },
  {
   "cell_type": "code",
   "execution_count": 359,
   "metadata": {},
   "outputs": [],
   "source": [
    "def printRetentionRate(df):\n",
    "    cohorts = df.groupby(['first_buy_month','cohort_lifetime'],as_index=False).agg({'uid':'nunique'}).sort_values(['first_buy_month','cohort_lifetime'])\n",
    "    inital_users_count = cohorts[cohorts['cohort_lifetime'] == 0][['first_buy_month','uid']]\n",
    "    inital_users_count = inital_users_count.rename(columns={'uid':'cohort_users'})\n",
    "\n",
    "    cohorts = cohorts.merge(inital_users_count,on='first_buy_month')\n",
    "\n",
    "    cohorts['retention'] = cohorts['uid']/cohorts['cohort_users']\n",
    "\n",
    "\n",
    "    print (cohorts.groupby(['cohort_lifetime'])['retention'].mean())\n",
    "    cohorts.groupby(['cohort_lifetime'])['retention'].mean().plot.bar() "
   ]
  },
  {
   "cell_type": "markdown",
   "metadata": {},
   "source": [
    "\n",
    "Вызовем функцию printRetentionRate(), чтобы вывести данные о среднем Retention Rate по lifetime среди пользователей, попавших в поведенческую когорту клиентов. То есть тех, сделал покупку более 1 раза в первые 30 дней."
   ]
  },
  {
   "cell_type": "code",
   "execution_count": 360,
   "metadata": {},
   "outputs": [
    {
     "name": "stdout",
     "output_type": "stream",
     "text": [
      "cohort_lifetime\n",
      "0.0     1.000000\n",
      "1.0     0.225114\n",
      "2.0     0.064861\n",
      "3.0     0.054804\n",
      "4.0     0.058243\n",
      "5.0     0.049910\n",
      "6.0     0.045325\n",
      "7.0     0.053093\n",
      "8.0     0.051665\n",
      "9.0     0.042789\n",
      "10.0    0.060107\n",
      "11.0    0.076923\n",
      "Name: retention, dtype: float64\n"
     ]
    },
    {
     "data": {
      "image/png": "[encoded data removed]",
      "text/plain": [
       "<Figure size 432x288 with 1 Axes>"
      ]
     },
     "metadata": {},
     "output_type": "display_data"
    }
   ],
   "source": [
    "printRetentionRate(orders[orders['is_in_behavioral_cohort'] == 'yes'])"
   ]
  },
  {
   "cell_type": "code",
   "execution_count": 361,
   "metadata": {},
   "outputs": [
    {
     "name": "stdout",
     "output_type": "stream",
     "text": [
      "cohort_lifetime\n",
      "0.0     1.000000\n",
      "1.0     0.011155\n",
      "2.0     0.021568\n",
      "3.0     0.019228\n",
      "4.0     0.018009\n",
      "5.0     0.016264\n",
      "6.0     0.017116\n",
      "7.0     0.016601\n",
      "8.0     0.015789\n",
      "9.0     0.015338\n",
      "10.0    0.011818\n",
      "11.0    0.018718\n",
      "Name: retention, dtype: float64\n"
     ]
    },
    {
     "data": {
      "image/png": "[encoded data removed]",
      "text/plain": [
       "<Figure size 432x288 with 1 Axes>"
      ]
     },
     "metadata": {},
     "output_type": "display_data"
    }
   ],
   "source": [
    "printRetentionRate(orders[orders['is_in_behavioral_cohort'] == 'no'])"
   ]
  },
  {
   "cell_type": "markdown",
   "metadata": {},
   "source": [
    "Очевидно, что у пользователей, которые в первый месяц использования совершили больше одной покупки на Яндекс.Афишах коэффициент удержания гораздо выше чем у пользователей cовершивших одну покупку. Вероятно пользователи используют приложение больше в информационных целях, стоит задуматься почему, может быть не очень удобен сервис оплаты, или же не устраивает размер сервисного сбора."
   ]
  },
  {
   "cell_type": "markdown",
   "metadata": {},
   "source": [
    "\n"
   ]
  },
  {
   "cell_type": "markdown",
   "metadata": {},
   "source": [
    "Сделаем срез из таблицы по дате покупки за первые полгода выбоки т.е. с 01.06.2017 по 01.12.2017 и посчитаем среднее количество покупок на 1 клиента\n"
   ]
  },
  {
   "cell_type": "code",
   "execution_count": 362,
   "metadata": {},
   "outputs": [],
   "source": [
    "orders['year_of_by']  = orders['buy_ts'].dt.year\n",
    "orders['month_of_by'] = orders['buy_ts'].dt.month\n",
    "orders_first_six_months = orders[(orders['year_of_by'] == 2017)]\n",
    "orders_first_six_months = orders_first_six_months[orders_first_six_months['month_of_by'] < 12]"
   ]
  },
  {
   "cell_type": "code",
   "execution_count": 363,
   "metadata": {},
   "outputs": [
    {
     "name": "stdout",
     "output_type": "stream",
     "text": [
      "Среднее число покупок на одного клиента за первые 6 месяцев выборки 1.3021816399068513\n"
     ]
    }
   ],
   "source": [
    "number_purch_per_person = len(orders_first_six_months['buy_ts']) / orders_first_six_months['uid'].nunique()\n",
    "print('Среднее число покупок на одного клиента за первые 6 месяцев выборки',number_purch_per_person)"
   ]
  },
  {
   "cell_type": "markdown",
   "metadata": {},
   "source": [
    "### 3.5 Расчет среднего чека<a id=\"6\"> </a>"
   ]
  },
  {
   "cell_type": "markdown",
   "metadata": {},
   "source": [
    "Соединим таблицы visits и orders"
   ]
  },
  {
   "cell_type": "code",
   "execution_count": 364,
   "metadata": {},
   "outputs": [
    {
     "data": {
      "text/html": [
       "<div>\n",
       "<style scoped>\n",
       "    .dataframe tbody tr th:only-of-type {\n",
       "        vertical-align: middle;\n",
       "    }\n",
       "\n",
       "    .dataframe tbody tr th {\n",
       "        vertical-align: top;\n",
       "    }\n",
       "\n",
       "    .dataframe thead th {\n",
       "        text-align: right;\n",
       "    }\n",
       "</style>\n",
       "<table border=\"1\" class=\"dataframe\">\n",
       "  <thead>\n",
       "    <tr style=\"text-align: right;\">\n",
       "      <th></th>\n",
       "      <th>uid</th>\n",
       "      <th>buy_ts</th>\n",
       "      <th>revenue</th>\n",
       "      <th>min_event_buy_ts</th>\n",
       "      <th>time_to_buy</th>\n",
       "      <th>is_in_behavioral_cohort</th>\n",
       "      <th>first_buy_month</th>\n",
       "      <th>buy_month</th>\n",
       "      <th>cohort_lifetime</th>\n",
       "      <th>year_of_by</th>\n",
       "      <th>month_of_by</th>\n",
       "      <th>device</th>\n",
       "      <th>source_id</th>\n",
       "    </tr>\n",
       "  </thead>\n",
       "  <tbody>\n",
       "    <tr>\n",
       "      <th>0</th>\n",
       "      <td>9223707061355654945</td>\n",
       "      <td>2017-10-31 22:56:00</td>\n",
       "      <td>4.64</td>\n",
       "      <td>2017-10-31 22:56:00</td>\n",
       "      <td>0 days 00:00:00</td>\n",
       "      <td>no</td>\n",
       "      <td>2017-10-01</td>\n",
       "      <td>2017-10-01</td>\n",
       "      <td>0.0</td>\n",
       "      <td>2017</td>\n",
       "      <td>10</td>\n",
       "      <td>touch</td>\n",
       "      <td>9</td>\n",
       "    </tr>\n",
       "    <tr>\n",
       "      <th>1</th>\n",
       "      <td>9224005701666002943</td>\n",
       "      <td>2017-12-26 11:15:00</td>\n",
       "      <td>3.36</td>\n",
       "      <td>2017-12-26 11:15:00</td>\n",
       "      <td>0 days 00:00:00</td>\n",
       "      <td>no</td>\n",
       "      <td>2017-12-01</td>\n",
       "      <td>2017-12-01</td>\n",
       "      <td>0.0</td>\n",
       "      <td>2017</td>\n",
       "      <td>12</td>\n",
       "      <td>desktop</td>\n",
       "      <td>5</td>\n",
       "    </tr>\n",
       "    <tr>\n",
       "      <th>2</th>\n",
       "      <td>9224005701666002943</td>\n",
       "      <td>2018-03-16 17:11:00</td>\n",
       "      <td>3.67</td>\n",
       "      <td>2017-12-26 11:15:00</td>\n",
       "      <td>80 days 05:56:00</td>\n",
       "      <td>no</td>\n",
       "      <td>2017-12-01</td>\n",
       "      <td>2018-03-01</td>\n",
       "      <td>3.0</td>\n",
       "      <td>2018</td>\n",
       "      <td>3</td>\n",
       "      <td>desktop</td>\n",
       "      <td>5</td>\n",
       "    </tr>\n",
       "    <tr>\n",
       "      <th>3</th>\n",
       "      <td>9225406053864431006</td>\n",
       "      <td>2017-12-28 16:29:00</td>\n",
       "      <td>0.43</td>\n",
       "      <td>2017-12-28 16:29:00</td>\n",
       "      <td>0 days 00:00:00</td>\n",
       "      <td>no</td>\n",
       "      <td>2017-12-01</td>\n",
       "      <td>2017-12-01</td>\n",
       "      <td>0.0</td>\n",
       "      <td>2017</td>\n",
       "      <td>12</td>\n",
       "      <td>desktop</td>\n",
       "      <td>4</td>\n",
       "    </tr>\n",
       "    <tr>\n",
       "      <th>4</th>\n",
       "      <td>9225479525411867039</td>\n",
       "      <td>2018-02-25 16:54:00</td>\n",
       "      <td>7.33</td>\n",
       "      <td>2018-02-25 16:54:00</td>\n",
       "      <td>0 days 00:00:00</td>\n",
       "      <td>no</td>\n",
       "      <td>2018-02-01</td>\n",
       "      <td>2018-02-01</td>\n",
       "      <td>0.0</td>\n",
       "      <td>2018</td>\n",
       "      <td>2</td>\n",
       "      <td>touch</td>\n",
       "      <td>4</td>\n",
       "    </tr>\n",
       "  </tbody>\n",
       "</table>\n",
       "</div>"
      ],
      "text/plain": [
       "                   uid              buy_ts  revenue    min_event_buy_ts  \\\n",
       "0  9223707061355654945 2017-10-31 22:56:00     4.64 2017-10-31 22:56:00   \n",
       "1  9224005701666002943 2017-12-26 11:15:00     3.36 2017-12-26 11:15:00   \n",
       "2  9224005701666002943 2018-03-16 17:11:00     3.67 2017-12-26 11:15:00   \n",
       "3  9225406053864431006 2017-12-28 16:29:00     0.43 2017-12-28 16:29:00   \n",
       "4  9225479525411867039 2018-02-25 16:54:00     7.33 2018-02-25 16:54:00   \n",
       "\n",
       "       time_to_buy is_in_behavioral_cohort first_buy_month  buy_month  \\\n",
       "0  0 days 00:00:00                      no      2017-10-01 2017-10-01   \n",
       "1  0 days 00:00:00                      no      2017-12-01 2017-12-01   \n",
       "2 80 days 05:56:00                      no      2017-12-01 2018-03-01   \n",
       "3  0 days 00:00:00                      no      2017-12-01 2017-12-01   \n",
       "4  0 days 00:00:00                      no      2018-02-01 2018-02-01   \n",
       "\n",
       "   cohort_lifetime  year_of_by  month_of_by   device  source_id  \n",
       "0              0.0        2017           10    touch          9  \n",
       "1              0.0        2017           12  desktop          5  \n",
       "2              3.0        2018            3  desktop          5  \n",
       "3              0.0        2017           12  desktop          4  \n",
       "4              0.0        2018            2    touch          4  "
      ]
     },
     "metadata": {},
     "output_type": "display_data"
    }
   ],
   "source": [
    "visits_orders = orders.set_index(['uid']).join(visits_new.groupby(['uid']).agg({'device':'first', 'source_id': 'first'})).reset_index()\n",
    "display(visits_orders.head())"
   ]
  },
  {
   "cell_type": "code",
   "execution_count": 365,
   "metadata": {},
   "outputs": [
    {
     "data": {
      "text/plain": [
       "4.999646930477041"
      ]
     },
     "execution_count": 365,
     "metadata": {},
     "output_type": "execute_result"
    }
   ],
   "source": [
    "visits_orders['revenue'].sum() / len(visits_orders['revenue'])"
   ]
  },
  {
   "cell_type": "markdown",
   "metadata": {},
   "source": [
    "Сперва сгруппируем данные по когорте first_buy_month и месяцу совершения заказа buy_month:"
   ]
  },
  {
   "cell_type": "code",
   "execution_count": 366,
   "metadata": {},
   "outputs": [
    {
     "data": {
      "text/html": [
       "<div>\n",
       "<style scoped>\n",
       "    .dataframe tbody tr th:only-of-type {\n",
       "        vertical-align: middle;\n",
       "    }\n",
       "\n",
       "    .dataframe tbody tr th {\n",
       "        vertical-align: top;\n",
       "    }\n",
       "\n",
       "    .dataframe thead th {\n",
       "        text-align: right;\n",
       "    }\n",
       "</style>\n",
       "<table border=\"1\" class=\"dataframe\">\n",
       "  <thead>\n",
       "    <tr style=\"text-align: right;\">\n",
       "      <th></th>\n",
       "      <th></th>\n",
       "      <th>revenue</th>\n",
       "      <th>uid</th>\n",
       "    </tr>\n",
       "    <tr>\n",
       "      <th>first_buy_month</th>\n",
       "      <th>buy_month</th>\n",
       "      <th></th>\n",
       "      <th></th>\n",
       "    </tr>\n",
       "  </thead>\n",
       "  <tbody>\n",
       "    <tr>\n",
       "      <th rowspan=\"5\" valign=\"top\">2017-06-01</th>\n",
       "      <th>2017-06-01</th>\n",
       "      <td>9557.49</td>\n",
       "      <td>2023</td>\n",
       "    </tr>\n",
       "    <tr>\n",
       "      <th>2017-07-01</th>\n",
       "      <td>981.82</td>\n",
       "      <td>61</td>\n",
       "    </tr>\n",
       "    <tr>\n",
       "      <th>2017-08-01</th>\n",
       "      <td>885.34</td>\n",
       "      <td>50</td>\n",
       "    </tr>\n",
       "    <tr>\n",
       "      <th>2017-09-01</th>\n",
       "      <td>1931.30</td>\n",
       "      <td>54</td>\n",
       "    </tr>\n",
       "    <tr>\n",
       "      <th>2017-10-01</th>\n",
       "      <td>2068.58</td>\n",
       "      <td>88</td>\n",
       "    </tr>\n",
       "  </tbody>\n",
       "</table>\n",
       "</div>"
      ],
      "text/plain": [
       "                            revenue   uid\n",
       "first_buy_month buy_month                \n",
       "2017-06-01      2017-06-01  9557.49  2023\n",
       "                2017-07-01   981.82    61\n",
       "                2017-08-01   885.34    50\n",
       "                2017-09-01  1931.30    54\n",
       "                2017-10-01  2068.58    88"
      ]
     },
     "metadata": {},
     "output_type": "display_data"
    }
   ],
   "source": [
    "orders_grouped_by_cohorts = visits_orders.groupby(['first_buy_month','buy_month']).agg({'revenue':'sum','uid':'nunique'})\n",
    "display(orders_grouped_by_cohorts.head(5)) "
   ]
  },
  {
   "cell_type": "markdown",
   "metadata": {},
   "source": [
    "Найдём средний чек покупателя revenue_per_user — разделим показатель revenue на uid:"
   ]
  },
  {
   "cell_type": "code",
   "execution_count": 367,
   "metadata": {},
   "outputs": [
    {
     "data": {
      "text/html": [
       "<div>\n",
       "<style scoped>\n",
       "    .dataframe tbody tr th:only-of-type {\n",
       "        vertical-align: middle;\n",
       "    }\n",
       "\n",
       "    .dataframe tbody tr th {\n",
       "        vertical-align: top;\n",
       "    }\n",
       "\n",
       "    .dataframe thead th {\n",
       "        text-align: right;\n",
       "    }\n",
       "</style>\n",
       "<table border=\"1\" class=\"dataframe\">\n",
       "  <thead>\n",
       "    <tr style=\"text-align: right;\">\n",
       "      <th></th>\n",
       "      <th></th>\n",
       "      <th>revenue</th>\n",
       "      <th>uid</th>\n",
       "      <th>revenue_per_user</th>\n",
       "    </tr>\n",
       "    <tr>\n",
       "      <th>first_buy_month</th>\n",
       "      <th>buy_month</th>\n",
       "      <th></th>\n",
       "      <th></th>\n",
       "      <th></th>\n",
       "    </tr>\n",
       "  </thead>\n",
       "  <tbody>\n",
       "    <tr>\n",
       "      <th rowspan=\"5\" valign=\"top\">2017-06-01</th>\n",
       "      <th>2017-06-01</th>\n",
       "      <td>9557.49</td>\n",
       "      <td>2023</td>\n",
       "      <td>4.724414</td>\n",
       "    </tr>\n",
       "    <tr>\n",
       "      <th>2017-07-01</th>\n",
       "      <td>981.82</td>\n",
       "      <td>61</td>\n",
       "      <td>16.095410</td>\n",
       "    </tr>\n",
       "    <tr>\n",
       "      <th>2017-08-01</th>\n",
       "      <td>885.34</td>\n",
       "      <td>50</td>\n",
       "      <td>17.706800</td>\n",
       "    </tr>\n",
       "    <tr>\n",
       "      <th>2017-09-01</th>\n",
       "      <td>1931.30</td>\n",
       "      <td>54</td>\n",
       "      <td>35.764815</td>\n",
       "    </tr>\n",
       "    <tr>\n",
       "      <th>2017-10-01</th>\n",
       "      <td>2068.58</td>\n",
       "      <td>88</td>\n",
       "      <td>23.506591</td>\n",
       "    </tr>\n",
       "  </tbody>\n",
       "</table>\n",
       "</div>"
      ],
      "text/plain": [
       "                            revenue   uid  revenue_per_user\n",
       "first_buy_month buy_month                                  \n",
       "2017-06-01      2017-06-01  9557.49  2023          4.724414\n",
       "                2017-07-01   981.82    61         16.095410\n",
       "                2017-08-01   885.34    50         17.706800\n",
       "                2017-09-01  1931.30    54         35.764815\n",
       "                2017-10-01  2068.58    88         23.506591"
      ]
     },
     "execution_count": 367,
     "metadata": {},
     "output_type": "execute_result"
    }
   ],
   "source": [
    "orders_grouped_by_cohorts['revenue_per_user'] = orders_grouped_by_cohorts['revenue'] / orders_grouped_by_cohorts['uid']\n",
    "orders_grouped_by_cohorts.head()"
   ]
  },
  {
   "cell_type": "markdown",
   "metadata": {},
   "source": [
    "Посмотрим на гистограмму распределения среднего чека"
   ]
  },
  {
   "cell_type": "code",
   "execution_count": 368,
   "metadata": {},
   "outputs": [
    {
     "data": {
      "text/plain": [
       "count     79.000000\n",
       "mean      14.733568\n",
       "std       16.764783\n",
       "min        3.420000\n",
       "25%        6.862373\n",
       "50%       11.044651\n",
       "75%       18.464348\n",
       "max      138.669189\n",
       "Name: revenue_per_user, dtype: float64"
      ]
     },
     "execution_count": 368,
     "metadata": {},
     "output_type": "execute_result"
    }
   ],
   "source": [
    "orders_grouped_by_cohorts['revenue_per_user'].describe()"
   ]
  },
  {
   "cell_type": "code",
   "execution_count": 369,
   "metadata": {},
   "outputs": [
    {
     "data": {
      "image/png": "[encoded data removed]",
      "text/plain": [
       "<Figure size 432x288 with 1 Axes>"
      ]
     },
     "metadata": {},
     "output_type": "display_data"
    }
   ],
   "source": [
    "\n",
    "orders_grouped_by_cohorts['revenue_per_user'].hist(bins=100) \n",
    "plt.title('Распределение среднего чека', fontsize=12, color='blue')\n",
    "plt.xlabel('Размер среднего чека', fontsize=10, color='blue')\n",
    "plt.ylabel('Частота в когорте', fontsize=10, color='blue')\n",
    "plt.show()"
   ]
  },
  {
   "cell_type": "code",
   "execution_count": 370,
   "metadata": {},
   "outputs": [
    {
     "data": {
      "text/html": [
       "<div>\n",
       "<style scoped>\n",
       "    .dataframe tbody tr th:only-of-type {\n",
       "        vertical-align: middle;\n",
       "    }\n",
       "\n",
       "    .dataframe tbody tr th {\n",
       "        vertical-align: top;\n",
       "    }\n",
       "\n",
       "    .dataframe thead th {\n",
       "        text-align: right;\n",
       "    }\n",
       "</style>\n",
       "<table border=\"1\" class=\"dataframe\">\n",
       "  <thead>\n",
       "    <tr style=\"text-align: right;\">\n",
       "      <th></th>\n",
       "      <th></th>\n",
       "      <th>revenue</th>\n",
       "      <th>uid</th>\n",
       "      <th>revenue_per_user</th>\n",
       "    </tr>\n",
       "    <tr>\n",
       "      <th>first_buy_month</th>\n",
       "      <th>buy_month</th>\n",
       "      <th></th>\n",
       "      <th></th>\n",
       "      <th></th>\n",
       "    </tr>\n",
       "  </thead>\n",
       "  <tbody>\n",
       "    <tr>\n",
       "      <th>2017-09-01</th>\n",
       "      <th>2017-12-01</th>\n",
       "      <td>10261.52</td>\n",
       "      <td>74</td>\n",
       "      <td>138.669189</td>\n",
       "    </tr>\n",
       "  </tbody>\n",
       "</table>\n",
       "</div>"
      ],
      "text/plain": [
       "                             revenue  uid  revenue_per_user\n",
       "first_buy_month buy_month                                  \n",
       "2017-09-01      2017-12-01  10261.52   74        138.669189"
      ]
     },
     "execution_count": 370,
     "metadata": {},
     "output_type": "execute_result"
    }
   ],
   "source": [
    "orders_grouped_by_cohorts.query('revenue_per_user >100') #посмотрим на экстремальное значение среднего чека"
   ]
  },
  {
   "cell_type": "markdown",
   "metadata": {},
   "source": [
    "У нас есть одно выбивающееся значение среднего чека равное 138,67, выкинем это значение, чтобы мы могли правильнее оценить средний размер чека в целом по выборке"
   ]
  },
  {
   "cell_type": "code",
   "execution_count": 371,
   "metadata": {},
   "outputs": [
    {
     "data": {
      "text/plain": [
       "count    78.000000\n",
       "mean     13.144649\n",
       "std       9.092282\n",
       "min       3.420000\n",
       "25%       6.824478\n",
       "50%      10.915372\n",
       "75%      17.663868\n",
       "max      48.135052\n",
       "Name: revenue_per_user, dtype: float64"
      ]
     },
     "execution_count": 371,
     "metadata": {},
     "output_type": "execute_result"
    }
   ],
   "source": [
    "orders_grouped_by_cohorts_new = orders_grouped_by_cohorts.query('revenue_per_user < 100')\n",
    "orders_grouped_by_cohorts_new['revenue_per_user'].describe()"
   ]
  },
  {
   "cell_type": "code",
   "execution_count": 372,
   "metadata": {},
   "outputs": [
    {
     "data": {
      "text/plain": [
       "4.999646930477041"
      ]
     },
     "execution_count": 372,
     "metadata": {},
     "output_type": "execute_result"
    }
   ],
   "source": [
    "visits_orders['revenue'].sum() / len(visits_orders['revenue'])"
   ]
  },
  {
   "cell_type": "markdown",
   "metadata": {},
   "source": [
    "Построим сводную таблицу изменения среднего чека в когортах по месяцу совершения покупки и оценим, как изменяется средний чек с течением времени:"
   ]
  },
  {
   "cell_type": "code",
   "execution_count": 373,
   "metadata": {},
   "outputs": [
    {
     "data": {
      "text/html": [
       "<div>\n",
       "<style scoped>\n",
       "    .dataframe tbody tr th:only-of-type {\n",
       "        vertical-align: middle;\n",
       "    }\n",
       "\n",
       "    .dataframe tbody tr th {\n",
       "        vertical-align: top;\n",
       "    }\n",
       "\n",
       "    .dataframe thead th {\n",
       "        text-align: right;\n",
       "    }\n",
       "</style>\n",
       "<table border=\"1\" class=\"dataframe\">\n",
       "  <thead>\n",
       "    <tr style=\"text-align: right;\">\n",
       "      <th>buy_month</th>\n",
       "      <th>2017-06-01</th>\n",
       "      <th>2017-07-01</th>\n",
       "      <th>2017-08-01</th>\n",
       "      <th>2017-09-01</th>\n",
       "      <th>2017-10-01</th>\n",
       "      <th>2017-11-01</th>\n",
       "      <th>2017-12-01</th>\n",
       "      <th>2018-01-01</th>\n",
       "      <th>2018-02-01</th>\n",
       "      <th>2018-03-01</th>\n",
       "      <th>2018-04-01</th>\n",
       "      <th>2018-05-01</th>\n",
       "      <th>2018-06-01</th>\n",
       "    </tr>\n",
       "    <tr>\n",
       "      <th>first_buy_month</th>\n",
       "      <th></th>\n",
       "      <th></th>\n",
       "      <th></th>\n",
       "      <th></th>\n",
       "      <th></th>\n",
       "      <th></th>\n",
       "      <th></th>\n",
       "      <th></th>\n",
       "      <th></th>\n",
       "      <th></th>\n",
       "      <th></th>\n",
       "      <th></th>\n",
       "      <th></th>\n",
       "    </tr>\n",
       "  </thead>\n",
       "  <tbody>\n",
       "    <tr>\n",
       "      <th>2017-06-01</th>\n",
       "      <td>4.724414</td>\n",
       "      <td>16.095410</td>\n",
       "      <td>17.706800</td>\n",
       "      <td>35.764815</td>\n",
       "      <td>23.506591</td>\n",
       "      <td>22.207761</td>\n",
       "      <td>31.011935</td>\n",
       "      <td>25.033191</td>\n",
       "      <td>19.295690</td>\n",
       "      <td>27.233556</td>\n",
       "      <td>25.681333</td>\n",
       "      <td>9.804151</td>\n",
       "      <td>NaN</td>\n",
       "    </tr>\n",
       "    <tr>\n",
       "      <th>2017-07-01</th>\n",
       "      <td>NaN</td>\n",
       "      <td>6.010218</td>\n",
       "      <td>12.396346</td>\n",
       "      <td>21.035965</td>\n",
       "      <td>10.786094</td>\n",
       "      <td>6.938163</td>\n",
       "      <td>7.896842</td>\n",
       "      <td>6.421111</td>\n",
       "      <td>6.992821</td>\n",
       "      <td>7.382143</td>\n",
       "      <td>12.861818</td>\n",
       "      <td>11.513846</td>\n",
       "      <td>NaN</td>\n",
       "    </tr>\n",
       "    <tr>\n",
       "      <th>2017-08-01</th>\n",
       "      <td>NaN</td>\n",
       "      <td>NaN</td>\n",
       "      <td>5.276518</td>\n",
       "      <td>11.148793</td>\n",
       "      <td>11.851321</td>\n",
       "      <td>12.182955</td>\n",
       "      <td>16.921250</td>\n",
       "      <td>12.139062</td>\n",
       "      <td>9.620333</td>\n",
       "      <td>12.610455</td>\n",
       "      <td>21.070000</td>\n",
       "      <td>8.307419</td>\n",
       "      <td>NaN</td>\n",
       "    </tr>\n",
       "    <tr>\n",
       "      <th>2017-09-01</th>\n",
       "      <td>NaN</td>\n",
       "      <td>NaN</td>\n",
       "      <td>NaN</td>\n",
       "      <td>5.644529</td>\n",
       "      <td>22.188385</td>\n",
       "      <td>13.445200</td>\n",
       "      <td>138.669189</td>\n",
       "      <td>19.881538</td>\n",
       "      <td>26.095000</td>\n",
       "      <td>27.437121</td>\n",
       "      <td>16.961351</td>\n",
       "      <td>11.044651</td>\n",
       "      <td>NaN</td>\n",
       "    </tr>\n",
       "    <tr>\n",
       "      <th>2017-10-01</th>\n",
       "      <td>NaN</td>\n",
       "      <td>NaN</td>\n",
       "      <td>NaN</td>\n",
       "      <td>NaN</td>\n",
       "      <td>5.003733</td>\n",
       "      <td>11.287427</td>\n",
       "      <td>6.753252</td>\n",
       "      <td>7.413152</td>\n",
       "      <td>7.072796</td>\n",
       "      <td>7.255139</td>\n",
       "      <td>6.573214</td>\n",
       "      <td>7.479701</td>\n",
       "      <td>NaN</td>\n",
       "    </tr>\n",
       "    <tr>\n",
       "      <th>2017-11-01</th>\n",
       "      <td>NaN</td>\n",
       "      <td>NaN</td>\n",
       "      <td>NaN</td>\n",
       "      <td>NaN</td>\n",
       "      <td>NaN</td>\n",
       "      <td>5.154683</td>\n",
       "      <td>7.339054</td>\n",
       "      <td>6.786583</td>\n",
       "      <td>12.510660</td>\n",
       "      <td>7.457284</td>\n",
       "      <td>4.580833</td>\n",
       "      <td>7.564839</td>\n",
       "      <td>NaN</td>\n",
       "    </tr>\n",
       "    <tr>\n",
       "      <th>2017-12-01</th>\n",
       "      <td>NaN</td>\n",
       "      <td>NaN</td>\n",
       "      <td>NaN</td>\n",
       "      <td>NaN</td>\n",
       "      <td>NaN</td>\n",
       "      <td>NaN</td>\n",
       "      <td>4.738191</td>\n",
       "      <td>7.816575</td>\n",
       "      <td>39.366019</td>\n",
       "      <td>48.135052</td>\n",
       "      <td>27.431400</td>\n",
       "      <td>23.518413</td>\n",
       "      <td>NaN</td>\n",
       "    </tr>\n",
       "    <tr>\n",
       "      <th>2018-01-01</th>\n",
       "      <td>NaN</td>\n",
       "      <td>NaN</td>\n",
       "      <td>NaN</td>\n",
       "      <td>NaN</td>\n",
       "      <td>NaN</td>\n",
       "      <td>NaN</td>\n",
       "      <td>NaN</td>\n",
       "      <td>4.135636</td>\n",
       "      <td>8.721228</td>\n",
       "      <td>12.365542</td>\n",
       "      <td>11.199767</td>\n",
       "      <td>4.699556</td>\n",
       "      <td>NaN</td>\n",
       "    </tr>\n",
       "    <tr>\n",
       "      <th>2018-02-01</th>\n",
       "      <td>NaN</td>\n",
       "      <td>NaN</td>\n",
       "      <td>NaN</td>\n",
       "      <td>NaN</td>\n",
       "      <td>NaN</td>\n",
       "      <td>NaN</td>\n",
       "      <td>NaN</td>\n",
       "      <td>NaN</td>\n",
       "      <td>4.156987</td>\n",
       "      <td>8.610000</td>\n",
       "      <td>4.942414</td>\n",
       "      <td>6.941026</td>\n",
       "      <td>NaN</td>\n",
       "    </tr>\n",
       "    <tr>\n",
       "      <th>2018-03-01</th>\n",
       "      <td>NaN</td>\n",
       "      <td>NaN</td>\n",
       "      <td>NaN</td>\n",
       "      <td>NaN</td>\n",
       "      <td>NaN</td>\n",
       "      <td>NaN</td>\n",
       "      <td>NaN</td>\n",
       "      <td>NaN</td>\n",
       "      <td>NaN</td>\n",
       "      <td>4.838803</td>\n",
       "      <td>11.811667</td>\n",
       "      <td>19.221897</td>\n",
       "      <td>NaN</td>\n",
       "    </tr>\n",
       "    <tr>\n",
       "      <th>2018-04-01</th>\n",
       "      <td>NaN</td>\n",
       "      <td>NaN</td>\n",
       "      <td>NaN</td>\n",
       "      <td>NaN</td>\n",
       "      <td>NaN</td>\n",
       "      <td>NaN</td>\n",
       "      <td>NaN</td>\n",
       "      <td>NaN</td>\n",
       "      <td>NaN</td>\n",
       "      <td>NaN</td>\n",
       "      <td>4.657597</td>\n",
       "      <td>17.535072</td>\n",
       "      <td>NaN</td>\n",
       "    </tr>\n",
       "    <tr>\n",
       "      <th>2018-05-01</th>\n",
       "      <td>NaN</td>\n",
       "      <td>NaN</td>\n",
       "      <td>NaN</td>\n",
       "      <td>NaN</td>\n",
       "      <td>NaN</td>\n",
       "      <td>NaN</td>\n",
       "      <td>NaN</td>\n",
       "      <td>NaN</td>\n",
       "      <td>NaN</td>\n",
       "      <td>NaN</td>\n",
       "      <td>NaN</td>\n",
       "      <td>4.660562</td>\n",
       "      <td>NaN</td>\n",
       "    </tr>\n",
       "    <tr>\n",
       "      <th>2018-06-01</th>\n",
       "      <td>NaN</td>\n",
       "      <td>NaN</td>\n",
       "      <td>NaN</td>\n",
       "      <td>NaN</td>\n",
       "      <td>NaN</td>\n",
       "      <td>NaN</td>\n",
       "      <td>NaN</td>\n",
       "      <td>NaN</td>\n",
       "      <td>NaN</td>\n",
       "      <td>NaN</td>\n",
       "      <td>NaN</td>\n",
       "      <td>NaN</td>\n",
       "      <td>3.42</td>\n",
       "    </tr>\n",
       "  </tbody>\n",
       "</table>\n",
       "</div>"
      ],
      "text/plain": [
       "buy_month        2017-06-01  2017-07-01  2017-08-01  2017-09-01  2017-10-01  \\\n",
       "first_buy_month                                                               \n",
       "2017-06-01         4.724414   16.095410   17.706800   35.764815   23.506591   \n",
       "2017-07-01              NaN    6.010218   12.396346   21.035965   10.786094   \n",
       "2017-08-01              NaN         NaN    5.276518   11.148793   11.851321   \n",
       "2017-09-01              NaN         NaN         NaN    5.644529   22.188385   \n",
       "2017-10-01              NaN         NaN         NaN         NaN    5.003733   \n",
       "2017-11-01              NaN         NaN         NaN         NaN         NaN   \n",
       "2017-12-01              NaN         NaN         NaN         NaN         NaN   \n",
       "2018-01-01              NaN         NaN         NaN         NaN         NaN   \n",
       "2018-02-01              NaN         NaN         NaN         NaN         NaN   \n",
       "2018-03-01              NaN         NaN         NaN         NaN         NaN   \n",
       "2018-04-01              NaN         NaN         NaN         NaN         NaN   \n",
       "2018-05-01              NaN         NaN         NaN         NaN         NaN   \n",
       "2018-06-01              NaN         NaN         NaN         NaN         NaN   \n",
       "\n",
       "buy_month        2017-11-01  2017-12-01  2018-01-01  2018-02-01  2018-03-01  \\\n",
       "first_buy_month                                                               \n",
       "2017-06-01        22.207761   31.011935   25.033191   19.295690   27.233556   \n",
       "2017-07-01         6.938163    7.896842    6.421111    6.992821    7.382143   \n",
       "2017-08-01        12.182955   16.921250   12.139062    9.620333   12.610455   \n",
       "2017-09-01        13.445200  138.669189   19.881538   26.095000   27.437121   \n",
       "2017-10-01        11.287427    6.753252    7.413152    7.072796    7.255139   \n",
       "2017-11-01         5.154683    7.339054    6.786583   12.510660    7.457284   \n",
       "2017-12-01              NaN    4.738191    7.816575   39.366019   48.135052   \n",
       "2018-01-01              NaN         NaN    4.135636    8.721228   12.365542   \n",
       "2018-02-01              NaN         NaN         NaN    4.156987    8.610000   \n",
       "2018-03-01              NaN         NaN         NaN         NaN    4.838803   \n",
       "2018-04-01              NaN         NaN         NaN         NaN         NaN   \n",
       "2018-05-01              NaN         NaN         NaN         NaN         NaN   \n",
       "2018-06-01              NaN         NaN         NaN         NaN         NaN   \n",
       "\n",
       "buy_month        2018-04-01  2018-05-01  2018-06-01  \n",
       "first_buy_month                                      \n",
       "2017-06-01        25.681333    9.804151         NaN  \n",
       "2017-07-01        12.861818   11.513846         NaN  \n",
       "2017-08-01        21.070000    8.307419         NaN  \n",
       "2017-09-01        16.961351   11.044651         NaN  \n",
       "2017-10-01         6.573214    7.479701         NaN  \n",
       "2017-11-01         4.580833    7.564839         NaN  \n",
       "2017-12-01        27.431400   23.518413         NaN  \n",
       "2018-01-01        11.199767    4.699556         NaN  \n",
       "2018-02-01         4.942414    6.941026         NaN  \n",
       "2018-03-01        11.811667   19.221897         NaN  \n",
       "2018-04-01         4.657597   17.535072         NaN  \n",
       "2018-05-01              NaN    4.660562         NaN  \n",
       "2018-06-01              NaN         NaN        3.42  "
      ]
     },
     "execution_count": 373,
     "metadata": {},
     "output_type": "execute_result"
    }
   ],
   "source": [
    "orders_grouped_by_cohorts.pivot_table(index='first_buy_month',columns='buy_month',values='revenue_per_user',aggfunc='mean')"
   ]
  },
  {
   "cell_type": "markdown",
   "metadata": {},
   "source": [
    "Практически у всех когорт к маю 2018 увеличивается средний чек по сравнению с началом периода, очень хороший показатель среднего чека у декабрьской когорты 2017 года, также хорошо по размеру среднего чека показала сеся сентябрьская когорта 2017 года, у когорот 2018 года размер среднего чего меньше чем у корорт 2017."
   ]
  },
  {
   "cell_type": "markdown",
   "metadata": {},
   "source": [
    "Попробуем оценить как изменяется средний чек в зависимости от времени, прошедшего с момента первой покупки"
   ]
  },
  {
   "cell_type": "code",
   "execution_count": 374,
   "metadata": {},
   "outputs": [
    {
     "data": {
      "text/plain": [
       "0     0 days\n",
       "1    30 days\n",
       "2    61 days\n",
       "3    92 days\n",
       "4   122 days\n",
       "Name: cohort_lifetime, dtype: timedelta64[ns]"
      ]
     },
     "execution_count": 374,
     "metadata": {},
     "output_type": "execute_result"
    }
   ],
   "source": [
    "orders_grouped_by_cohorts = orders_grouped_by_cohorts.reset_index()\n",
    "orders_grouped_by_cohorts['first_buy_month'] =orders_grouped_by_cohorts['first_buy_month'].astype('datetime64[M]')\n",
    "orders_grouped_by_cohorts['buy_month'] = orders_grouped_by_cohorts['buy_month'].astype('datetime64[M]')\n",
    "orders_grouped_by_cohorts['cohort_lifetime'] = orders_grouped_by_cohorts['buy_month'] - orders_grouped_by_cohorts['first_buy_month']\n",
    "orders_grouped_by_cohorts['cohort_lifetime'].head() "
   ]
  },
  {
   "cell_type": "markdown",
   "metadata": {},
   "source": [
    "Преобразуем полученные данные в  число месяцев, прошедших между датами. Для этого cohort_lifetime нужно разделить на константу np.timedelta64(1, 'M')"
   ]
  },
  {
   "cell_type": "code",
   "execution_count": 375,
   "metadata": {},
   "outputs": [],
   "source": [
    "orders_grouped_by_cohorts['cohort_lifetime'] = orders_grouped_by_cohorts['cohort_lifetime'] / np.timedelta64(1,'M')\n",
    "orders_grouped_by_cohorts['cohort_lifetime'] = orders_grouped_by_cohorts['cohort_lifetime'].astype('int64')"
   ]
  },
  {
   "cell_type": "code",
   "execution_count": 376,
   "metadata": {},
   "outputs": [
    {
     "name": "stdout",
     "output_type": "stream",
     "text": [
      "0    0\n",
      "1    0\n",
      "2    2\n",
      "3    3\n",
      "4    4\n",
      "Name: cohort_lifetime, dtype: int64\n"
     ]
    }
   ],
   "source": [
    "print(orders_grouped_by_cohorts['cohort_lifetime'].head()) "
   ]
  },
  {
   "cell_type": "markdown",
   "metadata": {},
   "source": [
    "Оставим в данных о месяце первого заказа только год и месяц:"
   ]
  },
  {
   "cell_type": "code",
   "execution_count": 377,
   "metadata": {},
   "outputs": [],
   "source": [
    "orders_grouped_by_cohorts['first_buy_month'] = orders_grouped_by_cohorts['first_buy_month'].dt.strftime('%Y-%m') "
   ]
  },
  {
   "cell_type": "markdown",
   "metadata": {},
   "source": [
    "Построим сводную таблицу изменения среднего чека, где в столбцах будет lifetime, а строках — когорты:"
   ]
  },
  {
   "cell_type": "code",
   "execution_count": 378,
   "metadata": {},
   "outputs": [
    {
     "data": {
      "text/html": [
       "<div>\n",
       "<style scoped>\n",
       "    .dataframe tbody tr th:only-of-type {\n",
       "        vertical-align: middle;\n",
       "    }\n",
       "\n",
       "    .dataframe tbody tr th {\n",
       "        vertical-align: top;\n",
       "    }\n",
       "\n",
       "    .dataframe thead th {\n",
       "        text-align: right;\n",
       "    }\n",
       "</style>\n",
       "<table border=\"1\" class=\"dataframe\">\n",
       "  <thead>\n",
       "    <tr style=\"text-align: right;\">\n",
       "      <th>cohort_lifetime</th>\n",
       "      <th>0</th>\n",
       "      <th>1</th>\n",
       "      <th>2</th>\n",
       "      <th>3</th>\n",
       "      <th>4</th>\n",
       "      <th>5</th>\n",
       "      <th>6</th>\n",
       "      <th>7</th>\n",
       "      <th>8</th>\n",
       "      <th>9</th>\n",
       "      <th>10</th>\n",
       "    </tr>\n",
       "    <tr>\n",
       "      <th>first_buy_month</th>\n",
       "      <th></th>\n",
       "      <th></th>\n",
       "      <th></th>\n",
       "      <th></th>\n",
       "      <th></th>\n",
       "      <th></th>\n",
       "      <th></th>\n",
       "      <th></th>\n",
       "      <th></th>\n",
       "      <th></th>\n",
       "      <th></th>\n",
       "    </tr>\n",
       "  </thead>\n",
       "  <tbody>\n",
       "    <tr>\n",
       "      <th>2017-06</th>\n",
       "      <td>10.409912</td>\n",
       "      <td>NaN</td>\n",
       "      <td>17.706800</td>\n",
       "      <td>35.764815</td>\n",
       "      <td>23.506591</td>\n",
       "      <td>22.207761</td>\n",
       "      <td>31.011935</td>\n",
       "      <td>25.033191</td>\n",
       "      <td>23.264623</td>\n",
       "      <td>25.681333</td>\n",
       "      <td>9.804151</td>\n",
       "    </tr>\n",
       "    <tr>\n",
       "      <th>2017-07</th>\n",
       "      <td>6.010218</td>\n",
       "      <td>12.396346</td>\n",
       "      <td>21.035965</td>\n",
       "      <td>10.786094</td>\n",
       "      <td>6.938163</td>\n",
       "      <td>7.896842</td>\n",
       "      <td>6.421111</td>\n",
       "      <td>7.187482</td>\n",
       "      <td>NaN</td>\n",
       "      <td>12.187832</td>\n",
       "      <td>NaN</td>\n",
       "    </tr>\n",
       "    <tr>\n",
       "      <th>2017-08</th>\n",
       "      <td>5.276518</td>\n",
       "      <td>11.148793</td>\n",
       "      <td>11.851321</td>\n",
       "      <td>12.182955</td>\n",
       "      <td>16.921250</td>\n",
       "      <td>12.139062</td>\n",
       "      <td>11.115394</td>\n",
       "      <td>21.070000</td>\n",
       "      <td>8.307419</td>\n",
       "      <td>NaN</td>\n",
       "      <td>NaN</td>\n",
       "    </tr>\n",
       "    <tr>\n",
       "      <th>2017-09</th>\n",
       "      <td>13.916457</td>\n",
       "      <td>NaN</td>\n",
       "      <td>76.057195</td>\n",
       "      <td>NaN</td>\n",
       "      <td>19.881538</td>\n",
       "      <td>26.766061</td>\n",
       "      <td>16.961351</td>\n",
       "      <td>11.044651</td>\n",
       "      <td>NaN</td>\n",
       "      <td>NaN</td>\n",
       "      <td>NaN</td>\n",
       "    </tr>\n",
       "    <tr>\n",
       "      <th>2017-10</th>\n",
       "      <td>5.003733</td>\n",
       "      <td>11.287427</td>\n",
       "      <td>6.753252</td>\n",
       "      <td>7.413152</td>\n",
       "      <td>7.163967</td>\n",
       "      <td>6.573214</td>\n",
       "      <td>7.479701</td>\n",
       "      <td>NaN</td>\n",
       "      <td>NaN</td>\n",
       "      <td>NaN</td>\n",
       "      <td>NaN</td>\n",
       "    </tr>\n",
       "    <tr>\n",
       "      <th>2017-11</th>\n",
       "      <td>6.246868</td>\n",
       "      <td>NaN</td>\n",
       "      <td>6.786583</td>\n",
       "      <td>9.983972</td>\n",
       "      <td>4.580833</td>\n",
       "      <td>7.564839</td>\n",
       "      <td>NaN</td>\n",
       "      <td>NaN</td>\n",
       "      <td>NaN</td>\n",
       "      <td>NaN</td>\n",
       "      <td>NaN</td>\n",
       "    </tr>\n",
       "    <tr>\n",
       "      <th>2017-12</th>\n",
       "      <td>4.738191</td>\n",
       "      <td>7.816575</td>\n",
       "      <td>43.750535</td>\n",
       "      <td>27.431400</td>\n",
       "      <td>23.518413</td>\n",
       "      <td>NaN</td>\n",
       "      <td>NaN</td>\n",
       "      <td>NaN</td>\n",
       "      <td>NaN</td>\n",
       "      <td>NaN</td>\n",
       "      <td>NaN</td>\n",
       "    </tr>\n",
       "    <tr>\n",
       "      <th>2018-01</th>\n",
       "      <td>4.135636</td>\n",
       "      <td>10.543385</td>\n",
       "      <td>11.199767</td>\n",
       "      <td>4.699556</td>\n",
       "      <td>NaN</td>\n",
       "      <td>NaN</td>\n",
       "      <td>NaN</td>\n",
       "      <td>NaN</td>\n",
       "      <td>NaN</td>\n",
       "      <td>NaN</td>\n",
       "      <td>NaN</td>\n",
       "    </tr>\n",
       "    <tr>\n",
       "      <th>2018-02</th>\n",
       "      <td>6.383494</td>\n",
       "      <td>4.942414</td>\n",
       "      <td>6.941026</td>\n",
       "      <td>NaN</td>\n",
       "      <td>NaN</td>\n",
       "      <td>NaN</td>\n",
       "      <td>NaN</td>\n",
       "      <td>NaN</td>\n",
       "      <td>NaN</td>\n",
       "      <td>NaN</td>\n",
       "      <td>NaN</td>\n",
       "    </tr>\n",
       "    <tr>\n",
       "      <th>2018-03</th>\n",
       "      <td>4.838803</td>\n",
       "      <td>11.811667</td>\n",
       "      <td>19.221897</td>\n",
       "      <td>NaN</td>\n",
       "      <td>NaN</td>\n",
       "      <td>NaN</td>\n",
       "      <td>NaN</td>\n",
       "      <td>NaN</td>\n",
       "      <td>NaN</td>\n",
       "      <td>NaN</td>\n",
       "      <td>NaN</td>\n",
       "    </tr>\n",
       "    <tr>\n",
       "      <th>2018-04</th>\n",
       "      <td>11.096335</td>\n",
       "      <td>NaN</td>\n",
       "      <td>NaN</td>\n",
       "      <td>NaN</td>\n",
       "      <td>NaN</td>\n",
       "      <td>NaN</td>\n",
       "      <td>NaN</td>\n",
       "      <td>NaN</td>\n",
       "      <td>NaN</td>\n",
       "      <td>NaN</td>\n",
       "      <td>NaN</td>\n",
       "    </tr>\n",
       "    <tr>\n",
       "      <th>2018-05</th>\n",
       "      <td>4.660562</td>\n",
       "      <td>NaN</td>\n",
       "      <td>NaN</td>\n",
       "      <td>NaN</td>\n",
       "      <td>NaN</td>\n",
       "      <td>NaN</td>\n",
       "      <td>NaN</td>\n",
       "      <td>NaN</td>\n",
       "      <td>NaN</td>\n",
       "      <td>NaN</td>\n",
       "      <td>NaN</td>\n",
       "    </tr>\n",
       "    <tr>\n",
       "      <th>2018-06</th>\n",
       "      <td>3.420000</td>\n",
       "      <td>NaN</td>\n",
       "      <td>NaN</td>\n",
       "      <td>NaN</td>\n",
       "      <td>NaN</td>\n",
       "      <td>NaN</td>\n",
       "      <td>NaN</td>\n",
       "      <td>NaN</td>\n",
       "      <td>NaN</td>\n",
       "      <td>NaN</td>\n",
       "      <td>NaN</td>\n",
       "    </tr>\n",
       "  </tbody>\n",
       "</table>\n",
       "</div>"
      ],
      "text/plain": [
       "cohort_lifetime         0          1          2          3          4   \\\n",
       "first_buy_month                                                          \n",
       "2017-06          10.409912        NaN  17.706800  35.764815  23.506591   \n",
       "2017-07           6.010218  12.396346  21.035965  10.786094   6.938163   \n",
       "2017-08           5.276518  11.148793  11.851321  12.182955  16.921250   \n",
       "2017-09          13.916457        NaN  76.057195        NaN  19.881538   \n",
       "2017-10           5.003733  11.287427   6.753252   7.413152   7.163967   \n",
       "2017-11           6.246868        NaN   6.786583   9.983972   4.580833   \n",
       "2017-12           4.738191   7.816575  43.750535  27.431400  23.518413   \n",
       "2018-01           4.135636  10.543385  11.199767   4.699556        NaN   \n",
       "2018-02           6.383494   4.942414   6.941026        NaN        NaN   \n",
       "2018-03           4.838803  11.811667  19.221897        NaN        NaN   \n",
       "2018-04          11.096335        NaN        NaN        NaN        NaN   \n",
       "2018-05           4.660562        NaN        NaN        NaN        NaN   \n",
       "2018-06           3.420000        NaN        NaN        NaN        NaN   \n",
       "\n",
       "cohort_lifetime         5          6          7          8          9   \\\n",
       "first_buy_month                                                          \n",
       "2017-06          22.207761  31.011935  25.033191  23.264623  25.681333   \n",
       "2017-07           7.896842   6.421111   7.187482        NaN  12.187832   \n",
       "2017-08          12.139062  11.115394  21.070000   8.307419        NaN   \n",
       "2017-09          26.766061  16.961351  11.044651        NaN        NaN   \n",
       "2017-10           6.573214   7.479701        NaN        NaN        NaN   \n",
       "2017-11           7.564839        NaN        NaN        NaN        NaN   \n",
       "2017-12                NaN        NaN        NaN        NaN        NaN   \n",
       "2018-01                NaN        NaN        NaN        NaN        NaN   \n",
       "2018-02                NaN        NaN        NaN        NaN        NaN   \n",
       "2018-03                NaN        NaN        NaN        NaN        NaN   \n",
       "2018-04                NaN        NaN        NaN        NaN        NaN   \n",
       "2018-05                NaN        NaN        NaN        NaN        NaN   \n",
       "2018-06                NaN        NaN        NaN        NaN        NaN   \n",
       "\n",
       "cohort_lifetime        10  \n",
       "first_buy_month            \n",
       "2017-06          9.804151  \n",
       "2017-07               NaN  \n",
       "2017-08               NaN  \n",
       "2017-09               NaN  \n",
       "2017-10               NaN  \n",
       "2017-11               NaN  \n",
       "2017-12               NaN  \n",
       "2018-01               NaN  \n",
       "2018-02               NaN  \n",
       "2018-03               NaN  \n",
       "2018-04               NaN  \n",
       "2018-05               NaN  \n",
       "2018-06               NaN  "
      ]
     },
     "metadata": {},
     "output_type": "display_data"
    }
   ],
   "source": [
    "revenue_per_user_pivot = orders_grouped_by_cohorts.pivot_table(index='first_buy_month',columns='cohort_lifetime',values='revenue_per_user',aggfunc='mean')\n",
    "display(revenue_per_user_pivot) \n"
   ]
  },
  {
   "cell_type": "markdown",
   "metadata": {},
   "source": [
    "Видно, в каких когортах средний чек пользователей возрастает на следующий месяц после месяца первой покупки. А в некоторых когортах средний чек растёт с течением времени. Например, в когорте июль 2017 и март 2018."
   ]
  },
  {
   "cell_type": "markdown",
   "metadata": {},
   "source": [
    "Посмотрим как различается средний чек в зависимости от типа устройства, сгруппируем по девайсу"
   ]
  },
  {
   "cell_type": "code",
   "execution_count": 379,
   "metadata": {},
   "outputs": [],
   "source": [
    "orders_grouped_by_device = visits_orders.groupby(['first_buy_month','buy_month', 'device']).agg({'revenue':'sum','uid':'nunique'})\n"
   ]
  },
  {
   "cell_type": "code",
   "execution_count": 380,
   "metadata": {},
   "outputs": [],
   "source": [
    "orders_grouped_by_device['revenue_per_user'] = orders_grouped_by_device['revenue'] / orders_grouped_by_device['uid'] \n"
   ]
  },
  {
   "cell_type": "markdown",
   "metadata": {},
   "source": [
    "Посчитаем средний чек для устройств desktop и touch"
   ]
  },
  {
   "cell_type": "code",
   "execution_count": 381,
   "metadata": {},
   "outputs": [
    {
     "data": {
      "text/html": [
       "<div>\n",
       "<style scoped>\n",
       "    .dataframe tbody tr th:only-of-type {\n",
       "        vertical-align: middle;\n",
       "    }\n",
       "\n",
       "    .dataframe tbody tr th {\n",
       "        vertical-align: top;\n",
       "    }\n",
       "\n",
       "    .dataframe thead th {\n",
       "        text-align: right;\n",
       "    }\n",
       "</style>\n",
       "<table border=\"1\" class=\"dataframe\">\n",
       "  <thead>\n",
       "    <tr style=\"text-align: right;\">\n",
       "      <th></th>\n",
       "      <th>revenue</th>\n",
       "      <th>uid</th>\n",
       "      <th>revenue_per_user</th>\n",
       "    </tr>\n",
       "    <tr>\n",
       "      <th>device</th>\n",
       "      <th></th>\n",
       "      <th></th>\n",
       "      <th></th>\n",
       "    </tr>\n",
       "  </thead>\n",
       "  <tbody>\n",
       "    <tr>\n",
       "      <th>desktop</th>\n",
       "      <td>211531.81</td>\n",
       "      <td>32985</td>\n",
       "      <td>1254.629252</td>\n",
       "    </tr>\n",
       "    <tr>\n",
       "      <th>touch</th>\n",
       "      <td>40525.39</td>\n",
       "      <td>8034</td>\n",
       "      <td>581.360878</td>\n",
       "    </tr>\n",
       "  </tbody>\n",
       "</table>\n",
       "</div>"
      ],
      "text/plain": [
       "           revenue    uid  revenue_per_user\n",
       "device                                     \n",
       "desktop  211531.81  32985       1254.629252\n",
       "touch     40525.39   8034        581.360878"
      ]
     },
     "execution_count": 381,
     "metadata": {},
     "output_type": "execute_result"
    }
   ],
   "source": [
    "orders_grouped_by_device.groupby(by=['device']).sum()"
   ]
  },
  {
   "cell_type": "markdown",
   "metadata": {},
   "source": [
    "В результате получаем, что средний чек по пользователям с устройством desktop примерно в два раза больше, чем у пользователей с устройством touch, пользователи вэб приложений мало того что больше времени проводят в приложении, но и к тому же совершают покупки на более крупные суммы."
   ]
  },
  {
   "cell_type": "code",
   "execution_count": 382,
   "metadata": {},
   "outputs": [
    {
     "data": {
      "text/html": [
       "<div>\n",
       "<style scoped>\n",
       "    .dataframe tbody tr th:only-of-type {\n",
       "        vertical-align: middle;\n",
       "    }\n",
       "\n",
       "    .dataframe tbody tr th {\n",
       "        vertical-align: top;\n",
       "    }\n",
       "\n",
       "    .dataframe thead th {\n",
       "        text-align: right;\n",
       "    }\n",
       "</style>\n",
       "<table border=\"1\" class=\"dataframe\">\n",
       "  <thead>\n",
       "    <tr style=\"text-align: right;\">\n",
       "      <th></th>\n",
       "      <th></th>\n",
       "      <th></th>\n",
       "      <th>revenue</th>\n",
       "      <th>uid</th>\n",
       "      <th>revenue_per_user</th>\n",
       "    </tr>\n",
       "    <tr>\n",
       "      <th>first_buy_month</th>\n",
       "      <th>buy_month</th>\n",
       "      <th>device</th>\n",
       "      <th></th>\n",
       "      <th></th>\n",
       "      <th></th>\n",
       "    </tr>\n",
       "  </thead>\n",
       "  <tbody>\n",
       "    <tr>\n",
       "      <th rowspan=\"5\" valign=\"top\">2017-06-01</th>\n",
       "      <th rowspan=\"2\" valign=\"top\">2017-06-01</th>\n",
       "      <th>desktop</th>\n",
       "      <td>8172.04</td>\n",
       "      <td>1676</td>\n",
       "      <td>4.875919</td>\n",
       "    </tr>\n",
       "    <tr>\n",
       "      <th>touch</th>\n",
       "      <td>1385.45</td>\n",
       "      <td>347</td>\n",
       "      <td>3.992651</td>\n",
       "    </tr>\n",
       "    <tr>\n",
       "      <th rowspan=\"2\" valign=\"top\">2017-07-01</th>\n",
       "      <th>desktop</th>\n",
       "      <td>852.30</td>\n",
       "      <td>49</td>\n",
       "      <td>17.393878</td>\n",
       "    </tr>\n",
       "    <tr>\n",
       "      <th>touch</th>\n",
       "      <td>129.52</td>\n",
       "      <td>12</td>\n",
       "      <td>10.793333</td>\n",
       "    </tr>\n",
       "    <tr>\n",
       "      <th>2017-08-01</th>\n",
       "      <th>desktop</th>\n",
       "      <td>835.84</td>\n",
       "      <td>43</td>\n",
       "      <td>19.438140</td>\n",
       "    </tr>\n",
       "  </tbody>\n",
       "</table>\n",
       "</div>"
      ],
      "text/plain": [
       "                                    revenue   uid  revenue_per_user\n",
       "first_buy_month buy_month  device                                  \n",
       "2017-06-01      2017-06-01 desktop  8172.04  1676          4.875919\n",
       "                           touch    1385.45   347          3.992651\n",
       "                2017-07-01 desktop   852.30    49         17.393878\n",
       "                           touch     129.52    12         10.793333\n",
       "                2017-08-01 desktop   835.84    43         19.438140"
      ]
     },
     "execution_count": 382,
     "metadata": {},
     "output_type": "execute_result"
    }
   ],
   "source": [
    "orders_grouped_by_device.head()"
   ]
  },
  {
   "cell_type": "code",
   "execution_count": 383,
   "metadata": {},
   "outputs": [
    {
     "data": {
      "text/html": [
       "<div>\n",
       "<style scoped>\n",
       "    .dataframe tbody tr th:only-of-type {\n",
       "        vertical-align: middle;\n",
       "    }\n",
       "\n",
       "    .dataframe tbody tr th {\n",
       "        vertical-align: top;\n",
       "    }\n",
       "\n",
       "    .dataframe thead th {\n",
       "        text-align: right;\n",
       "    }\n",
       "</style>\n",
       "<table border=\"1\" class=\"dataframe\">\n",
       "  <thead>\n",
       "    <tr style=\"text-align: right;\">\n",
       "      <th>device</th>\n",
       "      <th>buy_month</th>\n",
       "      <th>desktop</th>\n",
       "      <th>touch</th>\n",
       "    </tr>\n",
       "  </thead>\n",
       "  <tbody>\n",
       "    <tr>\n",
       "      <th>0</th>\n",
       "      <td>2017-06-01</td>\n",
       "      <td>4.875919</td>\n",
       "      <td>3.992651</td>\n",
       "    </tr>\n",
       "    <tr>\n",
       "      <th>1</th>\n",
       "      <td>2017-07-01</td>\n",
       "      <td>11.673315</td>\n",
       "      <td>8.506185</td>\n",
       "    </tr>\n",
       "    <tr>\n",
       "      <th>2</th>\n",
       "      <td>2017-08-01</td>\n",
       "      <td>12.985384</td>\n",
       "      <td>6.397395</td>\n",
       "    </tr>\n",
       "    <tr>\n",
       "      <th>3</th>\n",
       "      <td>2017-09-01</td>\n",
       "      <td>19.471219</td>\n",
       "      <td>6.307250</td>\n",
       "    </tr>\n",
       "    <tr>\n",
       "      <th>4</th>\n",
       "      <td>2017-10-01</td>\n",
       "      <td>14.626698</td>\n",
       "      <td>14.328924</td>\n",
       "    </tr>\n",
       "  </tbody>\n",
       "</table>\n",
       "</div>"
      ],
      "text/plain": [
       "device  buy_month    desktop      touch\n",
       "0      2017-06-01   4.875919   3.992651\n",
       "1      2017-07-01  11.673315   8.506185\n",
       "2      2017-08-01  12.985384   6.397395\n",
       "3      2017-09-01  19.471219   6.307250\n",
       "4      2017-10-01  14.626698  14.328924"
      ]
     },
     "execution_count": 383,
     "metadata": {},
     "output_type": "execute_result"
    }
   ],
   "source": [
    "orders_grouped_by_device_pivot = orders_grouped_by_device.pivot_table(index = 'buy_month', columns = 'device', values = 'revenue_per_user', aggfunc='mean').reset_index()\n",
    "orders_grouped_by_device_pivot.head()\n"
   ]
  },
  {
   "cell_type": "code",
   "execution_count": 384,
   "metadata": {},
   "outputs": [
    {
     "data": {
      "image/png": "[encoded data removed]",
      "text/plain": [
       "<Figure size 720x360 with 1 Axes>"
      ]
     },
     "metadata": {},
     "output_type": "display_data"
    }
   ],
   "source": [
    "orders_grouped_by_device_pivot.plot(x='buy_month', y=['desktop','touch'], kind=\"bar\", figsize=(10,5))\n",
    "plt.title('Средний чек в зависимости от типа устройства', fontsize=12, color='blue')\n",
    "plt.xlabel('Когорты', fontsize=10, color='blue')\n",
    "plt.ylabel('Средний чек', fontsize=10, color='blue')\n",
    "pl.xticks(rotation = 45)\n",
    "plt.show()"
   ]
  },
  {
   "cell_type": "markdown",
   "metadata": {},
   "source": [
    "По графику видно, наскольк средний чек по устройствам desktop выше, чем по touch, в декабре 2017 года срений чек просто зашкаливает, но это связано с одним очень крупным значением, которое было выявлено на стадии предобработки по одному пользователю, это сильно повлияло на средний чек в этом месяце, может быть пользователь покупал много билетов за раз на какое-то мероприятие для своих сотрудников к примеру . Есть месчц октябрь 2017 когда средние чеки по этим двум видам устройств были примерно одинаковы, может быть в это период проводилась большая рекламная компания."
   ]
  },
  {
   "cell_type": "markdown",
   "metadata": {},
   "source": [
    "Посмотрим на средний чек, в зависимости от рекламного источника. Для этого определим первый источник каждого заказа"
   ]
  },
  {
   "cell_type": "code",
   "execution_count": 385,
   "metadata": {},
   "outputs": [],
   "source": [
    "visits_by_sourse = visits_new.sort_values(by='session_start_ts').groupby(['uid'])['source_id'].first()\n",
    "visits_by_sourse.name = 'first_source'\n",
    "visits_new = visits_new.join(visits_by_sourse, on = 'uid')\n",
    "orders_by_sourse = orders.join(visits_by_sourse, on = 'uid')\n"
   ]
  },
  {
   "cell_type": "markdown",
   "metadata": {},
   "source": [
    "Cгруппируем данные по когорте first_buy_month, месяцу совершения заказа buy_month и рекламному источнику"
   ]
  },
  {
   "cell_type": "code",
   "execution_count": 418,
   "metadata": {},
   "outputs": [
    {
     "data": {
      "text/html": [
       "<div>\n",
       "<style scoped>\n",
       "    .dataframe tbody tr th:only-of-type {\n",
       "        vertical-align: middle;\n",
       "    }\n",
       "\n",
       "    .dataframe tbody tr th {\n",
       "        vertical-align: top;\n",
       "    }\n",
       "\n",
       "    .dataframe thead th {\n",
       "        text-align: right;\n",
       "    }\n",
       "</style>\n",
       "<table border=\"1\" class=\"dataframe\">\n",
       "  <thead>\n",
       "    <tr style=\"text-align: right;\">\n",
       "      <th></th>\n",
       "      <th>first_buy_month</th>\n",
       "      <th>buy_month</th>\n",
       "      <th>first_source</th>\n",
       "      <th>revenue</th>\n",
       "      <th>uid</th>\n",
       "    </tr>\n",
       "  </thead>\n",
       "  <tbody>\n",
       "    <tr>\n",
       "      <th>0</th>\n",
       "      <td>2017-06-01</td>\n",
       "      <td>2017-06-01</td>\n",
       "      <td>1</td>\n",
       "      <td>1378.70</td>\n",
       "      <td>190</td>\n",
       "    </tr>\n",
       "    <tr>\n",
       "      <th>1</th>\n",
       "      <td>2017-06-01</td>\n",
       "      <td>2017-06-01</td>\n",
       "      <td>2</td>\n",
       "      <td>1043.68</td>\n",
       "      <td>235</td>\n",
       "    </tr>\n",
       "    <tr>\n",
       "      <th>2</th>\n",
       "      <td>2017-06-01</td>\n",
       "      <td>2017-06-01</td>\n",
       "      <td>3</td>\n",
       "      <td>2804.34</td>\n",
       "      <td>638</td>\n",
       "    </tr>\n",
       "    <tr>\n",
       "      <th>3</th>\n",
       "      <td>2017-06-01</td>\n",
       "      <td>2017-06-01</td>\n",
       "      <td>4</td>\n",
       "      <td>1959.84</td>\n",
       "      <td>413</td>\n",
       "    </tr>\n",
       "    <tr>\n",
       "      <th>4</th>\n",
       "      <td>2017-06-01</td>\n",
       "      <td>2017-06-01</td>\n",
       "      <td>5</td>\n",
       "      <td>1898.89</td>\n",
       "      <td>384</td>\n",
       "    </tr>\n",
       "  </tbody>\n",
       "</table>\n",
       "</div>"
      ],
      "text/plain": [
       "  first_buy_month  buy_month  first_source  revenue  uid\n",
       "0      2017-06-01 2017-06-01             1  1378.70  190\n",
       "1      2017-06-01 2017-06-01             2  1043.68  235\n",
       "2      2017-06-01 2017-06-01             3  2804.34  638\n",
       "3      2017-06-01 2017-06-01             4  1959.84  413\n",
       "4      2017-06-01 2017-06-01             5  1898.89  384"
      ]
     },
     "metadata": {},
     "output_type": "display_data"
    }
   ],
   "source": [
    "orders_grouped_by_cohorts_source = orders_by_sourse.groupby(['first_buy_month','buy_month', 'first_source']).agg({'revenue':'sum','uid':'nunique'}).reset_index()\n",
    "display(orders_grouped_by_cohorts_source.head(5)) "
   ]
  },
  {
   "cell_type": "markdown",
   "metadata": {},
   "source": [
    "Найдём средний чек покупателя revenue_per_user — разделим показатель revenue на uid"
   ]
  },
  {
   "cell_type": "code",
   "execution_count": 387,
   "metadata": {},
   "outputs": [],
   "source": [
    "orders_grouped_by_cohorts_source['rev_per_user_by_source'] = orders_grouped_by_cohorts_source['revenue'] / orders_grouped_by_cohorts_source['uid'] "
   ]
  },
  {
   "cell_type": "markdown",
   "metadata": {},
   "source": [
    "Построим сводную таблицу изменения среднего чека в когортах в зависимости от рекламного источника и оценим, как изменяется средний чек с течением времени:"
   ]
  },
  {
   "cell_type": "code",
   "execution_count": 388,
   "metadata": {},
   "outputs": [
    {
     "data": {
      "text/html": [
       "<div>\n",
       "<style scoped>\n",
       "    .dataframe tbody tr th:only-of-type {\n",
       "        vertical-align: middle;\n",
       "    }\n",
       "\n",
       "    .dataframe tbody tr th {\n",
       "        vertical-align: top;\n",
       "    }\n",
       "\n",
       "    .dataframe thead th {\n",
       "        text-align: right;\n",
       "    }\n",
       "</style>\n",
       "<table border=\"1\" class=\"dataframe\">\n",
       "  <thead>\n",
       "    <tr style=\"text-align: right;\">\n",
       "      <th>first_source</th>\n",
       "      <th>1</th>\n",
       "      <th>2</th>\n",
       "      <th>3</th>\n",
       "      <th>4</th>\n",
       "      <th>5</th>\n",
       "      <th>7</th>\n",
       "      <th>9</th>\n",
       "      <th>10</th>\n",
       "    </tr>\n",
       "    <tr>\n",
       "      <th>first_buy_month</th>\n",
       "      <th></th>\n",
       "      <th></th>\n",
       "      <th></th>\n",
       "      <th></th>\n",
       "      <th></th>\n",
       "      <th></th>\n",
       "      <th></th>\n",
       "      <th></th>\n",
       "    </tr>\n",
       "  </thead>\n",
       "  <tbody>\n",
       "    <tr>\n",
       "      <th>2017-06-01</th>\n",
       "      <td>41.489423</td>\n",
       "      <td>19.072746</td>\n",
       "      <td>6.724400</td>\n",
       "      <td>28.226574</td>\n",
       "      <td>26.066398</td>\n",
       "      <td>NaN</td>\n",
       "      <td>5.414772</td>\n",
       "      <td>2.931404</td>\n",
       "    </tr>\n",
       "    <tr>\n",
       "      <th>2017-07-01</th>\n",
       "      <td>34.221001</td>\n",
       "      <td>8.275214</td>\n",
       "      <td>5.232577</td>\n",
       "      <td>5.187832</td>\n",
       "      <td>9.225090</td>\n",
       "      <td>NaN</td>\n",
       "      <td>3.612587</td>\n",
       "      <td>2.110343</td>\n",
       "    </tr>\n",
       "    <tr>\n",
       "      <th>2017-08-01</th>\n",
       "      <td>27.015767</td>\n",
       "      <td>6.192461</td>\n",
       "      <td>5.355572</td>\n",
       "      <td>5.748318</td>\n",
       "      <td>26.175116</td>\n",
       "      <td>1.22</td>\n",
       "      <td>3.381858</td>\n",
       "      <td>3.766459</td>\n",
       "    </tr>\n",
       "    <tr>\n",
       "      <th>2017-09-01</th>\n",
       "      <td>15.208430</td>\n",
       "      <td>32.480111</td>\n",
       "      <td>7.182837</td>\n",
       "      <td>16.034818</td>\n",
       "      <td>88.374252</td>\n",
       "      <td>NaN</td>\n",
       "      <td>13.995051</td>\n",
       "      <td>2.352962</td>\n",
       "    </tr>\n",
       "    <tr>\n",
       "      <th>2017-10-01</th>\n",
       "      <td>13.018954</td>\n",
       "      <td>12.427951</td>\n",
       "      <td>5.379485</td>\n",
       "      <td>5.176769</td>\n",
       "      <td>7.221526</td>\n",
       "      <td>NaN</td>\n",
       "      <td>7.685458</td>\n",
       "      <td>2.876089</td>\n",
       "    </tr>\n",
       "    <tr>\n",
       "      <th>2017-11-01</th>\n",
       "      <td>12.204361</td>\n",
       "      <td>13.692728</td>\n",
       "      <td>3.605752</td>\n",
       "      <td>9.218092</td>\n",
       "      <td>5.790017</td>\n",
       "      <td>NaN</td>\n",
       "      <td>3.045457</td>\n",
       "      <td>3.022685</td>\n",
       "    </tr>\n",
       "    <tr>\n",
       "      <th>2017-12-01</th>\n",
       "      <td>6.791142</td>\n",
       "      <td>133.409459</td>\n",
       "      <td>5.573709</td>\n",
       "      <td>4.868901</td>\n",
       "      <td>3.281020</td>\n",
       "      <td>NaN</td>\n",
       "      <td>3.677664</td>\n",
       "      <td>6.763647</td>\n",
       "    </tr>\n",
       "    <tr>\n",
       "      <th>2018-01-01</th>\n",
       "      <td>14.604498</td>\n",
       "      <td>15.472331</td>\n",
       "      <td>5.032512</td>\n",
       "      <td>4.140833</td>\n",
       "      <td>10.654550</td>\n",
       "      <td>NaN</td>\n",
       "      <td>2.519517</td>\n",
       "      <td>3.406341</td>\n",
       "    </tr>\n",
       "    <tr>\n",
       "      <th>2018-02-01</th>\n",
       "      <td>11.686755</td>\n",
       "      <td>10.611410</td>\n",
       "      <td>6.488422</td>\n",
       "      <td>3.058641</td>\n",
       "      <td>3.487009</td>\n",
       "      <td>NaN</td>\n",
       "      <td>3.632278</td>\n",
       "      <td>1.938580</td>\n",
       "    </tr>\n",
       "    <tr>\n",
       "      <th>2018-03-01</th>\n",
       "      <td>28.662699</td>\n",
       "      <td>25.383207</td>\n",
       "      <td>14.002787</td>\n",
       "      <td>5.317676</td>\n",
       "      <td>3.693502</td>\n",
       "      <td>NaN</td>\n",
       "      <td>2.507676</td>\n",
       "      <td>2.690380</td>\n",
       "    </tr>\n",
       "    <tr>\n",
       "      <th>2018-04-01</th>\n",
       "      <td>6.372291</td>\n",
       "      <td>8.950250</td>\n",
       "      <td>29.623938</td>\n",
       "      <td>5.100635</td>\n",
       "      <td>3.636523</td>\n",
       "      <td>NaN</td>\n",
       "      <td>6.513527</td>\n",
       "      <td>2.447944</td>\n",
       "    </tr>\n",
       "    <tr>\n",
       "      <th>2018-05-01</th>\n",
       "      <td>5.220705</td>\n",
       "      <td>6.845000</td>\n",
       "      <td>3.858460</td>\n",
       "      <td>4.729988</td>\n",
       "      <td>4.213360</td>\n",
       "      <td>NaN</td>\n",
       "      <td>3.717500</td>\n",
       "      <td>3.622231</td>\n",
       "    </tr>\n",
       "    <tr>\n",
       "      <th>2018-06-01</th>\n",
       "      <td>NaN</td>\n",
       "      <td>NaN</td>\n",
       "      <td>NaN</td>\n",
       "      <td>3.420000</td>\n",
       "      <td>NaN</td>\n",
       "      <td>NaN</td>\n",
       "      <td>NaN</td>\n",
       "      <td>NaN</td>\n",
       "    </tr>\n",
       "  </tbody>\n",
       "</table>\n",
       "</div>"
      ],
      "text/plain": [
       "first_source            1           2          3          4          5     7   \\\n",
       "first_buy_month                                                                 \n",
       "2017-06-01       41.489423   19.072746   6.724400  28.226574  26.066398   NaN   \n",
       "2017-07-01       34.221001    8.275214   5.232577   5.187832   9.225090   NaN   \n",
       "2017-08-01       27.015767    6.192461   5.355572   5.748318  26.175116  1.22   \n",
       "2017-09-01       15.208430   32.480111   7.182837  16.034818  88.374252   NaN   \n",
       "2017-10-01       13.018954   12.427951   5.379485   5.176769   7.221526   NaN   \n",
       "2017-11-01       12.204361   13.692728   3.605752   9.218092   5.790017   NaN   \n",
       "2017-12-01        6.791142  133.409459   5.573709   4.868901   3.281020   NaN   \n",
       "2018-01-01       14.604498   15.472331   5.032512   4.140833  10.654550   NaN   \n",
       "2018-02-01       11.686755   10.611410   6.488422   3.058641   3.487009   NaN   \n",
       "2018-03-01       28.662699   25.383207  14.002787   5.317676   3.693502   NaN   \n",
       "2018-04-01        6.372291    8.950250  29.623938   5.100635   3.636523   NaN   \n",
       "2018-05-01        5.220705    6.845000   3.858460   4.729988   4.213360   NaN   \n",
       "2018-06-01             NaN         NaN        NaN   3.420000        NaN   NaN   \n",
       "\n",
       "first_source            9         10  \n",
       "first_buy_month                       \n",
       "2017-06-01        5.414772  2.931404  \n",
       "2017-07-01        3.612587  2.110343  \n",
       "2017-08-01        3.381858  3.766459  \n",
       "2017-09-01       13.995051  2.352962  \n",
       "2017-10-01        7.685458  2.876089  \n",
       "2017-11-01        3.045457  3.022685  \n",
       "2017-12-01        3.677664  6.763647  \n",
       "2018-01-01        2.519517  3.406341  \n",
       "2018-02-01        3.632278  1.938580  \n",
       "2018-03-01        2.507676  2.690380  \n",
       "2018-04-01        6.513527  2.447944  \n",
       "2018-05-01        3.717500  3.622231  \n",
       "2018-06-01             NaN       NaN  "
      ]
     },
     "execution_count": 388,
     "metadata": {},
     "output_type": "execute_result"
    }
   ],
   "source": [
    "orders_grouped_by_cohorts_source_pivot = orders_grouped_by_cohorts_source.pivot_table(index='first_buy_month',columns='first_source',values='rev_per_user_by_source',aggfunc='mean')\n",
    "orders_grouped_by_cohorts_source_pivot"
   ]
  },
  {
   "cell_type": "code",
   "execution_count": 389,
   "metadata": {},
   "outputs": [
    {
     "data": {
      "image/png": "[encoded data removed]",
      "text/plain": [
       "<Figure size 936x648 with 2 Axes>"
      ]
     },
     "metadata": {},
     "output_type": "display_data"
    }
   ],
   "source": [
    "sns.set(style='white')\n",
    "plt.figure(figsize=(13, 9))\n",
    "plt.title('Cohorts: rev_per_user_by_source')\n",
    "sns.heatmap(orders_grouped_by_cohorts_source_pivot, annot=True, linewidths=1, linecolor='gray'); "
   ]
  },
  {
   "cell_type": "markdown",
   "metadata": {},
   "source": [
    "Мы видим, что у источников под номерами 1  и 2 стабильно хорошие показатели среднего чека для всех когорт, также выделяется источники 4  и 5, у них периодически получаются очень хорошие показатели среднего чека, самые низкие средние чеки у покупателей пришедших из источников 9 и 10"
   ]
  },
  {
   "cell_type": "markdown",
   "metadata": {},
   "source": [
    "### 3.6 Расчет LTV<a id=\"7\"> </a>"
   ]
  },
  {
   "cell_type": "markdown",
   "metadata": {},
   "source": [
    "Возмем таблицу с группировкой по месячным когортам с указанием общей выручки"
   ]
  },
  {
   "cell_type": "code",
   "execution_count": 390,
   "metadata": {},
   "outputs": [
    {
     "data": {
      "text/html": [
       "<div>\n",
       "<style scoped>\n",
       "    .dataframe tbody tr th:only-of-type {\n",
       "        vertical-align: middle;\n",
       "    }\n",
       "\n",
       "    .dataframe tbody tr th {\n",
       "        vertical-align: top;\n",
       "    }\n",
       "\n",
       "    .dataframe thead th {\n",
       "        text-align: right;\n",
       "    }\n",
       "</style>\n",
       "<table border=\"1\" class=\"dataframe\">\n",
       "  <thead>\n",
       "    <tr style=\"text-align: right;\">\n",
       "      <th></th>\n",
       "      <th>first_buy_month</th>\n",
       "      <th>buy_month</th>\n",
       "      <th>revenue</th>\n",
       "      <th>uid</th>\n",
       "      <th>revenue_per_user</th>\n",
       "      <th>cohort_lifetime</th>\n",
       "    </tr>\n",
       "  </thead>\n",
       "  <tbody>\n",
       "    <tr>\n",
       "      <th>0</th>\n",
       "      <td>2017-06</td>\n",
       "      <td>2017-06-01</td>\n",
       "      <td>9557.49</td>\n",
       "      <td>2023</td>\n",
       "      <td>4.724414</td>\n",
       "      <td>0</td>\n",
       "    </tr>\n",
       "    <tr>\n",
       "      <th>1</th>\n",
       "      <td>2017-06</td>\n",
       "      <td>2017-07-01</td>\n",
       "      <td>981.82</td>\n",
       "      <td>61</td>\n",
       "      <td>16.095410</td>\n",
       "      <td>0</td>\n",
       "    </tr>\n",
       "    <tr>\n",
       "      <th>2</th>\n",
       "      <td>2017-06</td>\n",
       "      <td>2017-08-01</td>\n",
       "      <td>885.34</td>\n",
       "      <td>50</td>\n",
       "      <td>17.706800</td>\n",
       "      <td>2</td>\n",
       "    </tr>\n",
       "    <tr>\n",
       "      <th>3</th>\n",
       "      <td>2017-06</td>\n",
       "      <td>2017-09-01</td>\n",
       "      <td>1931.30</td>\n",
       "      <td>54</td>\n",
       "      <td>35.764815</td>\n",
       "      <td>3</td>\n",
       "    </tr>\n",
       "    <tr>\n",
       "      <th>4</th>\n",
       "      <td>2017-06</td>\n",
       "      <td>2017-10-01</td>\n",
       "      <td>2068.58</td>\n",
       "      <td>88</td>\n",
       "      <td>23.506591</td>\n",
       "      <td>4</td>\n",
       "    </tr>\n",
       "    <tr>\n",
       "      <th>...</th>\n",
       "      <td>...</td>\n",
       "      <td>...</td>\n",
       "      <td>...</td>\n",
       "      <td>...</td>\n",
       "      <td>...</td>\n",
       "      <td>...</td>\n",
       "    </tr>\n",
       "    <tr>\n",
       "      <th>74</th>\n",
       "      <td>2018-03</td>\n",
       "      <td>2018-05-01</td>\n",
       "      <td>1114.87</td>\n",
       "      <td>58</td>\n",
       "      <td>19.221897</td>\n",
       "      <td>2</td>\n",
       "    </tr>\n",
       "    <tr>\n",
       "      <th>75</th>\n",
       "      <td>2018-04</td>\n",
       "      <td>2018-04-01</td>\n",
       "      <td>10600.69</td>\n",
       "      <td>2276</td>\n",
       "      <td>4.657597</td>\n",
       "      <td>0</td>\n",
       "    </tr>\n",
       "    <tr>\n",
       "      <th>76</th>\n",
       "      <td>2018-04</td>\n",
       "      <td>2018-05-01</td>\n",
       "      <td>1209.92</td>\n",
       "      <td>69</td>\n",
       "      <td>17.535072</td>\n",
       "      <td>0</td>\n",
       "    </tr>\n",
       "    <tr>\n",
       "      <th>77</th>\n",
       "      <td>2018-05</td>\n",
       "      <td>2018-05-01</td>\n",
       "      <td>13925.76</td>\n",
       "      <td>2988</td>\n",
       "      <td>4.660562</td>\n",
       "      <td>0</td>\n",
       "    </tr>\n",
       "    <tr>\n",
       "      <th>78</th>\n",
       "      <td>2018-06</td>\n",
       "      <td>2018-06-01</td>\n",
       "      <td>3.42</td>\n",
       "      <td>1</td>\n",
       "      <td>3.420000</td>\n",
       "      <td>0</td>\n",
       "    </tr>\n",
       "  </tbody>\n",
       "</table>\n",
       "<p>79 rows × 6 columns</p>\n",
       "</div>"
      ],
      "text/plain": [
       "   first_buy_month  buy_month   revenue   uid  revenue_per_user  \\\n",
       "0          2017-06 2017-06-01   9557.49  2023          4.724414   \n",
       "1          2017-06 2017-07-01    981.82    61         16.095410   \n",
       "2          2017-06 2017-08-01    885.34    50         17.706800   \n",
       "3          2017-06 2017-09-01   1931.30    54         35.764815   \n",
       "4          2017-06 2017-10-01   2068.58    88         23.506591   \n",
       "..             ...        ...       ...   ...               ...   \n",
       "74         2018-03 2018-05-01   1114.87    58         19.221897   \n",
       "75         2018-04 2018-04-01  10600.69  2276          4.657597   \n",
       "76         2018-04 2018-05-01   1209.92    69         17.535072   \n",
       "77         2018-05 2018-05-01  13925.76  2988          4.660562   \n",
       "78         2018-06 2018-06-01      3.42     1          3.420000   \n",
       "\n",
       "    cohort_lifetime  \n",
       "0                 0  \n",
       "1                 0  \n",
       "2                 2  \n",
       "3                 3  \n",
       "4                 4  \n",
       "..              ...  \n",
       "74                2  \n",
       "75                0  \n",
       "76                0  \n",
       "77                0  \n",
       "78                0  \n",
       "\n",
       "[79 rows x 6 columns]"
      ]
     },
     "metadata": {},
     "output_type": "display_data"
    }
   ],
   "source": [
    "display(orders_grouped_by_cohorts)"
   ]
  },
  {
   "cell_type": "markdown",
   "metadata": {},
   "source": [
    "Видим, к примеру, что когорта 0, т.е пользователи, сделавшие свой первый заказ в юине 2017, в этом же месяце принесли выручки на сумму 9557,49. С точки зрения когортного анализа LTV — накопительная выручка когорты в пересчёте на количество людей. У нас уже есть информация о первой дате покупки каждого пользователя, содержится в таблице visits_orders, посчитаем количество новых покупателей n_buyers за каждый месяц"
   ]
  },
  {
   "cell_type": "code",
   "execution_count": 391,
   "metadata": {},
   "outputs": [
    {
     "data": {
      "text/html": [
       "<div>\n",
       "<style scoped>\n",
       "    .dataframe tbody tr th:only-of-type {\n",
       "        vertical-align: middle;\n",
       "    }\n",
       "\n",
       "    .dataframe tbody tr th {\n",
       "        vertical-align: top;\n",
       "    }\n",
       "\n",
       "    .dataframe thead th {\n",
       "        text-align: right;\n",
       "    }\n",
       "</style>\n",
       "<table border=\"1\" class=\"dataframe\">\n",
       "  <thead>\n",
       "    <tr style=\"text-align: right;\">\n",
       "      <th></th>\n",
       "      <th>first_buy_month</th>\n",
       "      <th>n_buyers</th>\n",
       "    </tr>\n",
       "  </thead>\n",
       "  <tbody>\n",
       "    <tr>\n",
       "      <th>0</th>\n",
       "      <td>2017-06-01</td>\n",
       "      <td>2023</td>\n",
       "    </tr>\n",
       "    <tr>\n",
       "      <th>1</th>\n",
       "      <td>2017-07-01</td>\n",
       "      <td>1923</td>\n",
       "    </tr>\n",
       "    <tr>\n",
       "      <th>2</th>\n",
       "      <td>2017-08-01</td>\n",
       "      <td>1370</td>\n",
       "    </tr>\n",
       "    <tr>\n",
       "      <th>3</th>\n",
       "      <td>2017-09-01</td>\n",
       "      <td>2581</td>\n",
       "    </tr>\n",
       "    <tr>\n",
       "      <th>4</th>\n",
       "      <td>2017-10-01</td>\n",
       "      <td>4340</td>\n",
       "    </tr>\n",
       "  </tbody>\n",
       "</table>\n",
       "</div>"
      ],
      "text/plain": [
       "  first_buy_month  n_buyers\n",
       "0      2017-06-01      2023\n",
       "1      2017-07-01      1923\n",
       "2      2017-08-01      1370\n",
       "3      2017-09-01      2581\n",
       "4      2017-10-01      4340"
      ]
     },
     "metadata": {},
     "output_type": "display_data"
    }
   ],
   "source": [
    "cohort_sizes = visits_orders.groupby('first_buy_month').agg({'uid': 'nunique'}).reset_index()\n",
    "cohort_sizes.columns = ['first_buy_month', 'n_buyers']\n",
    "display(cohort_sizes.head()) "
   ]
  },
  {
   "cell_type": "code",
   "execution_count": 392,
   "metadata": {},
   "outputs": [],
   "source": [
    "cohort_sizes['first_buy_month'] = cohort_sizes['first_buy_month'].dt.strftime('%Y-%m') "
   ]
  },
  {
   "cell_type": "markdown",
   "metadata": {},
   "source": [
    "Добавим в таблицу orders_grouped_by_cohorts  данные о том, сколько людей первый раз совершили покупку в каждый месяц:"
   ]
  },
  {
   "cell_type": "code",
   "execution_count": 393,
   "metadata": {},
   "outputs": [
    {
     "data": {
      "text/html": [
       "<div>\n",
       "<style scoped>\n",
       "    .dataframe tbody tr th:only-of-type {\n",
       "        vertical-align: middle;\n",
       "    }\n",
       "\n",
       "    .dataframe tbody tr th {\n",
       "        vertical-align: top;\n",
       "    }\n",
       "\n",
       "    .dataframe thead th {\n",
       "        text-align: right;\n",
       "    }\n",
       "</style>\n",
       "<table border=\"1\" class=\"dataframe\">\n",
       "  <thead>\n",
       "    <tr style=\"text-align: right;\">\n",
       "      <th></th>\n",
       "      <th>first_buy_month</th>\n",
       "      <th>n_buyers</th>\n",
       "      <th>buy_month</th>\n",
       "      <th>revenue</th>\n",
       "      <th>uid</th>\n",
       "      <th>revenue_per_user</th>\n",
       "      <th>cohort_lifetime</th>\n",
       "    </tr>\n",
       "  </thead>\n",
       "  <tbody>\n",
       "    <tr>\n",
       "      <th>0</th>\n",
       "      <td>2017-06</td>\n",
       "      <td>2023</td>\n",
       "      <td>2017-06-01</td>\n",
       "      <td>9557.49</td>\n",
       "      <td>2023</td>\n",
       "      <td>4.724414</td>\n",
       "      <td>0</td>\n",
       "    </tr>\n",
       "    <tr>\n",
       "      <th>1</th>\n",
       "      <td>2017-06</td>\n",
       "      <td>2023</td>\n",
       "      <td>2017-07-01</td>\n",
       "      <td>981.82</td>\n",
       "      <td>61</td>\n",
       "      <td>16.095410</td>\n",
       "      <td>0</td>\n",
       "    </tr>\n",
       "    <tr>\n",
       "      <th>2</th>\n",
       "      <td>2017-06</td>\n",
       "      <td>2023</td>\n",
       "      <td>2017-08-01</td>\n",
       "      <td>885.34</td>\n",
       "      <td>50</td>\n",
       "      <td>17.706800</td>\n",
       "      <td>2</td>\n",
       "    </tr>\n",
       "    <tr>\n",
       "      <th>3</th>\n",
       "      <td>2017-06</td>\n",
       "      <td>2023</td>\n",
       "      <td>2017-09-01</td>\n",
       "      <td>1931.30</td>\n",
       "      <td>54</td>\n",
       "      <td>35.764815</td>\n",
       "      <td>3</td>\n",
       "    </tr>\n",
       "    <tr>\n",
       "      <th>4</th>\n",
       "      <td>2017-06</td>\n",
       "      <td>2023</td>\n",
       "      <td>2017-10-01</td>\n",
       "      <td>2068.58</td>\n",
       "      <td>88</td>\n",
       "      <td>23.506591</td>\n",
       "      <td>4</td>\n",
       "    </tr>\n",
       "    <tr>\n",
       "      <th>...</th>\n",
       "      <td>...</td>\n",
       "      <td>...</td>\n",
       "      <td>...</td>\n",
       "      <td>...</td>\n",
       "      <td>...</td>\n",
       "      <td>...</td>\n",
       "      <td>...</td>\n",
       "    </tr>\n",
       "    <tr>\n",
       "      <th>74</th>\n",
       "      <td>2018-03</td>\n",
       "      <td>3533</td>\n",
       "      <td>2018-05-01</td>\n",
       "      <td>1114.87</td>\n",
       "      <td>58</td>\n",
       "      <td>19.221897</td>\n",
       "      <td>2</td>\n",
       "    </tr>\n",
       "    <tr>\n",
       "      <th>75</th>\n",
       "      <td>2018-04</td>\n",
       "      <td>2276</td>\n",
       "      <td>2018-04-01</td>\n",
       "      <td>10600.69</td>\n",
       "      <td>2276</td>\n",
       "      <td>4.657597</td>\n",
       "      <td>0</td>\n",
       "    </tr>\n",
       "    <tr>\n",
       "      <th>76</th>\n",
       "      <td>2018-04</td>\n",
       "      <td>2276</td>\n",
       "      <td>2018-05-01</td>\n",
       "      <td>1209.92</td>\n",
       "      <td>69</td>\n",
       "      <td>17.535072</td>\n",
       "      <td>0</td>\n",
       "    </tr>\n",
       "    <tr>\n",
       "      <th>77</th>\n",
       "      <td>2018-05</td>\n",
       "      <td>2988</td>\n",
       "      <td>2018-05-01</td>\n",
       "      <td>13925.76</td>\n",
       "      <td>2988</td>\n",
       "      <td>4.660562</td>\n",
       "      <td>0</td>\n",
       "    </tr>\n",
       "    <tr>\n",
       "      <th>78</th>\n",
       "      <td>2018-06</td>\n",
       "      <td>1</td>\n",
       "      <td>2018-06-01</td>\n",
       "      <td>3.42</td>\n",
       "      <td>1</td>\n",
       "      <td>3.420000</td>\n",
       "      <td>0</td>\n",
       "    </tr>\n",
       "  </tbody>\n",
       "</table>\n",
       "<p>79 rows × 7 columns</p>\n",
       "</div>"
      ],
      "text/plain": [
       "   first_buy_month  n_buyers  buy_month   revenue   uid  revenue_per_user  \\\n",
       "0          2017-06      2023 2017-06-01   9557.49  2023          4.724414   \n",
       "1          2017-06      2023 2017-07-01    981.82    61         16.095410   \n",
       "2          2017-06      2023 2017-08-01    885.34    50         17.706800   \n",
       "3          2017-06      2023 2017-09-01   1931.30    54         35.764815   \n",
       "4          2017-06      2023 2017-10-01   2068.58    88         23.506591   \n",
       "..             ...       ...        ...       ...   ...               ...   \n",
       "74         2018-03      3533 2018-05-01   1114.87    58         19.221897   \n",
       "75         2018-04      2276 2018-04-01  10600.69  2276          4.657597   \n",
       "76         2018-04      2276 2018-05-01   1209.92    69         17.535072   \n",
       "77         2018-05      2988 2018-05-01  13925.76  2988          4.660562   \n",
       "78         2018-06         1 2018-06-01      3.42     1          3.420000   \n",
       "\n",
       "    cohort_lifetime  \n",
       "0                 0  \n",
       "1                 0  \n",
       "2                 2  \n",
       "3                 3  \n",
       "4                 4  \n",
       "..              ...  \n",
       "74                2  \n",
       "75                0  \n",
       "76                0  \n",
       "77                0  \n",
       "78                0  \n",
       "\n",
       "[79 rows x 7 columns]"
      ]
     },
     "metadata": {},
     "output_type": "display_data"
    }
   ],
   "source": [
    "report = pd.merge(cohort_sizes, orders_grouped_by_cohorts, on='first_buy_month')\n",
    "#report['first_buy_month'] = report['first_buy_month'].dt.strftime('%Y-%m') \n",
    "display(report) \n"
   ]
  },
  {
   "cell_type": "markdown",
   "metadata": {},
   "source": [
    "Ранее в таблице появился столбец с новыми покупателями — n_buyers. В первых 12 строках его значение не изменяется — ведь это продажи одной и той же когорты. LTV считают не из выручки, а из валовой прибыли, в проекте примем маржинальность как 1.  LTV — относительный показатель. Значит его удобнее смотреть по «возрастным» когортам, где в столбцах — не месяц заказа, а возраст (age) когорты."
   ]
  },
  {
   "cell_type": "code",
   "execution_count": 394,
   "metadata": {},
   "outputs": [
    {
     "data": {
      "text/html": [
       "<div>\n",
       "<style scoped>\n",
       "    .dataframe tbody tr th:only-of-type {\n",
       "        vertical-align: middle;\n",
       "    }\n",
       "\n",
       "    .dataframe tbody tr th {\n",
       "        vertical-align: top;\n",
       "    }\n",
       "\n",
       "    .dataframe thead th {\n",
       "        text-align: right;\n",
       "    }\n",
       "</style>\n",
       "<table border=\"1\" class=\"dataframe\">\n",
       "  <thead>\n",
       "    <tr style=\"text-align: right;\">\n",
       "      <th></th>\n",
       "      <th>first_buy_month</th>\n",
       "      <th>n_buyers</th>\n",
       "      <th>buy_month</th>\n",
       "      <th>revenue</th>\n",
       "      <th>uid</th>\n",
       "      <th>revenue_per_user</th>\n",
       "      <th>cohort_lifetime</th>\n",
       "      <th>age</th>\n",
       "    </tr>\n",
       "  </thead>\n",
       "  <tbody>\n",
       "    <tr>\n",
       "      <th>0</th>\n",
       "      <td>2017-06-01</td>\n",
       "      <td>2023</td>\n",
       "      <td>2017-06-01</td>\n",
       "      <td>9557.49</td>\n",
       "      <td>2023</td>\n",
       "      <td>4.724414</td>\n",
       "      <td>0</td>\n",
       "      <td>0</td>\n",
       "    </tr>\n",
       "    <tr>\n",
       "      <th>1</th>\n",
       "      <td>2017-06-01</td>\n",
       "      <td>2023</td>\n",
       "      <td>2017-07-01</td>\n",
       "      <td>981.82</td>\n",
       "      <td>61</td>\n",
       "      <td>16.095410</td>\n",
       "      <td>0</td>\n",
       "      <td>1</td>\n",
       "    </tr>\n",
       "    <tr>\n",
       "      <th>2</th>\n",
       "      <td>2017-06-01</td>\n",
       "      <td>2023</td>\n",
       "      <td>2017-08-01</td>\n",
       "      <td>885.34</td>\n",
       "      <td>50</td>\n",
       "      <td>17.706800</td>\n",
       "      <td>2</td>\n",
       "      <td>2</td>\n",
       "    </tr>\n",
       "    <tr>\n",
       "      <th>3</th>\n",
       "      <td>2017-06-01</td>\n",
       "      <td>2023</td>\n",
       "      <td>2017-09-01</td>\n",
       "      <td>1931.30</td>\n",
       "      <td>54</td>\n",
       "      <td>35.764815</td>\n",
       "      <td>3</td>\n",
       "      <td>3</td>\n",
       "    </tr>\n",
       "    <tr>\n",
       "      <th>4</th>\n",
       "      <td>2017-06-01</td>\n",
       "      <td>2023</td>\n",
       "      <td>2017-10-01</td>\n",
       "      <td>2068.58</td>\n",
       "      <td>88</td>\n",
       "      <td>23.506591</td>\n",
       "      <td>4</td>\n",
       "      <td>4</td>\n",
       "    </tr>\n",
       "    <tr>\n",
       "      <th>...</th>\n",
       "      <td>...</td>\n",
       "      <td>...</td>\n",
       "      <td>...</td>\n",
       "      <td>...</td>\n",
       "      <td>...</td>\n",
       "      <td>...</td>\n",
       "      <td>...</td>\n",
       "      <td>...</td>\n",
       "    </tr>\n",
       "    <tr>\n",
       "      <th>74</th>\n",
       "      <td>2018-03-01</td>\n",
       "      <td>3533</td>\n",
       "      <td>2018-05-01</td>\n",
       "      <td>1114.87</td>\n",
       "      <td>58</td>\n",
       "      <td>19.221897</td>\n",
       "      <td>2</td>\n",
       "      <td>2</td>\n",
       "    </tr>\n",
       "    <tr>\n",
       "      <th>75</th>\n",
       "      <td>2018-04-01</td>\n",
       "      <td>2276</td>\n",
       "      <td>2018-04-01</td>\n",
       "      <td>10600.69</td>\n",
       "      <td>2276</td>\n",
       "      <td>4.657597</td>\n",
       "      <td>0</td>\n",
       "      <td>0</td>\n",
       "    </tr>\n",
       "    <tr>\n",
       "      <th>76</th>\n",
       "      <td>2018-04-01</td>\n",
       "      <td>2276</td>\n",
       "      <td>2018-05-01</td>\n",
       "      <td>1209.92</td>\n",
       "      <td>69</td>\n",
       "      <td>17.535072</td>\n",
       "      <td>0</td>\n",
       "      <td>1</td>\n",
       "    </tr>\n",
       "    <tr>\n",
       "      <th>77</th>\n",
       "      <td>2018-05-01</td>\n",
       "      <td>2988</td>\n",
       "      <td>2018-05-01</td>\n",
       "      <td>13925.76</td>\n",
       "      <td>2988</td>\n",
       "      <td>4.660562</td>\n",
       "      <td>0</td>\n",
       "      <td>0</td>\n",
       "    </tr>\n",
       "    <tr>\n",
       "      <th>78</th>\n",
       "      <td>2018-06-01</td>\n",
       "      <td>1</td>\n",
       "      <td>2018-06-01</td>\n",
       "      <td>3.42</td>\n",
       "      <td>1</td>\n",
       "      <td>3.420000</td>\n",
       "      <td>0</td>\n",
       "      <td>0</td>\n",
       "    </tr>\n",
       "  </tbody>\n",
       "</table>\n",
       "<p>79 rows × 8 columns</p>\n",
       "</div>"
      ],
      "text/plain": [
       "   first_buy_month  n_buyers  buy_month   revenue   uid  revenue_per_user  \\\n",
       "0       2017-06-01      2023 2017-06-01   9557.49  2023          4.724414   \n",
       "1       2017-06-01      2023 2017-07-01    981.82    61         16.095410   \n",
       "2       2017-06-01      2023 2017-08-01    885.34    50         17.706800   \n",
       "3       2017-06-01      2023 2017-09-01   1931.30    54         35.764815   \n",
       "4       2017-06-01      2023 2017-10-01   2068.58    88         23.506591   \n",
       "..             ...       ...        ...       ...   ...               ...   \n",
       "74      2018-03-01      3533 2018-05-01   1114.87    58         19.221897   \n",
       "75      2018-04-01      2276 2018-04-01  10600.69  2276          4.657597   \n",
       "76      2018-04-01      2276 2018-05-01   1209.92    69         17.535072   \n",
       "77      2018-05-01      2988 2018-05-01  13925.76  2988          4.660562   \n",
       "78      2018-06-01         1 2018-06-01      3.42     1          3.420000   \n",
       "\n",
       "    cohort_lifetime  age  \n",
       "0                 0    0  \n",
       "1                 0    1  \n",
       "2                 2    2  \n",
       "3                 3    3  \n",
       "4                 4    4  \n",
       "..              ...  ...  \n",
       "74                2    2  \n",
       "75                0    0  \n",
       "76                0    1  \n",
       "77                0    0  \n",
       "78                0    0  \n",
       "\n",
       "[79 rows x 8 columns]"
      ]
     },
     "metadata": {},
     "output_type": "display_data"
    }
   ],
   "source": [
    "report['first_buy_month'] = report['first_buy_month'].astype('datetime64[M]')\n",
    "report['age'] = (report['buy_month'] - report['first_buy_month']) / np.timedelta64(1, 'M')\n",
    "report['age'] = report['age'].round().astype('int')\n",
    "display(report) "
   ]
  },
  {
   "cell_type": "markdown",
   "metadata": {},
   "source": [
    "Наконец, найдём LTV. Разделим валовую прибыль когорт за каждый месяц на общее число пользователей в каждой когорте. Для наглядности визуализируем когорты в виде сводной таблицы:"
   ]
  },
  {
   "cell_type": "code",
   "execution_count": 395,
   "metadata": {},
   "outputs": [],
   "source": [
    "report['ltv'] = report['revenue'] / report['n_buyers']\n"
   ]
  },
  {
   "cell_type": "code",
   "execution_count": 396,
   "metadata": {},
   "outputs": [
    {
     "data": {
      "text/html": [
       "<div>\n",
       "<style scoped>\n",
       "    .dataframe tbody tr th:only-of-type {\n",
       "        vertical-align: middle;\n",
       "    }\n",
       "\n",
       "    .dataframe tbody tr th {\n",
       "        vertical-align: top;\n",
       "    }\n",
       "\n",
       "    .dataframe thead th {\n",
       "        text-align: right;\n",
       "    }\n",
       "</style>\n",
       "<table border=\"1\" class=\"dataframe\">\n",
       "  <thead>\n",
       "    <tr style=\"text-align: right;\">\n",
       "      <th>age</th>\n",
       "      <th>0</th>\n",
       "      <th>1</th>\n",
       "      <th>2</th>\n",
       "      <th>3</th>\n",
       "      <th>4</th>\n",
       "      <th>5</th>\n",
       "      <th>6</th>\n",
       "      <th>7</th>\n",
       "      <th>8</th>\n",
       "      <th>9</th>\n",
       "      <th>10</th>\n",
       "      <th>11</th>\n",
       "    </tr>\n",
       "    <tr>\n",
       "      <th>first_buy_month</th>\n",
       "      <th></th>\n",
       "      <th></th>\n",
       "      <th></th>\n",
       "      <th></th>\n",
       "      <th></th>\n",
       "      <th></th>\n",
       "      <th></th>\n",
       "      <th></th>\n",
       "      <th></th>\n",
       "      <th></th>\n",
       "      <th></th>\n",
       "      <th></th>\n",
       "    </tr>\n",
       "  </thead>\n",
       "  <tbody>\n",
       "    <tr>\n",
       "      <th>2017-06-01</th>\n",
       "      <td>4.72</td>\n",
       "      <td>0.49</td>\n",
       "      <td>0.44</td>\n",
       "      <td>0.95</td>\n",
       "      <td>1.02</td>\n",
       "      <td>0.74</td>\n",
       "      <td>0.95</td>\n",
       "      <td>0.58</td>\n",
       "      <td>0.55</td>\n",
       "      <td>0.61</td>\n",
       "      <td>0.57</td>\n",
       "      <td>0.26</td>\n",
       "    </tr>\n",
       "    <tr>\n",
       "      <th>2017-07-01</th>\n",
       "      <td>6.01</td>\n",
       "      <td>0.34</td>\n",
       "      <td>0.62</td>\n",
       "      <td>0.36</td>\n",
       "      <td>0.18</td>\n",
       "      <td>0.16</td>\n",
       "      <td>0.12</td>\n",
       "      <td>0.14</td>\n",
       "      <td>0.16</td>\n",
       "      <td>0.15</td>\n",
       "      <td>0.16</td>\n",
       "      <td></td>\n",
       "    </tr>\n",
       "    <tr>\n",
       "      <th>2017-08-01</th>\n",
       "      <td>5.28</td>\n",
       "      <td>0.47</td>\n",
       "      <td>0.46</td>\n",
       "      <td>0.39</td>\n",
       "      <td>0.49</td>\n",
       "      <td>0.28</td>\n",
       "      <td>0.21</td>\n",
       "      <td>0.41</td>\n",
       "      <td>0.29</td>\n",
       "      <td>0.19</td>\n",
       "      <td></td>\n",
       "      <td></td>\n",
       "    </tr>\n",
       "    <tr>\n",
       "      <th>2017-09-01</th>\n",
       "      <td>5.64</td>\n",
       "      <td>1.12</td>\n",
       "      <td>0.52</td>\n",
       "      <td>3.98</td>\n",
       "      <td>0.4</td>\n",
       "      <td>0.65</td>\n",
       "      <td>0.7</td>\n",
       "      <td>0.24</td>\n",
       "      <td>0.18</td>\n",
       "      <td></td>\n",
       "      <td></td>\n",
       "      <td></td>\n",
       "    </tr>\n",
       "    <tr>\n",
       "      <th>2017-10-01</th>\n",
       "      <td>5.00</td>\n",
       "      <td>0.54</td>\n",
       "      <td>0.19</td>\n",
       "      <td>0.16</td>\n",
       "      <td>0.15</td>\n",
       "      <td>0.12</td>\n",
       "      <td>0.08</td>\n",
       "      <td>0.12</td>\n",
       "      <td></td>\n",
       "      <td></td>\n",
       "      <td></td>\n",
       "      <td></td>\n",
       "    </tr>\n",
       "    <tr>\n",
       "      <th>2017-11-01</th>\n",
       "      <td>5.15</td>\n",
       "      <td>0.4</td>\n",
       "      <td>0.2</td>\n",
       "      <td>0.32</td>\n",
       "      <td>0.15</td>\n",
       "      <td>0.05</td>\n",
       "      <td>0.11</td>\n",
       "      <td></td>\n",
       "      <td></td>\n",
       "      <td></td>\n",
       "      <td></td>\n",
       "      <td></td>\n",
       "    </tr>\n",
       "    <tr>\n",
       "      <th>2017-12-01</th>\n",
       "      <td>4.74</td>\n",
       "      <td>0.26</td>\n",
       "      <td>0.93</td>\n",
       "      <td>1.07</td>\n",
       "      <td>0.31</td>\n",
       "      <td>0.34</td>\n",
       "      <td></td>\n",
       "      <td></td>\n",
       "      <td></td>\n",
       "      <td></td>\n",
       "      <td></td>\n",
       "      <td></td>\n",
       "    </tr>\n",
       "    <tr>\n",
       "      <th>2018-01-01</th>\n",
       "      <td>4.14</td>\n",
       "      <td>0.29</td>\n",
       "      <td>0.3</td>\n",
       "      <td>0.14</td>\n",
       "      <td>0.06</td>\n",
       "      <td></td>\n",
       "      <td></td>\n",
       "      <td></td>\n",
       "      <td></td>\n",
       "      <td></td>\n",
       "      <td></td>\n",
       "      <td></td>\n",
       "    </tr>\n",
       "    <tr>\n",
       "      <th>2018-02-01</th>\n",
       "      <td>4.16</td>\n",
       "      <td>0.28</td>\n",
       "      <td>0.08</td>\n",
       "      <td>0.07</td>\n",
       "      <td></td>\n",
       "      <td></td>\n",
       "      <td></td>\n",
       "      <td></td>\n",
       "      <td></td>\n",
       "      <td></td>\n",
       "      <td></td>\n",
       "      <td></td>\n",
       "    </tr>\n",
       "    <tr>\n",
       "      <th>2018-03-01</th>\n",
       "      <td>4.84</td>\n",
       "      <td>0.3</td>\n",
       "      <td>0.32</td>\n",
       "      <td></td>\n",
       "      <td></td>\n",
       "      <td></td>\n",
       "      <td></td>\n",
       "      <td></td>\n",
       "      <td></td>\n",
       "      <td></td>\n",
       "      <td></td>\n",
       "      <td></td>\n",
       "    </tr>\n",
       "    <tr>\n",
       "      <th>2018-04-01</th>\n",
       "      <td>4.66</td>\n",
       "      <td>0.53</td>\n",
       "      <td></td>\n",
       "      <td></td>\n",
       "      <td></td>\n",
       "      <td></td>\n",
       "      <td></td>\n",
       "      <td></td>\n",
       "      <td></td>\n",
       "      <td></td>\n",
       "      <td></td>\n",
       "      <td></td>\n",
       "    </tr>\n",
       "    <tr>\n",
       "      <th>2018-05-01</th>\n",
       "      <td>4.66</td>\n",
       "      <td></td>\n",
       "      <td></td>\n",
       "      <td></td>\n",
       "      <td></td>\n",
       "      <td></td>\n",
       "      <td></td>\n",
       "      <td></td>\n",
       "      <td></td>\n",
       "      <td></td>\n",
       "      <td></td>\n",
       "      <td></td>\n",
       "    </tr>\n",
       "    <tr>\n",
       "      <th>2018-06-01</th>\n",
       "      <td>3.42</td>\n",
       "      <td></td>\n",
       "      <td></td>\n",
       "      <td></td>\n",
       "      <td></td>\n",
       "      <td></td>\n",
       "      <td></td>\n",
       "      <td></td>\n",
       "      <td></td>\n",
       "      <td></td>\n",
       "      <td></td>\n",
       "      <td></td>\n",
       "    </tr>\n",
       "  </tbody>\n",
       "</table>\n",
       "</div>"
      ],
      "text/plain": [
       "age                0     1     2     3     4     5     6     7     8     9   \\\n",
       "first_buy_month                                                               \n",
       "2017-06-01       4.72  0.49  0.44  0.95  1.02  0.74  0.95  0.58  0.55  0.61   \n",
       "2017-07-01       6.01  0.34  0.62  0.36  0.18  0.16  0.12  0.14  0.16  0.15   \n",
       "2017-08-01       5.28  0.47  0.46  0.39  0.49  0.28  0.21  0.41  0.29  0.19   \n",
       "2017-09-01       5.64  1.12  0.52  3.98   0.4  0.65   0.7  0.24  0.18         \n",
       "2017-10-01       5.00  0.54  0.19  0.16  0.15  0.12  0.08  0.12               \n",
       "2017-11-01       5.15   0.4   0.2  0.32  0.15  0.05  0.11                     \n",
       "2017-12-01       4.74  0.26  0.93  1.07  0.31  0.34                           \n",
       "2018-01-01       4.14  0.29   0.3  0.14  0.06                                 \n",
       "2018-02-01       4.16  0.28  0.08  0.07                                       \n",
       "2018-03-01       4.84   0.3  0.32                                             \n",
       "2018-04-01       4.66  0.53                                                   \n",
       "2018-05-01       4.66                                                         \n",
       "2018-06-01       3.42                                                         \n",
       "\n",
       "age                10    11  \n",
       "first_buy_month              \n",
       "2017-06-01       0.57  0.26  \n",
       "2017-07-01       0.16        \n",
       "2017-08-01                   \n",
       "2017-09-01                   \n",
       "2017-10-01                   \n",
       "2017-11-01                   \n",
       "2017-12-01                   \n",
       "2018-01-01                   \n",
       "2018-02-01                   \n",
       "2018-03-01                   \n",
       "2018-04-01                   \n",
       "2018-05-01                   \n",
       "2018-06-01                   "
      ]
     },
     "metadata": {},
     "output_type": "display_data"
    }
   ],
   "source": [
    "output = report.pivot_table(\n",
    "        index='first_buy_month', \n",
    "        columns='age', \n",
    "        values='ltv', \n",
    "        aggfunc='mean')\n",
    "    \n",
    "display(output.round(2).fillna(''))\n"
   ]
  },
  {
   "cell_type": "markdown",
   "metadata": {},
   "source": [
    "Построим тепловую карту кумулятивного LTV"
   ]
  },
  {
   "cell_type": "code",
   "execution_count": 397,
   "metadata": {},
   "outputs": [],
   "source": [
    "output_ltv_cum=output.cumsum(axis=1).round(2)\n"
   ]
  },
  {
   "cell_type": "code",
   "execution_count": 398,
   "metadata": {},
   "outputs": [
    {
     "data": {
      "image/png": "[encoded data removed]",
      "text/plain": [
       "<Figure size 936x648 with 2 Axes>"
      ]
     },
     "metadata": {},
     "output_type": "display_data"
    }
   ],
   "source": [
    "sns.set(style='white')\n",
    "plt.figure(figsize=(13, 9))\n",
    "plt.title('Cohorts: LTV_cum')\n",
    "sns.heatmap(output_ltv_cum, annot=True, linewidths=1, linecolor='gray'); "
   ]
  },
  {
   "cell_type": "markdown",
   "metadata": {},
   "source": [
    "Посчитаем итоговый LTV первой когорты. Сложим их LTV по месяцам:"
   ]
  },
  {
   "cell_type": "code",
   "execution_count": 399,
   "metadata": {},
   "outputs": [
    {
     "name": "stdout",
     "output_type": "stream",
     "text": [
      "11.879233811171506\n"
     ]
    }
   ],
   "source": [
    "ltv_201706 = output.loc['2017-06-01'].sum()\n",
    "print(ltv_201706) "
   ]
  },
  {
   "cell_type": "code",
   "execution_count": 400,
   "metadata": {},
   "outputs": [
    {
     "data": {
      "text/plain": [
       "8.386853874154957"
      ]
     },
     "execution_count": 400,
     "metadata": {},
     "output_type": "execute_result"
    }
   ],
   "source": [
    "output.loc['2017-07-01'].sum()"
   ]
  },
  {
   "cell_type": "markdown",
   "metadata": {},
   "source": [
    "В среднем каждый покупатель из первой когорты принес по 11.87 выручки за 11 месяцев «жизни»."
   ]
  },
  {
   "cell_type": "markdown",
   "metadata": {},
   "source": [
    "Теперь посчитаем Средний LTV за 6 месяцев после первой покупки"
   ]
  },
  {
   "cell_type": "code",
   "execution_count": 401,
   "metadata": {},
   "outputs": [
    {
     "data": {
      "text/plain": [
       "7.96905263020733"
      ]
     },
     "execution_count": 401,
     "metadata": {},
     "output_type": "execute_result"
    }
   ],
   "source": [
    "m6_cum_ltv = output.cumsum(axis=1).mean(axis=0)[5]\n",
    "m6_cum_ltv"
   ]
  },
  {
   "cell_type": "markdown",
   "metadata": {},
   "source": [
    "Чтобы вложения окупались, привлечение одного покупателя не должно превышать 7,97 "
   ]
  },
  {
   "cell_type": "markdown",
   "metadata": {},
   "source": [
    "### 3.7 Анализ расходов<a id=\"8\"> </a>"
   ]
  },
  {
   "cell_type": "markdown",
   "metadata": {},
   "source": [
    "Посмотрим таблицу с расходами"
   ]
  },
  {
   "cell_type": "code",
   "execution_count": 419,
   "metadata": {},
   "outputs": [
    {
     "data": {
      "text/html": [
       "<div>\n",
       "<style scoped>\n",
       "    .dataframe tbody tr th:only-of-type {\n",
       "        vertical-align: middle;\n",
       "    }\n",
       "\n",
       "    .dataframe tbody tr th {\n",
       "        vertical-align: top;\n",
       "    }\n",
       "\n",
       "    .dataframe thead th {\n",
       "        text-align: right;\n",
       "    }\n",
       "</style>\n",
       "<table border=\"1\" class=\"dataframe\">\n",
       "  <thead>\n",
       "    <tr style=\"text-align: right;\">\n",
       "      <th></th>\n",
       "      <th>source_id</th>\n",
       "      <th>dt</th>\n",
       "      <th>costs</th>\n",
       "    </tr>\n",
       "  </thead>\n",
       "  <tbody>\n",
       "    <tr>\n",
       "      <th>0</th>\n",
       "      <td>1</td>\n",
       "      <td>2017-06-01</td>\n",
       "      <td>75.20</td>\n",
       "    </tr>\n",
       "    <tr>\n",
       "      <th>1</th>\n",
       "      <td>1</td>\n",
       "      <td>2017-06-01</td>\n",
       "      <td>62.25</td>\n",
       "    </tr>\n",
       "    <tr>\n",
       "      <th>2</th>\n",
       "      <td>1</td>\n",
       "      <td>2017-06-01</td>\n",
       "      <td>36.53</td>\n",
       "    </tr>\n",
       "    <tr>\n",
       "      <th>3</th>\n",
       "      <td>1</td>\n",
       "      <td>2017-06-01</td>\n",
       "      <td>55.00</td>\n",
       "    </tr>\n",
       "    <tr>\n",
       "      <th>4</th>\n",
       "      <td>1</td>\n",
       "      <td>2017-06-01</td>\n",
       "      <td>57.08</td>\n",
       "    </tr>\n",
       "  </tbody>\n",
       "</table>\n",
       "</div>"
      ],
      "text/plain": [
       "   source_id         dt  costs\n",
       "0          1 2017-06-01  75.20\n",
       "1          1 2017-06-01  62.25\n",
       "2          1 2017-06-01  36.53\n",
       "3          1 2017-06-01  55.00\n",
       "4          1 2017-06-01  57.08"
      ]
     },
     "metadata": {},
     "output_type": "display_data"
    }
   ],
   "source": [
    "display(costs.head())"
   ]
  },
  {
   "cell_type": "code",
   "execution_count": 403,
   "metadata": {},
   "outputs": [
    {
     "data": {
      "text/plain": [
       "array([ 1,  2,  3,  4,  5,  9, 10], dtype=int64)"
      ]
     },
     "execution_count": 403,
     "metadata": {},
     "output_type": "execute_result"
    }
   ],
   "source": [
    "costs['source_id'].unique()"
   ]
  },
  {
   "cell_type": "markdown",
   "metadata": {},
   "source": [
    "Посчитаем помесячные расходы"
   ]
  },
  {
   "cell_type": "code",
   "execution_count": 404,
   "metadata": {},
   "outputs": [],
   "source": [
    "costs['dt'] = costs['dt'].astype('datetime64[M]') \n",
    "monthly_costs = costs.groupby('dt').sum().reset_index()\n",
    "monthly_costs_new = costs.groupby(['dt','source_id']).sum().reset_index()\n"
   ]
  },
  {
   "cell_type": "code",
   "execution_count": 420,
   "metadata": {},
   "outputs": [
    {
     "data": {
      "text/html": [
       "<div>\n",
       "<style scoped>\n",
       "    .dataframe tbody tr th:only-of-type {\n",
       "        vertical-align: middle;\n",
       "    }\n",
       "\n",
       "    .dataframe tbody tr th {\n",
       "        vertical-align: top;\n",
       "    }\n",
       "\n",
       "    .dataframe thead th {\n",
       "        text-align: right;\n",
       "    }\n",
       "</style>\n",
       "<table border=\"1\" class=\"dataframe\">\n",
       "  <thead>\n",
       "    <tr style=\"text-align: right;\">\n",
       "      <th></th>\n",
       "      <th>dt</th>\n",
       "      <th>source_id</th>\n",
       "      <th>costs</th>\n",
       "    </tr>\n",
       "  </thead>\n",
       "  <tbody>\n",
       "    <tr>\n",
       "      <th>0</th>\n",
       "      <td>2017-06-01</td>\n",
       "      <td>1020</td>\n",
       "      <td>18015.00</td>\n",
       "    </tr>\n",
       "    <tr>\n",
       "      <th>1</th>\n",
       "      <td>2017-07-01</td>\n",
       "      <td>1054</td>\n",
       "      <td>18240.59</td>\n",
       "    </tr>\n",
       "    <tr>\n",
       "      <th>2</th>\n",
       "      <td>2017-08-01</td>\n",
       "      <td>1054</td>\n",
       "      <td>14790.54</td>\n",
       "    </tr>\n",
       "    <tr>\n",
       "      <th>3</th>\n",
       "      <td>2017-09-01</td>\n",
       "      <td>1020</td>\n",
       "      <td>24368.91</td>\n",
       "    </tr>\n",
       "    <tr>\n",
       "      <th>4</th>\n",
       "      <td>2017-10-01</td>\n",
       "      <td>1054</td>\n",
       "      <td>36322.88</td>\n",
       "    </tr>\n",
       "  </tbody>\n",
       "</table>\n",
       "</div>"
      ],
      "text/plain": [
       "          dt  source_id     costs\n",
       "0 2017-06-01       1020  18015.00\n",
       "1 2017-07-01       1054  18240.59\n",
       "2 2017-08-01       1054  14790.54\n",
       "3 2017-09-01       1020  24368.91\n",
       "4 2017-10-01       1054  36322.88"
      ]
     },
     "metadata": {},
     "output_type": "display_data"
    }
   ],
   "source": [
    "display(monthly_costs.head(5))"
   ]
  },
  {
   "cell_type": "code",
   "execution_count": 406,
   "metadata": {},
   "outputs": [
    {
     "data": {
      "image/png": "[encoded data removed]",
      "text/plain": [
       "<Figure size 720x360 with 1 Axes>"
      ]
     },
     "metadata": {},
     "output_type": "display_data"
    }
   ],
   "source": [
    "monthly_costs.plot(x='dt', y='costs', kind=\"bar\", figsize=(10,5))\n",
    "plt.title('Ежемесячные расходы на привлечение', fontsize=12, color='blue')\n",
    "plt.xlabel('Месяц', fontsize=10, color='blue')\n",
    "plt.ylabel('Расходы', fontsize=10, color='blue')\n",
    "pl.xticks(rotation = 75)\n",
    "plt.show()"
   ]
  },
  {
   "cell_type": "code",
   "execution_count": 407,
   "metadata": {},
   "outputs": [
    {
     "name": "stdout",
     "output_type": "stream",
     "text": [
      "Общая сумма расходов составляет 329131.61999999994\n"
     ]
    }
   ],
   "source": [
    "print('Общая сумма расходов составляет', sum(monthly_costs['costs']))#подсчет общей суммы расходов"
   ]
  },
  {
   "cell_type": "code",
   "execution_count": 408,
   "metadata": {},
   "outputs": [
    {
     "data": {
      "text/html": [
       "<div>\n",
       "<style scoped>\n",
       "    .dataframe tbody tr th:only-of-type {\n",
       "        vertical-align: middle;\n",
       "    }\n",
       "\n",
       "    .dataframe tbody tr th {\n",
       "        vertical-align: top;\n",
       "    }\n",
       "\n",
       "    .dataframe thead th {\n",
       "        text-align: right;\n",
       "    }\n",
       "</style>\n",
       "<table border=\"1\" class=\"dataframe\">\n",
       "  <thead>\n",
       "    <tr style=\"text-align: right;\">\n",
       "      <th></th>\n",
       "      <th>costs</th>\n",
       "    </tr>\n",
       "    <tr>\n",
       "      <th>source_id</th>\n",
       "      <th></th>\n",
       "    </tr>\n",
       "  </thead>\n",
       "  <tbody>\n",
       "    <tr>\n",
       "      <th>9</th>\n",
       "      <td>5517.49</td>\n",
       "    </tr>\n",
       "    <tr>\n",
       "      <th>10</th>\n",
       "      <td>5822.49</td>\n",
       "    </tr>\n",
       "    <tr>\n",
       "      <th>1</th>\n",
       "      <td>20833.27</td>\n",
       "    </tr>\n",
       "    <tr>\n",
       "      <th>2</th>\n",
       "      <td>42806.04</td>\n",
       "    </tr>\n",
       "    <tr>\n",
       "      <th>5</th>\n",
       "      <td>51757.10</td>\n",
       "    </tr>\n",
       "    <tr>\n",
       "      <th>4</th>\n",
       "      <td>61073.60</td>\n",
       "    </tr>\n",
       "    <tr>\n",
       "      <th>3</th>\n",
       "      <td>141321.63</td>\n",
       "    </tr>\n",
       "  </tbody>\n",
       "</table>\n",
       "</div>"
      ],
      "text/plain": [
       "               costs\n",
       "source_id           \n",
       "9            5517.49\n",
       "10           5822.49\n",
       "1           20833.27\n",
       "2           42806.04\n",
       "5           51757.10\n",
       "4           61073.60\n",
       "3          141321.63"
      ]
     },
     "execution_count": 408,
     "metadata": {},
     "output_type": "execute_result"
    }
   ],
   "source": [
    "monthly_costs_new.pivot_table(index='source_id', values = 'costs', aggfunc='sum').sort_values('costs')\n"
   ]
  },
  {
   "cell_type": "markdown",
   "metadata": {},
   "source": [
    "Общая сумма расходов составила 329131.619. Расходы начали расти с сентября 2017, максимума достигли в декабре 2017, затем стали снижаться. Меньше всего затрат на источник 9, а больше всего на источник 3. Как мы помним, самые стабильные по длительности сессии были у пользователей с источниками  1 и 2, на них соответственно затраты были 20833,27 и 423806,04. Интересен факт, что были всплески по длительности сессии у источников 6 и 7, в то время как, затрат по данным источникам за исследуюемый период вовсе не было.\n"
   ]
  },
  {
   "cell_type": "markdown",
   "metadata": {},
   "source": [
    "Добавим помесячные расходы в когортный отчет и посчитаем САС и ROI"
   ]
  },
  {
   "cell_type": "code",
   "execution_count": 409,
   "metadata": {},
   "outputs": [],
   "source": [
    "report_new = pd.merge(report, monthly_costs, left_on='first_buy_month', right_on='dt')\n",
    "report_new['cac'] = report_new['costs'] / report_new['n_buyers']\n",
    "report_new['roi'] = report_new['ltv'] / report_new['cac']"
   ]
  },
  {
   "cell_type": "code",
   "execution_count": 421,
   "metadata": {},
   "outputs": [
    {
     "data": {
      "text/html": [
       "<div>\n",
       "<style scoped>\n",
       "    .dataframe tbody tr th:only-of-type {\n",
       "        vertical-align: middle;\n",
       "    }\n",
       "\n",
       "    .dataframe tbody tr th {\n",
       "        vertical-align: top;\n",
       "    }\n",
       "\n",
       "    .dataframe thead th {\n",
       "        text-align: right;\n",
       "    }\n",
       "</style>\n",
       "<table border=\"1\" class=\"dataframe\">\n",
       "  <thead>\n",
       "    <tr style=\"text-align: right;\">\n",
       "      <th></th>\n",
       "      <th>first_buy_month</th>\n",
       "      <th>n_buyers</th>\n",
       "      <th>buy_month</th>\n",
       "      <th>revenue</th>\n",
       "      <th>uid</th>\n",
       "      <th>revenue_per_user</th>\n",
       "      <th>cohort_lifetime</th>\n",
       "      <th>age</th>\n",
       "      <th>ltv</th>\n",
       "      <th>dt</th>\n",
       "      <th>source_id</th>\n",
       "      <th>costs</th>\n",
       "      <th>cac</th>\n",
       "      <th>roi</th>\n",
       "      <th>romi</th>\n",
       "    </tr>\n",
       "  </thead>\n",
       "  <tbody>\n",
       "    <tr>\n",
       "      <th>0</th>\n",
       "      <td>2017-06-01</td>\n",
       "      <td>2023</td>\n",
       "      <td>2017-06-01</td>\n",
       "      <td>9557.49</td>\n",
       "      <td>2023</td>\n",
       "      <td>4.724414</td>\n",
       "      <td>0</td>\n",
       "      <td>0</td>\n",
       "      <td>4.724414</td>\n",
       "      <td>2017-06-01</td>\n",
       "      <td>1020</td>\n",
       "      <td>18015.0</td>\n",
       "      <td>8.905091</td>\n",
       "      <td>0.530530</td>\n",
       "      <td>0.530530</td>\n",
       "    </tr>\n",
       "    <tr>\n",
       "      <th>1</th>\n",
       "      <td>2017-06-01</td>\n",
       "      <td>2023</td>\n",
       "      <td>2017-07-01</td>\n",
       "      <td>981.82</td>\n",
       "      <td>61</td>\n",
       "      <td>16.095410</td>\n",
       "      <td>0</td>\n",
       "      <td>1</td>\n",
       "      <td>0.485329</td>\n",
       "      <td>2017-06-01</td>\n",
       "      <td>1020</td>\n",
       "      <td>18015.0</td>\n",
       "      <td>8.905091</td>\n",
       "      <td>0.054500</td>\n",
       "      <td>0.054500</td>\n",
       "    </tr>\n",
       "    <tr>\n",
       "      <th>2</th>\n",
       "      <td>2017-06-01</td>\n",
       "      <td>2023</td>\n",
       "      <td>2017-08-01</td>\n",
       "      <td>885.34</td>\n",
       "      <td>50</td>\n",
       "      <td>17.706800</td>\n",
       "      <td>2</td>\n",
       "      <td>2</td>\n",
       "      <td>0.437637</td>\n",
       "      <td>2017-06-01</td>\n",
       "      <td>1020</td>\n",
       "      <td>18015.0</td>\n",
       "      <td>8.905091</td>\n",
       "      <td>0.049145</td>\n",
       "      <td>0.049145</td>\n",
       "    </tr>\n",
       "    <tr>\n",
       "      <th>3</th>\n",
       "      <td>2017-06-01</td>\n",
       "      <td>2023</td>\n",
       "      <td>2017-09-01</td>\n",
       "      <td>1931.30</td>\n",
       "      <td>54</td>\n",
       "      <td>35.764815</td>\n",
       "      <td>3</td>\n",
       "      <td>3</td>\n",
       "      <td>0.954671</td>\n",
       "      <td>2017-06-01</td>\n",
       "      <td>1020</td>\n",
       "      <td>18015.0</td>\n",
       "      <td>8.905091</td>\n",
       "      <td>0.107205</td>\n",
       "      <td>0.107205</td>\n",
       "    </tr>\n",
       "    <tr>\n",
       "      <th>4</th>\n",
       "      <td>2017-06-01</td>\n",
       "      <td>2023</td>\n",
       "      <td>2017-10-01</td>\n",
       "      <td>2068.58</td>\n",
       "      <td>88</td>\n",
       "      <td>23.506591</td>\n",
       "      <td>4</td>\n",
       "      <td>4</td>\n",
       "      <td>1.022531</td>\n",
       "      <td>2017-06-01</td>\n",
       "      <td>1020</td>\n",
       "      <td>18015.0</td>\n",
       "      <td>8.905091</td>\n",
       "      <td>0.114825</td>\n",
       "      <td>0.114825</td>\n",
       "    </tr>\n",
       "  </tbody>\n",
       "</table>\n",
       "</div>"
      ],
      "text/plain": [
       "  first_buy_month  n_buyers  buy_month  revenue   uid  revenue_per_user  \\\n",
       "0      2017-06-01      2023 2017-06-01  9557.49  2023          4.724414   \n",
       "1      2017-06-01      2023 2017-07-01   981.82    61         16.095410   \n",
       "2      2017-06-01      2023 2017-08-01   885.34    50         17.706800   \n",
       "3      2017-06-01      2023 2017-09-01  1931.30    54         35.764815   \n",
       "4      2017-06-01      2023 2017-10-01  2068.58    88         23.506591   \n",
       "\n",
       "   cohort_lifetime  age       ltv         dt  source_id    costs       cac  \\\n",
       "0                0    0  4.724414 2017-06-01       1020  18015.0  8.905091   \n",
       "1                0    1  0.485329 2017-06-01       1020  18015.0  8.905091   \n",
       "2                2    2  0.437637 2017-06-01       1020  18015.0  8.905091   \n",
       "3                3    3  0.954671 2017-06-01       1020  18015.0  8.905091   \n",
       "4                4    4  1.022531 2017-06-01       1020  18015.0  8.905091   \n",
       "\n",
       "        roi      romi  \n",
       "0  0.530530  0.530530  \n",
       "1  0.054500  0.054500  \n",
       "2  0.049145  0.049145  \n",
       "3  0.107205  0.107205  \n",
       "4  0.114825  0.114825  "
      ]
     },
     "execution_count": 421,
     "metadata": {},
     "output_type": "execute_result"
    }
   ],
   "source": [
    "report_new.head()"
   ]
  },
  {
   "cell_type": "markdown",
   "metadata": {},
   "source": [
    "Посчитаем CAC когорты 201706. Поделим расходы за этот месяц на количество людей в когорте:"
   ]
  },
  {
   "cell_type": "code",
   "execution_count": 411,
   "metadata": {},
   "outputs": [
    {
     "name": "stdout",
     "output_type": "stream",
     "text": [
      "CAC = 8.905091448344047\n",
      "LTV = 11.879233811171506\n"
     ]
    }
   ],
   "source": [
    "# отфильруем нужную когорту\n",
    "cohort_201706 = report_new[report_new['first_buy_month'] == '2017-06-01']\n",
    "\n",
    "# посчитаем расходы за этот месяц\n",
    "costs_201706 = cohort_201706['costs'][0]\n",
    "\n",
    "n_buyers_201706 = cohort_201706['n_buyers'][0]\n",
    "cac_201706 = costs_201706 / n_buyers_201706\n",
    "ltv_201706 = output.loc['2017-06-01'].sum()\n",
    "\n",
    "print('CAC =', cac_201706)\n",
    "print('LTV =', ltv_201706) "
   ]
  },
  {
   "cell_type": "markdown",
   "metadata": {},
   "source": [
    "Привлечение одного покупателя в среднем обошлось компании в 8.9. Валовая прибыль с каждого из них: 11.88. То есть вложения в привлечение покупателей окупились, и у компании остались деньги на прочие расходы."
   ]
  },
  {
   "cell_type": "markdown",
   "metadata": {},
   "source": [
    "Посчитаем накопительный ROMI, вызовем метод cumsum()"
   ]
  },
  {
   "cell_type": "code",
   "execution_count": 412,
   "metadata": {},
   "outputs": [
    {
     "data": {
      "text/html": [
       "<div>\n",
       "<style scoped>\n",
       "    .dataframe tbody tr th:only-of-type {\n",
       "        vertical-align: middle;\n",
       "    }\n",
       "\n",
       "    .dataframe tbody tr th {\n",
       "        vertical-align: top;\n",
       "    }\n",
       "\n",
       "    .dataframe thead th {\n",
       "        text-align: right;\n",
       "    }\n",
       "</style>\n",
       "<table border=\"1\" class=\"dataframe\">\n",
       "  <thead>\n",
       "    <tr style=\"text-align: right;\">\n",
       "      <th>age</th>\n",
       "      <th>0</th>\n",
       "      <th>1</th>\n",
       "      <th>2</th>\n",
       "      <th>3</th>\n",
       "      <th>4</th>\n",
       "      <th>5</th>\n",
       "      <th>6</th>\n",
       "      <th>7</th>\n",
       "      <th>8</th>\n",
       "      <th>9</th>\n",
       "      <th>10</th>\n",
       "      <th>11</th>\n",
       "    </tr>\n",
       "    <tr>\n",
       "      <th>first_buy_month</th>\n",
       "      <th></th>\n",
       "      <th></th>\n",
       "      <th></th>\n",
       "      <th></th>\n",
       "      <th></th>\n",
       "      <th></th>\n",
       "      <th></th>\n",
       "      <th></th>\n",
       "      <th></th>\n",
       "      <th></th>\n",
       "      <th></th>\n",
       "      <th></th>\n",
       "    </tr>\n",
       "  </thead>\n",
       "  <tbody>\n",
       "    <tr>\n",
       "      <th>2017-06-01</th>\n",
       "      <td>0.53</td>\n",
       "      <td>0.59</td>\n",
       "      <td>0.63</td>\n",
       "      <td>0.74</td>\n",
       "      <td>0.86</td>\n",
       "      <td>0.94</td>\n",
       "      <td>1.05</td>\n",
       "      <td>1.11</td>\n",
       "      <td>1.17</td>\n",
       "      <td>1.24</td>\n",
       "      <td>1.31</td>\n",
       "      <td>1.33</td>\n",
       "    </tr>\n",
       "    <tr>\n",
       "      <th>2017-07-01</th>\n",
       "      <td>0.63</td>\n",
       "      <td>0.67</td>\n",
       "      <td>0.73</td>\n",
       "      <td>0.77</td>\n",
       "      <td>0.79</td>\n",
       "      <td>0.81</td>\n",
       "      <td>0.82</td>\n",
       "      <td>0.84</td>\n",
       "      <td>0.85</td>\n",
       "      <td>0.87</td>\n",
       "      <td>0.88</td>\n",
       "      <td>NaN</td>\n",
       "    </tr>\n",
       "    <tr>\n",
       "      <th>2017-08-01</th>\n",
       "      <td>0.49</td>\n",
       "      <td>0.53</td>\n",
       "      <td>0.57</td>\n",
       "      <td>0.61</td>\n",
       "      <td>0.66</td>\n",
       "      <td>0.68</td>\n",
       "      <td>0.70</td>\n",
       "      <td>0.74</td>\n",
       "      <td>0.77</td>\n",
       "      <td>0.78</td>\n",
       "      <td>NaN</td>\n",
       "      <td>NaN</td>\n",
       "    </tr>\n",
       "    <tr>\n",
       "      <th>2017-09-01</th>\n",
       "      <td>0.60</td>\n",
       "      <td>0.72</td>\n",
       "      <td>0.77</td>\n",
       "      <td>1.19</td>\n",
       "      <td>1.23</td>\n",
       "      <td>1.30</td>\n",
       "      <td>1.38</td>\n",
       "      <td>1.40</td>\n",
       "      <td>1.42</td>\n",
       "      <td>NaN</td>\n",
       "      <td>NaN</td>\n",
       "      <td>NaN</td>\n",
       "    </tr>\n",
       "    <tr>\n",
       "      <th>2017-10-01</th>\n",
       "      <td>0.60</td>\n",
       "      <td>0.66</td>\n",
       "      <td>0.68</td>\n",
       "      <td>0.70</td>\n",
       "      <td>0.72</td>\n",
       "      <td>0.74</td>\n",
       "      <td>0.75</td>\n",
       "      <td>0.76</td>\n",
       "      <td>NaN</td>\n",
       "      <td>NaN</td>\n",
       "      <td>NaN</td>\n",
       "      <td>NaN</td>\n",
       "    </tr>\n",
       "    <tr>\n",
       "      <th>2017-11-01</th>\n",
       "      <td>0.55</td>\n",
       "      <td>0.60</td>\n",
       "      <td>0.62</td>\n",
       "      <td>0.65</td>\n",
       "      <td>0.67</td>\n",
       "      <td>0.68</td>\n",
       "      <td>0.69</td>\n",
       "      <td>NaN</td>\n",
       "      <td>NaN</td>\n",
       "      <td>NaN</td>\n",
       "      <td>NaN</td>\n",
       "      <td>NaN</td>\n",
       "    </tr>\n",
       "    <tr>\n",
       "      <th>2017-12-01</th>\n",
       "      <td>0.54</td>\n",
       "      <td>0.57</td>\n",
       "      <td>0.68</td>\n",
       "      <td>0.80</td>\n",
       "      <td>0.84</td>\n",
       "      <td>0.87</td>\n",
       "      <td>NaN</td>\n",
       "      <td>NaN</td>\n",
       "      <td>NaN</td>\n",
       "      <td>NaN</td>\n",
       "      <td>NaN</td>\n",
       "      <td>NaN</td>\n",
       "    </tr>\n",
       "    <tr>\n",
       "      <th>2018-01-01</th>\n",
       "      <td>0.42</td>\n",
       "      <td>0.45</td>\n",
       "      <td>0.48</td>\n",
       "      <td>0.49</td>\n",
       "      <td>0.50</td>\n",
       "      <td>NaN</td>\n",
       "      <td>NaN</td>\n",
       "      <td>NaN</td>\n",
       "      <td>NaN</td>\n",
       "      <td>NaN</td>\n",
       "      <td>NaN</td>\n",
       "      <td>NaN</td>\n",
       "    </tr>\n",
       "    <tr>\n",
       "      <th>2018-02-01</th>\n",
       "      <td>0.46</td>\n",
       "      <td>0.49</td>\n",
       "      <td>0.50</td>\n",
       "      <td>0.51</td>\n",
       "      <td>NaN</td>\n",
       "      <td>NaN</td>\n",
       "      <td>NaN</td>\n",
       "      <td>NaN</td>\n",
       "      <td>NaN</td>\n",
       "      <td>NaN</td>\n",
       "      <td>NaN</td>\n",
       "      <td>NaN</td>\n",
       "    </tr>\n",
       "    <tr>\n",
       "      <th>2018-03-01</th>\n",
       "      <td>0.56</td>\n",
       "      <td>0.60</td>\n",
       "      <td>0.63</td>\n",
       "      <td>NaN</td>\n",
       "      <td>NaN</td>\n",
       "      <td>NaN</td>\n",
       "      <td>NaN</td>\n",
       "      <td>NaN</td>\n",
       "      <td>NaN</td>\n",
       "      <td>NaN</td>\n",
       "      <td>NaN</td>\n",
       "      <td>NaN</td>\n",
       "    </tr>\n",
       "    <tr>\n",
       "      <th>2018-04-01</th>\n",
       "      <td>0.48</td>\n",
       "      <td>0.53</td>\n",
       "      <td>NaN</td>\n",
       "      <td>NaN</td>\n",
       "      <td>NaN</td>\n",
       "      <td>NaN</td>\n",
       "      <td>NaN</td>\n",
       "      <td>NaN</td>\n",
       "      <td>NaN</td>\n",
       "      <td>NaN</td>\n",
       "      <td>NaN</td>\n",
       "      <td>NaN</td>\n",
       "    </tr>\n",
       "    <tr>\n",
       "      <th>2018-05-01</th>\n",
       "      <td>0.63</td>\n",
       "      <td>NaN</td>\n",
       "      <td>NaN</td>\n",
       "      <td>NaN</td>\n",
       "      <td>NaN</td>\n",
       "      <td>NaN</td>\n",
       "      <td>NaN</td>\n",
       "      <td>NaN</td>\n",
       "      <td>NaN</td>\n",
       "      <td>NaN</td>\n",
       "      <td>NaN</td>\n",
       "      <td>NaN</td>\n",
       "    </tr>\n",
       "  </tbody>\n",
       "</table>\n",
       "</div>"
      ],
      "text/plain": [
       "age                0     1     2     3     4     5     6     7     8     9   \\\n",
       "first_buy_month                                                               \n",
       "2017-06-01       0.53  0.59  0.63  0.74  0.86  0.94  1.05  1.11  1.17  1.24   \n",
       "2017-07-01       0.63  0.67  0.73  0.77  0.79  0.81  0.82  0.84  0.85  0.87   \n",
       "2017-08-01       0.49  0.53  0.57  0.61  0.66  0.68  0.70  0.74  0.77  0.78   \n",
       "2017-09-01       0.60  0.72  0.77  1.19  1.23  1.30  1.38  1.40  1.42   NaN   \n",
       "2017-10-01       0.60  0.66  0.68  0.70  0.72  0.74  0.75  0.76   NaN   NaN   \n",
       "2017-11-01       0.55  0.60  0.62  0.65  0.67  0.68  0.69   NaN   NaN   NaN   \n",
       "2017-12-01       0.54  0.57  0.68  0.80  0.84  0.87   NaN   NaN   NaN   NaN   \n",
       "2018-01-01       0.42  0.45  0.48  0.49  0.50   NaN   NaN   NaN   NaN   NaN   \n",
       "2018-02-01       0.46  0.49  0.50  0.51   NaN   NaN   NaN   NaN   NaN   NaN   \n",
       "2018-03-01       0.56  0.60  0.63   NaN   NaN   NaN   NaN   NaN   NaN   NaN   \n",
       "2018-04-01       0.48  0.53   NaN   NaN   NaN   NaN   NaN   NaN   NaN   NaN   \n",
       "2018-05-01       0.63   NaN   NaN   NaN   NaN   NaN   NaN   NaN   NaN   NaN   \n",
       "\n",
       "age                10    11  \n",
       "first_buy_month              \n",
       "2017-06-01       1.31  1.33  \n",
       "2017-07-01       0.88   NaN  \n",
       "2017-08-01        NaN   NaN  \n",
       "2017-09-01        NaN   NaN  \n",
       "2017-10-01        NaN   NaN  \n",
       "2017-11-01        NaN   NaN  \n",
       "2017-12-01        NaN   NaN  \n",
       "2018-01-01        NaN   NaN  \n",
       "2018-02-01        NaN   NaN  \n",
       "2018-03-01        NaN   NaN  \n",
       "2018-04-01        NaN   NaN  \n",
       "2018-05-01        NaN   NaN  "
      ]
     },
     "execution_count": 412,
     "metadata": {},
     "output_type": "execute_result"
    }
   ],
   "source": [
    "report_new['romi'] = report_new['ltv'] / report_new['cac']\n",
    "output_romi = report_new.pivot_table(\n",
    "        index='first_buy_month', \n",
    "        columns='age', \n",
    "        values='romi', \n",
    "        aggfunc='mean')\n",
    "\n",
    "output_romi_cum = output_romi.cumsum(axis=1).round(2)\n",
    "output_romi_cum"
   ]
  },
  {
   "cell_type": "code",
   "execution_count": 413,
   "metadata": {},
   "outputs": [
    {
     "data": {
      "image/png": "[encoded data removed]",
      "text/plain": [
       "<Figure size 936x648 with 2 Axes>"
      ]
     },
     "metadata": {},
     "output_type": "display_data"
    }
   ],
   "source": [
    "sns.set(style='white')\n",
    "plt.figure(figsize=(13, 9))\n",
    "plt.title('Cohorts: romi_cum')\n",
    "sns.heatmap(output_romi_cum, annot=True, linewidths=1, linecolor='gray'); "
   ]
  },
  {
   "cell_type": "markdown",
   "metadata": {},
   "source": [
    "Июньская когорта окупилась на 6 месяц(ROMI = 1,05), сентябрьская  на третий месяц(ROMI = 1,19), больше никакие когорты не окупились, явно нужно что-то менять маркетологам."
   ]
  },
  {
   "cell_type": "markdown",
   "metadata": {},
   "source": [
    "Теперь посчитаем Средний ROMI за 6 месяцев после первой покупки по всем когортам"
   ]
  },
  {
   "cell_type": "code",
   "execution_count": 414,
   "metadata": {},
   "outputs": [
    {
     "data": {
      "text/plain": [
       "0.8598760895593314"
      ]
     },
     "execution_count": 414,
     "metadata": {},
     "output_type": "execute_result"
    }
   ],
   "source": [
    "m6_cum_romi = output_romi.cumsum(axis=1).mean(axis=0)[5]\n",
    "m6_cum_romi"
   ]
  },
  {
   "cell_type": "markdown",
   "metadata": {},
   "source": [
    "Результат не радует, за 6 месяцев затраты на привлечение покупателей не окупились"
   ]
  },
  {
   "cell_type": "markdown",
   "metadata": {},
   "source": [
    "Посмотрим сколько стоило привлечение одного покупателя из каждого источника. Мы уже определяли первый источник каждого заказа, поэтому посчитаем затраты"
   ]
  },
  {
   "cell_type": "code",
   "execution_count": 415,
   "metadata": {},
   "outputs": [],
   "source": [
    "orders_grouped_by_sourse = orders_by_sourse.groupby('first_source').agg({'uid': 'count'})\n",
    "costs_grouped_by_sourse = costs.groupby('source_id').agg({'costs': 'sum'})"
   ]
  },
  {
   "cell_type": "markdown",
   "metadata": {},
   "source": [
    "Добавим стоимость привлечения"
   ]
  },
  {
   "cell_type": "code",
   "execution_count": 416,
   "metadata": {},
   "outputs": [],
   "source": [
    "costs_by_user = orders_grouped_by_sourse.merge(costs_grouped_by_sourse, left_index=True, right_index=True)\n",
    "costs_by_user['cac'] = costs_by_user['costs'] / costs_by_user['uid']"
   ]
  },
  {
   "cell_type": "code",
   "execution_count": 417,
   "metadata": {},
   "outputs": [
    {
     "data": {
      "text/html": [
       "<div>\n",
       "<style scoped>\n",
       "    .dataframe tbody tr th:only-of-type {\n",
       "        vertical-align: middle;\n",
       "    }\n",
       "\n",
       "    .dataframe tbody tr th {\n",
       "        vertical-align: top;\n",
       "    }\n",
       "\n",
       "    .dataframe thead th {\n",
       "        text-align: right;\n",
       "    }\n",
       "</style>\n",
       "<table border=\"1\" class=\"dataframe\">\n",
       "  <thead>\n",
       "    <tr style=\"text-align: right;\">\n",
       "      <th></th>\n",
       "      <th>uid</th>\n",
       "      <th>costs</th>\n",
       "      <th>cac</th>\n",
       "    </tr>\n",
       "  </thead>\n",
       "  <tbody>\n",
       "    <tr>\n",
       "      <th>1</th>\n",
       "      <td>5223</td>\n",
       "      <td>20833.27</td>\n",
       "      <td>3.988756</td>\n",
       "    </tr>\n",
       "    <tr>\n",
       "      <th>2</th>\n",
       "      <td>6392</td>\n",
       "      <td>42806.04</td>\n",
       "      <td>6.696815</td>\n",
       "    </tr>\n",
       "    <tr>\n",
       "      <th>3</th>\n",
       "      <td>13289</td>\n",
       "      <td>141321.63</td>\n",
       "      <td>10.634482</td>\n",
       "    </tr>\n",
       "    <tr>\n",
       "      <th>4</th>\n",
       "      <td>12895</td>\n",
       "      <td>61073.60</td>\n",
       "      <td>4.736223</td>\n",
       "    </tr>\n",
       "    <tr>\n",
       "      <th>5</th>\n",
       "      <td>9406</td>\n",
       "      <td>51757.10</td>\n",
       "      <td>5.502562</td>\n",
       "    </tr>\n",
       "    <tr>\n",
       "      <th>9</th>\n",
       "      <td>1647</td>\n",
       "      <td>5517.49</td>\n",
       "      <td>3.350024</td>\n",
       "    </tr>\n",
       "    <tr>\n",
       "      <th>10</th>\n",
       "      <td>1562</td>\n",
       "      <td>5822.49</td>\n",
       "      <td>3.727586</td>\n",
       "    </tr>\n",
       "  </tbody>\n",
       "</table>\n",
       "</div>"
      ],
      "text/plain": [
       "      uid      costs        cac\n",
       "1    5223   20833.27   3.988756\n",
       "2    6392   42806.04   6.696815\n",
       "3   13289  141321.63  10.634482\n",
       "4   12895   61073.60   4.736223\n",
       "5    9406   51757.10   5.502562\n",
       "9    1647    5517.49   3.350024\n",
       "10   1562    5822.49   3.727586"
      ]
     },
     "execution_count": 417,
     "metadata": {},
     "output_type": "execute_result"
    }
   ],
   "source": [
    "costs_by_user"
   ]
  },
  {
   "cell_type": "markdown",
   "metadata": {},
   "source": [
    "Дороже всего выходит привлечение 1 клиента из источника 3, надо сказать в этот источник вкладывают больше всего финансов и привлекает, он больше всего пользователей. Дешевле всего стоит привлечение клиента из источника 9, но как мы помним и средний чек у таких покупателей самы низкий. Хочется отметить рекламные источники под номерами 4 и 5, у них стоимость привлечения составляет 4,73 и 5,50 соответственно, что в два раза меньше чем у самого догорого источника, но при этом через них приходит очень много покупателей, да и к тому же у них стабильно хороший средний чек для всех когорт, а у неготорых кокогот проскакивают даже высокие показатели среднего чека, к примеру для сентябрьской когорты 20174 года 16 для источника 4 и 88 для источника 5. Вероятно, именно на эти рекламные источники и нужно делать ставки отделу маркетинга. По источнику 3 также стабилен хороший средний чек, но при этом привлечение стоит в 2 раза дороже, стоит перенести финансирование на 4 и 5.\n"
   ]
  },
  {
   "cell_type": "markdown",
   "metadata": {},
   "source": [
    "## Итого"
   ]
  },
  {
   "cell_type": "markdown",
   "metadata": {},
   "source": [
    "В данной главе произвели анализ пользовательской активности, рассчеты показателей количества и длины сессии, среднего чека, коэффициента удержания, LTV, ROI, анализ расходов. Показатели рассматривались в разрезе когорт, маркетиновых источников и девайсов пользователей."
   ]
  },
  {
   "cell_type": "markdown",
   "metadata": {},
   "source": [
    "# Общий вывод и рекомендации<a id=\"9\"> </a>"
   ]
  },
  {
   "cell_type": "markdown",
   "metadata": {},
   "source": [
    "        Была проанализирована пользовательская активность, выявлено, ежемесячно число новых активных пользователей составляет 23228, при чем можно выделить сезонность  - в конце и начале года количество пользователей расте, тогда как в летние месяцы их меньше. 3,9% пользователей (из тех что пользовались им за месяц) заходили в приложение ежедневно, не очень высокий показатель, и 15,8% пользователей (из тех, что были активны за неделю) пользовались им ежедневно. Ежедневно один пользователь проводит в среднем одну сессию, отлично! 3,9% пользователей (из тех что пользовались им за месяц) заходили в приложение ежедневно, не очень высокий показатель, и 15,8% пользователей (из тех, что были активны за неделю) пользовались им ежедневно. Несмотря на то что мода продолжительности сессии для разных девайсов одинакова, 75% выборки по устройству desktop проводят менее 1,5 минут на странице и 75% выборки по устройству touch проводят менее минуты, все таки вэб приложение вероятно больше нравится пользователям, может быть интерфейс вэб приложение более дружелюбный. Также это может быть связано с возрастной категорией пользователей.\n",
    "        Число активных пользователей нарастает доходит своего пика в ноябре 2017, а затем начинает снижаться, для всех категорий пользователей. Интересный момент, что у пользователей впервые пришедших в приложение в июле 2017 максимальное значение коэффициента удержания среди остальных когорт (10,2%) и появилось оно в сентябре 2017, эта когорта в целом отличается наиболее высоким коэффициентом удержания, пользователи из этой когорты чаще возвращались в приложение по сравнению с остальными, вероятно летом 2017 была какая-то рекламная компания, или может быть промокоды, которые подсадили пользователей. К тому же у пользователей этой июльской когорты очень хороший средний чек, в целом вообще когорты 2017 года имеют более высокий средний чек, чем когорты 2018.\n",
    "        Очевидно, что у пользователей, которые в первый месяц использования совершили больше одной покупки на Яндекс.Афишах коэффициент удержания гораздо выше чем у пользователей cовершивших одну покупку. Вероятно пользователи используют приложение больше в информационных целях, стоит задуматься почему, может быть не очень удобен сервис оплаты, или же не устраивает размер сервисного сбора.\n",
    "        Интересен показатель, что средний чек по пользователям с устройством desktop примерно в два раза больше, чем у пользователей с устройством touch, пользователи вэб приложений мало того что больше времени проводят в приложении, но и к тому же совершают покупки на более крупные суммы. Если смотреть на средний чек в разрезе маркетинговых источников, то видим, что у номеров 1  и 2 стабильно хорошие показатели для всех когорт, также выделяется источники 4  и 5, у них периодически получаются очень хорошие показатели среднего чека, самые низкие средние чеки у покупателей пришедших из источников 9 и 10\n",
    "        Общая сумма расходов составила 329131.619. Расходы начали расти с сентября 2017, максимума достигли в декабре 2017, затем стали снижаться. Меньше всего затрат на источник 9, а больше всего на источник 3. Как мы помним, самые стабильные по длительности сессии были у пользователей с источниками  1 и 2, на них соответственно затраты были 20833,27 и 423806,04. Интересен факт, что были всплески по длительности сессии у источников 6 и 7, в то время как, затрат по данным источникам за исследуемый период вовсе не было. Анализ показал, чтобы вложения окупались, привлечение одного покупателя не должно превышать 7,97, а показатель окупаемости за 6 месяцев составил 0,86. Результат не радует, за 6 месяцев затраты на привлечение покупателей не окупились.\n",
    "        Дороже всего выходит привлечение 1 клиента из источника 3, надо сказать в этот источник вкладывают больше всего финансов и привлекает, он больше всего пользователей. Дешевле всего стоит привлечение клиента из источника 9, но как мы помним и средний чек у таких покупателей самы низкий. Хочется отметить рекламные источники под номерами 4 и 5, у них стоимость привлечения составляет 4,73 и 5,50 соответственно, что в два раза меньше чем у самого догорого источника, но при этом через них приходит очень много покупателей, да и к тому же у них стабильно хороший средний чек для всех когорт, а у неготорых кокогот проскакивают даже высокие показатели среднего чека, к примеру для сентябрьской когорты 20174 года 16 для источника 4 и 88 для источника 5. Вероятно, именно на эти рекламные источники и нужно делать ставки отделу маркетинга. По источнику 3 также стабилен хороший средний чек, но при этом привлечение стоит в 2 раза дороже, стоит перенести финансирование на 4 и 5.\n",
    "        Рекомендации по оптимизации маркенговых расходов:\n",
    "    - принятие мер на привлечение клиентов с устройствами desktop через источники 4 и 5, сокращение расходов на привлечение через канал 1\n",
    "    - совместно с разработчиками выяснение недоработок в сервисе заказа для приложения ориентированного на touch устройства, возможно выявятся баги в процессе заказа или отображения страниц, из-за которого пользователи могут отваливаться\n",
    "    В работе были использованы рассчеты метрик отражающих пользовательскую активность (dau, wau, mau), анализ количества и продолжительности пользовательских сессии, рассчет среднего чека, LTV и ROI. Данные анализировались с помощью когортного анализа, с учетом разных девайсов, маркетинговых источников и временных интервалов. Были применены методы построенния сводных таблиц(pivot_table), группировок (groupby), сортировка(sort_values), операции с индексами (reset_index), выделение из дат месяца, года и дня, рассчет кумулятивной суммы (cumsum), визуализация (heatmap, plot), изменение типов данных (astype), переименование столбцов (rename)."
   ]
  }
 ],
 "metadata": {
  "kernelspec": {
   "display_name": "Python 3",
   "language": "python",
   "name": "python3"
  },
  "language_info": {
   "codemirror_mode": {
    "name": "ipython",
    "version": 3
   },
   "file_extension": ".py",
   "mimetype": "text/x-python",
   "name": "python",
   "nbconvert_exporter": "python",
   "pygments_lexer": "ipython3",
   "version": "3.8.3"
  }
 },
 "nbformat": 4,
 "nbformat_minor": 2
}
