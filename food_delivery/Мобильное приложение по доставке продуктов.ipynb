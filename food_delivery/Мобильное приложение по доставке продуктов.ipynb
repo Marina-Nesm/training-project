{
 "cells": [
  {
   "cell_type": "markdown",
   "metadata": {},
   "source": [
    "# Сборный проект 2. \"Анализ поведения пользователей мобильного приложения по доставке продуктов питания\""
   ]
  },
  {
   "cell_type": "markdown",
   "metadata": {},
   "source": [
    "Проект посвящен анализу поведения пользователей мобильного приложения, в котором продаются продукты питания. Необходимо изучить воронку продаж. Узнать, как пользователи доходят до покупки. Сколько пользователей доходит до покупки, а сколько — «застревает» на предыдущих шагах? На каких именно? Также предполагается проведение A/A/B-теста, который должен показать целеообразность изменеия шрифтов во всем приложении."
   ]
  },
  {
   "cell_type": "markdown",
   "metadata": {},
   "source": [
    "**План работы:**\n",
    "1. [Изучить общую информацию о данных;](#start)\n",
    "2. [Предобраобработка данных](#pre_processing)\n",
    "3. [Изучение и проверка данных;](#research_analysis)\n",
    "     - [изучение количества событий и пользователей в логе;](#count_events)    \n",
    "     - [проверка полноты данных за период, графики](#analazed_period)\n",
    "     - [анализ исключений](#checking)\n",
    "     - [анализ количества пользователей в разрезе экспериментальных групп](#experimen_group)\n",
    "4. [Анализ воронки событий](#event_funnel)\n",
    "     - [оценка частоты событий в логах](#event_log)\n",
    "     - [анализ событий в разрезе пользователей](#event_users)\n",
    "     - [анализ цепочки событий](#chain_of_events)\n",
    "     - [построение воронки событий](#conversion)\n",
    "5. [А/А/В эксперимент](#experiment)\n",
    "     - [подсчет количества пользователей в каждой экприментальной группе](#cont_group)\n",
    "     - [оценка статистической значимости между контрольными группы для А/А-эксперимента](#A_A)\n",
    "     - [A/B тест](#A_B)\n",
    "6. [Вывод](#resume)"
   ]
  },
  {
   "cell_type": "markdown",
   "metadata": {},
   "source": [
    "## 1. Изучение общей информации <a id=\"start\"> </a>"
   ]
  },
  {
   "cell_type": "code",
   "execution_count": 21,
   "metadata": {},
   "outputs": [
    {
     "data": {
      "text/html": [
       "        <script type=\"text/javascript\">\n",
       "        window.PlotlyConfig = {MathJaxConfig: 'local'};\n",
       "        if (window.MathJax) {MathJax.Hub.Config({SVG: {font: \"STIX-Web\"}});}\n",
       "        if (typeof require !== 'undefined') {\n",
       "        require.undef(\"plotly\");\n",
       "        requirejs.config({\n",
       "            paths: {\n",
       "                'plotly': ['https://cdn.plot.ly/plotly-latest.min']\n",
       "            }\n",
       "        });\n",
       "        require(['plotly'], function(Plotly) {\n",
       "            window._Plotly = Plotly;\n",
       "        });\n",
       "        }\n",
       "        </script>\n",
       "        "
      ]
     },
     "metadata": {},
     "output_type": "display_data"
    }
   ],
   "source": [
    "import pandas as pd # <импорт библиотеки pandas>\n",
    "\n",
    "import matplotlib.pylab as plt # <импорт библиотеки matplotlib>\n",
    "import numpy as np # <импорт библиотеки numpy>\n",
    "import seaborn as sns #<импорт библиотеки seaborn>\n",
    "import scipy.stats as st  # <импорт scipy.stats>\n",
    "from IPython.display import display# <импорт метода display из библиотеки IPython.display для просмотра таблиц>\n",
    "from plotly.offline import download_plotlyjs, init_notebook_mode, plot, iplot\n",
    "import plotly\n",
    "import plotly.graph_objs as go\n",
    "import pylab as pl\n",
    "init_notebook_mode(connected=True)\n",
    "import plotly.express as px\n",
    "import plotly.graph_objects as go\n",
    "import re\n",
    "from datetime import datetime, date, time\n",
    "import math as mth\n",
    "from pandas.plotting import register_matplotlib_converters"
   ]
  },
  {
   "cell_type": "markdown",
   "metadata": {},
   "source": [
    "Прочитаем файл logs_exp.csv"
   ]
  },
  {
   "cell_type": "code",
   "execution_count": 22,
   "metadata": {},
   "outputs": [],
   "source": [
    "logs_exp = pd.read_csv('E:\\csv_mobil_pril\\logs_exp.csv', sep='\\t')\n",
    " # <чтение файла с данными с сохранением их в переменной logs_exp, с указанием разделителя>"
   ]
  },
  {
   "cell_type": "markdown",
   "metadata": {},
   "source": [
    "Посмотрим таблицу logs_exp, выведем ее на экран"
   ]
  },
  {
   "cell_type": "code",
   "execution_count": 23,
   "metadata": {},
   "outputs": [
    {
     "data": {
      "text/html": [
       "<div>\n",
       "<style scoped>\n",
       "    .dataframe tbody tr th:only-of-type {\n",
       "        vertical-align: middle;\n",
       "    }\n",
       "\n",
       "    .dataframe tbody tr th {\n",
       "        vertical-align: top;\n",
       "    }\n",
       "\n",
       "    .dataframe thead th {\n",
       "        text-align: right;\n",
       "    }\n",
       "</style>\n",
       "<table border=\"1\" class=\"dataframe\">\n",
       "  <thead>\n",
       "    <tr style=\"text-align: right;\">\n",
       "      <th></th>\n",
       "      <th>EventName</th>\n",
       "      <th>DeviceIDHash</th>\n",
       "      <th>EventTimestamp</th>\n",
       "      <th>ExpId</th>\n",
       "    </tr>\n",
       "  </thead>\n",
       "  <tbody>\n",
       "    <tr>\n",
       "      <th>0</th>\n",
       "      <td>MainScreenAppear</td>\n",
       "      <td>4575588528974610257</td>\n",
       "      <td>1564029816</td>\n",
       "      <td>246</td>\n",
       "    </tr>\n",
       "    <tr>\n",
       "      <th>1</th>\n",
       "      <td>MainScreenAppear</td>\n",
       "      <td>7416695313311560658</td>\n",
       "      <td>1564053102</td>\n",
       "      <td>246</td>\n",
       "    </tr>\n",
       "    <tr>\n",
       "      <th>2</th>\n",
       "      <td>PaymentScreenSuccessful</td>\n",
       "      <td>3518123091307005509</td>\n",
       "      <td>1564054127</td>\n",
       "      <td>248</td>\n",
       "    </tr>\n",
       "    <tr>\n",
       "      <th>3</th>\n",
       "      <td>CartScreenAppear</td>\n",
       "      <td>3518123091307005509</td>\n",
       "      <td>1564054127</td>\n",
       "      <td>248</td>\n",
       "    </tr>\n",
       "    <tr>\n",
       "      <th>4</th>\n",
       "      <td>PaymentScreenSuccessful</td>\n",
       "      <td>6217807653094995999</td>\n",
       "      <td>1564055322</td>\n",
       "      <td>248</td>\n",
       "    </tr>\n",
       "  </tbody>\n",
       "</table>\n",
       "</div>"
      ],
      "text/plain": [
       "                 EventName         DeviceIDHash  EventTimestamp  ExpId\n",
       "0         MainScreenAppear  4575588528974610257      1564029816    246\n",
       "1         MainScreenAppear  7416695313311560658      1564053102    246\n",
       "2  PaymentScreenSuccessful  3518123091307005509      1564054127    248\n",
       "3         CartScreenAppear  3518123091307005509      1564054127    248\n",
       "4  PaymentScreenSuccessful  6217807653094995999      1564055322    248"
      ]
     },
     "execution_count": 23,
     "metadata": {},
     "output_type": "execute_result"
    }
   ],
   "source": [
    "logs_exp.head()"
   ]
  },
  {
   "cell_type": "markdown",
   "metadata": {},
   "source": [
    "Данные в столбце EventTimestamp отобразились в формате unix time"
   ]
  },
  {
   "cell_type": "markdown",
   "metadata": {},
   "source": [
    "Посмотрим общую информацию о таблице"
   ]
  },
  {
   "cell_type": "code",
   "execution_count": 24,
   "metadata": {},
   "outputs": [
    {
     "name": "stdout",
     "output_type": "stream",
     "text": [
      "<class 'pandas.core.frame.DataFrame'>\n",
      "RangeIndex: 244126 entries, 0 to 244125\n",
      "Data columns (total 4 columns):\n",
      " #   Column          Non-Null Count   Dtype \n",
      "---  ------          --------------   ----- \n",
      " 0   EventName       244126 non-null  object\n",
      " 1   DeviceIDHash    244126 non-null  int64 \n",
      " 2   EventTimestamp  244126 non-null  int64 \n",
      " 3   ExpId           244126 non-null  int64 \n",
      "dtypes: int64(3), object(1)\n",
      "memory usage: 7.5+ MB\n"
     ]
    }
   ],
   "source": [
    "logs_exp.info()"
   ]
  },
  {
   "cell_type": "code",
   "execution_count": 25,
   "metadata": {},
   "outputs": [
    {
     "data": {
      "text/plain": [
       "array([246, 248, 247], dtype=int64)"
      ]
     },
     "execution_count": 25,
     "metadata": {},
     "output_type": "execute_result"
    }
   ],
   "source": [
    "logs_exp['ExpId'].unique()"
   ]
  },
  {
   "cell_type": "markdown",
   "metadata": {},
   "source": [
    "Таблица содержит 4 столбца и 244126 строк, пропущенные значения отсутствуют, неверно указан тип данных столбца EventTimestamp содержащшего информацию о дате и времени события. Информация в столбце ExpId указана верно (в нем должно быть 3 уникальных номера экспериментальных групп). Названия столбцов необходимо открректировать."
   ]
  },
  {
   "cell_type": "markdown",
   "metadata": {},
   "source": [
    "## Вывод"
   ]
  },
  {
   "cell_type": "markdown",
   "metadata": {},
   "source": [
    "В данных отсутствуют пропущенные значения, это хорошо - данные полные, но они нуждаются в предобработке - необходимо изменить названия столбцов и тип данных EventTimestamp привести к datatime"
   ]
  },
  {
   "cell_type": "markdown",
   "metadata": {},
   "source": [
    "## 2. Предобработка данных <a id=\"pre_processing\"> </a>"
   ]
  },
  {
   "cell_type": "markdown",
   "metadata": {},
   "source": [
    "Изменим названия столбцов, для этого передадим новый спискок имен"
   ]
  },
  {
   "cell_type": "code",
   "execution_count": 26,
   "metadata": {},
   "outputs": [],
   "source": [
    "logs_exp.columns = ['event_name','user_id', 'event_date_time', 'exp_id']"
   ]
  },
  {
   "cell_type": "markdown",
   "metadata": {},
   "source": [
    "Изменим тип данных столбца event_date на datetime"
   ]
  },
  {
   "cell_type": "code",
   "execution_count": 27,
   "metadata": {},
   "outputs": [],
   "source": [
    "logs_exp['event_date_time'] = pd.to_datetime(logs_exp['event_date_time'], unit='s')#<изменение типа данных на datetime>"
   ]
  },
  {
   "cell_type": "code",
   "execution_count": 80,
   "metadata": {},
   "outputs": [
    {
     "data": {
      "text/html": [
       "<div>\n",
       "<style scoped>\n",
       "    .dataframe tbody tr th:only-of-type {\n",
       "        vertical-align: middle;\n",
       "    }\n",
       "\n",
       "    .dataframe tbody tr th {\n",
       "        vertical-align: top;\n",
       "    }\n",
       "\n",
       "    .dataframe thead th {\n",
       "        text-align: right;\n",
       "    }\n",
       "</style>\n",
       "<table border=\"1\" class=\"dataframe\">\n",
       "  <thead>\n",
       "    <tr style=\"text-align: right;\">\n",
       "      <th></th>\n",
       "      <th>event_name</th>\n",
       "      <th>user_id</th>\n",
       "      <th>event_date_time</th>\n",
       "      <th>exp_id</th>\n",
       "      <th>event_date</th>\n",
       "      <th>event_time</th>\n",
       "      <th>hour</th>\n",
       "    </tr>\n",
       "  </thead>\n",
       "  <tbody>\n",
       "    <tr>\n",
       "      <th>0</th>\n",
       "      <td>MainScreenAppear</td>\n",
       "      <td>4575588528974610257</td>\n",
       "      <td>2019-07-25 04:43:36</td>\n",
       "      <td>246</td>\n",
       "      <td>2019-07-25</td>\n",
       "      <td>04:43:36</td>\n",
       "      <td>4</td>\n",
       "    </tr>\n",
       "    <tr>\n",
       "      <th>1</th>\n",
       "      <td>MainScreenAppear</td>\n",
       "      <td>7416695313311560658</td>\n",
       "      <td>2019-07-25 11:11:42</td>\n",
       "      <td>246</td>\n",
       "      <td>2019-07-25</td>\n",
       "      <td>11:11:42</td>\n",
       "      <td>11</td>\n",
       "    </tr>\n",
       "    <tr>\n",
       "      <th>2</th>\n",
       "      <td>PaymentScreenSuccessful</td>\n",
       "      <td>3518123091307005509</td>\n",
       "      <td>2019-07-25 11:28:47</td>\n",
       "      <td>248</td>\n",
       "      <td>2019-07-25</td>\n",
       "      <td>11:28:47</td>\n",
       "      <td>11</td>\n",
       "    </tr>\n",
       "    <tr>\n",
       "      <th>3</th>\n",
       "      <td>CartScreenAppear</td>\n",
       "      <td>3518123091307005509</td>\n",
       "      <td>2019-07-25 11:28:47</td>\n",
       "      <td>248</td>\n",
       "      <td>2019-07-25</td>\n",
       "      <td>11:28:47</td>\n",
       "      <td>11</td>\n",
       "    </tr>\n",
       "    <tr>\n",
       "      <th>4</th>\n",
       "      <td>PaymentScreenSuccessful</td>\n",
       "      <td>6217807653094995999</td>\n",
       "      <td>2019-07-25 11:48:42</td>\n",
       "      <td>248</td>\n",
       "      <td>2019-07-25</td>\n",
       "      <td>11:48:42</td>\n",
       "      <td>11</td>\n",
       "    </tr>\n",
       "  </tbody>\n",
       "</table>\n",
       "</div>"
      ],
      "text/plain": [
       "                event_name              user_id     event_date_time  exp_id  \\\n",
       "0         MainScreenAppear  4575588528974610257 2019-07-25 04:43:36     246   \n",
       "1         MainScreenAppear  7416695313311560658 2019-07-25 11:11:42     246   \n",
       "2  PaymentScreenSuccessful  3518123091307005509 2019-07-25 11:28:47     248   \n",
       "3         CartScreenAppear  3518123091307005509 2019-07-25 11:28:47     248   \n",
       "4  PaymentScreenSuccessful  6217807653094995999 2019-07-25 11:48:42     248   \n",
       "\n",
       "  event_date event_time  hour  \n",
       "0 2019-07-25   04:43:36     4  \n",
       "1 2019-07-25   11:11:42    11  \n",
       "2 2019-07-25   11:28:47    11  \n",
       "3 2019-07-25   11:28:47    11  \n",
       "4 2019-07-25   11:48:42    11  "
      ]
     },
     "execution_count": 80,
     "metadata": {},
     "output_type": "execute_result"
    }
   ],
   "source": [
    "logs_exp.head()"
   ]
  },
  {
   "cell_type": "markdown",
   "metadata": {},
   "source": [
    "Добавим столбец даты и времени"
   ]
  },
  {
   "cell_type": "code",
   "execution_count": 29,
   "metadata": {},
   "outputs": [],
   "source": [
    "logs_exp['event_date']= logs_exp['event_date_time'].dt.date\n",
    "logs_exp['event_time']= logs_exp['event_date_time'].dt.time\n",
    "logs_exp['hour'] = logs_exp['event_date_time'].dt.hour\n",
    "logs_exp['event_date'] = pd.to_datetime(logs_exp['event_date'])\n",
    "                                 "
   ]
  },
  {
   "cell_type": "code",
   "execution_count": 81,
   "metadata": {},
   "outputs": [
    {
     "data": {
      "text/html": [
       "<div>\n",
       "<style scoped>\n",
       "    .dataframe tbody tr th:only-of-type {\n",
       "        vertical-align: middle;\n",
       "    }\n",
       "\n",
       "    .dataframe tbody tr th {\n",
       "        vertical-align: top;\n",
       "    }\n",
       "\n",
       "    .dataframe thead th {\n",
       "        text-align: right;\n",
       "    }\n",
       "</style>\n",
       "<table border=\"1\" class=\"dataframe\">\n",
       "  <thead>\n",
       "    <tr style=\"text-align: right;\">\n",
       "      <th></th>\n",
       "      <th>event_name</th>\n",
       "      <th>user_id</th>\n",
       "      <th>event_date_time</th>\n",
       "      <th>exp_id</th>\n",
       "      <th>event_date</th>\n",
       "      <th>event_time</th>\n",
       "      <th>hour</th>\n",
       "    </tr>\n",
       "  </thead>\n",
       "  <tbody>\n",
       "    <tr>\n",
       "      <th>0</th>\n",
       "      <td>MainScreenAppear</td>\n",
       "      <td>4575588528974610257</td>\n",
       "      <td>2019-07-25 04:43:36</td>\n",
       "      <td>246</td>\n",
       "      <td>2019-07-25</td>\n",
       "      <td>04:43:36</td>\n",
       "      <td>4</td>\n",
       "    </tr>\n",
       "    <tr>\n",
       "      <th>1</th>\n",
       "      <td>MainScreenAppear</td>\n",
       "      <td>7416695313311560658</td>\n",
       "      <td>2019-07-25 11:11:42</td>\n",
       "      <td>246</td>\n",
       "      <td>2019-07-25</td>\n",
       "      <td>11:11:42</td>\n",
       "      <td>11</td>\n",
       "    </tr>\n",
       "    <tr>\n",
       "      <th>2</th>\n",
       "      <td>PaymentScreenSuccessful</td>\n",
       "      <td>3518123091307005509</td>\n",
       "      <td>2019-07-25 11:28:47</td>\n",
       "      <td>248</td>\n",
       "      <td>2019-07-25</td>\n",
       "      <td>11:28:47</td>\n",
       "      <td>11</td>\n",
       "    </tr>\n",
       "    <tr>\n",
       "      <th>3</th>\n",
       "      <td>CartScreenAppear</td>\n",
       "      <td>3518123091307005509</td>\n",
       "      <td>2019-07-25 11:28:47</td>\n",
       "      <td>248</td>\n",
       "      <td>2019-07-25</td>\n",
       "      <td>11:28:47</td>\n",
       "      <td>11</td>\n",
       "    </tr>\n",
       "    <tr>\n",
       "      <th>4</th>\n",
       "      <td>PaymentScreenSuccessful</td>\n",
       "      <td>6217807653094995999</td>\n",
       "      <td>2019-07-25 11:48:42</td>\n",
       "      <td>248</td>\n",
       "      <td>2019-07-25</td>\n",
       "      <td>11:48:42</td>\n",
       "      <td>11</td>\n",
       "    </tr>\n",
       "  </tbody>\n",
       "</table>\n",
       "</div>"
      ],
      "text/plain": [
       "                event_name              user_id     event_date_time  exp_id  \\\n",
       "0         MainScreenAppear  4575588528974610257 2019-07-25 04:43:36     246   \n",
       "1         MainScreenAppear  7416695313311560658 2019-07-25 11:11:42     246   \n",
       "2  PaymentScreenSuccessful  3518123091307005509 2019-07-25 11:28:47     248   \n",
       "3         CartScreenAppear  3518123091307005509 2019-07-25 11:28:47     248   \n",
       "4  PaymentScreenSuccessful  6217807653094995999 2019-07-25 11:48:42     248   \n",
       "\n",
       "  event_date event_time  hour  \n",
       "0 2019-07-25   04:43:36     4  \n",
       "1 2019-07-25   11:11:42    11  \n",
       "2 2019-07-25   11:28:47    11  \n",
       "3 2019-07-25   11:28:47    11  \n",
       "4 2019-07-25   11:48:42    11  "
      ]
     },
     "execution_count": 81,
     "metadata": {},
     "output_type": "execute_result"
    }
   ],
   "source": [
    "logs_exp.head()"
   ]
  },
  {
   "cell_type": "code",
   "execution_count": 31,
   "metadata": {},
   "outputs": [
    {
     "data": {
      "text/plain": [
       "array(['MainScreenAppear', 'PaymentScreenSuccessful', 'CartScreenAppear',\n",
       "       'OffersScreenAppear', 'Tutorial'], dtype=object)"
      ]
     },
     "execution_count": 31,
     "metadata": {},
     "output_type": "execute_result"
    }
   ],
   "source": [
    "logs_exp['event_name'].unique()"
   ]
  },
  {
   "cell_type": "markdown",
   "metadata": {},
   "source": [
    "Проверим данные на дубликаты:"
   ]
  },
  {
   "cell_type": "code",
   "execution_count": 32,
   "metadata": {},
   "outputs": [
    {
     "name": "stdout",
     "output_type": "stream",
     "text": [
      "количество дубликатов в таблице logs_exp: 413\n"
     ]
    }
   ],
   "source": [
    "print('количество дубликатов в таблице logs_exp:', logs_exp.duplicated().sum())"
   ]
  },
  {
   "cell_type": "markdown",
   "metadata": {},
   "source": [
    "удалим дубликаты"
   ]
  },
  {
   "cell_type": "code",
   "execution_count": 33,
   "metadata": {},
   "outputs": [],
   "source": [
    "logs_exp = logs_exp.drop_duplicates()"
   ]
  },
  {
   "cell_type": "markdown",
   "metadata": {},
   "source": [
    "## Вывод"
   ]
  },
  {
   "cell_type": "markdown",
   "metadata": {},
   "source": [
    "Выполнили предобработку, изменили тип данных столбца event_date_time, удалили дубликаты поправили названия столбцов, добавили два стоблца содержащих отдельно дату и время события."
   ]
  },
  {
   "cell_type": "markdown",
   "metadata": {},
   "source": [
    "## 3. Изучение и проверка данных <a id=\"research_analysis\"> </a>"
   ]
  },
  {
   "cell_type": "markdown",
   "metadata": {},
   "source": [
    "### 3.1 Количество событий в логе<a id=\"count_events\"> </a>\n"
   ]
  },
  {
   "cell_type": "markdown",
   "metadata": {},
   "source": [
    "Посчитаем количество уникальных событий в логе"
   ]
  },
  {
   "cell_type": "code",
   "execution_count": 34,
   "metadata": {},
   "outputs": [
    {
     "data": {
      "text/plain": [
       "5"
      ]
     },
     "execution_count": 34,
     "metadata": {},
     "output_type": "execute_result"
    }
   ],
   "source": [
    "logs_exp['event_name'].nunique()"
   ]
  },
  {
   "cell_type": "code",
   "execution_count": 35,
   "metadata": {},
   "outputs": [
    {
     "data": {
      "text/plain": [
       "array(['MainScreenAppear', 'PaymentScreenSuccessful', 'CartScreenAppear',\n",
       "       'OffersScreenAppear', 'Tutorial'], dtype=object)"
      ]
     },
     "execution_count": 35,
     "metadata": {},
     "output_type": "execute_result"
    }
   ],
   "source": [
    "logs_exp['event_name'].unique()"
   ]
  },
  {
   "cell_type": "markdown",
   "metadata": {},
   "source": [
    "В логе 5 уникальных событий: пользователь зашел на главный экран, посмотрел обучающую инструкцию, посмотрел предложения, перешел в корзину, совешил оплату"
   ]
  },
  {
   "cell_type": "code",
   "execution_count": 36,
   "metadata": {},
   "outputs": [
    {
     "data": {
      "text/html": [
       "<div>\n",
       "<style scoped>\n",
       "    .dataframe tbody tr th:only-of-type {\n",
       "        vertical-align: middle;\n",
       "    }\n",
       "\n",
       "    .dataframe tbody tr th {\n",
       "        vertical-align: top;\n",
       "    }\n",
       "\n",
       "    .dataframe thead th {\n",
       "        text-align: right;\n",
       "    }\n",
       "</style>\n",
       "<table border=\"1\" class=\"dataframe\">\n",
       "  <thead>\n",
       "    <tr style=\"text-align: right;\">\n",
       "      <th></th>\n",
       "      <th>event_name</th>\n",
       "      <th>count_event</th>\n",
       "    </tr>\n",
       "  </thead>\n",
       "  <tbody>\n",
       "    <tr>\n",
       "      <th>1</th>\n",
       "      <td>MainScreenAppear</td>\n",
       "      <td>119101</td>\n",
       "    </tr>\n",
       "    <tr>\n",
       "      <th>2</th>\n",
       "      <td>OffersScreenAppear</td>\n",
       "      <td>46808</td>\n",
       "    </tr>\n",
       "    <tr>\n",
       "      <th>0</th>\n",
       "      <td>CartScreenAppear</td>\n",
       "      <td>42668</td>\n",
       "    </tr>\n",
       "    <tr>\n",
       "      <th>3</th>\n",
       "      <td>PaymentScreenSuccessful</td>\n",
       "      <td>34118</td>\n",
       "    </tr>\n",
       "    <tr>\n",
       "      <th>4</th>\n",
       "      <td>Tutorial</td>\n",
       "      <td>1018</td>\n",
       "    </tr>\n",
       "  </tbody>\n",
       "</table>\n",
       "</div>"
      ],
      "text/plain": [
       "                event_name  count_event\n",
       "1         MainScreenAppear       119101\n",
       "2       OffersScreenAppear        46808\n",
       "0         CartScreenAppear        42668\n",
       "3  PaymentScreenSuccessful        34118\n",
       "4                 Tutorial         1018"
      ]
     },
     "execution_count": 36,
     "metadata": {},
     "output_type": "execute_result"
    }
   ],
   "source": [
    "unique_events_count = logs_exp.pivot_table(index= 'event_name', values='user_id', aggfunc='count') \\\n",
    "                    .reset_index() \\\n",
    "                    .rename(columns={'user_id':'count_event'}) \\\n",
    "                    .sort_values(by='count_event', ascending=False)\n",
    "unique_events_count                  "
   ]
  },
  {
   "cell_type": "code",
   "execution_count": 37,
   "metadata": {},
   "outputs": [
    {
     "name": "stdout",
     "output_type": "stream",
     "text": [
      "общее количество событий: 243713\n"
     ]
    }
   ],
   "source": [
    "count_events = sum(unique_events_count['count_event'])\n",
    "print('общее количество событий:', count_events)"
   ]
  },
  {
   "cell_type": "markdown",
   "metadata": {},
   "source": [
    "Видим, что в таблице 119101 событий просмотров главного экрана, 46808 событий просмотра предложений, 42668 событий перехода в корзину, 34118 событий успешной оплаты, 1018 событий просмотра инструкции. Общее количество событий составляет 243713"
   ]
  },
  {
   "cell_type": "markdown",
   "metadata": {},
   "source": [
    "### 3.2 Количество пользователей в логе<a id=\"count_users\"> </a>"
   ]
  },
  {
   "cell_type": "code",
   "execution_count": 38,
   "metadata": {},
   "outputs": [],
   "source": [
    "count_users = logs_exp['user_id'].nunique()"
   ]
  },
  {
   "cell_type": "code",
   "execution_count": 39,
   "metadata": {},
   "outputs": [
    {
     "name": "stdout",
     "output_type": "stream",
     "text": [
      "Количество уникальных пользователей в логе: 7551\n"
     ]
    }
   ],
   "source": [
    "print('Количество уникальных пользователей в логе:', count_users)"
   ]
  },
  {
   "cell_type": "markdown",
   "metadata": {},
   "source": [
    "Посчитаем также количество уникальных пользователей по каждому уникальному событию"
   ]
  },
  {
   "cell_type": "code",
   "execution_count": 40,
   "metadata": {},
   "outputs": [
    {
     "data": {
      "text/html": [
       "<div>\n",
       "<style scoped>\n",
       "    .dataframe tbody tr th:only-of-type {\n",
       "        vertical-align: middle;\n",
       "    }\n",
       "\n",
       "    .dataframe tbody tr th {\n",
       "        vertical-align: top;\n",
       "    }\n",
       "\n",
       "    .dataframe thead th {\n",
       "        text-align: right;\n",
       "    }\n",
       "</style>\n",
       "<table border=\"1\" class=\"dataframe\">\n",
       "  <thead>\n",
       "    <tr style=\"text-align: right;\">\n",
       "      <th></th>\n",
       "      <th>event_name</th>\n",
       "      <th>count_unique_users</th>\n",
       "    </tr>\n",
       "  </thead>\n",
       "  <tbody>\n",
       "    <tr>\n",
       "      <th>0</th>\n",
       "      <td>CartScreenAppear</td>\n",
       "      <td>3749</td>\n",
       "    </tr>\n",
       "    <tr>\n",
       "      <th>1</th>\n",
       "      <td>MainScreenAppear</td>\n",
       "      <td>7439</td>\n",
       "    </tr>\n",
       "    <tr>\n",
       "      <th>2</th>\n",
       "      <td>OffersScreenAppear</td>\n",
       "      <td>4613</td>\n",
       "    </tr>\n",
       "    <tr>\n",
       "      <th>3</th>\n",
       "      <td>PaymentScreenSuccessful</td>\n",
       "      <td>3547</td>\n",
       "    </tr>\n",
       "    <tr>\n",
       "      <th>4</th>\n",
       "      <td>Tutorial</td>\n",
       "      <td>847</td>\n",
       "    </tr>\n",
       "  </tbody>\n",
       "</table>\n",
       "</div>"
      ],
      "text/plain": [
       "                event_name  count_unique_users\n",
       "0         CartScreenAppear                3749\n",
       "1         MainScreenAppear                7439\n",
       "2       OffersScreenAppear                4613\n",
       "3  PaymentScreenSuccessful                3547\n",
       "4                 Tutorial                 847"
      ]
     },
     "execution_count": 40,
     "metadata": {},
     "output_type": "execute_result"
    }
   ],
   "source": [
    "count_unique_user = logs_exp.groupby('event_name').agg({'user_id': 'nunique'}).reset_index() \\\n",
    "                                .rename(columns={'user_id':'count_unique_users'})\n",
    "count_unique_user"
   ]
  },
  {
   "cell_type": "markdown",
   "metadata": {},
   "source": [
    "7551 человек совершали какие-либо действия в приложении"
   ]
  },
  {
   "cell_type": "markdown",
   "metadata": {},
   "source": [
    "### 3.3 Среднее количество событий на пользователя<a id=\"mean_events\"> </a> "
   ]
  },
  {
   "cell_type": "markdown",
   "metadata": {},
   "source": [
    "Разделим общее количество всех событий на количество уникальных пользователей"
   ]
  },
  {
   "cell_type": "code",
   "execution_count": 41,
   "metadata": {},
   "outputs": [
    {
     "data": {
      "text/plain": [
       "32.27559263673685"
      ]
     },
     "execution_count": 41,
     "metadata": {},
     "output_type": "execute_result"
    }
   ],
   "source": [
    "count_per_user = (count_events / count_users)\n",
    "count_per_user"
   ]
  },
  {
   "cell_type": "markdown",
   "metadata": {},
   "source": [
    "В среднем на одного пользователя приходится 32 события."
   ]
  },
  {
   "cell_type": "markdown",
   "metadata": {},
   "source": [
    "Посмотрим на распределение количества событий по пользователям и посчитаем медиану и моду"
   ]
  },
  {
   "cell_type": "code",
   "execution_count": 82,
   "metadata": {},
   "outputs": [
    {
     "data": {
      "text/html": [
       "<div>\n",
       "<style scoped>\n",
       "    .dataframe tbody tr th:only-of-type {\n",
       "        vertical-align: middle;\n",
       "    }\n",
       "\n",
       "    .dataframe tbody tr th {\n",
       "        vertical-align: top;\n",
       "    }\n",
       "\n",
       "    .dataframe thead th {\n",
       "        text-align: right;\n",
       "    }\n",
       "</style>\n",
       "<table border=\"1\" class=\"dataframe\">\n",
       "  <thead>\n",
       "    <tr style=\"text-align: right;\">\n",
       "      <th></th>\n",
       "      <th>user_id</th>\n",
       "      <th>event_name</th>\n",
       "    </tr>\n",
       "  </thead>\n",
       "  <tbody>\n",
       "    <tr>\n",
       "      <th>5116</th>\n",
       "      <td>6304868067479728361</td>\n",
       "      <td>2307</td>\n",
       "    </tr>\n",
       "    <tr>\n",
       "      <th>147</th>\n",
       "      <td>197027893265565660</td>\n",
       "      <td>1998</td>\n",
       "    </tr>\n",
       "    <tr>\n",
       "      <th>3714</th>\n",
       "      <td>4623191541214045580</td>\n",
       "      <td>1768</td>\n",
       "    </tr>\n",
       "    <tr>\n",
       "      <th>5590</th>\n",
       "      <td>6932517045703054087</td>\n",
       "      <td>1439</td>\n",
       "    </tr>\n",
       "    <tr>\n",
       "      <th>1391</th>\n",
       "      <td>1754140665440434215</td>\n",
       "      <td>1221</td>\n",
       "    </tr>\n",
       "  </tbody>\n",
       "</table>\n",
       "</div>"
      ],
      "text/plain": [
       "                  user_id  event_name\n",
       "5116  6304868067479728361        2307\n",
       "147    197027893265565660        1998\n",
       "3714  4623191541214045580        1768\n",
       "5590  6932517045703054087        1439\n",
       "1391  1754140665440434215        1221"
      ]
     },
     "execution_count": 82,
     "metadata": {},
     "output_type": "execute_result"
    }
   ],
   "source": [
    "user_gr = logs_exp.groupby('user_id').agg({'event_name': 'count'}).reset_index()\n",
    "                               # .rename(columns={'event_name':'count_events'}\n",
    "user_gr.sort_values(by='event_name', ascending=False).head(5)"
   ]
  },
  {
   "cell_type": "code",
   "execution_count": 43,
   "metadata": {},
   "outputs": [
    {
     "data": {
      "image/png": "[encoded data removed]",
      "text/plain": [
       "<Figure size 864x360 with 1 Axes>"
      ]
     },
     "metadata": {
      "needs_background": "light"
     },
     "output_type": "display_data"
    }
   ],
   "source": [
    "plt.figure(figsize=(12,5))\n",
    "pd.Series(user_gr['event_name']).hist(bins=100, range = (1, 500))\n",
    "plt.title('Распределение количества событий по пользователям', fontsize=12, color='blue')\n",
    "plt.xlabel('Количество событий по каждому пользователю', fontsize=10, color='blue')\n",
    "plt.ylabel('Частота', fontsize=10, color='blue')\n",
    "plt.show()"
   ]
  },
  {
   "cell_type": "code",
   "execution_count": 44,
   "metadata": {},
   "outputs": [
    {
     "name": "stdout",
     "output_type": "stream",
     "text": [
      "медиана 20.0\n",
      "мода 0    5\n",
      "dtype: int64\n"
     ]
    }
   ],
   "source": [
    "print('медиана', user_gr['event_name'].median())\n",
    "print('мода', user_gr['event_name'].mode())"
   ]
  },
  {
   "cell_type": "markdown",
   "metadata": {},
   "source": [
    "Гистограмма распределения имеет высокий пик и очень длинный хвост, поскольку есть пользователи с количеством событий свыше 500 и даже свыше 1000, поэтому среднее плохо описывает данное распределение, в данном случае при наличии большого количества выбросов медиана не так сильно будет искажаться и лучше опишет распределение, посчитаем ее."
   ]
  },
  {
   "cell_type": "markdown",
   "metadata": {},
   "source": [
    "Получаем, что обычно пользователи совершали по 20 событий за указанный период."
   ]
  },
  {
   "cell_type": "markdown",
   "metadata": {},
   "source": [
    "Посмотрим на количество событий на пользователя в разрезе видов событий, для этого объединим таблицы unique_evens_count и count_unique_user по полю event_name и добавим столбец  count_per_user"
   ]
  },
  {
   "cell_type": "code",
   "execution_count": 45,
   "metadata": {},
   "outputs": [
    {
     "data": {
      "text/html": [
       "<div>\n",
       "<style scoped>\n",
       "    .dataframe tbody tr th:only-of-type {\n",
       "        vertical-align: middle;\n",
       "    }\n",
       "\n",
       "    .dataframe tbody tr th {\n",
       "        vertical-align: top;\n",
       "    }\n",
       "\n",
       "    .dataframe thead th {\n",
       "        text-align: right;\n",
       "    }\n",
       "</style>\n",
       "<table border=\"1\" class=\"dataframe\">\n",
       "  <thead>\n",
       "    <tr style=\"text-align: right;\">\n",
       "      <th></th>\n",
       "      <th>event_name</th>\n",
       "      <th>count_event</th>\n",
       "      <th>count_unique_users</th>\n",
       "      <th>count_event_per_user</th>\n",
       "    </tr>\n",
       "  </thead>\n",
       "  <tbody>\n",
       "    <tr>\n",
       "      <th>0</th>\n",
       "      <td>MainScreenAppear</td>\n",
       "      <td>119101</td>\n",
       "      <td>7439</td>\n",
       "      <td>16.010351</td>\n",
       "    </tr>\n",
       "    <tr>\n",
       "      <th>1</th>\n",
       "      <td>OffersScreenAppear</td>\n",
       "      <td>46808</td>\n",
       "      <td>4613</td>\n",
       "      <td>10.146976</td>\n",
       "    </tr>\n",
       "    <tr>\n",
       "      <th>2</th>\n",
       "      <td>CartScreenAppear</td>\n",
       "      <td>42668</td>\n",
       "      <td>3749</td>\n",
       "      <td>11.381168</td>\n",
       "    </tr>\n",
       "    <tr>\n",
       "      <th>3</th>\n",
       "      <td>PaymentScreenSuccessful</td>\n",
       "      <td>34118</td>\n",
       "      <td>3547</td>\n",
       "      <td>9.618833</td>\n",
       "    </tr>\n",
       "    <tr>\n",
       "      <th>4</th>\n",
       "      <td>Tutorial</td>\n",
       "      <td>1018</td>\n",
       "      <td>847</td>\n",
       "      <td>1.201889</td>\n",
       "    </tr>\n",
       "  </tbody>\n",
       "</table>\n",
       "</div>"
      ],
      "text/plain": [
       "                event_name  count_event  count_unique_users  \\\n",
       "0         MainScreenAppear       119101                7439   \n",
       "1       OffersScreenAppear        46808                4613   \n",
       "2         CartScreenAppear        42668                3749   \n",
       "3  PaymentScreenSuccessful        34118                3547   \n",
       "4                 Tutorial         1018                 847   \n",
       "\n",
       "   count_event_per_user  \n",
       "0             16.010351  \n",
       "1             10.146976  \n",
       "2             11.381168  \n",
       "3              9.618833  \n",
       "4              1.201889  "
      ]
     },
     "execution_count": 45,
     "metadata": {},
     "output_type": "execute_result"
    }
   ],
   "source": [
    "event_per_user = pd.merge(unique_events_count, count_unique_user, on='event_name',how='outer')\n",
    "event_per_user['count_event_per_user'] = event_per_user['count_event'] / event_per_user['count_unique_users'] \n",
    "event_per_user"
   ]
  },
  {
   "cell_type": "markdown",
   "metadata": {},
   "source": [
    "В среднем 16 раз пользователь открывает главный экран, 10 раз просматривает предложения, 11 раз кладет товар в корзину, 9 раз успешно оплачивает товар и 1 раз смотрит инструкцию. Странно, среднее количество событий товар в корзине больше чем среднее количество события просмотр предложения, видимо в данных есть какой-то перекос, рассмотрим подробнее дальше."
   ]
  },
  {
   "cell_type": "markdown",
   "metadata": {},
   "source": [
    "### 3.4 Проверка полноты данных за период <a id=\"analazed_period\"> </a> "
   ]
  },
  {
   "cell_type": "markdown",
   "metadata": {},
   "source": [
    "Посмотрим за какой период имеются данные в логах, рассчитаем мin и max значение даты"
   ]
  },
  {
   "cell_type": "code",
   "execution_count": 46,
   "metadata": {},
   "outputs": [
    {
     "name": "stdout",
     "output_type": "stream",
     "text": [
      "период с 2019-07-25 00:00:00 по 2019-08-07 00:00:00\n"
     ]
    }
   ],
   "source": [
    "print('период с', min(logs_exp['event_date']), 'по', max(logs_exp['event_date']))"
   ]
  },
  {
   "cell_type": "markdown",
   "metadata": {},
   "source": [
    "Мы располагаем данными логов за две недели с 25 июля по 7 августа 2019 года"
   ]
  },
  {
   "cell_type": "code",
   "execution_count": 83,
   "metadata": {},
   "outputs": [
    {
     "data": {
      "text/html": [
       "<div>\n",
       "<style scoped>\n",
       "    .dataframe tbody tr th:only-of-type {\n",
       "        vertical-align: middle;\n",
       "    }\n",
       "\n",
       "    .dataframe tbody tr th {\n",
       "        vertical-align: top;\n",
       "    }\n",
       "\n",
       "    .dataframe thead th {\n",
       "        text-align: right;\n",
       "    }\n",
       "</style>\n",
       "<table border=\"1\" class=\"dataframe\">\n",
       "  <thead>\n",
       "    <tr style=\"text-align: right;\">\n",
       "      <th></th>\n",
       "      <th>event_name</th>\n",
       "      <th>user_id</th>\n",
       "      <th>event_date_time</th>\n",
       "      <th>exp_id</th>\n",
       "      <th>event_date</th>\n",
       "      <th>event_time</th>\n",
       "      <th>hour</th>\n",
       "    </tr>\n",
       "  </thead>\n",
       "  <tbody>\n",
       "    <tr>\n",
       "      <th>0</th>\n",
       "      <td>MainScreenAppear</td>\n",
       "      <td>4575588528974610257</td>\n",
       "      <td>2019-07-25 04:43:36</td>\n",
       "      <td>246</td>\n",
       "      <td>2019-07-25</td>\n",
       "      <td>04:43:36</td>\n",
       "      <td>4</td>\n",
       "    </tr>\n",
       "    <tr>\n",
       "      <th>1</th>\n",
       "      <td>MainScreenAppear</td>\n",
       "      <td>7416695313311560658</td>\n",
       "      <td>2019-07-25 11:11:42</td>\n",
       "      <td>246</td>\n",
       "      <td>2019-07-25</td>\n",
       "      <td>11:11:42</td>\n",
       "      <td>11</td>\n",
       "    </tr>\n",
       "    <tr>\n",
       "      <th>2</th>\n",
       "      <td>PaymentScreenSuccessful</td>\n",
       "      <td>3518123091307005509</td>\n",
       "      <td>2019-07-25 11:28:47</td>\n",
       "      <td>248</td>\n",
       "      <td>2019-07-25</td>\n",
       "      <td>11:28:47</td>\n",
       "      <td>11</td>\n",
       "    </tr>\n",
       "    <tr>\n",
       "      <th>3</th>\n",
       "      <td>CartScreenAppear</td>\n",
       "      <td>3518123091307005509</td>\n",
       "      <td>2019-07-25 11:28:47</td>\n",
       "      <td>248</td>\n",
       "      <td>2019-07-25</td>\n",
       "      <td>11:28:47</td>\n",
       "      <td>11</td>\n",
       "    </tr>\n",
       "    <tr>\n",
       "      <th>4</th>\n",
       "      <td>PaymentScreenSuccessful</td>\n",
       "      <td>6217807653094995999</td>\n",
       "      <td>2019-07-25 11:48:42</td>\n",
       "      <td>248</td>\n",
       "      <td>2019-07-25</td>\n",
       "      <td>11:48:42</td>\n",
       "      <td>11</td>\n",
       "    </tr>\n",
       "  </tbody>\n",
       "</table>\n",
       "</div>"
      ],
      "text/plain": [
       "                event_name              user_id     event_date_time  exp_id  \\\n",
       "0         MainScreenAppear  4575588528974610257 2019-07-25 04:43:36     246   \n",
       "1         MainScreenAppear  7416695313311560658 2019-07-25 11:11:42     246   \n",
       "2  PaymentScreenSuccessful  3518123091307005509 2019-07-25 11:28:47     248   \n",
       "3         CartScreenAppear  3518123091307005509 2019-07-25 11:28:47     248   \n",
       "4  PaymentScreenSuccessful  6217807653094995999 2019-07-25 11:48:42     248   \n",
       "\n",
       "  event_date event_time  hour  \n",
       "0 2019-07-25   04:43:36     4  \n",
       "1 2019-07-25   11:11:42    11  \n",
       "2 2019-07-25   11:28:47    11  \n",
       "3 2019-07-25   11:28:47    11  \n",
       "4 2019-07-25   11:48:42    11  "
      ]
     },
     "execution_count": 83,
     "metadata": {},
     "output_type": "execute_result"
    }
   ],
   "source": [
    "logs_exp.sort_values(by='event_date').head()"
   ]
  },
  {
   "cell_type": "code",
   "execution_count": 48,
   "metadata": {},
   "outputs": [
    {
     "data": {
      "image/png": "[encoded data removed]",
      "text/plain": [
       "<Figure size 576x360 with 1 Axes>"
      ]
     },
     "metadata": {
      "needs_background": "light"
     },
     "output_type": "display_data"
    }
   ],
   "source": [
    "plt.figure(figsize=(8, 5))\n",
    "plt.hist(logs_exp['event_date_time'], color='#8a9d79')\n",
    "plt.title('Гистограмма распределения по дате и времени', fontsize=12, color='green', pad = 15)\n",
    "plt.xlabel('Количество заказов по дате и времени', fontsize=10, color='green', labelpad=10)\n",
    "plt.ylabel('Частота', fontsize=10, color='green', labelpad=10)\n",
    "plt.xticks(rotation = 45)\n",
    "plt.grid()\n",
    "plt.show()"
   ]
  },
  {
   "cell_type": "markdown",
   "metadata": {},
   "source": [
    "Сделаем срез из таблицы за 31.07.2019 и посмотрим гистограмму по часам"
   ]
  },
  {
   "cell_type": "code",
   "execution_count": 84,
   "metadata": {},
   "outputs": [
    {
     "data": {
      "text/html": [
       "<div>\n",
       "<style scoped>\n",
       "    .dataframe tbody tr th:only-of-type {\n",
       "        vertical-align: middle;\n",
       "    }\n",
       "\n",
       "    .dataframe tbody tr th {\n",
       "        vertical-align: top;\n",
       "    }\n",
       "\n",
       "    .dataframe thead th {\n",
       "        text-align: right;\n",
       "    }\n",
       "</style>\n",
       "<table border=\"1\" class=\"dataframe\">\n",
       "  <thead>\n",
       "    <tr style=\"text-align: right;\">\n",
       "      <th></th>\n",
       "      <th>event_name</th>\n",
       "      <th>user_id</th>\n",
       "      <th>event_date_time</th>\n",
       "      <th>exp_id</th>\n",
       "      <th>event_date</th>\n",
       "      <th>event_time</th>\n",
       "      <th>hour</th>\n",
       "    </tr>\n",
       "  </thead>\n",
       "  <tbody>\n",
       "    <tr>\n",
       "      <th>797</th>\n",
       "      <td>MainScreenAppear</td>\n",
       "      <td>3670880358399219515</td>\n",
       "      <td>2019-07-31 01:11:46</td>\n",
       "      <td>247</td>\n",
       "      <td>2019-07-31</td>\n",
       "      <td>01:11:46</td>\n",
       "      <td>1</td>\n",
       "    </tr>\n",
       "    <tr>\n",
       "      <th>798</th>\n",
       "      <td>OffersScreenAppear</td>\n",
       "      <td>3799109751993694887</td>\n",
       "      <td>2019-07-31 01:21:04</td>\n",
       "      <td>248</td>\n",
       "      <td>2019-07-31</td>\n",
       "      <td>01:21:04</td>\n",
       "      <td>1</td>\n",
       "    </tr>\n",
       "    <tr>\n",
       "      <th>799</th>\n",
       "      <td>Tutorial</td>\n",
       "      <td>1126021718529336913</td>\n",
       "      <td>2019-07-31 01:32:11</td>\n",
       "      <td>247</td>\n",
       "      <td>2019-07-31</td>\n",
       "      <td>01:32:11</td>\n",
       "      <td>1</td>\n",
       "    </tr>\n",
       "    <tr>\n",
       "      <th>800</th>\n",
       "      <td>MainScreenAppear</td>\n",
       "      <td>4293428370257583636</td>\n",
       "      <td>2019-07-31 02:19:18</td>\n",
       "      <td>248</td>\n",
       "      <td>2019-07-31</td>\n",
       "      <td>02:19:18</td>\n",
       "      <td>2</td>\n",
       "    </tr>\n",
       "    <tr>\n",
       "      <th>801</th>\n",
       "      <td>MainScreenAppear</td>\n",
       "      <td>4567464647598975872</td>\n",
       "      <td>2019-07-31 02:33:30</td>\n",
       "      <td>247</td>\n",
       "      <td>2019-07-31</td>\n",
       "      <td>02:33:30</td>\n",
       "      <td>2</td>\n",
       "    </tr>\n",
       "  </tbody>\n",
       "</table>\n",
       "</div>"
      ],
      "text/plain": [
       "             event_name              user_id     event_date_time  exp_id  \\\n",
       "797    MainScreenAppear  3670880358399219515 2019-07-31 01:11:46     247   \n",
       "798  OffersScreenAppear  3799109751993694887 2019-07-31 01:21:04     248   \n",
       "799            Tutorial  1126021718529336913 2019-07-31 01:32:11     247   \n",
       "800    MainScreenAppear  4293428370257583636 2019-07-31 02:19:18     248   \n",
       "801    MainScreenAppear  4567464647598975872 2019-07-31 02:33:30     247   \n",
       "\n",
       "    event_date event_time  hour  \n",
       "797 2019-07-31   01:11:46     1  \n",
       "798 2019-07-31   01:21:04     1  \n",
       "799 2019-07-31   01:32:11     1  \n",
       "800 2019-07-31   02:19:18     2  \n",
       "801 2019-07-31   02:33:30     2  "
      ]
     },
     "execution_count": 84,
     "metadata": {},
     "output_type": "execute_result"
    }
   ],
   "source": [
    "logs_exp_31 = logs_exp[logs_exp['event_date'] == \"2019-07-31\"]\n",
    "logs_exp_31.head()"
   ]
  },
  {
   "cell_type": "code",
   "execution_count": 50,
   "metadata": {},
   "outputs": [
    {
     "data": {
      "image/png": "[encoded data removed]",
      "text/plain": [
       "<Figure size 576x360 with 1 Axes>"
      ]
     },
     "metadata": {
      "needs_background": "light"
     },
     "output_type": "display_data"
    }
   ],
   "source": [
    "plt.figure(figsize=(8, 5))\n",
    "plt.hist(logs_exp_31['hour'], bins=50, color='#8a9d79')\n",
    "plt.title('Гистограмма распределения по дате и времени', fontsize=12, color='green', pad = 15)\n",
    "plt.xlabel('Количество заказов по дате и времени', fontsize=10, color='green', labelpad=10)\n",
    "plt.ylabel('Частота', fontsize=10, color='green', labelpad=10)\n",
    "pl.xticks(rotation = 45)\n",
    "plt.grid()\n",
    "plt.show()"
   ]
  },
  {
   "cell_type": "markdown",
   "metadata": {},
   "source": [
    "Получается, что данные не одинаково полные за весь период, вероятно в первую неделю с 25 июля по 31 июля у нас в логи 'доезжают события' из прошлого периода, полные данные начинают формироваться с 21 часа 31.07.2019, в связи с этим сделаем срез и отбросим данные до 21:00 31.07.2019, сохраним в новую таблицу logs_filtered"
   ]
  },
  {
   "cell_type": "code",
   "execution_count": 85,
   "metadata": {},
   "outputs": [
    {
     "data": {
      "text/html": [
       "<div>\n",
       "<style scoped>\n",
       "    .dataframe tbody tr th:only-of-type {\n",
       "        vertical-align: middle;\n",
       "    }\n",
       "\n",
       "    .dataframe tbody tr th {\n",
       "        vertical-align: top;\n",
       "    }\n",
       "\n",
       "    .dataframe thead th {\n",
       "        text-align: right;\n",
       "    }\n",
       "</style>\n",
       "<table border=\"1\" class=\"dataframe\">\n",
       "  <thead>\n",
       "    <tr style=\"text-align: right;\">\n",
       "      <th></th>\n",
       "      <th>event_name</th>\n",
       "      <th>user_id</th>\n",
       "      <th>event_date_time</th>\n",
       "      <th>exp_id</th>\n",
       "      <th>event_date</th>\n",
       "      <th>event_time</th>\n",
       "      <th>hour</th>\n",
       "    </tr>\n",
       "  </thead>\n",
       "  <tbody>\n",
       "    <tr>\n",
       "      <th>1990</th>\n",
       "      <td>MainScreenAppear</td>\n",
       "      <td>7701922487875823903</td>\n",
       "      <td>2019-07-31 21:00:57</td>\n",
       "      <td>247</td>\n",
       "      <td>2019-07-31</td>\n",
       "      <td>21:00:57</td>\n",
       "      <td>21</td>\n",
       "    </tr>\n",
       "    <tr>\n",
       "      <th>1991</th>\n",
       "      <td>MainScreenAppear</td>\n",
       "      <td>2539077412200498909</td>\n",
       "      <td>2019-07-31 21:01:45</td>\n",
       "      <td>247</td>\n",
       "      <td>2019-07-31</td>\n",
       "      <td>21:01:45</td>\n",
       "      <td>21</td>\n",
       "    </tr>\n",
       "    <tr>\n",
       "      <th>1992</th>\n",
       "      <td>OffersScreenAppear</td>\n",
       "      <td>3286987355161301427</td>\n",
       "      <td>2019-07-31 21:02:21</td>\n",
       "      <td>248</td>\n",
       "      <td>2019-07-31</td>\n",
       "      <td>21:02:21</td>\n",
       "      <td>21</td>\n",
       "    </tr>\n",
       "    <tr>\n",
       "      <th>1993</th>\n",
       "      <td>OffersScreenAppear</td>\n",
       "      <td>3187166762535343300</td>\n",
       "      <td>2019-07-31 21:02:23</td>\n",
       "      <td>247</td>\n",
       "      <td>2019-07-31</td>\n",
       "      <td>21:02:23</td>\n",
       "      <td>21</td>\n",
       "    </tr>\n",
       "    <tr>\n",
       "      <th>1994</th>\n",
       "      <td>MainScreenAppear</td>\n",
       "      <td>1118952406011435924</td>\n",
       "      <td>2019-07-31 21:03:25</td>\n",
       "      <td>248</td>\n",
       "      <td>2019-07-31</td>\n",
       "      <td>21:03:25</td>\n",
       "      <td>21</td>\n",
       "    </tr>\n",
       "  </tbody>\n",
       "</table>\n",
       "</div>"
      ],
      "text/plain": [
       "              event_name              user_id     event_date_time  exp_id  \\\n",
       "1990    MainScreenAppear  7701922487875823903 2019-07-31 21:00:57     247   \n",
       "1991    MainScreenAppear  2539077412200498909 2019-07-31 21:01:45     247   \n",
       "1992  OffersScreenAppear  3286987355161301427 2019-07-31 21:02:21     248   \n",
       "1993  OffersScreenAppear  3187166762535343300 2019-07-31 21:02:23     247   \n",
       "1994    MainScreenAppear  1118952406011435924 2019-07-31 21:03:25     248   \n",
       "\n",
       "     event_date event_time  hour  \n",
       "1990 2019-07-31   21:00:57    21  \n",
       "1991 2019-07-31   21:01:45    21  \n",
       "1992 2019-07-31   21:02:21    21  \n",
       "1993 2019-07-31   21:02:23    21  \n",
       "1994 2019-07-31   21:03:25    21  "
      ]
     },
     "execution_count": 85,
     "metadata": {},
     "output_type": "execute_result"
    }
   ],
   "source": [
    "logs_filtered = logs_exp.query('event_date_time >= \"2019-07-31 21:00:00\"')\n",
    "logs_filtered.head()"
   ]
  },
  {
   "cell_type": "markdown",
   "metadata": {},
   "source": [
    "Посмотрим насколько сократилась таблица с логами"
   ]
  },
  {
   "cell_type": "code",
   "execution_count": 52,
   "metadata": {},
   "outputs": [
    {
     "name": "stdout",
     "output_type": "stream",
     "text": [
      "из таблицы исключили 1989 записей\n"
     ]
    }
   ],
   "source": [
    "print('из таблицы исключили', logs_exp.shape[0]-logs_filtered.shape[0], 'записей')"
   ]
  },
  {
   "cell_type": "code",
   "execution_count": 53,
   "metadata": {},
   "outputs": [
    {
     "name": "stdout",
     "output_type": "stream",
     "text": [
      "из таблицы исключили: 13 пользователей\n"
     ]
    }
   ],
   "source": [
    "unique_users_new = logs_filtered['user_id'].nunique()\n",
    "print('из таблицы исключили:', count_users - unique_users_new, 'пользователей')"
   ]
  },
  {
   "cell_type": "markdown",
   "metadata": {},
   "source": [
    "Итого, отбросив старые данные, мы исключили 1989 записей по 13 пользователям."
   ]
  },
  {
   "cell_type": "markdown",
   "metadata": {},
   "source": [
    "### 3.5  Проверка наличия пользователей экпериментальных групп<a id=\"experimen_group\"> </a>"
   ]
  },
  {
   "cell_type": "markdown",
   "metadata": {},
   "source": [
    "Убедимся, что после исключения записей, у нас остались пользователи по всем экспериментальным группам, сделаем группировку по группе эксперимента с подсчетом пользователей"
   ]
  },
  {
   "cell_type": "code",
   "execution_count": 54,
   "metadata": {},
   "outputs": [
    {
     "data": {
      "text/html": [
       "<div>\n",
       "<style scoped>\n",
       "    .dataframe tbody tr th:only-of-type {\n",
       "        vertical-align: middle;\n",
       "    }\n",
       "\n",
       "    .dataframe tbody tr th {\n",
       "        vertical-align: top;\n",
       "    }\n",
       "\n",
       "    .dataframe thead th {\n",
       "        text-align: right;\n",
       "    }\n",
       "</style>\n",
       "<table border=\"1\" class=\"dataframe\">\n",
       "  <thead>\n",
       "    <tr style=\"text-align: right;\">\n",
       "      <th></th>\n",
       "      <th>exp_id</th>\n",
       "      <th>count_users_exp</th>\n",
       "    </tr>\n",
       "  </thead>\n",
       "  <tbody>\n",
       "    <tr>\n",
       "      <th>0</th>\n",
       "      <td>246</td>\n",
       "      <td>2484</td>\n",
       "    </tr>\n",
       "    <tr>\n",
       "      <th>1</th>\n",
       "      <td>247</td>\n",
       "      <td>2517</td>\n",
       "    </tr>\n",
       "    <tr>\n",
       "      <th>2</th>\n",
       "      <td>248</td>\n",
       "      <td>2537</td>\n",
       "    </tr>\n",
       "  </tbody>\n",
       "</table>\n",
       "</div>"
      ],
      "text/plain": [
       "   exp_id  count_users_exp\n",
       "0     246             2484\n",
       "1     247             2517\n",
       "2     248             2537"
      ]
     },
     "execution_count": 54,
     "metadata": {},
     "output_type": "execute_result"
    }
   ],
   "source": [
    "count_user_gr = logs_filtered.groupby('exp_id').agg({'user_id': 'nunique'}).reset_index() \\\n",
    "                                .rename(columns={'user_id':'count_users_exp'})\n",
    "count_user_gr"
   ]
  },
  {
   "cell_type": "markdown",
   "metadata": {},
   "source": [
    "После исключения записей, в выборке присутствуют пользователи всех трех экпериментальных групп, в группе 246 - 2484 пользователя, в группе 247 - 2517 и в группе 248 - 2537 пользователей"
   ]
  },
  {
   "cell_type": "code",
   "execution_count": 55,
   "metadata": {
    "scrolled": true
   },
   "outputs": [
    {
     "data": {
      "text/html": [
       "<div>\n",
       "<style scoped>\n",
       "    .dataframe tbody tr th:only-of-type {\n",
       "        vertical-align: middle;\n",
       "    }\n",
       "\n",
       "    .dataframe tbody tr th {\n",
       "        vertical-align: top;\n",
       "    }\n",
       "\n",
       "    .dataframe thead th {\n",
       "        text-align: right;\n",
       "    }\n",
       "</style>\n",
       "<table border=\"1\" class=\"dataframe\">\n",
       "  <thead>\n",
       "    <tr style=\"text-align: right;\">\n",
       "      <th></th>\n",
       "      <th>event_name</th>\n",
       "      <th>count_event</th>\n",
       "      <th>count_unique_users</th>\n",
       "      <th>count_event_per_user</th>\n",
       "    </tr>\n",
       "  </thead>\n",
       "  <tbody>\n",
       "    <tr>\n",
       "      <th>0</th>\n",
       "      <td>MainScreenAppear</td>\n",
       "      <td>119101</td>\n",
       "      <td>7439</td>\n",
       "      <td>16.010351</td>\n",
       "    </tr>\n",
       "    <tr>\n",
       "      <th>1</th>\n",
       "      <td>OffersScreenAppear</td>\n",
       "      <td>46808</td>\n",
       "      <td>4613</td>\n",
       "      <td>10.146976</td>\n",
       "    </tr>\n",
       "    <tr>\n",
       "      <th>2</th>\n",
       "      <td>CartScreenAppear</td>\n",
       "      <td>42668</td>\n",
       "      <td>3749</td>\n",
       "      <td>11.381168</td>\n",
       "    </tr>\n",
       "    <tr>\n",
       "      <th>3</th>\n",
       "      <td>PaymentScreenSuccessful</td>\n",
       "      <td>34118</td>\n",
       "      <td>3547</td>\n",
       "      <td>9.618833</td>\n",
       "    </tr>\n",
       "    <tr>\n",
       "      <th>4</th>\n",
       "      <td>Tutorial</td>\n",
       "      <td>1018</td>\n",
       "      <td>847</td>\n",
       "      <td>1.201889</td>\n",
       "    </tr>\n",
       "  </tbody>\n",
       "</table>\n",
       "</div>"
      ],
      "text/plain": [
       "                event_name  count_event  count_unique_users  \\\n",
       "0         MainScreenAppear       119101                7439   \n",
       "1       OffersScreenAppear        46808                4613   \n",
       "2         CartScreenAppear        42668                3749   \n",
       "3  PaymentScreenSuccessful        34118                3547   \n",
       "4                 Tutorial         1018                 847   \n",
       "\n",
       "   count_event_per_user  \n",
       "0             16.010351  \n",
       "1             10.146976  \n",
       "2             11.381168  \n",
       "3              9.618833  \n",
       "4              1.201889  "
      ]
     },
     "execution_count": 55,
     "metadata": {},
     "output_type": "execute_result"
    }
   ],
   "source": [
    "event_per_user"
   ]
  },
  {
   "cell_type": "markdown",
   "metadata": {},
   "source": [
    "## Вывод"
   ]
  },
  {
   "cell_type": "markdown",
   "metadata": {},
   "source": [
    "    В логах 5 уникальных событий:  \n",
    "    - 119101 событий просмотров главного экрана, \n",
    "    - 46808 событий просмотра предложений, \n",
    "    - 42668 событий перехода в корзину, \n",
    "    - 34118 событий успешной оплаты, \n",
    "    - 1018 событий просмотра инструкции. \n",
    "    - Общее количество событий составляет 244126.\n",
    "    7551 уникальных пользователей совершали какие-либо действия в приложении. В среднем на одного пользователя приходится 32 события, при этом:\n",
    "    - в среднем 16 раз пользователь открывает главный экран, \n",
    "    - 10 раз просматривает предложения, \n",
    "    - 11 раз кладет товар в корзину, \n",
    "    - 9 раз успешно оплачивает товар,\n",
    "    - 1 раз смотрит инструкцию. \n",
    "    Можно заметить, что среднее количество событий - товар в корзине больше чем среднее количество события просмотр предложения, видимо в данных есть какой-то перекос, что подтверждается распределением событий по датам и времени. \n",
    "    Мы располагаем данными логов за две недели с 25 июля по 7 августа 2019 года. Данные не одинаково полные за весь период, есть перекос, вероятно в первую неделю с 25 июля по 31 июля в логи 'доезжают события' из прошлого периода, полные данные начинают формироваться с 21 часа 31.07.2019, поэтому мы отбросили данные до 01.08.2019. Структурно, были исключены 2828 записей по 17 пользователям. Мы убедились, что после исключения записей, в выборке присутствуют пользователи всех трех экпериментальных групп, в группе 246 - 2484 пользователя, в группе 247 - 2517 и в группк 248 - 2537 пользователей."
   ]
  },
  {
   "cell_type": "markdown",
   "metadata": {},
   "source": [
    "## 4. Анализ воронки событий <a id=\"event_funnel\"> </a> "
   ]
  },
  {
   "cell_type": "markdown",
   "metadata": {},
   "source": [
    "### 4.1 Оценка частоты событий в логах <a id=\"event_log\"> </a>"
   ]
  },
  {
   "cell_type": "markdown",
   "metadata": {},
   "source": [
    "Посмотрим частоту разных событий по отфильтрованым логам"
   ]
  },
  {
   "cell_type": "code",
   "execution_count": 56,
   "metadata": {},
   "outputs": [
    {
     "data": {
      "text/html": [
       "<div>\n",
       "<style scoped>\n",
       "    .dataframe tbody tr th:only-of-type {\n",
       "        vertical-align: middle;\n",
       "    }\n",
       "\n",
       "    .dataframe tbody tr th {\n",
       "        vertical-align: top;\n",
       "    }\n",
       "\n",
       "    .dataframe thead th {\n",
       "        text-align: right;\n",
       "    }\n",
       "</style>\n",
       "<table border=\"1\" class=\"dataframe\">\n",
       "  <thead>\n",
       "    <tr style=\"text-align: right;\">\n",
       "      <th></th>\n",
       "      <th>event_name</th>\n",
       "      <th>count_event</th>\n",
       "    </tr>\n",
       "  </thead>\n",
       "  <tbody>\n",
       "    <tr>\n",
       "      <th>0</th>\n",
       "      <td>MainScreenAppear</td>\n",
       "      <td>117889</td>\n",
       "    </tr>\n",
       "    <tr>\n",
       "      <th>1</th>\n",
       "      <td>OffersScreenAppear</td>\n",
       "      <td>46531</td>\n",
       "    </tr>\n",
       "    <tr>\n",
       "      <th>2</th>\n",
       "      <td>CartScreenAppear</td>\n",
       "      <td>42343</td>\n",
       "    </tr>\n",
       "    <tr>\n",
       "      <th>3</th>\n",
       "      <td>PaymentScreenSuccessful</td>\n",
       "      <td>33951</td>\n",
       "    </tr>\n",
       "    <tr>\n",
       "      <th>4</th>\n",
       "      <td>Tutorial</td>\n",
       "      <td>1010</td>\n",
       "    </tr>\n",
       "  </tbody>\n",
       "</table>\n",
       "</div>"
      ],
      "text/plain": [
       "                event_name  count_event\n",
       "0         MainScreenAppear       117889\n",
       "1       OffersScreenAppear        46531\n",
       "2         CartScreenAppear        42343\n",
       "3  PaymentScreenSuccessful        33951\n",
       "4                 Tutorial         1010"
      ]
     },
     "execution_count": 56,
     "metadata": {},
     "output_type": "execute_result"
    }
   ],
   "source": [
    "count_events = logs_filtered.groupby('event_name').agg({'user_id': 'count'}) \\\n",
    "                                .rename(columns={'user_id':'count_event'}) \\\n",
    "                                .sort_values(by='count_event', ascending=False) \\\n",
    "                                .reset_index()\n",
    "count_events"
   ]
  },
  {
   "cell_type": "code",
   "execution_count": 57,
   "metadata": {},
   "outputs": [
    {
     "data": {
      "image/png": "[encoded data removed]",
      "text/plain": [
       "<Figure size 576x360 with 1 Axes>"
      ]
     },
     "metadata": {
      "needs_background": "light"
     },
     "output_type": "display_data"
    }
   ],
   "source": [
    "plt.figure(figsize=(8, 5))\n",
    "pal = sns.color_palette(\"Greens_d\", len(count_events))\n",
    "rank = count_events[\"count_event\"].argsort().argsort() \n",
    "g=sns.barplot(x=\"event_name\", y=\"count_event\", data=count_events, palette=np.array(pal[::-1])[rank])\n",
    "sns.set_style('darkgrid')\n",
    "\n",
    "plt.title('Частота событий в разрезе видов', fontsize=16, color='#292f24', pad = 20)\n",
    "plt.xlabel('Вид события', fontsize=12, color='#373e30', labelpad=10)\n",
    "plt.ylabel('Количество', fontsize=12, color='#373e30', labelpad=10)\n",
    "plt.xticks(rotation=45, ha='right')\n",
    "for index, row in count_events.iterrows():\n",
    "    g.text(row.name,row.count_event, round(row.count_event,2), color='black', ha=\"center\")\n",
    "plt.grid()\n",
    "plt.show()"
   ]
  },
  {
   "cell_type": "markdown",
   "metadata": {},
   "source": [
    "Чаще всего встречается событие просмотр главного экрана - 117889 раз, затем просмотр предложений - 46531, потом товар кладут в корзину 42343 раз, успешная оплата товара - 33951 и просмотр инструкции 1010 событий"
   ]
  },
  {
   "cell_type": "markdown",
   "metadata": {},
   "source": [
    "### 4.2 Анализ событий в разрезе пользователей <a id=\"event_users\"> </a>"
   ]
  },
  {
   "cell_type": "markdown",
   "metadata": {},
   "source": [
    "Посчитаем сколько пользователей совершали каждое из этих событий"
   ]
  },
  {
   "cell_type": "code",
   "execution_count": 58,
   "metadata": {},
   "outputs": [
    {
     "data": {
      "text/html": [
       "<div>\n",
       "<style scoped>\n",
       "    .dataframe tbody tr th:only-of-type {\n",
       "        vertical-align: middle;\n",
       "    }\n",
       "\n",
       "    .dataframe tbody tr th {\n",
       "        vertical-align: top;\n",
       "    }\n",
       "\n",
       "    .dataframe thead th {\n",
       "        text-align: right;\n",
       "    }\n",
       "</style>\n",
       "<table border=\"1\" class=\"dataframe\">\n",
       "  <thead>\n",
       "    <tr style=\"text-align: right;\">\n",
       "      <th></th>\n",
       "      <th>event_name</th>\n",
       "      <th>count_users</th>\n",
       "    </tr>\n",
       "  </thead>\n",
       "  <tbody>\n",
       "    <tr>\n",
       "      <th>0</th>\n",
       "      <td>CartScreenAppear</td>\n",
       "      <td>3736</td>\n",
       "    </tr>\n",
       "    <tr>\n",
       "      <th>1</th>\n",
       "      <td>MainScreenAppear</td>\n",
       "      <td>7423</td>\n",
       "    </tr>\n",
       "    <tr>\n",
       "      <th>2</th>\n",
       "      <td>OffersScreenAppear</td>\n",
       "      <td>4597</td>\n",
       "    </tr>\n",
       "    <tr>\n",
       "      <th>3</th>\n",
       "      <td>PaymentScreenSuccessful</td>\n",
       "      <td>3540</td>\n",
       "    </tr>\n",
       "    <tr>\n",
       "      <th>4</th>\n",
       "      <td>Tutorial</td>\n",
       "      <td>843</td>\n",
       "    </tr>\n",
       "  </tbody>\n",
       "</table>\n",
       "</div>"
      ],
      "text/plain": [
       "                event_name  count_users\n",
       "0         CartScreenAppear         3736\n",
       "1         MainScreenAppear         7423\n",
       "2       OffersScreenAppear         4597\n",
       "3  PaymentScreenSuccessful         3540\n",
       "4                 Tutorial          843"
      ]
     },
     "execution_count": 58,
     "metadata": {},
     "output_type": "execute_result"
    }
   ],
   "source": [
    "count_user_filt = logs_filtered.groupby('event_name').agg({'user_id': 'nunique'}).reset_index() \\\n",
    "                                .rename(columns={'user_id':'count_users'})\n",
    "count_user_filt"
   ]
  },
  {
   "cell_type": "markdown",
   "metadata": {},
   "source": [
    "Объединим таблицы count_events и count_user_filt и посчитаем долю пользователей, которые хоть раз совершали какое-либо событие, для этого число уникальных пользователей каждого события разделим на общее число уникальных пользователей отфильтрованной выборки"
   ]
  },
  {
   "cell_type": "code",
   "execution_count": 59,
   "metadata": {},
   "outputs": [
    {
     "data": {
      "text/html": [
       "<div>\n",
       "<style scoped>\n",
       "    .dataframe tbody tr th:only-of-type {\n",
       "        vertical-align: middle;\n",
       "    }\n",
       "\n",
       "    .dataframe tbody tr th {\n",
       "        vertical-align: top;\n",
       "    }\n",
       "\n",
       "    .dataframe thead th {\n",
       "        text-align: right;\n",
       "    }\n",
       "</style>\n",
       "<table border=\"1\" class=\"dataframe\">\n",
       "  <thead>\n",
       "    <tr style=\"text-align: right;\">\n",
       "      <th></th>\n",
       "      <th>event_name</th>\n",
       "      <th>count_event</th>\n",
       "      <th>count_users</th>\n",
       "      <th>ratio</th>\n",
       "    </tr>\n",
       "  </thead>\n",
       "  <tbody>\n",
       "    <tr>\n",
       "      <th>0</th>\n",
       "      <td>MainScreenAppear</td>\n",
       "      <td>117889</td>\n",
       "      <td>7423</td>\n",
       "      <td>98.47</td>\n",
       "    </tr>\n",
       "    <tr>\n",
       "      <th>1</th>\n",
       "      <td>OffersScreenAppear</td>\n",
       "      <td>46531</td>\n",
       "      <td>4597</td>\n",
       "      <td>60.98</td>\n",
       "    </tr>\n",
       "    <tr>\n",
       "      <th>2</th>\n",
       "      <td>CartScreenAppear</td>\n",
       "      <td>42343</td>\n",
       "      <td>3736</td>\n",
       "      <td>49.56</td>\n",
       "    </tr>\n",
       "    <tr>\n",
       "      <th>3</th>\n",
       "      <td>PaymentScreenSuccessful</td>\n",
       "      <td>33951</td>\n",
       "      <td>3540</td>\n",
       "      <td>46.96</td>\n",
       "    </tr>\n",
       "    <tr>\n",
       "      <th>4</th>\n",
       "      <td>Tutorial</td>\n",
       "      <td>1010</td>\n",
       "      <td>843</td>\n",
       "      <td>11.18</td>\n",
       "    </tr>\n",
       "  </tbody>\n",
       "</table>\n",
       "</div>"
      ],
      "text/plain": [
       "                event_name  count_event  count_users  ratio\n",
       "0         MainScreenAppear       117889         7423  98.47\n",
       "1       OffersScreenAppear        46531         4597  60.98\n",
       "2         CartScreenAppear        42343         3736  49.56\n",
       "3  PaymentScreenSuccessful        33951         3540  46.96\n",
       "4                 Tutorial         1010          843  11.18"
      ]
     },
     "execution_count": 59,
     "metadata": {},
     "output_type": "execute_result"
    }
   ],
   "source": [
    "event_per_user_filt = pd.merge(count_events, count_user_filt, on='event_name',how='outer') #объединяем таблицы\n",
    "event_per_user_filt['ratio'] = (event_per_user_filt['count_users'] / unique_users_new * 100).round(2) #считаем долю пользователей\n",
    "event_per_user_filt"
   ]
  },
  {
   "cell_type": "code",
   "execution_count": 60,
   "metadata": {},
   "outputs": [
    {
     "data": {
      "image/png": "[encoded data removed]",
      "text/plain": [
       "<Figure size 720x360 with 2 Axes>"
      ]
     },
     "metadata": {},
     "output_type": "display_data"
    }
   ],
   "source": [
    "fig, axes = plt.subplots(2, 1, figsize=(10, 5));\n",
    "fig.suptitle('Распределение пользователей в разрезе совершаемых событий количетво\\доля', fontsize=12, color='blue')\n",
    "event_per_user_filt.plot(x='event_name', y='count_users', kind=\"bar\", sharex=True, ax=axes[0])\n",
    "event_per_user_filt.plot(x='event_name', y='ratio', kind=\"bar\", ax=axes[1])\n",
    "axes[0].set_ylabel('Количество пользователей', color='blue')\n",
    "axes[1].set_ylabel('Доля пользователей', color='blue')\n",
    "axes[-1].set_xlabel('Вид события', color='blue')\n",
    "plt.xticks(rotation = 45)\n",
    "plt.show()\n"
   ]
  },
  {
   "cell_type": "markdown",
   "metadata": {},
   "source": [
    "Получаем, что 98,47% пользователей просматривали главный экран, 60,98% просматривали предложения, 49,56% клали товар в корзину, 46,96% оплачивала успешно и 11,18% смотрели инструкцию."
   ]
  },
  {
   "cell_type": "markdown",
   "metadata": {},
   "source": [
    "### 4.3 Анализ цепочки событий <a id=\"chain_of_events\"> </a> "
   ]
  },
  {
   "cell_type": "markdown",
   "metadata": {},
   "source": [
    "Исходя из уже проведенного выше исследования, мы можем предположить следующую последовательную цепочку событий:\n",
    "    1. Просмотр главного экрана - MainScreenAppear\n",
    "    2. Просмотр предложений - OffersScreenAppear\n",
    "    3. Товар в корзине - CartScreenAppear\n",
    "    4. Успешная оплата заказа - PaymentScreenSuccessful"
   ]
  },
  {
   "cell_type": "markdown",
   "metadata": {},
   "source": [
    "Событие о просмотре инструкции Tutorial\t- нельзя поставить в последовательную цепочку, поскольку это событие может наступить не зависимо от всех остальных, поэтому его не будем учитывать при расчете воронки."
   ]
  },
  {
   "cell_type": "markdown",
   "metadata": {},
   "source": [
    "### 4.4 Построение воронки событий <a id=\"conversion\"> </a>"
   ]
  },
  {
   "cell_type": "markdown",
   "metadata": {},
   "source": [
    "Оставим в таблице все события, кроме просмотра инструкции, сохраним ее под именем event_funnel, добавим столбец conversion, в котором посчитаем отношение количества пользователей на каждом этапе к общему количеству пользователей"
   ]
  },
  {
   "cell_type": "code",
   "execution_count": 86,
   "metadata": {},
   "outputs": [
    {
     "name": "stderr",
     "output_type": "stream",
     "text": [
      "<ipython-input-86-3f6afa9d6865>:2: SettingWithCopyWarning:\n",
      "\n",
      "\n",
      "A value is trying to be set on a copy of a slice from a DataFrame.\n",
      "Try using .loc[row_indexer,col_indexer] = value instead\n",
      "\n",
      "See the caveats in the documentation: https://pandas.pydata.org/pandas-docs/stable/user_guide/indexing.html#returning-a-view-versus-a-copy\n",
      "\n"
     ]
    }
   ],
   "source": [
    "event_funnel = event_per_user_filt[0:4]\n",
    "event_funnel['conversion']=(event_funnel['count_users'] / count_users *100).round(2)\n"
   ]
  },
  {
   "cell_type": "code",
   "execution_count": 62,
   "metadata": {},
   "outputs": [
    {
     "data": {
      "image/png": "[encoded data removed]",
      "text/plain": [
       "<Figure size 576x360 with 1 Axes>"
      ]
     },
     "metadata": {},
     "output_type": "display_data"
    }
   ],
   "source": [
    "plt.figure(figsize=(8, 5))\n",
    "pal = sns.color_palette(\"Greens_d\", len(count_events))\n",
    "rank = event_funnel[\"conversion\"].argsort().argsort() \n",
    "g=sns.barplot(x=\"event_name\", y=\"conversion\", data=event_funnel, palette=np.array(pal[::-1])[rank])\n",
    "sns.set_style('darkgrid')\n",
    "\n",
    "plt.title('Воронка событий', fontsize=16, color='#292f24', pad = 20)\n",
    "plt.xlabel('Вид события', fontsize=12, color='#373e30', labelpad=10)\n",
    "plt.ylabel('Конверсия пользователей, %', fontsize=12, color='#373e30', labelpad=10)\n",
    "plt.xticks(rotation=45, ha='right')\n",
    "for index, row in event_funnel.iterrows():\n",
    "    g.text(row.name,row.conversion, round(row.conversion,2), color='black', ha=\"center\")\n",
    "plt.show()"
   ]
  },
  {
   "cell_type": "markdown",
   "metadata": {},
   "source": [
    "Получаем, что из 7551 пользователей,  98,3% просмотрели главный экран, 60,88% перешли на страницу просмотра предложений, затем 49,48% положили товары в корзину и наконец 46,48% пользователей успешно произвели оплату. Можно сделать вывод, что больше всего пользователей теряется на самом первом шаге после просмотра главной страницы, в результате чего только 46,48% пользователей от первого шага доходят до оплаты товаров."
   ]
  },
  {
   "cell_type": "markdown",
   "metadata": {},
   "source": [
    "## Вывод"
   ]
  },
  {
   "cell_type": "markdown",
   "metadata": {},
   "source": [
    "    Исходя из уже проведенного исследования, мы можем предположить следующую последовательную цепочку событий: 1. Просмотр главного экрана - MainScreenAppear, 2. Просмотр предложений - OffersScreenAppear, 3. Товар в корзине - CartScreenAppear, 4. Успешная оплата заказа - PaymentScreenSuccessful\n",
    "    Событие о просмотре инструкции Tutorial - нельзя поставить в последовательную цепочку, поскольку это событие может наступить не зависимо от всех остальных, поэтому его не будем учитывать при расчете воронки. В результате построения воронки, получаем, что изначалько не все пользователи просматривают главный экран, а только 98,3%, возможно некоторые приходят в приложение по ссылкам на конкретный товар, больше всего пользователей теряется на самом первом шаге после просмотра главной страницы (60,88% пользователей идут дальше), в результате чего 46,88% пользователей от общего количества доходят до оплаты товаров. "
   ]
  },
  {
   "cell_type": "markdown",
   "metadata": {},
   "source": [
    "## 5. А/А/В эксперимент <a id=\"experiment\"> </a>"
   ]
  },
  {
   "cell_type": "markdown",
   "metadata": {},
   "source": [
    " ### 5.1 Подсчет количества пользователей в каждой экприментальной группе <a id=\"cont_group\"> </a> "
   ]
  },
  {
   "cell_type": "code",
   "execution_count": 63,
   "metadata": {},
   "outputs": [
    {
     "data": {
      "text/html": [
       "<div>\n",
       "<style scoped>\n",
       "    .dataframe tbody tr th:only-of-type {\n",
       "        vertical-align: middle;\n",
       "    }\n",
       "\n",
       "    .dataframe tbody tr th {\n",
       "        vertical-align: top;\n",
       "    }\n",
       "\n",
       "    .dataframe thead th {\n",
       "        text-align: right;\n",
       "    }\n",
       "</style>\n",
       "<table border=\"1\" class=\"dataframe\">\n",
       "  <thead>\n",
       "    <tr style=\"text-align: right;\">\n",
       "      <th></th>\n",
       "      <th>exp_id</th>\n",
       "      <th>count_users_exp</th>\n",
       "    </tr>\n",
       "  </thead>\n",
       "  <tbody>\n",
       "    <tr>\n",
       "      <th>0</th>\n",
       "      <td>246</td>\n",
       "      <td>2484</td>\n",
       "    </tr>\n",
       "    <tr>\n",
       "      <th>1</th>\n",
       "      <td>247</td>\n",
       "      <td>2517</td>\n",
       "    </tr>\n",
       "    <tr>\n",
       "      <th>2</th>\n",
       "      <td>248</td>\n",
       "      <td>2537</td>\n",
       "    </tr>\n",
       "  </tbody>\n",
       "</table>\n",
       "</div>"
      ],
      "text/plain": [
       "   exp_id  count_users_exp\n",
       "0     246             2484\n",
       "1     247             2517\n",
       "2     248             2537"
      ]
     },
     "execution_count": 63,
     "metadata": {},
     "output_type": "execute_result"
    }
   ],
   "source": [
    "count_user_gr"
   ]
  },
  {
   "cell_type": "code",
   "execution_count": 64,
   "metadata": {},
   "outputs": [],
   "source": [
    "count_user246 = count_user_gr[count_user_gr['exp_id'] == 246].iloc[0]['count_users_exp']\n",
    "count_user247 = count_user_gr[count_user_gr['exp_id'] == 247].iloc[0]['count_users_exp']\n",
    "count_user248 = count_user_gr[count_user_gr['exp_id'] == 248].iloc[0]['count_users_exp']"
   ]
  },
  {
   "cell_type": "markdown",
   "metadata": {},
   "source": [
    "В группе 246 - 2484 пользователя, в группе 247 - 2513 и в группе 248 - 2537 пользователей."
   ]
  },
  {
   "cell_type": "markdown",
   "metadata": {},
   "source": [
    " ### 5.2 Оценка статистической значимости между контрольными группы для А/А-эксперимента<a id=\"A_A\"> </a> "
   ]
  },
  {
   "cell_type": "markdown",
   "metadata": {},
   "source": [
    "Проверим, находят ли статистические критерии разницу между выборками 246 и 247, для этого сперва посчитаем количество пользователей на каждом этапе воронки в разрезе экспериментальных групп"
   ]
  },
  {
   "cell_type": "code",
   "execution_count": 65,
   "metadata": {},
   "outputs": [],
   "source": [
    "my_list = ['Tutorial']\n",
    "logs_filtered_funnel = logs_filtered.loc[~logs_filtered.event_name.isin(my_list)]\n"
   ]
  },
  {
   "cell_type": "markdown",
   "metadata": {},
   "source": [
    "Добавим в таблицу строчку с общим количеством пользователей по каждой экспериментальной группе, назовем TotalUsers"
   ]
  },
  {
   "cell_type": "code",
   "execution_count": 66,
   "metadata": {},
   "outputs": [
    {
     "data": {
      "text/html": [
       "<div>\n",
       "<style scoped>\n",
       "    .dataframe tbody tr th:only-of-type {\n",
       "        vertical-align: middle;\n",
       "    }\n",
       "\n",
       "    .dataframe tbody tr th {\n",
       "        vertical-align: top;\n",
       "    }\n",
       "\n",
       "    .dataframe thead th {\n",
       "        text-align: right;\n",
       "    }\n",
       "</style>\n",
       "<table border=\"1\" class=\"dataframe\">\n",
       "  <thead>\n",
       "    <tr style=\"text-align: right;\">\n",
       "      <th>exp_id</th>\n",
       "      <th>event_name</th>\n",
       "      <th>group_246</th>\n",
       "      <th>group_247</th>\n",
       "      <th>group_248</th>\n",
       "    </tr>\n",
       "  </thead>\n",
       "  <tbody>\n",
       "    <tr>\n",
       "      <th>0</th>\n",
       "      <td>CartScreenAppear</td>\n",
       "      <td>1266</td>\n",
       "      <td>1239</td>\n",
       "      <td>1231</td>\n",
       "    </tr>\n",
       "    <tr>\n",
       "      <th>1</th>\n",
       "      <td>MainScreenAppear</td>\n",
       "      <td>2450</td>\n",
       "      <td>2479</td>\n",
       "      <td>2494</td>\n",
       "    </tr>\n",
       "    <tr>\n",
       "      <th>2</th>\n",
       "      <td>OffersScreenAppear</td>\n",
       "      <td>1542</td>\n",
       "      <td>1524</td>\n",
       "      <td>1531</td>\n",
       "    </tr>\n",
       "    <tr>\n",
       "      <th>3</th>\n",
       "      <td>PaymentScreenSuccessful</td>\n",
       "      <td>1200</td>\n",
       "      <td>1158</td>\n",
       "      <td>1182</td>\n",
       "    </tr>\n",
       "    <tr>\n",
       "      <th>4</th>\n",
       "      <td>TotalUsers</td>\n",
       "      <td>2484</td>\n",
       "      <td>2517</td>\n",
       "      <td>2537</td>\n",
       "    </tr>\n",
       "  </tbody>\n",
       "</table>\n",
       "</div>"
      ],
      "text/plain": [
       "exp_id               event_name  group_246  group_247  group_248\n",
       "0              CartScreenAppear       1266       1239       1231\n",
       "1              MainScreenAppear       2450       2479       2494\n",
       "2            OffersScreenAppear       1542       1524       1531\n",
       "3       PaymentScreenSuccessful       1200       1158       1182\n",
       "4                    TotalUsers       2484       2517       2537"
      ]
     },
     "execution_count": 66,
     "metadata": {},
     "output_type": "execute_result"
    }
   ],
   "source": [
    "count_user_exp = logs_filtered_funnel.pivot_table(index='event_name', columns='exp_id', values='user_id', aggfunc='nunique') \\\n",
    "                        .rename(columns={246:'group_246', 247:'group_247', 248:'group_248'}).reset_index()\n",
    "count_user_exp.loc[count_user_exp.shape[0]] = {'event_name': 'TotalUsers', 'group_246':count_user246, 'group_247':count_user247, 'group_248':count_user248}\n",
    "count_user_exp"
   ]
  },
  {
   "cell_type": "code",
   "execution_count": 67,
   "metadata": {},
   "outputs": [
    {
     "data": {
      "text/html": [
       "<div>\n",
       "<style scoped>\n",
       "    .dataframe tbody tr th:only-of-type {\n",
       "        vertical-align: middle;\n",
       "    }\n",
       "\n",
       "    .dataframe tbody tr th {\n",
       "        vertical-align: top;\n",
       "    }\n",
       "\n",
       "    .dataframe thead th {\n",
       "        text-align: right;\n",
       "    }\n",
       "</style>\n",
       "<table border=\"1\" class=\"dataframe\">\n",
       "  <thead>\n",
       "    <tr style=\"text-align: right;\">\n",
       "      <th>exp_id</th>\n",
       "      <th>event_name</th>\n",
       "      <th>group_246</th>\n",
       "      <th>group_247</th>\n",
       "      <th>group_248</th>\n",
       "      <th>total_count</th>\n",
       "      <th>group_246+247</th>\n",
       "    </tr>\n",
       "  </thead>\n",
       "  <tbody>\n",
       "    <tr>\n",
       "      <th>0</th>\n",
       "      <td>TotalUsers</td>\n",
       "      <td>2484</td>\n",
       "      <td>2517</td>\n",
       "      <td>2537</td>\n",
       "      <td>7538</td>\n",
       "      <td>5001</td>\n",
       "    </tr>\n",
       "    <tr>\n",
       "      <th>1</th>\n",
       "      <td>MainScreenAppear</td>\n",
       "      <td>2450</td>\n",
       "      <td>2479</td>\n",
       "      <td>2494</td>\n",
       "      <td>7423</td>\n",
       "      <td>4929</td>\n",
       "    </tr>\n",
       "    <tr>\n",
       "      <th>2</th>\n",
       "      <td>OffersScreenAppear</td>\n",
       "      <td>1542</td>\n",
       "      <td>1524</td>\n",
       "      <td>1531</td>\n",
       "      <td>4597</td>\n",
       "      <td>3066</td>\n",
       "    </tr>\n",
       "    <tr>\n",
       "      <th>3</th>\n",
       "      <td>CartScreenAppear</td>\n",
       "      <td>1266</td>\n",
       "      <td>1239</td>\n",
       "      <td>1231</td>\n",
       "      <td>3736</td>\n",
       "      <td>2505</td>\n",
       "    </tr>\n",
       "    <tr>\n",
       "      <th>4</th>\n",
       "      <td>PaymentScreenSuccessful</td>\n",
       "      <td>1200</td>\n",
       "      <td>1158</td>\n",
       "      <td>1182</td>\n",
       "      <td>3540</td>\n",
       "      <td>2358</td>\n",
       "    </tr>\n",
       "  </tbody>\n",
       "</table>\n",
       "</div>"
      ],
      "text/plain": [
       "exp_id               event_name  group_246  group_247  group_248  total_count  \\\n",
       "0                    TotalUsers       2484       2517       2537         7538   \n",
       "1              MainScreenAppear       2450       2479       2494         7423   \n",
       "2            OffersScreenAppear       1542       1524       1531         4597   \n",
       "3              CartScreenAppear       1266       1239       1231         3736   \n",
       "4       PaymentScreenSuccessful       1200       1158       1182         3540   \n",
       "\n",
       "exp_id  group_246+247  \n",
       "0                5001  \n",
       "1                4929  \n",
       "2                3066  \n",
       "3                2505  \n",
       "4                2358  "
      ]
     },
     "execution_count": 67,
     "metadata": {},
     "output_type": "execute_result"
    }
   ],
   "source": [
    "count_user_exp['total_count'] = count_user_exp['group_246'] + count_user_exp['group_247']+count_user_exp['group_248']\n",
    "count_user_exp['group_246+247'] = count_user_exp['group_246'] + count_user_exp['group_247']\n",
    "count_user_exp = count_user_exp.sort_values(by='total_count', ascending=False).reset_index(drop=True)\n",
    "count_user_exp"
   ]
  },
  {
   "cell_type": "markdown",
   "metadata": {},
   "source": [
    "Примем критический уровень статистической значимости alpha = .05"
   ]
  },
  {
   "cell_type": "code",
   "execution_count": 68,
   "metadata": {},
   "outputs": [],
   "source": [
    "alpha = .05"
   ]
  },
  {
   "cell_type": "markdown",
   "metadata": {},
   "source": [
    "    Сформируем нулевую и альтернативную гипотезы:\n",
    "    H0 - нулевая гипотеза, между долями клиентов в разных группах нет значимой разницы\n",
    "    H1 -есть значимая разница"
   ]
  },
  {
   "cell_type": "markdown",
   "metadata": {},
   "source": [
    "Зададим функцию для расчета критерия"
   ]
  },
  {
   "cell_type": "code",
   "execution_count": 69,
   "metadata": {},
   "outputs": [
    {
     "data": {
      "text/plain": [
       "7551"
      ]
     },
     "execution_count": 69,
     "metadata": {},
     "output_type": "execute_result"
    }
   ],
   "source": [
    "count_users"
   ]
  },
  {
   "cell_type": "code",
   "execution_count": 70,
   "metadata": {},
   "outputs": [],
   "source": [
    "def z_func(successes, trials):\n",
    "    p1 = successes[0]/trials[0] #пропорция успехов в группе 246\n",
    "    p2 = successes[1]/trials[1] #пропорция успехов в группе 247\n",
    "    p_combined = (successes[0] + successes[1]) / (trials[0] + trials[1])#пропорция успехов в комбинированной группе\n",
    "    difference = p1 - p2 #разница в датасетах\n",
    "    z_value = difference / mth.sqrt(p_combined * (1 - p_combined) * (1/trials[0] + 1/trials[1]))#Считаем статистику\n",
    "    distr = st.norm(0, 1)#задаем стандартное нормальное распределение (среднее 0, ст.отклонение 1)\n",
    "    p_value = (1 - distr.cdf(abs(z_value))) * 2\n",
    "    print('p-значение: ', p_value)\n",
    "    if (p_value < alpha):\n",
    "        return(\"Отвергаем нулевую гипотезу: между долями есть значимая разница\")\n",
    "    else:\n",
    "        return(\"Не получилось отвергнуть нулевую гипотезу, нет оснований считать доли разными\")"
   ]
  },
  {
   "cell_type": "markdown",
   "metadata": {},
   "source": [
    "Вызовем функцию, cравним доли клиентов группе 246 и 247"
   ]
  },
  {
   "cell_type": "code",
   "execution_count": 71,
   "metadata": {},
   "outputs": [],
   "source": [
    "def z_funnel (group_1,group_2):\n",
    "    for i in range (1,count_user_exp.shape[0]):\n",
    "        print('cравним доли клиентов группе',group_1,'и',group_2,', совершивших событие:',count_user_exp.loc[i]['event_name'])\n",
    "        #print (count_user_exp.loc[i][group_1],count_user_exp.loc[i][group_2], count_user_exp.loc[i-1][group_1], count_user_exp.loc[i-1][group_2])\n",
    "        rez=z_func(np.array([count_user_exp.loc[i][group_1], count_user_exp.loc[i][group_2]]), np.array([count_user_exp.loc[0][group_1], count_user_exp.loc[0][group_2]]))\n",
    "        print(rez)\n",
    "        print('-----------')"
   ]
  },
  {
   "cell_type": "code",
   "execution_count": 72,
   "metadata": {},
   "outputs": [
    {
     "name": "stdout",
     "output_type": "stream",
     "text": [
      "cравним доли клиентов группе group_246 и group_247 , совершивших событие: MainScreenAppear\n",
      "p-значение:  0.6756217702005545\n",
      "Не получилось отвергнуть нулевую гипотезу, нет оснований считать доли разными\n",
      "-----------\n",
      "cравним доли клиентов группе group_246 и group_247 , совершивших событие: OffersScreenAppear\n",
      "p-значение:  0.26698769175859516\n",
      "Не получилось отвергнуть нулевую гипотезу, нет оснований считать доли разными\n",
      "-----------\n",
      "cравним доли клиентов группе group_246 и group_247 , совершивших событие: CartScreenAppear\n",
      "p-значение:  0.2182812140633792\n",
      "Не получилось отвергнуть нулевую гипотезу, нет оснований считать доли разными\n",
      "-----------\n",
      "cравним доли клиентов группе group_246 и group_247 , совершивших событие: PaymentScreenSuccessful\n",
      "p-значение:  0.10298394982948822\n",
      "Не получилось отвергнуть нулевую гипотезу, нет оснований считать доли разными\n",
      "-----------\n"
     ]
    }
   ],
   "source": [
    "z_funnel ('group_246','group_247')"
   ]
  },
  {
   "cell_type": "markdown",
   "metadata": {},
   "source": [
    "Такая разница на всех этапах воронки в пропорциях при указанных размерах выборок групп 246 и 247 не достаточна, чтобы говорить о статистически значимом различии. Соответсвенно группы 246 и 247 сформированы верно, различий и не должно было быть"
   ]
  },
  {
   "cell_type": "markdown",
   "metadata": {},
   "source": [
    " ### 5.3 Оценка самого популярного события в разных группах<a id=\"popular_event\"> </a> "
   ]
  },
  {
   "cell_type": "code",
   "execution_count": 73,
   "metadata": {},
   "outputs": [
    {
     "data": {
      "text/html": [
       "<div>\n",
       "<style scoped>\n",
       "    .dataframe tbody tr th:only-of-type {\n",
       "        vertical-align: middle;\n",
       "    }\n",
       "\n",
       "    .dataframe tbody tr th {\n",
       "        vertical-align: top;\n",
       "    }\n",
       "\n",
       "    .dataframe thead th {\n",
       "        text-align: right;\n",
       "    }\n",
       "</style>\n",
       "<table border=\"1\" class=\"dataframe\">\n",
       "  <thead>\n",
       "    <tr style=\"text-align: right;\">\n",
       "      <th>exp_id</th>\n",
       "      <th>event_name</th>\n",
       "      <th>group_246</th>\n",
       "      <th>group_247</th>\n",
       "      <th>group_248</th>\n",
       "      <th>total_count</th>\n",
       "      <th>group_246+247</th>\n",
       "    </tr>\n",
       "  </thead>\n",
       "  <tbody>\n",
       "    <tr>\n",
       "      <th>0</th>\n",
       "      <td>TotalUsers</td>\n",
       "      <td>2484</td>\n",
       "      <td>2517</td>\n",
       "      <td>2537</td>\n",
       "      <td>7538</td>\n",
       "      <td>5001</td>\n",
       "    </tr>\n",
       "    <tr>\n",
       "      <th>1</th>\n",
       "      <td>MainScreenAppear</td>\n",
       "      <td>2450</td>\n",
       "      <td>2479</td>\n",
       "      <td>2494</td>\n",
       "      <td>7423</td>\n",
       "      <td>4929</td>\n",
       "    </tr>\n",
       "    <tr>\n",
       "      <th>2</th>\n",
       "      <td>OffersScreenAppear</td>\n",
       "      <td>1542</td>\n",
       "      <td>1524</td>\n",
       "      <td>1531</td>\n",
       "      <td>4597</td>\n",
       "      <td>3066</td>\n",
       "    </tr>\n",
       "    <tr>\n",
       "      <th>3</th>\n",
       "      <td>CartScreenAppear</td>\n",
       "      <td>1266</td>\n",
       "      <td>1239</td>\n",
       "      <td>1231</td>\n",
       "      <td>3736</td>\n",
       "      <td>2505</td>\n",
       "    </tr>\n",
       "    <tr>\n",
       "      <th>4</th>\n",
       "      <td>PaymentScreenSuccessful</td>\n",
       "      <td>1200</td>\n",
       "      <td>1158</td>\n",
       "      <td>1182</td>\n",
       "      <td>3540</td>\n",
       "      <td>2358</td>\n",
       "    </tr>\n",
       "  </tbody>\n",
       "</table>\n",
       "</div>"
      ],
      "text/plain": [
       "exp_id               event_name  group_246  group_247  group_248  total_count  \\\n",
       "0                    TotalUsers       2484       2517       2537         7538   \n",
       "1              MainScreenAppear       2450       2479       2494         7423   \n",
       "2            OffersScreenAppear       1542       1524       1531         4597   \n",
       "3              CartScreenAppear       1266       1239       1231         3736   \n",
       "4       PaymentScreenSuccessful       1200       1158       1182         3540   \n",
       "\n",
       "exp_id  group_246+247  \n",
       "0                5001  \n",
       "1                4929  \n",
       "2                3066  \n",
       "3                2505  \n",
       "4                2358  "
      ]
     },
     "execution_count": 73,
     "metadata": {},
     "output_type": "execute_result"
    }
   ],
   "source": [
    "count_user_exp"
   ]
  },
  {
   "cell_type": "markdown",
   "metadata": {},
   "source": [
    "Самым популярным событием во всех экспериментальных группах является просмотр главного экрана, в группе 246 его совершили 2540 пользователей, в группе 247 - 2476 пользователей и в группе 248 - 2493 пользователя. Сравним доли пользователей совершивших данное событие попарно среди всех групп"
   ]
  },
  {
   "cell_type": "code",
   "execution_count": 74,
   "metadata": {},
   "outputs": [
    {
     "name": "stdout",
     "output_type": "stream",
     "text": [
      "p-значение:  0.614618200925189\n"
     ]
    },
    {
     "data": {
      "text/plain": [
       "'Не получилось отвергнуть нулевую гипотезу, нет оснований считать доли разными'"
      ]
     },
     "execution_count": 74,
     "metadata": {},
     "output_type": "execute_result"
    }
   ],
   "source": [
    "t_count_max=count_user_exp.loc[0]['total_count']\n",
    "max246=count_user_exp.loc[1]['group_246']\n",
    "max247=count_user_exp.loc[1]['group_247']\n",
    "max248=count_user_exp.loc[1]['group_248']\n",
    "z_func(np.array([max246,max247]), np.array([t_count_max, t_count_max]))"
   ]
  },
  {
   "cell_type": "code",
   "execution_count": 75,
   "metadata": {},
   "outputs": [
    {
     "name": "stdout",
     "output_type": "stream",
     "text": [
      "p-значение:  0.7949900056502037\n"
     ]
    },
    {
     "data": {
      "text/plain": [
       "'Не получилось отвергнуть нулевую гипотезу, нет оснований считать доли разными'"
      ]
     },
     "execution_count": 75,
     "metadata": {},
     "output_type": "execute_result"
    }
   ],
   "source": [
    "z_func(np.array([max247,max248]), np.array([t_count_max, t_count_max]))"
   ]
  },
  {
   "cell_type": "code",
   "execution_count": 76,
   "metadata": {},
   "outputs": [
    {
     "name": "stdout",
     "output_type": "stream",
     "text": [
      "p-значение:  0.4452701904327818\n"
     ]
    },
    {
     "data": {
      "text/plain": [
       "'Не получилось отвергнуть нулевую гипотезу, нет оснований считать доли разными'"
      ]
     },
     "execution_count": 76,
     "metadata": {},
     "output_type": "execute_result"
    }
   ],
   "source": [
    "z_func(np.array([max246,max248]), np.array([t_count_max, t_count_max]))"
   ]
  },
  {
   "cell_type": "markdown",
   "metadata": {},
   "source": [
    "Можно сделать вывод, что разбиение на группы работает корректно"
   ]
  },
  {
   "cell_type": "markdown",
   "metadata": {},
   "source": [
    " ### 5.4 A/B тест<a id=\"A_B\"> </a> "
   ]
  },
  {
   "cell_type": "markdown",
   "metadata": {},
   "source": [
    "Вызовем функцию, cравним доли клиентов группе 246 и 248"
   ]
  },
  {
   "cell_type": "code",
   "execution_count": 77,
   "metadata": {},
   "outputs": [
    {
     "name": "stdout",
     "output_type": "stream",
     "text": [
      "cравним доли клиентов группе group_246 и group_248 , совершивших событие: MainScreenAppear\n",
      "p-значение:  0.34705881021236484\n",
      "Не получилось отвергнуть нулевую гипотезу, нет оснований считать доли разными\n",
      "-----------\n",
      "cравним доли клиентов группе group_246 и group_248 , совершивших событие: OffersScreenAppear\n",
      "p-значение:  0.20836205402738917\n",
      "Не получилось отвергнуть нулевую гипотезу, нет оснований считать доли разными\n",
      "-----------\n",
      "cравним доли клиентов группе group_246 и group_248 , совершивших событие: CartScreenAppear\n",
      "p-значение:  0.08328412977507749\n",
      "Не получилось отвергнуть нулевую гипотезу, нет оснований считать доли разными\n",
      "-----------\n",
      "cравним доли клиентов группе group_246 и group_248 , совершивших событие: PaymentScreenSuccessful\n",
      "p-значение:  0.22269358994682742\n",
      "Не получилось отвергнуть нулевую гипотезу, нет оснований считать доли разными\n",
      "-----------\n"
     ]
    }
   ],
   "source": [
    "z_funnel ('group_246','group_248')"
   ]
  },
  {
   "cell_type": "markdown",
   "metadata": {},
   "source": [
    "Вызовем функцию, cравним доли клиентов группе 247 и 248"
   ]
  },
  {
   "cell_type": "code",
   "execution_count": 78,
   "metadata": {},
   "outputs": [
    {
     "name": "stdout",
     "output_type": "stream",
     "text": [
      "cравним доли клиентов группе group_247 и group_248 , совершивших событие: MainScreenAppear\n",
      "p-значение:  0.6001661582453706\n",
      "Не получилось отвергнуть нулевую гипотезу, нет оснований считать доли разными\n",
      "-----------\n",
      "cравним доли клиентов группе group_247 и group_248 , совершивших событие: OffersScreenAppear\n",
      "p-значение:  0.8835956656016957\n",
      "Не получилось отвергнуть нулевую гипотезу, нет оснований считать доли разными\n",
      "-----------\n",
      "cравним доли клиентов группе group_247 и group_248 , совершивших событие: CartScreenAppear\n",
      "p-значение:  0.6169517476996997\n",
      "Не получилось отвергнуть нулевую гипотезу, нет оснований считать доли разными\n",
      "-----------\n",
      "cравним доли клиентов группе group_247 и group_248 , совершивших событие: PaymentScreenSuccessful\n",
      "p-значение:  0.6775413642906454\n",
      "Не получилось отвергнуть нулевую гипотезу, нет оснований считать доли разными\n",
      "-----------\n"
     ]
    }
   ],
   "source": [
    "z_funnel ('group_247','group_248')"
   ]
  },
  {
   "cell_type": "markdown",
   "metadata": {},
   "source": [
    "Вызовем функцию, cравним доли клиентов в объединенной группе и группе 248"
   ]
  },
  {
   "cell_type": "code",
   "execution_count": 79,
   "metadata": {},
   "outputs": [
    {
     "name": "stdout",
     "output_type": "stream",
     "text": [
      "cравним доли клиентов группе group_248 и group_246+247 , совершивших событие: MainScreenAppear\n",
      "p-значение:  0.39298914928006035\n",
      "Не получилось отвергнуть нулевую гипотезу, нет оснований считать доли разными\n",
      "-----------\n",
      "cравним доли клиентов группе group_248 и group_246+247 , совершивших событие: OffersScreenAppear\n",
      "p-значение:  0.418998284007599\n",
      "Не получилось отвергнуть нулевую гипотезу, нет оснований считать доли разными\n",
      "-----------\n",
      "cравним доли клиентов группе group_248 и group_246+247 , совершивших событие: CartScreenAppear\n",
      "p-значение:  0.19819340844527744\n",
      "Не получилось отвергнуть нулевую гипотезу, нет оснований считать доли разными\n",
      "-----------\n",
      "cравним доли клиентов группе group_248 и group_246+247 , совершивших событие: PaymentScreenSuccessful\n",
      "p-значение:  0.6452057673098244\n",
      "Не получилось отвергнуть нулевую гипотезу, нет оснований считать доли разными\n",
      "-----------\n"
     ]
    }
   ],
   "source": [
    "z_funnel ('group_248','group_246+247')"
   ]
  },
  {
   "cell_type": "markdown",
   "metadata": {},
   "source": [
    "Получаем, что статистическую значимость между долями пользователей объединенной группы и 248 отсутствует. Т.е. можно сделать вывод, что изменение шрифта не приводит к увеличению конверсии."
   ]
  },
  {
   "cell_type": "markdown",
   "metadata": {},
   "source": [
    "Итого мы сделали 13 проверок гипотез с уровнем значимости 0.05, считаю такой уровень значимости достаточным для проверки гипотез"
   ]
  },
  {
   "cell_type": "markdown",
   "metadata": {},
   "source": [
    "# Вывод<a id=\"resume\"> </a> "
   ]
  },
  {
   "cell_type": "markdown",
   "metadata": {},
   "source": [
    "    При выполнении работы, был выполнен первичный анализ данных и предобработка, в ходе которой, изменили тип данных столбца event_date_time, поправили названия столбцов, добавили два стоблца содержащих отдельно дату и время события.\n",
    "    В ходе анализа логов был выявлен перекос данных, они не одинаково полные за весь период, вероятно в первую неделю с 25 июля по 31 июля в логи 'доезжают события' из прошлого периода, полные данные начинают формироваться с 21 часа 31.07.2019, поэтому мы отбросили данные до указанного времени. Структурно, были исключены 1989 записей по 13 пользователям. Мы убедились, что после исключения записей, в выборке присутствуют пользователи всех трех экпериментальных групп, в группе 346 - 2484 пользователя, в группе 247 - 2517 и в группе 248 - 2537 пользователей.\n",
    "    Исходя из уже проведенного исследования, мы можем предположить следующую последовательную цепочку событий: 1. Просмотр главного экрана - MainScreenAppear, 2. Просмотр предложений - OffersScreenAppear, 3. Товар в корзине - CartScreenAppear, 4. Успешная оплата заказа - PaymentScreenSuccessful\n",
    "    Событие о просмотре инструкции Tutorial - нельзя поставить в последовательную цепочку, поскольку это событие может наступить не зависимо от всех остальных, поэтому его не будем учитывать при расчете воронки. В результате построения воронки, получаем, что изначалько не все пользователи просматривают главный экран, а только 98,3%, возможно некоторые приходят в приложение по ссылкам на конкретный товар, больше всего пользователей теряется на самом первом шаге после просмотра главной страницы (60,88% пользователей идут дальше), в результате чего 46,88% пользователей от общего количества доходят до оплаты товаров. \n",
    "    А/А тест оценки статистической значимости между контрольными группами 246 и 247 показал, что разбиение на группы работает корректно. В итоге A/B эксперимента получили, что статистическую значимость между долями контрольных и тестовой групп отсутствует. Т.е. можно сделать вывод, что в изменение шрифта не приводит к увеличению конверсии, соответствено не увеличивает покупки\n",
    "    "
   ]
  }
 ],
 "metadata": {
  "kernelspec": {
   "display_name": "Python 3",
   "language": "python",
   "name": "python3"
  },
  "language_info": {
   "codemirror_mode": {
    "name": "ipython",
    "version": 3
   },
   "file_extension": ".py",
   "mimetype": "text/x-python",
   "name": "python",
   "nbconvert_exporter": "python",
   "pygments_lexer": "ipython3",
   "version": "3.8.3"
  }
 },
 "nbformat": 4,
 "nbformat_minor": 4
}
